{
 "cells": [
  {
   "cell_type": "markdown",
   "id": "ea072050-2099-49a9-8a7b-567d66b57b6f",
   "metadata": {},
   "source": [
    "# Setup"
   ]
  },
  {
   "cell_type": "markdown",
   "id": "b4e83d05-af3e-4d7d-8f45-f639a63751c6",
   "metadata": {},
   "source": [
    "## Imports"
   ]
  },
  {
   "cell_type": "code",
   "execution_count": 1,
   "id": "dcc4f88e-c3b5-4746-a00c-69e7a9f648d0",
   "metadata": {},
   "outputs": [],
   "source": [
    "import os\n",
    "import json"
   ]
  },
  {
   "cell_type": "code",
   "execution_count": 2,
   "id": "ca65d2df-f5cb-40c0-8205-2202910fa5e5",
   "metadata": {},
   "outputs": [],
   "source": [
    "from snowflake.snowpark import Session"
   ]
  },
  {
   "cell_type": "code",
   "execution_count": 3,
   "id": "3b7d206d-7ee1-49b4-a2c9-eff66f9f3625",
   "metadata": {},
   "outputs": [],
   "source": [
    "import snowflake.snowpark.modin.pandas as pd"
   ]
  },
  {
   "cell_type": "markdown",
   "id": "62094a88-a77d-4cdf-9b95-92e814b9362e",
   "metadata": {},
   "source": [
    "## Session"
   ]
  },
  {
   "cell_type": "code",
   "execution_count": 4,
   "id": "ec2ebae8-a9ba-47d1-b237-edfe1d590ed3",
   "metadata": {},
   "outputs": [],
   "source": [
    "my_dir = os.getcwd()\n",
    "connection_parameters = json.load(open(f'{my_dir}/creds.json'))\n",
    "session = Session.builder.configs(connection_parameters).create()\n",
    "\n",
    "session.use_database('DEMO_DB')\n",
    "session.use_schema('PUBLIC')"
   ]
  },
  {
   "cell_type": "code",
   "execution_count": 5,
   "id": "8863814e",
   "metadata": {},
   "outputs": [],
   "source": [
    "pd.session = session"
   ]
  },
  {
   "cell_type": "markdown",
   "id": "75763aff-f1af-4057-8282-42754ffc5568",
   "metadata": {},
   "source": [
    "# Testing 1 - simple"
   ]
  },
  {
   "cell_type": "markdown",
   "id": "ab4aba21-236c-492a-b106-b637183b72d7",
   "metadata": {},
   "source": [
    "## Load Data"
   ]
  },
  {
   "cell_type": "code",
   "execution_count": 9,
   "id": "f14d476b-80d2-4053-9d90-092b7b4d5da5",
   "metadata": {},
   "outputs": [
    {
     "name": "stderr",
     "output_type": "stream",
     "text": [
      "Snowpark Pandas API always disables SQL simplifier. Run `session.sql_simplifier_enabled = False` to silence this warning.\n"
     ]
    },
    {
     "name": "stdout",
     "output_type": "stream",
     "text": [
      "Application table size\t:  ID                     438557\n",
      "CODE_GENDER            438557\n",
      "FLAG_OWN_CAR           438557\n",
      "FLAG_OWN_REALTY        438557\n",
      "CNT_CHILDREN           438557\n",
      "AMT_INCOME_TOTAL       438557\n",
      "NAME_INCOME_TYPE       438557\n",
      "NAME_EDUCATION_TYPE    438557\n",
      "NAME_FAMILY_STATUS     438557\n",
      "NAME_HOUSING_TYPE      438557\n",
      "DAYS_BIRTH             438557\n",
      "DAYS_EMPLOYED          438557\n",
      "FLAG_MOBIL             438557\n",
      "FLAG_WORK_PHONE        438557\n",
      "FLAG_PHONE             438557\n",
      "FLAG_EMAIL             438557\n",
      "OCCUPATION_TYPE        304354\n",
      "CNT_FAM_MEMBERS        438557\n",
      "dtype: int32 \n",
      "Credit table size\t:  ID                1048575\n",
      "MONTHS_BALANCE    1048575\n",
      "STATUS            1048575\n",
      "dtype: int32\n",
      "CPU times: user 158 ms, sys: 23.4 ms, total: 181 ms\n",
      "Wall time: 8 s\n"
     ]
    }
   ],
   "source": [
    "%%time\n",
    "application_record_sdf = pd.read_snowflake('APPLICATION_RECORD')\n",
    "credit_record_sdf = pd.read_snowflake('CREDIT_RECORD')\n",
    "print('Application table size\\t: ', application_record_sdf.count(), \n",
    "      '\\nCredit table size\\t: ', credit_record_sdf.count())"
   ]
  },
  {
   "cell_type": "code",
   "execution_count": 12,
   "id": "4821b6e4-5587-492d-a544-46675eb675eb",
   "metadata": {},
   "outputs": [
    {
     "data": {
      "text/plain": [
       "438557"
      ]
     },
     "execution_count": 12,
     "metadata": {},
     "output_type": "execute_result"
    }
   ],
   "source": [
    "len(application_record_sdf)"
   ]
  },
  {
   "cell_type": "code",
   "execution_count": 13,
   "id": "969c0455",
   "metadata": {},
   "outputs": [
    {
     "data": {
      "text/html": [
       "<div>\n",
       "<style scoped>\n",
       "    .dataframe tbody tr th:only-of-type {\n",
       "        vertical-align: middle;\n",
       "    }\n",
       "\n",
       "    .dataframe tbody tr th {\n",
       "        vertical-align: top;\n",
       "    }\n",
       "\n",
       "    .dataframe thead th {\n",
       "        text-align: right;\n",
       "    }\n",
       "</style>\n",
       "<table border=\"1\" class=\"dataframe\">\n",
       "  <thead>\n",
       "    <tr style=\"text-align: right;\">\n",
       "      <th></th>\n",
       "      <th>ID</th>\n",
       "      <th>CODE_GENDER</th>\n",
       "      <th>FLAG_OWN_CAR</th>\n",
       "      <th>FLAG_OWN_REALTY</th>\n",
       "      <th>CNT_CHILDREN</th>\n",
       "      <th>AMT_INCOME_TOTAL</th>\n",
       "      <th>NAME_INCOME_TYPE</th>\n",
       "      <th>NAME_EDUCATION_TYPE</th>\n",
       "      <th>NAME_FAMILY_STATUS</th>\n",
       "      <th>NAME_HOUSING_TYPE</th>\n",
       "      <th>DAYS_BIRTH</th>\n",
       "      <th>DAYS_EMPLOYED</th>\n",
       "      <th>FLAG_MOBIL</th>\n",
       "      <th>FLAG_WORK_PHONE</th>\n",
       "      <th>FLAG_PHONE</th>\n",
       "      <th>FLAG_EMAIL</th>\n",
       "      <th>OCCUPATION_TYPE</th>\n",
       "      <th>CNT_FAM_MEMBERS</th>\n",
       "    </tr>\n",
       "  </thead>\n",
       "  <tbody>\n",
       "    <tr>\n",
       "      <th>0</th>\n",
       "      <td>5008804</td>\n",
       "      <td>M</td>\n",
       "      <td>Y</td>\n",
       "      <td>Y</td>\n",
       "      <td>0</td>\n",
       "      <td>427500.0</td>\n",
       "      <td>Working</td>\n",
       "      <td>Higher education</td>\n",
       "      <td>Civil marriage</td>\n",
       "      <td>Rented apartment</td>\n",
       "      <td>-12005</td>\n",
       "      <td>-4542</td>\n",
       "      <td>1</td>\n",
       "      <td>1</td>\n",
       "      <td>0</td>\n",
       "      <td>0</td>\n",
       "      <td>None</td>\n",
       "      <td>2.0</td>\n",
       "    </tr>\n",
       "    <tr>\n",
       "      <th>1</th>\n",
       "      <td>5008805</td>\n",
       "      <td>M</td>\n",
       "      <td>Y</td>\n",
       "      <td>Y</td>\n",
       "      <td>0</td>\n",
       "      <td>427500.0</td>\n",
       "      <td>Working</td>\n",
       "      <td>Higher education</td>\n",
       "      <td>Civil marriage</td>\n",
       "      <td>Rented apartment</td>\n",
       "      <td>-12005</td>\n",
       "      <td>-4542</td>\n",
       "      <td>1</td>\n",
       "      <td>1</td>\n",
       "      <td>0</td>\n",
       "      <td>0</td>\n",
       "      <td>None</td>\n",
       "      <td>2.0</td>\n",
       "    </tr>\n",
       "    <tr>\n",
       "      <th>2</th>\n",
       "      <td>5008806</td>\n",
       "      <td>M</td>\n",
       "      <td>Y</td>\n",
       "      <td>Y</td>\n",
       "      <td>0</td>\n",
       "      <td>112500.0</td>\n",
       "      <td>Working</td>\n",
       "      <td>Secondary / secondary special</td>\n",
       "      <td>Married</td>\n",
       "      <td>House / apartment</td>\n",
       "      <td>-21474</td>\n",
       "      <td>-1134</td>\n",
       "      <td>1</td>\n",
       "      <td>0</td>\n",
       "      <td>0</td>\n",
       "      <td>0</td>\n",
       "      <td>Security staff</td>\n",
       "      <td>2.0</td>\n",
       "    </tr>\n",
       "    <tr>\n",
       "      <th>3</th>\n",
       "      <td>5008808</td>\n",
       "      <td>F</td>\n",
       "      <td>N</td>\n",
       "      <td>Y</td>\n",
       "      <td>0</td>\n",
       "      <td>270000.0</td>\n",
       "      <td>Commercial associate</td>\n",
       "      <td>Secondary / secondary special</td>\n",
       "      <td>Single / not married</td>\n",
       "      <td>House / apartment</td>\n",
       "      <td>-19110</td>\n",
       "      <td>-3051</td>\n",
       "      <td>1</td>\n",
       "      <td>0</td>\n",
       "      <td>1</td>\n",
       "      <td>1</td>\n",
       "      <td>Sales staff</td>\n",
       "      <td>1.0</td>\n",
       "    </tr>\n",
       "    <tr>\n",
       "      <th>4</th>\n",
       "      <td>5008809</td>\n",
       "      <td>F</td>\n",
       "      <td>N</td>\n",
       "      <td>Y</td>\n",
       "      <td>0</td>\n",
       "      <td>270000.0</td>\n",
       "      <td>Commercial associate</td>\n",
       "      <td>Secondary / secondary special</td>\n",
       "      <td>Single / not married</td>\n",
       "      <td>House / apartment</td>\n",
       "      <td>-19110</td>\n",
       "      <td>-3051</td>\n",
       "      <td>1</td>\n",
       "      <td>0</td>\n",
       "      <td>1</td>\n",
       "      <td>1</td>\n",
       "      <td>Sales staff</td>\n",
       "      <td>1.0</td>\n",
       "    </tr>\n",
       "  </tbody>\n",
       "</table>\n",
       "</div>"
      ],
      "text/plain": [
       "        ID CODE_GENDER FLAG_OWN_CAR FLAG_OWN_REALTY  CNT_CHILDREN  \\\n",
       "0  5008804           M            Y               Y             0   \n",
       "1  5008805           M            Y               Y             0   \n",
       "2  5008806           M            Y               Y             0   \n",
       "3  5008808           F            N               Y             0   \n",
       "4  5008809           F            N               Y             0   \n",
       "\n",
       "   AMT_INCOME_TOTAL      NAME_INCOME_TYPE            NAME_EDUCATION_TYPE  \\\n",
       "0          427500.0               Working               Higher education   \n",
       "1          427500.0               Working               Higher education   \n",
       "2          112500.0               Working  Secondary / secondary special   \n",
       "3          270000.0  Commercial associate  Secondary / secondary special   \n",
       "4          270000.0  Commercial associate  Secondary / secondary special   \n",
       "\n",
       "     NAME_FAMILY_STATUS  NAME_HOUSING_TYPE  DAYS_BIRTH  DAYS_EMPLOYED  \\\n",
       "0        Civil marriage   Rented apartment      -12005          -4542   \n",
       "1        Civil marriage   Rented apartment      -12005          -4542   \n",
       "2               Married  House / apartment      -21474          -1134   \n",
       "3  Single / not married  House / apartment      -19110          -3051   \n",
       "4  Single / not married  House / apartment      -19110          -3051   \n",
       "\n",
       "   FLAG_MOBIL  FLAG_WORK_PHONE  FLAG_PHONE  FLAG_EMAIL OCCUPATION_TYPE  \\\n",
       "0           1                1           0           0            None   \n",
       "1           1                1           0           0            None   \n",
       "2           1                0           0           0  Security staff   \n",
       "3           1                0           1           1     Sales staff   \n",
       "4           1                0           1           1     Sales staff   \n",
       "\n",
       "   CNT_FAM_MEMBERS  \n",
       "0              2.0  \n",
       "1              2.0  \n",
       "2              2.0  \n",
       "3              1.0  \n",
       "4              1.0  "
      ]
     },
     "execution_count": 13,
     "metadata": {},
     "output_type": "execute_result"
    }
   ],
   "source": [
    "application_record_sdf.head(5)"
   ]
  },
  {
   "cell_type": "markdown",
   "id": "da083474-4843-4062-a07f-d4aca9058c88",
   "metadata": {},
   "source": [
    "## Transform Data"
   ]
  },
  {
   "cell_type": "code",
   "execution_count": 14,
   "id": "f5b10bd6-8c43-4e26-b8d5-3c677910bf16",
   "metadata": {},
   "outputs": [
    {
     "name": "stderr",
     "output_type": "stream",
     "text": [
      "WARNING:snowflake.snowpark.modin.pandas.utils.warning_message:The argument `convert_dtype` of `apply` has been ignored by Snowpark Pandas API:\n",
      "convert_dtype is ignored in Snowflake backend.\n"
     ]
    },
    {
     "name": "stdout",
     "output_type": "stream",
     "text": [
      "CPU times: user 189 ms, sys: 27.6 ms, total: 217 ms\n",
      "Wall time: 2.21 s\n"
     ]
    }
   ],
   "source": [
    "%%time\n",
    "credit_record_sdf['CNT_LATE'] = credit_record_sdf['STATUS'].apply(lambda x: 1 if x in ['2', '3', '4', '5'] else 0)"
   ]
  },
  {
   "cell_type": "code",
   "execution_count": 15,
   "id": "85959bff-e6aa-42a9-b16f-4f2fb4a97006",
   "metadata": {},
   "outputs": [
    {
     "data": {
      "text/plain": [
       "ID                 int64\n",
       "MONTHS_BALANCE     int64\n",
       "STATUS            object\n",
       "CNT_LATE          object\n",
       "dtype: object"
      ]
     },
     "execution_count": 15,
     "metadata": {},
     "output_type": "execute_result"
    }
   ],
   "source": [
    "credit_record_sdf.dtypes"
   ]
  },
  {
   "cell_type": "code",
   "execution_count": 19,
   "id": "b0a2721d-6193-4910-9e46-0aea3386da45",
   "metadata": {},
   "outputs": [
    {
     "name": "stdout",
     "output_type": "stream",
     "text": [
      "CPU times: user 55.3 ms, sys: 8.11 ms, total: 63.5 ms\n",
      "Wall time: 538 ms\n"
     ]
    }
   ],
   "source": [
    "%%time\n",
    "credit_temp = credit_record_sdf.groupby(['ID']).sum()['CNT_LATE'].reset_index()"
   ]
  },
  {
   "cell_type": "code",
   "execution_count": 20,
   "id": "c2d2ccd1-2b40-43f2-b4d3-d37b498e144f",
   "metadata": {},
   "outputs": [
    {
     "data": {
      "text/plain": [
       "array([0, 1])"
      ]
     },
     "execution_count": 20,
     "metadata": {},
     "output_type": "execute_result"
    }
   ],
   "source": [
    "credit_record_sdf['CNT_LATE'].unique()"
   ]
  },
  {
   "cell_type": "code",
   "execution_count": 21,
   "id": "ad69875e-3a9d-477b-8766-e0aa191bbc49",
   "metadata": {},
   "outputs": [
    {
     "name": "stdout",
     "output_type": "stream",
     "text": [
      "\n",
      "Col: ID\n",
      " [5008804 5008805 5008806 ... 6841878 6842765 6842885]\n",
      "\n",
      "Col: CODE_GENDER\n",
      " ['M' 'F']\n",
      "\n",
      "Col: FLAG_OWN_CAR\n",
      " ['Y' 'N']\n",
      "\n",
      "Col: FLAG_OWN_REALTY\n",
      " ['Y' 'N']\n",
      "\n",
      "Col: CNT_CHILDREN\n",
      " [ 0  1  3  2  4  5 14 19  7  9 12  6]\n",
      "\n",
      "Col: AMT_INCOME_TOTAL\n",
      " [ 427500.    112500.    270000.    283500.    135000.    130500.\n",
      "  157500.    405000.    211500.    360000.    126000.    315000.\n",
      "  247500.    297000.    225000.    166500.    216000.    255150.\n",
      "  148500.    202500.     94500.    450000.    180000.     90000.\n",
      "  765000.    382500.    144000.    229500.    292500.     74250.\n",
      "   40500.    337500.    193500.    267750.    139500.     67500.\n",
      "  252000.    900000.    115290.    279000.     76500.    234000.\n",
      "   81000.    108000.     99000.    198000.     45000.    238500.\n",
      "  117000.    153000.   1350000.    445500.    495000.     85500.\n",
      "  306000.    562500.    189000.    328500.    310500.    540000.\n",
      "  171000.    675000.    121500.     72000.     65250.    184500.\n",
      "  103500.    162000.    165150.     54000.    243000.    256500.\n",
      "   33300.    697500.    101250.     58500.    110250.    472500.\n",
      "  196650.    630000.    432000.    257625.    143100.    207000.\n",
      "  288000.    131400.    720000.    261000.     99900.     38250.\n",
      "  175500.     49500.     83250.    119250.     63000.    274500.\n",
      "   90900.    220500.     47250.    585000.    139050.     33750.\n",
      "  145350.    173250.    531000.    387000.   1125000.     36000.\n",
      "  179100.    206100.    265500.    118350.    123750.    116653.5\n",
      "  133650.    324000.    351000.    441000.    227250.     51750.\n",
      "  517500.    396000.    810000.    178650.    165600.     69750.\n",
      "   46948.5   616500.    378000.     89550.    234135.     42300.\n",
      "   74061.    175950.    168750.    215100.    391500.    177012.\n",
      "  364500.    661500.    240750.    333000.    342000.    167400.\n",
      "   50850.    141750.    176400.     30150.    155250.    414000.\n",
      "   52650.    115200.     67050.    120150.    373500.    146250.\n",
      "  213750.    121900.5   231750.    346500.    191250.    132372.\n",
      "  159750.    132750.     91530.     97731.    170302.5   265581.\n",
      "   73575.    184135.5   160200.    191700.    253800.     56700.\n",
      "  369000.    176175.    134419.5   190399.5   716323.5    31500.\n",
      "   57150.     78750.    236250.    208350.     38700.    222750.\n",
      "   72900.     56250.     62653.5   113400.     92250.    607500.\n",
      "  215550.     44550.    161100.    122400.     60376.5   254700.\n",
      "  787500.    140400.    185400.     31950.    129150.    612000.\n",
      "   47790.     69372.    134995.5   177750.    301500.    594000.\n",
      "  164250.     60750.     45900.    171261.    128542.5   178200.\n",
      "   73350.    124200.     82350.     38025.    360450.     39600.\n",
      "  634500.    459000.     87750.    945000.    463500.    742500.\n",
      "  151200.    560250.     89100.    204750.     36900.    187650.\n",
      "   32400.    147150.    119700.     27000.    990000.     61875.\n",
      "  355500.     79650.     37800.    140850.    195750.     29250.\n",
      "  423000.    179271.     87448.5   326250.     31531.5   105750.\n",
      "  468000.     97650.    114750.    418500.     95850.    652500.\n",
      " 1575000.     74700.     62100.    494100.    249750.    150750.\n",
      "  116100.    164133.     41400.    128250.     88650.    351891.\n",
      "   70650.     48150.    134100.     42750.    173700.    167692.5\n",
      "  119457.    215325.    426019.5   144450.   3825000.    217300.5\n",
      "  115650.    101700.    504000.    319500.    353250.    127102.5\n",
      "  209250.    122850.    198315.     30600.    203197.5    44100.\n",
      "   92700.    174150.    170100.     75150.    318906.    341325.\n",
      "   81900.    110187.    153900.     63900.    104998.5   127800.\n",
      "  156141.    131913.    576000.     81373.5    88200.    125730.\n",
      "  203400.     59400.    111150.    105552.   1035000.    128700.\n",
      "  237600.     46350.    356625.    143248.5   155902.5   400500.\n",
      "   51300.    263700.     55350.    109800.    371925.    246600.\n",
      "  106200.    173160.    210150.    180598.5   183825.     91008.\n",
      "   80325.    221247.    137700.    160294.5    27900.     40950.\n",
      "  126450.    205200.    169200.    486000.     83700.    837000.\n",
      "  181696.5   149796.    120784.5   513000.     46012.5   245896.02\n",
      "   90712.62  336825.    107100.    173520.    126468.    142438.5\n",
      "  144360.    352350.     96750.    111600.    113850.    105300.\n",
      "  339750.    294300.    116658.     69300.    149850.    125100.\n",
      "  196200.    108765.    170550.   1102500.     35550.    245250.\n",
      "  117985.5   261900.     62550.     79200.    217908.    103149.\n",
      "   74038.5    37350.     98100.    235849.5   166950.    190350.\n",
      "   81450.    747000.    194400.    436500.    284850.    170910.\n",
      "  210375.    315157.5   855000.     82948.5    43200.    190800.\n",
      "   58950.    151425.     52200.     47304.    127350.    139455.\n",
      "   34200.     43425.    187497.    130050.    283185.    165735.\n",
      "  415813.5   153639.    159300.    751500.    241650.    187200.\n",
      "  285750.    158400.    153495.     85050.    223200.    104611.5\n",
      "   83479.5   153747.    183150.     86400.    105120.    727870.5\n",
      "  454500.     32625.    131494.5   160560.    133200.    290250.\n",
      "  161554.5   105975.    180234.    210600.     76050.     93010.5\n",
      "  174442.5   100350.     61200.     41850.    218700.     51430.5\n",
      "   68400.     77850.    477000.    167850.     84150.     48600.\n",
      "  117324.    409500.     64350.    877500.    237150.    185985.\n",
      "  219150.    105610.5   192600.     91800.    102150.    118800.\n",
      "  179550.    160470.    114916.5   167242.5   320850.    186750.\n",
      "  120753.    256405.5   177300.    194850.    117765.    303750.\n",
      "  337050.    193950.    308250.   1080000.   3950059.5   108450.\n",
      "  135256.5   171900.    434250.     66600.     50085.     54900.\n",
      "   52425.    102600.     54450.     98419.5    32139.    123916.5\n",
      "  378900.    371392.2    90612.   1215000.    555327.    178065.\n",
      "   95400.    129748.5   125032.5   258750.     74475.     80550.\n",
      "  164700.    100800.    200250.     78300.    155700.     84600.\n",
      "  121950.    357750.     66150.     43884.    264901.5    71100.\n",
      "  203998.5   141408.    325800.     85023.    126900.    146700.\n",
      "   57600.     80100.    110700.    182250.    388350.    262800.\n",
      "  293850.    147600.     54027.     74659.5    73368.    156150.\n",
      "  112950.    348750.    186480.    394353.    170937.     74025.\n",
      "   93150.    106650.    567000.    163260.     60300.    313650.\n",
      "   78691.5    77719.5   107397.    225900.    218250.   3375000.\n",
      "   43969.5   280498.5   359100.    175050.    733500.     55800.\n",
      "  338746.5    69246.    141016.5    72450.    102024.     36679.5\n",
      "   50400.    204025.5   936000.    160425.   1260000.    124650.\n",
      "  144900.    224995.5   349875.     68481.    243675.     41211.\n",
      "   70209.    442350.    103815.     91350.     47700.    621000.\n",
      "  270540.    679500.    294750.    143932.5   129060.     33214.5\n",
      "   89253.    189900.     68886.    499500.    217800.    262503.\n",
      "  949500.    433350.    337545.    123300.    256050.    138150.\n",
      "  358200.   1170000.    163800.     56740.5   571500.     68004.\n",
      " 6750000.    197550.   1890000.   2214117.    158040.     85761.\n",
      "   28800.   2025000.    230400.    280941.3   133461.     28723.5\n",
      "  144904.5   103950.    311850.     99252.    104850.    117450.\n",
      "  180900.    320400.    247891.5   117949.5    80397.     68850.\n",
      "  161307.    711000.    191142.     87007.5    87925.5    43650.\n",
      "  383400.     99238.5   294448.5   213601.5   182646.    161550.\n",
      "  702000.    161149.5    90288.    137250.     58050.    142200.\n",
      "   40306.5   118975.5    83128.5    82498.5   193684.5   132075.\n",
      "  100629.     87300.     80761.5    63850.5    26100.    272250.\n",
      "  427050.    107550.    108900.    312750.     70200.     63139.5\n",
      "  141867.    196546.5   142650.     39150.    162900.    160650.\n",
      "  151641.    240300.     92385.    250200.    221400.    251100.\n",
      "  351900.   4500000.     81436.5   141606.    276750.     34875.\n",
      " 1305000.    124978.5    78156.     87444.    198256.5   684000.\n",
      "  362911.5   107752.5    99526.5   199273.5   104382.    152478.\n",
      "   49549.5   103230.    227997.    148950.     51691.5   481500.\n",
      "  313200.     65700.    217350.    312300.    660397.5    93550.5\n",
      "  248400.    300600.    343350.     69642.    300379.5   242100.\n",
      "  117900.    305779.5   403650.    130572.     56025.     98550.\n",
      "   67950.    174807.    180117.     71748.    133564.5    33165.\n",
      "  157635.    173088.    160780.5    67023.    115744.5    61650.\n",
      "  522000.    182524.5    97200.    151276.5   123525.    193792.5\n",
      "   94050.    235350.     82800.    300150.    438750.    223425.\n",
      "   66330.    234900.    440100.    155403.    139986.    188550.\n",
      " 1001826.    443250.    251212.5    93942.    174312.    107251.65\n",
      "  285043.5   167490.    191475.     41989.5   106434.     41314.5\n",
      "   94027.5   729000.     46800.    184869.    211050.     47353.5\n",
      "  319275.    241200.    109603.35   65520.     77998.5   163350.\n",
      "   29133.    112050.    443700.    128646.     89995.5   116550.\n",
      "  886500.     45450.     41940.    460417.5   201150.    265950.\n",
      "   96075.     75600.    346050.    706500.     82624.5  3150000.\n",
      "  366750.    107437.5    64800.     82260.    289800.     37710.\n",
      "   71550.    109341.    247621.5   157050.    307350.    273150.\n",
      "  105840.     94950.    140814.    343800.    365850.    256950.\n",
      "   83322.    127498.5   828000.     45346.5    73800.    286200.\n",
      "  129600.    109899.     53140.5    83304.     37008.    580500.\n",
      "  143550.   1800000.     93991.5    78664.5    36828.    403200.\n",
      "  305550.    143739.    876276.    402750.     77400.    356850.\n",
      "   76842.     49050.    445050.     32967.     84505.5    28350.\n",
      "  321750.    100300.5   558000.    324805.5   267529.5    71172.\n",
      "  374998.5    73624.5   221850.    171036.    133290.     58725.\n",
      "   82534.5   355050.    103000.5   164430.    225765.     91188.\n",
      "  143073.     54994.5 ]\n",
      "\n",
      "Col: NAME_INCOME_TYPE\n",
      " ['Working' 'Commercial associate' 'Pensioner' 'State servant' 'Student']\n",
      "\n",
      "Col: NAME_EDUCATION_TYPE\n",
      " ['Higher education' 'Secondary / secondary special' 'Incomplete higher'\n",
      " 'Lower secondary' 'Academic degree']\n",
      "\n",
      "Col: NAME_FAMILY_STATUS\n",
      " ['Civil marriage' 'Married' 'Single / not married' 'Separated' 'Widow']\n",
      "\n",
      "Col: NAME_HOUSING_TYPE\n",
      " ['Rented apartment' 'House / apartment' 'Municipal apartment'\n",
      " 'With parents' 'Co-op apartment' 'Office apartment']\n",
      "\n",
      "Col: DAYS_BIRTH\n",
      " [-12005 -21474 -19110 ...  -8169  -9738 -22257]\n",
      "\n",
      "Col: DAYS_EMPLOYED\n",
      " [-4542 -1134 -3051 ... -8300 -9020 -4884]\n",
      "\n",
      "Col: FLAG_MOBIL\n",
      " [1]\n",
      "\n",
      "Col: FLAG_WORK_PHONE\n",
      " [1 0]\n",
      "\n",
      "Col: FLAG_PHONE\n",
      " [0 1]\n",
      "\n",
      "Col: FLAG_EMAIL\n",
      " [0 1]\n",
      "\n",
      "Col: OCCUPATION_TYPE\n",
      " [None 'Security staff' 'Sales staff' 'Accountants' 'Laborers' 'Managers'\n",
      " 'Drivers' 'Core staff' 'High skill tech staff' 'Cleaning staff'\n",
      " 'Private service staff' 'Cooking staff' 'Low-skill Laborers'\n",
      " 'Medicine staff' 'Secretaries' 'Waiters/barmen staff' 'HR staff'\n",
      " 'Realty agents' 'IT staff']\n",
      "\n",
      "Col: CNT_FAM_MEMBERS\n",
      " [ 2.  1.  5.  3.  4.  6. 15.  7. 20.  9. 11. 14.  8.]\n"
     ]
    }
   ],
   "source": [
    "for col in application_record_sdf.columns:\n",
    "    print(f'\\nCol: {col}\\n', application_record_sdf[col].unique())"
   ]
  },
  {
   "cell_type": "code",
   "execution_count": 22,
   "id": "b2b04e2c-a1b3-4127-8d74-a5391d8d3f27",
   "metadata": {},
   "outputs": [
    {
     "data": {
      "text/html": [
       "<div>\n",
       "<style scoped>\n",
       "    .dataframe tbody tr th:only-of-type {\n",
       "        vertical-align: middle;\n",
       "    }\n",
       "\n",
       "    .dataframe tbody tr th {\n",
       "        vertical-align: top;\n",
       "    }\n",
       "\n",
       "    .dataframe thead th {\n",
       "        text-align: right;\n",
       "    }\n",
       "</style>\n",
       "<table border=\"1\" class=\"dataframe\">\n",
       "  <thead>\n",
       "    <tr style=\"text-align: right;\">\n",
       "      <th></th>\n",
       "      <th>ID</th>\n",
       "      <th>CNT_LATE</th>\n",
       "    </tr>\n",
       "  </thead>\n",
       "  <tbody>\n",
       "    <tr>\n",
       "      <th>0</th>\n",
       "      <td>5001711</td>\n",
       "      <td>0.0</td>\n",
       "    </tr>\n",
       "    <tr>\n",
       "      <th>1</th>\n",
       "      <td>5001712</td>\n",
       "      <td>0.0</td>\n",
       "    </tr>\n",
       "    <tr>\n",
       "      <th>2</th>\n",
       "      <td>5001713</td>\n",
       "      <td>0.0</td>\n",
       "    </tr>\n",
       "    <tr>\n",
       "      <th>3</th>\n",
       "      <td>5001714</td>\n",
       "      <td>0.0</td>\n",
       "    </tr>\n",
       "    <tr>\n",
       "      <th>4</th>\n",
       "      <td>5001715</td>\n",
       "      <td>0.0</td>\n",
       "    </tr>\n",
       "  </tbody>\n",
       "</table>\n",
       "</div>"
      ],
      "text/plain": [
       "        ID  CNT_LATE\n",
       "0  5001711       0.0\n",
       "1  5001712       0.0\n",
       "2  5001713       0.0\n",
       "3  5001714       0.0\n",
       "4  5001715       0.0"
      ]
     },
     "execution_count": 22,
     "metadata": {},
     "output_type": "execute_result"
    }
   ],
   "source": [
    "credit_temp.head(5)"
   ]
  },
  {
   "cell_type": "code",
   "execution_count": 23,
   "id": "13b533fc-8684-429f-9ebf-4e4de6d91618",
   "metadata": {},
   "outputs": [
    {
     "data": {
      "text/plain": [
       "ID            int64\n",
       "CNT_LATE    float64\n",
       "dtype: object"
      ]
     },
     "execution_count": 23,
     "metadata": {},
     "output_type": "execute_result"
    }
   ],
   "source": [
    "credit_temp.dtypes"
   ]
  },
  {
   "cell_type": "markdown",
   "id": "c329df21-3313-4313-92aa-ecfbfad4b3e8",
   "metadata": {},
   "source": [
    "### While doing .apply() here it makes 'TARGET' column as Object. Need to convert to type Int"
   ]
  },
  {
   "cell_type": "code",
   "execution_count": 24,
   "id": "3aa99c26-197e-4acd-9492-b4301e5554ac",
   "metadata": {},
   "outputs": [
    {
     "data": {
      "text/plain": [
       "ID            int64\n",
       "CNT_LATE    float64\n",
       "TARGET       object\n",
       "dtype: object"
      ]
     },
     "execution_count": 24,
     "metadata": {},
     "output_type": "execute_result"
    }
   ],
   "source": [
    "credit_temp['TARGET'] = credit_temp['CNT_LATE'].apply(lambda x: 1 if x > 0 else 0)\n",
    "credit_temp.dtypes"
   ]
  },
  {
   "cell_type": "code",
   "execution_count": 25,
   "id": "5928f230-310e-4fad-bf8b-1b532de9c38a",
   "metadata": {},
   "outputs": [
    {
     "name": "stdout",
     "output_type": "stream",
     "text": [
      "CPU times: user 77.6 ms, sys: 11.8 ms, total: 89.4 ms\n",
      "Wall time: 1.88 s\n"
     ]
    }
   ],
   "source": [
    "%%time\n",
    "credit_temp['TARGET'] = credit_temp['CNT_LATE'].apply(lambda x: 1 if x > 0 else 0).astype('int')\n",
    "credit_cleaned = credit_temp.drop('CNT_LATE', axis=1).dropna()"
   ]
  },
  {
   "cell_type": "code",
   "execution_count": 26,
   "id": "2f70cc58-5ed6-4001-b6ec-7e5211728b00",
   "metadata": {},
   "outputs": [
    {
     "data": {
      "text/plain": [
       "array([ 0.,  5.,  1.,  2.,  3., 33.,  6.,  9.,  7., 15., 20., 11.,  4.,\n",
       "       13., 22., 38., 14., 12.,  8., 10., 18., 39., 17., 40., 27., 21.,\n",
       "       16., 48., 26., 19., 24., 31., 45., 43., 47., 23., 35.])"
      ]
     },
     "execution_count": 26,
     "metadata": {},
     "output_type": "execute_result"
    }
   ],
   "source": [
    "credit_temp['CNT_LATE'].unique()"
   ]
  },
  {
   "cell_type": "code",
   "execution_count": 27,
   "id": "cecdc9ca-971d-4cbc-9a1f-f0247d8fc72d",
   "metadata": {},
   "outputs": [
    {
     "data": {
      "text/plain": [
       "array([0, 1], dtype=int8)"
      ]
     },
     "execution_count": 27,
     "metadata": {},
     "output_type": "execute_result"
    }
   ],
   "source": [
    "credit_temp['TARGET'].unique()"
   ]
  },
  {
   "cell_type": "code",
   "execution_count": 28,
   "id": "b4232e90-2ef5-47b2-89dc-4fa097b9d7e2",
   "metadata": {},
   "outputs": [],
   "source": [
    "arr = credit_cleaned['TARGET'].unique()"
   ]
  },
  {
   "cell_type": "code",
   "execution_count": 29,
   "id": "dd8627ab-db7e-4031-9a6f-acd7d39209d9",
   "metadata": {},
   "outputs": [
    {
     "data": {
      "text/plain": [
       "numpy.int8"
      ]
     },
     "execution_count": 29,
     "metadata": {},
     "output_type": "execute_result"
    }
   ],
   "source": [
    "type(arr[1])"
   ]
  },
  {
   "cell_type": "code",
   "execution_count": 30,
   "id": "de2fc7f2-389e-4ee2-bee4-0422fe946190",
   "metadata": {},
   "outputs": [
    {
     "name": "stdout",
     "output_type": "stream",
     "text": [
      "CPU times: user 32.7 ms, sys: 6.31 ms, total: 39 ms\n",
      "Wall time: 392 ms\n"
     ]
    },
    {
     "data": {
      "text/plain": [
       "ID        0\n",
       "TARGET    0\n",
       "dtype: int8"
      ]
     },
     "execution_count": 30,
     "metadata": {},
     "output_type": "execute_result"
    }
   ],
   "source": [
    "%%time\n",
    "credit_cleaned.isna().sum()"
   ]
  },
  {
   "cell_type": "code",
   "execution_count": null,
   "id": "5c8bf4a9-f4fc-48b9-8d9a-7fffca14afda",
   "metadata": {},
   "outputs": [],
   "source": [
    "credit_cleaned.head(5)"
   ]
  },
  {
   "cell_type": "code",
   "execution_count": null,
   "id": "aedf484a-93ee-407d-b8c6-c34271b4c55b",
   "metadata": {},
   "outputs": [],
   "source": [
    "credit_cleaned.dtypes"
   ]
  },
  {
   "cell_type": "code",
   "execution_count": null,
   "id": "32686894-f3eb-46d9-a983-7d6534f93736",
   "metadata": {},
   "outputs": [],
   "source": [
    "temp = credit_cleaned.limit(5).to_pandas()\n",
    "temp"
   ]
  },
  {
   "cell_type": "code",
   "execution_count": null,
   "id": "31f82bf2-a80a-4ba7-9850-1bbdd4a232e6",
   "metadata": {},
   "outputs": [],
   "source": [
    "temp.dtypes"
   ]
  },
  {
   "cell_type": "code",
   "execution_count": null,
   "id": "f05dc3f0-05b1-473e-8ff5-ea415494e658",
   "metadata": {},
   "outputs": [],
   "source": [
    "%%time\n",
    "joined_sdf = application_record_sdf.merge(credit_cleaned, left_on='ID', right_on='ID', how='inner')"
   ]
  },
  {
   "cell_type": "code",
   "execution_count": null,
   "id": "7181c0ef-4e45-4e68-b8d4-35467400b4ad",
   "metadata": {},
   "outputs": [],
   "source": [
    "%%time\n",
    "joined_sdf.head(5)"
   ]
  },
  {
   "cell_type": "code",
   "execution_count": null,
   "id": "63d703c1-8306-48c6-8bb5-69b4b2b2189d",
   "metadata": {},
   "outputs": [],
   "source": [
    "cols_numerical = ['AMT_INCOME_TOTAL', 'DAYS_EMPLOYED', 'FLAG_MOBIL', 'CNT_FAM_MEMBERS', 'TARGET']\n",
    "cols_categorical = ['CODE_GENDER', 'NAME_HOUSING_TYPE', 'OCCUPATION_TYPE']\n",
    "joined_sdf = joined_sdf[cols_numerical+cols_categorical]"
   ]
  },
  {
   "cell_type": "code",
   "execution_count": null,
   "id": "35d464e4-686f-4e4a-92ac-2a0f7af56796",
   "metadata": {},
   "outputs": [],
   "source": []
  },
  {
   "cell_type": "code",
   "execution_count": null,
   "id": "23505869-12be-47ae-9b9e-cb967141a114",
   "metadata": {},
   "outputs": [],
   "source": []
  },
  {
   "cell_type": "markdown",
   "id": "2b3a8a29-cd5b-4901-87ee-1cb576ad7cc9",
   "metadata": {},
   "source": [
    "# General Testing on 500K Rows Table"
   ]
  },
  {
   "cell_type": "markdown",
   "id": "9a4a4cff-d6ea-4c37-9aea-445a00f70bcf",
   "metadata": {},
   "source": [
    "## Where\n",
    "\n",
    "Observations ->\n",
    "1. .where doesn't work when column given inside and run on entire DF."
   ]
  },
  {
   "cell_type": "markdown",
   "id": "16ad2c3b-ddcf-4be6-8fa7-36a628f3902a",
   "metadata": {},
   "source": [
    "#### ** Where without column"
   ]
  },
  {
   "cell_type": "code",
   "execution_count": 16,
   "id": "8dbe0296-8e8a-4fcc-afbc-755e1e167535",
   "metadata": {
    "scrolled": true
   },
   "outputs": [
    {
     "name": "stdout",
     "output_type": "stream",
     "text": [
      "CPU times: user 35.4 ms, sys: 3.94 ms, total: 39.3 ms\n",
      "Wall time: 421 ms\n"
     ]
    },
    {
     "data": {
      "text/html": [
       "<div>\n",
       "<style scoped>\n",
       "    .dataframe tbody tr th:only-of-type {\n",
       "        vertical-align: middle;\n",
       "    }\n",
       "\n",
       "    .dataframe tbody tr th {\n",
       "        vertical-align: top;\n",
       "    }\n",
       "\n",
       "    .dataframe thead th {\n",
       "        text-align: right;\n",
       "    }\n",
       "</style>\n",
       "<table border=\"1\" class=\"dataframe\">\n",
       "  <thead>\n",
       "    <tr style=\"text-align: right;\">\n",
       "      <th></th>\n",
       "      <th>ID</th>\n",
       "      <th>CODE_GENDER</th>\n",
       "      <th>FLAG_OWN_CAR</th>\n",
       "      <th>FLAG_OWN_REALTY</th>\n",
       "      <th>CNT_CHILDREN</th>\n",
       "      <th>AMT_INCOME_TOTAL</th>\n",
       "      <th>NAME_INCOME_TYPE</th>\n",
       "      <th>NAME_EDUCATION_TYPE</th>\n",
       "      <th>NAME_FAMILY_STATUS</th>\n",
       "      <th>NAME_HOUSING_TYPE</th>\n",
       "      <th>DAYS_BIRTH</th>\n",
       "      <th>DAYS_EMPLOYED</th>\n",
       "      <th>FLAG_MOBIL</th>\n",
       "      <th>FLAG_WORK_PHONE</th>\n",
       "      <th>FLAG_PHONE</th>\n",
       "      <th>FLAG_EMAIL</th>\n",
       "      <th>OCCUPATION_TYPE</th>\n",
       "      <th>CNT_FAM_MEMBERS</th>\n",
       "    </tr>\n",
       "  </thead>\n",
       "  <tbody>\n",
       "    <tr>\n",
       "      <th>0</th>\n",
       "      <td>None</td>\n",
       "      <td>None</td>\n",
       "      <td>None</td>\n",
       "      <td>None</td>\n",
       "      <td>None</td>\n",
       "      <td>427500.0</td>\n",
       "      <td>None</td>\n",
       "      <td>None</td>\n",
       "      <td>None</td>\n",
       "      <td>None</td>\n",
       "      <td>None</td>\n",
       "      <td>None</td>\n",
       "      <td>None</td>\n",
       "      <td>None</td>\n",
       "      <td>None</td>\n",
       "      <td>None</td>\n",
       "      <td>None</td>\n",
       "      <td>None</td>\n",
       "    </tr>\n",
       "    <tr>\n",
       "      <th>1</th>\n",
       "      <td>None</td>\n",
       "      <td>None</td>\n",
       "      <td>None</td>\n",
       "      <td>None</td>\n",
       "      <td>None</td>\n",
       "      <td>427500.0</td>\n",
       "      <td>None</td>\n",
       "      <td>None</td>\n",
       "      <td>None</td>\n",
       "      <td>None</td>\n",
       "      <td>None</td>\n",
       "      <td>None</td>\n",
       "      <td>None</td>\n",
       "      <td>None</td>\n",
       "      <td>None</td>\n",
       "      <td>None</td>\n",
       "      <td>None</td>\n",
       "      <td>None</td>\n",
       "    </tr>\n",
       "    <tr>\n",
       "      <th>2</th>\n",
       "      <td>None</td>\n",
       "      <td>None</td>\n",
       "      <td>None</td>\n",
       "      <td>None</td>\n",
       "      <td>None</td>\n",
       "      <td>NaN</td>\n",
       "      <td>None</td>\n",
       "      <td>None</td>\n",
       "      <td>None</td>\n",
       "      <td>None</td>\n",
       "      <td>None</td>\n",
       "      <td>None</td>\n",
       "      <td>None</td>\n",
       "      <td>None</td>\n",
       "      <td>None</td>\n",
       "      <td>None</td>\n",
       "      <td>None</td>\n",
       "      <td>None</td>\n",
       "    </tr>\n",
       "    <tr>\n",
       "      <th>3</th>\n",
       "      <td>None</td>\n",
       "      <td>None</td>\n",
       "      <td>None</td>\n",
       "      <td>None</td>\n",
       "      <td>None</td>\n",
       "      <td>270000.0</td>\n",
       "      <td>None</td>\n",
       "      <td>None</td>\n",
       "      <td>None</td>\n",
       "      <td>None</td>\n",
       "      <td>None</td>\n",
       "      <td>None</td>\n",
       "      <td>None</td>\n",
       "      <td>None</td>\n",
       "      <td>None</td>\n",
       "      <td>None</td>\n",
       "      <td>None</td>\n",
       "      <td>None</td>\n",
       "    </tr>\n",
       "    <tr>\n",
       "      <th>4</th>\n",
       "      <td>None</td>\n",
       "      <td>None</td>\n",
       "      <td>None</td>\n",
       "      <td>None</td>\n",
       "      <td>None</td>\n",
       "      <td>270000.0</td>\n",
       "      <td>None</td>\n",
       "      <td>None</td>\n",
       "      <td>None</td>\n",
       "      <td>None</td>\n",
       "      <td>None</td>\n",
       "      <td>None</td>\n",
       "      <td>None</td>\n",
       "      <td>None</td>\n",
       "      <td>None</td>\n",
       "      <td>None</td>\n",
       "      <td>None</td>\n",
       "      <td>None</td>\n",
       "    </tr>\n",
       "    <tr>\n",
       "      <th>...</th>\n",
       "      <td>...</td>\n",
       "      <td>...</td>\n",
       "      <td>...</td>\n",
       "      <td>...</td>\n",
       "      <td>...</td>\n",
       "      <td>...</td>\n",
       "      <td>...</td>\n",
       "      <td>...</td>\n",
       "      <td>...</td>\n",
       "      <td>...</td>\n",
       "      <td>...</td>\n",
       "      <td>...</td>\n",
       "      <td>...</td>\n",
       "      <td>...</td>\n",
       "      <td>...</td>\n",
       "      <td>...</td>\n",
       "      <td>...</td>\n",
       "      <td>...</td>\n",
       "    </tr>\n",
       "    <tr>\n",
       "      <th>438552</th>\n",
       "      <td>None</td>\n",
       "      <td>None</td>\n",
       "      <td>None</td>\n",
       "      <td>None</td>\n",
       "      <td>None</td>\n",
       "      <td>NaN</td>\n",
       "      <td>None</td>\n",
       "      <td>None</td>\n",
       "      <td>None</td>\n",
       "      <td>None</td>\n",
       "      <td>None</td>\n",
       "      <td>None</td>\n",
       "      <td>None</td>\n",
       "      <td>None</td>\n",
       "      <td>None</td>\n",
       "      <td>None</td>\n",
       "      <td>None</td>\n",
       "      <td>None</td>\n",
       "    </tr>\n",
       "    <tr>\n",
       "      <th>438553</th>\n",
       "      <td>None</td>\n",
       "      <td>None</td>\n",
       "      <td>None</td>\n",
       "      <td>None</td>\n",
       "      <td>None</td>\n",
       "      <td>NaN</td>\n",
       "      <td>None</td>\n",
       "      <td>None</td>\n",
       "      <td>None</td>\n",
       "      <td>None</td>\n",
       "      <td>None</td>\n",
       "      <td>None</td>\n",
       "      <td>None</td>\n",
       "      <td>None</td>\n",
       "      <td>None</td>\n",
       "      <td>None</td>\n",
       "      <td>None</td>\n",
       "      <td>None</td>\n",
       "    </tr>\n",
       "    <tr>\n",
       "      <th>438554</th>\n",
       "      <td>None</td>\n",
       "      <td>None</td>\n",
       "      <td>None</td>\n",
       "      <td>None</td>\n",
       "      <td>None</td>\n",
       "      <td>NaN</td>\n",
       "      <td>None</td>\n",
       "      <td>None</td>\n",
       "      <td>None</td>\n",
       "      <td>None</td>\n",
       "      <td>None</td>\n",
       "      <td>None</td>\n",
       "      <td>None</td>\n",
       "      <td>None</td>\n",
       "      <td>None</td>\n",
       "      <td>None</td>\n",
       "      <td>None</td>\n",
       "      <td>None</td>\n",
       "    </tr>\n",
       "    <tr>\n",
       "      <th>438555</th>\n",
       "      <td>None</td>\n",
       "      <td>None</td>\n",
       "      <td>None</td>\n",
       "      <td>None</td>\n",
       "      <td>None</td>\n",
       "      <td>NaN</td>\n",
       "      <td>None</td>\n",
       "      <td>None</td>\n",
       "      <td>None</td>\n",
       "      <td>None</td>\n",
       "      <td>None</td>\n",
       "      <td>None</td>\n",
       "      <td>None</td>\n",
       "      <td>None</td>\n",
       "      <td>None</td>\n",
       "      <td>None</td>\n",
       "      <td>None</td>\n",
       "      <td>None</td>\n",
       "    </tr>\n",
       "    <tr>\n",
       "      <th>438556</th>\n",
       "      <td>None</td>\n",
       "      <td>None</td>\n",
       "      <td>None</td>\n",
       "      <td>None</td>\n",
       "      <td>None</td>\n",
       "      <td>NaN</td>\n",
       "      <td>None</td>\n",
       "      <td>None</td>\n",
       "      <td>None</td>\n",
       "      <td>None</td>\n",
       "      <td>None</td>\n",
       "      <td>None</td>\n",
       "      <td>None</td>\n",
       "      <td>None</td>\n",
       "      <td>None</td>\n",
       "      <td>None</td>\n",
       "      <td>None</td>\n",
       "      <td>None</td>\n",
       "    </tr>\n",
       "  </tbody>\n",
       "</table>\n",
       "<p>438557 rows × 18 columns</p>\n",
       "</div>"
      ],
      "text/plain": [
       "          ID CODE_GENDER FLAG_OWN_CAR FLAG_OWN_REALTY CNT_CHILDREN  \\\n",
       "0       None        None         None            None         None   \n",
       "1       None        None         None            None         None   \n",
       "2       None        None         None            None         None   \n",
       "3       None        None         None            None         None   \n",
       "4       None        None         None            None         None   \n",
       "...      ...         ...          ...             ...          ...   \n",
       "438552  None        None         None            None         None   \n",
       "438553  None        None         None            None         None   \n",
       "438554  None        None         None            None         None   \n",
       "438555  None        None         None            None         None   \n",
       "438556  None        None         None            None         None   \n",
       "\n",
       "        AMT_INCOME_TOTAL NAME_INCOME_TYPE NAME_EDUCATION_TYPE  \\\n",
       "0               427500.0             None                None   \n",
       "1               427500.0             None                None   \n",
       "2                    NaN             None                None   \n",
       "3               270000.0             None                None   \n",
       "4               270000.0             None                None   \n",
       "...                  ...              ...                 ...   \n",
       "438552               NaN             None                None   \n",
       "438553               NaN             None                None   \n",
       "438554               NaN             None                None   \n",
       "438555               NaN             None                None   \n",
       "438556               NaN             None                None   \n",
       "\n",
       "       NAME_FAMILY_STATUS NAME_HOUSING_TYPE DAYS_BIRTH DAYS_EMPLOYED  \\\n",
       "0                    None              None       None          None   \n",
       "1                    None              None       None          None   \n",
       "2                    None              None       None          None   \n",
       "3                    None              None       None          None   \n",
       "4                    None              None       None          None   \n",
       "...                   ...               ...        ...           ...   \n",
       "438552               None              None       None          None   \n",
       "438553               None              None       None          None   \n",
       "438554               None              None       None          None   \n",
       "438555               None              None       None          None   \n",
       "438556               None              None       None          None   \n",
       "\n",
       "       FLAG_MOBIL FLAG_WORK_PHONE FLAG_PHONE FLAG_EMAIL OCCUPATION_TYPE  \\\n",
       "0            None            None       None       None            None   \n",
       "1            None            None       None       None            None   \n",
       "2            None            None       None       None            None   \n",
       "3            None            None       None       None            None   \n",
       "4            None            None       None       None            None   \n",
       "...           ...             ...        ...        ...             ...   \n",
       "438552       None            None       None       None            None   \n",
       "438553       None            None       None       None            None   \n",
       "438554       None            None       None       None            None   \n",
       "438555       None            None       None       None            None   \n",
       "438556       None            None       None       None            None   \n",
       "\n",
       "       CNT_FAM_MEMBERS  \n",
       "0                 None  \n",
       "1                 None  \n",
       "2                 None  \n",
       "3                 None  \n",
       "4                 None  \n",
       "...                ...  \n",
       "438552            None  \n",
       "438553            None  \n",
       "438554            None  \n",
       "438555            None  \n",
       "438556            None  \n",
       "\n",
       "[438557 rows x 18 columns]"
      ]
     },
     "execution_count": 16,
     "metadata": {},
     "output_type": "execute_result"
    }
   ],
   "source": [
    "%%time\n",
    "application_record_sdf.where(application_record_sdf['AMT_INCOME_TOTAL'] > 200000)"
   ]
  },
  {
   "cell_type": "code",
   "execution_count": 17,
   "id": "2fa22d61-2050-4087-9ede-58f0844f1484",
   "metadata": {},
   "outputs": [
    {
     "name": "stdout",
     "output_type": "stream",
     "text": [
      "CPU times: user 29.9 ms, sys: 3.03 ms, total: 32.9 ms\n",
      "Wall time: 387 ms\n"
     ]
    },
    {
     "data": {
      "text/plain": [
       "0    427500.0\n",
       "1    427500.0\n",
       "2         NaN\n",
       "3    270000.0\n",
       "4    270000.0\n",
       "Name: AMT_INCOME_TOTAL, dtype: float64"
      ]
     },
     "execution_count": 17,
     "metadata": {},
     "output_type": "execute_result"
    }
   ],
   "source": [
    "%%time\n",
    "application_record_sdf['AMT_INCOME_TOTAL'].where(application_record_sdf['AMT_INCOME_TOTAL'] > 200000).head()"
   ]
  },
  {
   "cell_type": "code",
   "execution_count": 18,
   "id": "f0942437-7e1d-462c-bbe1-b92cc2bbf24a",
   "metadata": {
    "scrolled": true
   },
   "outputs": [
    {
     "name": "stdout",
     "output_type": "stream",
     "text": [
      "CPU times: user 16 ms, sys: 2.03 ms, total: 18 ms\n",
      "Wall time: 252 ms\n"
     ]
    },
    {
     "data": {
      "text/html": [
       "<div>\n",
       "<style scoped>\n",
       "    .dataframe tbody tr th:only-of-type {\n",
       "        vertical-align: middle;\n",
       "    }\n",
       "\n",
       "    .dataframe tbody tr th {\n",
       "        vertical-align: top;\n",
       "    }\n",
       "\n",
       "    .dataframe thead th {\n",
       "        text-align: right;\n",
       "    }\n",
       "</style>\n",
       "<table border=\"1\" class=\"dataframe\">\n",
       "  <thead>\n",
       "    <tr style=\"text-align: right;\">\n",
       "      <th></th>\n",
       "      <th>ID</th>\n",
       "      <th>CODE_GENDER</th>\n",
       "      <th>FLAG_OWN_CAR</th>\n",
       "      <th>FLAG_OWN_REALTY</th>\n",
       "      <th>CNT_CHILDREN</th>\n",
       "      <th>AMT_INCOME_TOTAL</th>\n",
       "      <th>NAME_INCOME_TYPE</th>\n",
       "      <th>NAME_EDUCATION_TYPE</th>\n",
       "      <th>NAME_FAMILY_STATUS</th>\n",
       "      <th>NAME_HOUSING_TYPE</th>\n",
       "      <th>DAYS_BIRTH</th>\n",
       "      <th>DAYS_EMPLOYED</th>\n",
       "      <th>FLAG_MOBIL</th>\n",
       "      <th>FLAG_WORK_PHONE</th>\n",
       "      <th>FLAG_PHONE</th>\n",
       "      <th>FLAG_EMAIL</th>\n",
       "      <th>OCCUPATION_TYPE</th>\n",
       "      <th>CNT_FAM_MEMBERS</th>\n",
       "    </tr>\n",
       "  </thead>\n",
       "  <tbody>\n",
       "    <tr>\n",
       "      <th>0</th>\n",
       "      <td>5008804</td>\n",
       "      <td>M</td>\n",
       "      <td>Y</td>\n",
       "      <td>Y</td>\n",
       "      <td>0</td>\n",
       "      <td>427500.0</td>\n",
       "      <td>Working</td>\n",
       "      <td>Higher education</td>\n",
       "      <td>Civil marriage</td>\n",
       "      <td>Rented apartment</td>\n",
       "      <td>-12005</td>\n",
       "      <td>-4542</td>\n",
       "      <td>1</td>\n",
       "      <td>1</td>\n",
       "      <td>0</td>\n",
       "      <td>0</td>\n",
       "      <td>None</td>\n",
       "      <td>2.0</td>\n",
       "    </tr>\n",
       "    <tr>\n",
       "      <th>1</th>\n",
       "      <td>5008805</td>\n",
       "      <td>M</td>\n",
       "      <td>Y</td>\n",
       "      <td>Y</td>\n",
       "      <td>0</td>\n",
       "      <td>427500.0</td>\n",
       "      <td>Working</td>\n",
       "      <td>Higher education</td>\n",
       "      <td>Civil marriage</td>\n",
       "      <td>Rented apartment</td>\n",
       "      <td>-12005</td>\n",
       "      <td>-4542</td>\n",
       "      <td>1</td>\n",
       "      <td>1</td>\n",
       "      <td>0</td>\n",
       "      <td>0</td>\n",
       "      <td>None</td>\n",
       "      <td>2.0</td>\n",
       "    </tr>\n",
       "    <tr>\n",
       "      <th>3</th>\n",
       "      <td>5008808</td>\n",
       "      <td>F</td>\n",
       "      <td>N</td>\n",
       "      <td>Y</td>\n",
       "      <td>0</td>\n",
       "      <td>270000.0</td>\n",
       "      <td>Commercial associate</td>\n",
       "      <td>Secondary / secondary special</td>\n",
       "      <td>Single / not married</td>\n",
       "      <td>House / apartment</td>\n",
       "      <td>-19110</td>\n",
       "      <td>-3051</td>\n",
       "      <td>1</td>\n",
       "      <td>0</td>\n",
       "      <td>1</td>\n",
       "      <td>1</td>\n",
       "      <td>Sales staff</td>\n",
       "      <td>1.0</td>\n",
       "    </tr>\n",
       "    <tr>\n",
       "      <th>4</th>\n",
       "      <td>5008809</td>\n",
       "      <td>F</td>\n",
       "      <td>N</td>\n",
       "      <td>Y</td>\n",
       "      <td>0</td>\n",
       "      <td>270000.0</td>\n",
       "      <td>Commercial associate</td>\n",
       "      <td>Secondary / secondary special</td>\n",
       "      <td>Single / not married</td>\n",
       "      <td>House / apartment</td>\n",
       "      <td>-19110</td>\n",
       "      <td>-3051</td>\n",
       "      <td>1</td>\n",
       "      <td>0</td>\n",
       "      <td>1</td>\n",
       "      <td>1</td>\n",
       "      <td>Sales staff</td>\n",
       "      <td>1.0</td>\n",
       "    </tr>\n",
       "    <tr>\n",
       "      <th>5</th>\n",
       "      <td>5008810</td>\n",
       "      <td>F</td>\n",
       "      <td>N</td>\n",
       "      <td>Y</td>\n",
       "      <td>0</td>\n",
       "      <td>270000.0</td>\n",
       "      <td>Commercial associate</td>\n",
       "      <td>Secondary / secondary special</td>\n",
       "      <td>Single / not married</td>\n",
       "      <td>House / apartment</td>\n",
       "      <td>-19110</td>\n",
       "      <td>-3051</td>\n",
       "      <td>1</td>\n",
       "      <td>0</td>\n",
       "      <td>1</td>\n",
       "      <td>1</td>\n",
       "      <td>Sales staff</td>\n",
       "      <td>1.0</td>\n",
       "    </tr>\n",
       "  </tbody>\n",
       "</table>\n",
       "</div>"
      ],
      "text/plain": [
       "        ID CODE_GENDER FLAG_OWN_CAR FLAG_OWN_REALTY  CNT_CHILDREN  \\\n",
       "0  5008804           M            Y               Y             0   \n",
       "1  5008805           M            Y               Y             0   \n",
       "3  5008808           F            N               Y             0   \n",
       "4  5008809           F            N               Y             0   \n",
       "5  5008810           F            N               Y             0   \n",
       "\n",
       "   AMT_INCOME_TOTAL      NAME_INCOME_TYPE            NAME_EDUCATION_TYPE  \\\n",
       "0          427500.0               Working               Higher education   \n",
       "1          427500.0               Working               Higher education   \n",
       "3          270000.0  Commercial associate  Secondary / secondary special   \n",
       "4          270000.0  Commercial associate  Secondary / secondary special   \n",
       "5          270000.0  Commercial associate  Secondary / secondary special   \n",
       "\n",
       "     NAME_FAMILY_STATUS  NAME_HOUSING_TYPE  DAYS_BIRTH  DAYS_EMPLOYED  \\\n",
       "0        Civil marriage   Rented apartment      -12005          -4542   \n",
       "1        Civil marriage   Rented apartment      -12005          -4542   \n",
       "3  Single / not married  House / apartment      -19110          -3051   \n",
       "4  Single / not married  House / apartment      -19110          -3051   \n",
       "5  Single / not married  House / apartment      -19110          -3051   \n",
       "\n",
       "   FLAG_MOBIL  FLAG_WORK_PHONE  FLAG_PHONE  FLAG_EMAIL OCCUPATION_TYPE  \\\n",
       "0           1                1           0           0            None   \n",
       "1           1                1           0           0            None   \n",
       "3           1                0           1           1     Sales staff   \n",
       "4           1                0           1           1     Sales staff   \n",
       "5           1                0           1           1     Sales staff   \n",
       "\n",
       "   CNT_FAM_MEMBERS  \n",
       "0              2.0  \n",
       "1              2.0  \n",
       "3              1.0  \n",
       "4              1.0  \n",
       "5              1.0  "
      ]
     },
     "execution_count": 18,
     "metadata": {},
     "output_type": "execute_result"
    }
   ],
   "source": [
    "%%time\n",
    "application_record_sdf[application_record_sdf['AMT_INCOME_TOTAL'] > 200000].head()"
   ]
  },
  {
   "cell_type": "markdown",
   "id": "17420d21-6181-415c-94e1-edd9f33b8dd4",
   "metadata": {},
   "source": [
    "## Merge"
   ]
  },
  {
   "cell_type": "code",
   "execution_count": null,
   "id": "e6951016-9376-4a1a-9306-67001d784ab9",
   "metadata": {},
   "outputs": [],
   "source": [
    "%%time\n",
    "df1 = application_record_sdf[['ID', 'AMT_INCOME_TOTAL']]\n",
    "df2 = application_record_sdf[['ID', 'NAME_EDUCATION_TYPE']]\n",
    "merged_data = df1.merge(df2, on='ID')"
   ]
  },
  {
   "cell_type": "code",
   "execution_count": null,
   "id": "3dcc90c2-ccfa-49d1-87ab-23b48ca4f08c",
   "metadata": {},
   "outputs": [],
   "source": [
    "merged_data.head()"
   ]
  },
  {
   "cell_type": "markdown",
   "id": "809da7f0-d03a-411f-96c0-665e3361e92d",
   "metadata": {},
   "source": [
    "## Sub\n",
    "\n",
    "Subtract 10000 from DF compare gender salaries"
   ]
  },
  {
   "cell_type": "code",
   "execution_count": null,
   "id": "d9875033-dc45-4e13-9697-f82e70f82f18",
   "metadata": {},
   "outputs": [],
   "source": [
    "%%time\n",
    "df1 = application_record_sdf[['CODE_GENDER','AMT_INCOME_TOTAL']]\n",
    "df1 = df1.groupby('CODE_GENDER').mean()['AMT_INCOME_TOTAL'].astype('int')"
   ]
  },
  {
   "cell_type": "code",
   "execution_count": null,
   "id": "29003575-645e-4bd6-b0b1-939e7049f523",
   "metadata": {},
   "outputs": [],
   "source": [
    "%%time\n",
    "df1 = application_record_sdf[['CODE_GENDER','AMT_INCOME_TOTAL']]\n",
    "df1 = df1.groupby('CODE_GENDER').mean()['AMT_INCOME_TOTAL'].astype('int')\n",
    "df1"
   ]
  },
  {
   "cell_type": "code",
   "execution_count": null,
   "id": "21fcc4bf-b3cd-4d9a-a6eb-bd5ffe39c822",
   "metadata": {},
   "outputs": [],
   "source": [
    "%%time\n",
    "df1"
   ]
  },
  {
   "cell_type": "code",
   "execution_count": null,
   "id": "4cf67095-274e-405b-b35d-834ce31ce785",
   "metadata": {},
   "outputs": [],
   "source": [
    "print(df1)"
   ]
  },
  {
   "cell_type": "code",
   "execution_count": null,
   "id": "aed354bb-b3fe-45a7-a5ca-e9caa0c6ad03",
   "metadata": {},
   "outputs": [],
   "source": [
    "print(df1.head())"
   ]
  },
  {
   "cell_type": "code",
   "execution_count": null,
   "id": "9052446c-b758-4501-a9ee-c96a398308e5",
   "metadata": {},
   "outputs": [],
   "source": [
    "%%time\n",
    "df2 = application_record_sdf[['CODE_GENDER','AMT_INCOME_TOTAL']]\n",
    "df2['AMT_INCOME_TOTAL'] = df2['AMT_INCOME_TOTAL'].sub(10000)"
   ]
  },
  {
   "cell_type": "code",
   "execution_count": null,
   "id": "5a41ed71-b2f9-4b0e-b0cd-fbc11bdc94a1",
   "metadata": {},
   "outputs": [],
   "source": [
    "%%time\n",
    "df2 = df2.groupby('CODE_GENDER').mean()['AMT_INCOME_TOTAL'].astype('int')\n",
    "print(df2.head())"
   ]
  },
  {
   "cell_type": "code",
   "execution_count": null,
   "id": "00a097ee-eb07-4b2b-8954-da9a232d2c02",
   "metadata": {},
   "outputs": [],
   "source": [
    "df1 - df2"
   ]
  },
  {
   "cell_type": "markdown",
   "id": "b154f065-9795-4c3b-91ec-5a9f91d8a934",
   "metadata": {
    "editable": true,
    "slideshow": {
     "slide_type": ""
    },
    "tags": []
   },
   "source": [
    "## Groupby\n",
    "\n",
    "Observations ->\n",
    "1. Cannot get groups"
   ]
  },
  {
   "cell_type": "markdown",
   "id": "b56c9673-12d1-4bf3-a35e-7bac569f7d7a",
   "metadata": {},
   "source": [
    "#### ** Groups"
   ]
  },
  {
   "cell_type": "code",
   "execution_count": null,
   "id": "df3fd24e-a0d2-4db2-a502-a4782a86c4cc",
   "metadata": {},
   "outputs": [],
   "source": [
    "type(application_record_sdf)"
   ]
  },
  {
   "cell_type": "code",
   "execution_count": null,
   "id": "c0d0b990-eb08-4db7-a8d9-5332fe89f9fe",
   "metadata": {
    "scrolled": true
   },
   "outputs": [],
   "source": [
    "grouped_df = application_record_sdf.groupby('CODE_GENDER')\n",
    "grouped_df.groups.keys() #doesnt work yet"
   ]
  },
  {
   "cell_type": "code",
   "execution_count": null,
   "id": "01e9bec8-a69d-46b9-af9c-fd76ae1b3b98",
   "metadata": {},
   "outputs": [],
   "source": []
  },
  {
   "cell_type": "markdown",
   "id": "3744c98f-ce76-41cc-80cc-c64999d909fa",
   "metadata": {},
   "source": [
    "#### Groupby + Agg"
   ]
  },
  {
   "cell_type": "code",
   "execution_count": null,
   "id": "002d7401-b554-4ea8-bb6e-307c7851e36e",
   "metadata": {},
   "outputs": [],
   "source": [
    "%%time\n",
    "application_record_sdf.groupby('NAME_EDUCATION_TYPE')['AMT_INCOME_TOTAL'].agg(['min', 'max', 'mean'])"
   ]
  },
  {
   "cell_type": "code",
   "execution_count": null,
   "id": "3ce33939-dfbd-4d2f-9d89-a573190e13ba",
   "metadata": {},
   "outputs": [],
   "source": [
    "%%time\n",
    "application_record_sdf.groupby('NAME_EDUCATION_TYPE').agg({'CNT_FAM_MEMBERS': 'max',\n",
    "                                                           'AMT_INCOME_TOTAL': 'mean'})"
   ]
  },
  {
   "cell_type": "code",
   "execution_count": null,
   "id": "76104eaa-6cd5-45a3-98bd-aed7f8875da4",
   "metadata": {},
   "outputs": [],
   "source": [
    "temp = application_record_sdf.groupby('NAME_EDUCATION_TYPE').agg({'CNT_FAM_MEMBERS': 'max',\n",
    "                                                           'AMT_INCOME_TOTAL': 'mean'})\n",
    "\n",
    "temp"
   ]
  },
  {
   "cell_type": "markdown",
   "id": "b8538bc8-30e1-42fc-a6ec-82fb944e5826",
   "metadata": {},
   "source": [
    "#### Multi-level Grouping"
   ]
  },
  {
   "cell_type": "code",
   "execution_count": null,
   "id": "5c309e7d-6fdd-410f-8756-392d74748bbf",
   "metadata": {
    "scrolled": true
   },
   "outputs": [],
   "source": [
    "%%time\n",
    "application_record_sdf.groupby(['NAME_EDUCATION_TYPE', 'NAME_FAMILY_STATUS'])['AMT_INCOME_TOTAL'].mean().reset_index()"
   ]
  },
  {
   "cell_type": "markdown",
   "id": "ef155032-bd2b-4a82-bc3b-3ad17e58fa1c",
   "metadata": {},
   "source": [
    "## ** Transform and Sort"
   ]
  },
  {
   "cell_type": "code",
   "execution_count": null,
   "id": "b6be2634-7520-4c4e-ba3d-7abd03d25d53",
   "metadata": {},
   "outputs": [],
   "source": [
    "application_record_sdf.head()"
   ]
  },
  {
   "cell_type": "code",
   "execution_count": null,
   "id": "d3a45652-2cf9-40af-8355-c63061eff44c",
   "metadata": {},
   "outputs": [],
   "source": [
    "%%time\n",
    "temp = application_record_sdf.copy()"
   ]
  },
  {
   "cell_type": "code",
   "execution_count": null,
   "id": "e221e2e7-81c7-4d2a-bbec-704af357cbcd",
   "metadata": {},
   "outputs": [],
   "source": [
    "%%time\n",
    "temp['AGE_YEARS'] = -temp['DAYS_BIRTH']"
   ]
  },
  {
   "cell_type": "code",
   "execution_count": null,
   "id": "b8a336dd-9c6c-466f-a5f5-236ca956d96a",
   "metadata": {},
   "outputs": [],
   "source": [
    "%%time\n",
    "temp['AGE_YEARS'] = temp['AGE_YEARS']/365"
   ]
  },
  {
   "cell_type": "code",
   "execution_count": null,
   "id": "b536ab13-9fd6-47f4-b67d-5ddf9e92f783",
   "metadata": {},
   "outputs": [],
   "source": [
    "%%time\n",
    "temp['AGE_YEARS'] = temp['AGE_YEARS'].astype(int)"
   ]
  },
  {
   "cell_type": "code",
   "execution_count": null,
   "id": "f426c615-b649-447d-a110-074fca0953af",
   "metadata": {},
   "outputs": [],
   "source": [
    "%%time\n",
    "temp = temp.sort_values(by='AGE_YEARS', ascending=False)"
   ]
  },
  {
   "cell_type": "code",
   "execution_count": null,
   "id": "5927b5d1-8712-4022-b980-270c0cccab42",
   "metadata": {
    "scrolled": true
   },
   "outputs": [],
   "source": [
    "temp.head()"
   ]
  },
  {
   "cell_type": "code",
   "execution_count": null,
   "id": "652bc3d7-ff6e-4750-9be0-e8944b524f29",
   "metadata": {},
   "outputs": [],
   "source": []
  },
  {
   "cell_type": "markdown",
   "id": "ba1ea764-c7d6-490b-84df-b362c923be71",
   "metadata": {},
   "source": [
    "## Pivot Table & Multiple Aggs"
   ]
  },
  {
   "cell_type": "code",
   "execution_count": null,
   "id": "e7b3dc00-373b-4013-91b3-d675fa97e1a2",
   "metadata": {},
   "outputs": [],
   "source": [
    "%%time\n",
    "application_record_sdf['AMT_INCOME_TOTAL'] = application_record_sdf['AMT_INCOME_TOTAL'].astype('int')\n",
    "application_record_sdf.pivot_table(values='AMT_INCOME_TOTAL',\n",
    "                                   index='NAME_EDUCATION_TYPE',\n",
    "                                   columns='NAME_FAMILY_STATUS',\n",
    "                                   aggfunc=['mean', 'max'])"
   ]
  },
  {
   "cell_type": "code",
   "execution_count": null,
   "id": "70d39a3b-584a-4367-939d-d1b4a3a3532a",
   "metadata": {},
   "outputs": [],
   "source": []
  },
  {
   "cell_type": "markdown",
   "id": "4231e344-f0fc-4c80-99c1-fe45e844e081",
   "metadata": {},
   "source": [
    "## ** Conditional Assignment"
   ]
  },
  {
   "cell_type": "code",
   "execution_count": null,
   "id": "9249e497-0334-446e-a12d-1625e7ea722d",
   "metadata": {},
   "outputs": [],
   "source": [
    "temp = application_record_sdf.copy()"
   ]
  },
  {
   "cell_type": "code",
   "execution_count": null,
   "id": "08b6f2b7-1c86-4eab-b8f4-c4c348ecaf68",
   "metadata": {},
   "outputs": [],
   "source": [
    "temp.head()"
   ]
  },
  {
   "cell_type": "code",
   "execution_count": null,
   "id": "1ebe9c68-40e0-465d-8fa4-4d5dc446e6b4",
   "metadata": {},
   "outputs": [],
   "source": [
    "%%time\n",
    "temp['PERSON_DESC'] = ''\n",
    "temp.loc[(temp['DAYS_BIRTH'] / -365 < 30) & (temp['AMT_INCOME_TOTAL'] > 200000), 'PERSON_DESC'] = 'Young High Earner'\n",
    "temp.loc[(temp['DAYS_BIRTH'] / -365 > 30) & (temp['AMT_INCOME_TOTAL'] <= 200000), 'PERSON_DESC'] = 'Older Low Earner'"
   ]
  },
  {
   "cell_type": "code",
   "execution_count": null,
   "id": "cc483d4c-bb14-44d2-a361-fc2326cc92f9",
   "metadata": {},
   "outputs": [],
   "source": [
    "temp.head()"
   ]
  },
  {
   "cell_type": "code",
   "execution_count": null,
   "id": "330ccff4-26d8-41c7-a00d-2286eb89a851",
   "metadata": {},
   "outputs": [],
   "source": []
  },
  {
   "cell_type": "markdown",
   "id": "8f674e48-56c2-47a1-b2b9-0e58ad69c2fc",
   "metadata": {},
   "source": [
    "## ** Merging and Sub Two Cols\n"
   ]
  },
  {
   "cell_type": "code",
   "execution_count": null,
   "id": "65709e47-4190-42a8-829c-f0f6b10383ea",
   "metadata": {
    "scrolled": true
   },
   "outputs": [],
   "source": [
    "application_record_sdf"
   ]
  },
  {
   "cell_type": "code",
   "execution_count": null,
   "id": "38b6c73f-6493-4222-825b-3ac98efd94b3",
   "metadata": {},
   "outputs": [],
   "source": [
    "%%time\n",
    "df1 = application_record_sdf[['ID', 'DAYS_BIRTH']]\n",
    "df2 = application_record_sdf[['ID', 'DAYS_EMPLOYED']]"
   ]
  },
  {
   "cell_type": "code",
   "execution_count": null,
   "id": "1059c18f-de40-4842-a4cc-2922718595cc",
   "metadata": {},
   "outputs": [],
   "source": [
    "%%time\n",
    "merged_data = df1.merge(df2, on='ID', how='left').fillna(0)"
   ]
  },
  {
   "cell_type": "code",
   "execution_count": null,
   "id": "2c96554f-d126-4d2e-9b31-aaf872ecd512",
   "metadata": {},
   "outputs": [],
   "source": [
    "%%time\n",
    "merged_data['DAYS_BEFORE_JOB'] = merged_data['DAYS_EMPLOYED'] - merged_data['DAYS_BIRTH']"
   ]
  },
  {
   "cell_type": "code",
   "execution_count": null,
   "id": "f2a29fab-fdd9-426b-a38a-3078e1dc9ba2",
   "metadata": {},
   "outputs": [],
   "source": [
    "%%time\n",
    "merged_data.head()"
   ]
  },
  {
   "cell_type": "code",
   "execution_count": null,
   "id": "08af937b-2d4c-49c0-a853-fb9be0ed9c34",
   "metadata": {},
   "outputs": [],
   "source": []
  },
  {
   "cell_type": "markdown",
   "id": "80778e73-d1d4-417f-9b66-d29fcd5b17b6",
   "metadata": {},
   "source": [
    "## ** Resampling (Requires Datetime Conversion):\n"
   ]
  },
  {
   "cell_type": "code",
   "execution_count": null,
   "id": "eb67c30a-5df5-41e0-ac9c-d43f0e4f6208",
   "metadata": {},
   "outputs": [],
   "source": [
    "%%time\n",
    "df1 = application_record_sdf.copy()"
   ]
  },
  {
   "cell_type": "code",
   "execution_count": null,
   "id": "e208e5ba-24b8-4941-b843-30ab963c78c5",
   "metadata": {},
   "outputs": [],
   "source": [
    "%%time\n",
    "df1['DAYS_BIRTH'] = -df1['DAYS_BIRTH']"
   ]
  },
  {
   "cell_type": "code",
   "execution_count": null,
   "id": "0d2701f7-11b9-48a2-a3e1-f2306283e4e1",
   "metadata": {},
   "outputs": [],
   "source": [
    "%%time\n",
    "df1['DOB'] = pd.to_datetime(df1['DAYS_BIRTH'], origin='1900-01-01', unit='D')"
   ]
  },
  {
   "cell_type": "code",
   "execution_count": null,
   "id": "f0170a64-03e6-42bc-860d-cc3ff8639929",
   "metadata": {},
   "outputs": [],
   "source": [
    "df1.head()"
   ]
  },
  {
   "cell_type": "code",
   "execution_count": null,
   "id": "446e035b-b748-4e50-a003-59652f7cd0a5",
   "metadata": {},
   "outputs": [],
   "source": [
    "%%time\n",
    "df1['DOB_YEAR'] = df1['DOB'].dt.year"
   ]
  },
  {
   "cell_type": "code",
   "execution_count": null,
   "id": "785ce3ba-6882-4562-bf04-ef336907c3fb",
   "metadata": {
    "scrolled": true
   },
   "outputs": [],
   "source": [
    "%%time\n",
    "df1.groupby('DOB_YEAR')['DOB'].count().sort_values(ascending=False)"
   ]
  },
  {
   "cell_type": "markdown",
   "id": "ef68b55c-04ca-4361-8021-a5f79eb440c8",
   "metadata": {},
   "source": [
    "#### Pandas"
   ]
  },
  {
   "cell_type": "code",
   "execution_count": null,
   "id": "4e34730f-482c-4b00-b8f7-cb686eed3459",
   "metadata": {},
   "outputs": [],
   "source": [
    "df1_pandas = df1.to_pandas()"
   ]
  },
  {
   "cell_type": "code",
   "execution_count": null,
   "id": "7f724407-49a9-428e-a327-f2b66851dc02",
   "metadata": {},
   "outputs": [],
   "source": [
    "len(df1_pandas)"
   ]
  },
  {
   "cell_type": "code",
   "execution_count": null,
   "id": "cd2f1fb4-b0b5-4a15-99b3-4dc8897c0fff",
   "metadata": {},
   "outputs": [],
   "source": [
    "%%time\n",
    "df1_pandas['DOB'].dt.year"
   ]
  },
  {
   "cell_type": "code",
   "execution_count": null,
   "id": "0b1da187-835c-4d74-85f9-07c3789a6e6c",
   "metadata": {},
   "outputs": [],
   "source": []
  },
  {
   "cell_type": "markdown",
   "id": "1895b757-3b7a-499f-8d49-60f86fd5379d",
   "metadata": {},
   "source": [
    "## Column Rename, Head, and Filter"
   ]
  },
  {
   "cell_type": "code",
   "execution_count": null,
   "id": "bd7021c8-c6c9-4c28-a666-32dc164469b1",
   "metadata": {},
   "outputs": [],
   "source": [
    "%%time\n",
    "df1 = application_record_sdf.copy()"
   ]
  },
  {
   "cell_type": "code",
   "execution_count": null,
   "id": "1e289075-c12d-44ba-96b7-6e216f11e96f",
   "metadata": {},
   "outputs": [],
   "source": [
    "df1.head()"
   ]
  },
  {
   "cell_type": "code",
   "execution_count": null,
   "id": "980354d3-647f-4a90-a279-611abbde5b1e",
   "metadata": {},
   "outputs": [],
   "source": [
    "%%time\n",
    "df1 = df1.rename(columns={'FLAG_EMAIL': 'HAS_EMAIL'})"
   ]
  },
  {
   "cell_type": "code",
   "execution_count": null,
   "id": "281c535b-c5ba-441d-9ba0-96ff37b52503",
   "metadata": {
    "scrolled": true
   },
   "outputs": [],
   "source": [
    "%%time\n",
    "df1.loc[df1['HAS_EMAIL'] == 1].head()"
   ]
  }
 ],
 "metadata": {
  "kernelspec": {
   "display_name": "Python 3 (ipykernel)",
   "language": "python",
   "name": "python3"
  },
  "language_info": {
   "codemirror_mode": {
    "name": "ipython",
    "version": 3
   },
   "file_extension": ".py",
   "mimetype": "text/x-python",
   "name": "python",
   "nbconvert_exporter": "python",
   "pygments_lexer": "ipython3",
   "version": "3.9.18"
  }
 },
 "nbformat": 4,
 "nbformat_minor": 5
}
