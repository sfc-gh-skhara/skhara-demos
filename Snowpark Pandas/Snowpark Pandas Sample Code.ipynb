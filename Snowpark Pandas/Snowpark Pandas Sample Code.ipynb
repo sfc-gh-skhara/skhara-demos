{
 "cells": [
  {
   "cell_type": "markdown",
   "id": "ea072050-2099-49a9-8a7b-567d66b57b6f",
   "metadata": {},
   "source": [
    "# Setup"
   ]
  },
  {
   "cell_type": "markdown",
   "id": "b4e83d05-af3e-4d7d-8f45-f639a63751c6",
   "metadata": {},
   "source": [
    "## Imports"
   ]
  },
  {
   "cell_type": "code",
   "execution_count": 1,
   "id": "dcc4f88e-c3b5-4746-a00c-69e7a9f648d0",
   "metadata": {},
   "outputs": [],
   "source": [
    "import os\n",
    "import json"
   ]
  },
  {
   "cell_type": "code",
   "execution_count": 2,
   "id": "ca65d2df-f5cb-40c0-8205-2202910fa5e5",
   "metadata": {},
   "outputs": [],
   "source": [
    "from snowflake.snowpark import Session"
   ]
  },
  {
   "cell_type": "code",
   "execution_count": 3,
   "id": "3b7d206d-7ee1-49b4-a2c9-eff66f9f3625",
   "metadata": {},
   "outputs": [],
   "source": [
    "import snowflake.snowpark.modin.pandas as pd"
   ]
  },
  {
   "cell_type": "markdown",
   "id": "62094a88-a77d-4cdf-9b95-92e814b9362e",
   "metadata": {},
   "source": [
    "## Session"
   ]
  },
  {
   "cell_type": "code",
   "execution_count": 5,
   "id": "ec2ebae8-a9ba-47d1-b237-edfe1d590ed3",
   "metadata": {},
   "outputs": [],
   "source": [
    "my_dir = os.getcwd()\n",
    "connection_parameters = json.load(open('/Users/skhara/Documents/Code/creds.json'))\n",
    "session = Session.builder.configs(connection_parameters).create()\n",
    "\n",
    "session.use_database('DEMO_DB')\n",
    "session.use_schema('PUBLIC')"
   ]
  },
  {
   "cell_type": "code",
   "execution_count": 6,
   "id": "8863814e",
   "metadata": {},
   "outputs": [],
   "source": [
    "pd.session = session"
   ]
  },
  {
   "cell_type": "markdown",
   "id": "75763aff-f1af-4057-8282-42754ffc5568",
   "metadata": {},
   "source": [
    "# Testing 1 - simple"
   ]
  },
  {
   "cell_type": "markdown",
   "id": "ab4aba21-236c-492a-b106-b637183b72d7",
   "metadata": {},
   "source": [
    "## Load Data"
   ]
  },
  {
   "cell_type": "code",
   "execution_count": 7,
   "id": "f14d476b-80d2-4053-9d90-092b7b4d5da5",
   "metadata": {},
   "outputs": [
    {
     "name": "stdout",
     "output_type": "stream",
     "text": [
      "Application table size\t:  ID                     438557\n",
      "CODE_GENDER            438557\n",
      "FLAG_OWN_CAR           438557\n",
      "FLAG_OWN_REALTY        438557\n",
      "CNT_CHILDREN           438557\n",
      "AMT_INCOME_TOTAL       438557\n",
      "NAME_INCOME_TYPE       438557\n",
      "NAME_EDUCATION_TYPE    438557\n",
      "NAME_FAMILY_STATUS     438557\n",
      "NAME_HOUSING_TYPE      438557\n",
      "DAYS_BIRTH             438557\n",
      "DAYS_EMPLOYED          438557\n",
      "FLAG_MOBIL             438557\n",
      "FLAG_WORK_PHONE        438557\n",
      "FLAG_PHONE             438557\n",
      "FLAG_EMAIL             438557\n",
      "OCCUPATION_TYPE        304354\n",
      "CNT_FAM_MEMBERS        438557\n",
      "dtype: int32 \n",
      "Credit table size\t:  ID                1048575\n",
      "MONTHS_BALANCE    1048575\n",
      "STATUS            1048575\n",
      "dtype: int32\n",
      "CPU times: user 95.8 ms, sys: 24.8 ms, total: 121 ms\n",
      "Wall time: 7.49 s\n"
     ]
    }
   ],
   "source": [
    "%%time\n",
    "application_record_sdf = pd.read_snowflake('APPLICATION_RECORD')\n",
    "credit_record_sdf = pd.read_snowflake('CREDIT_RECORD')\n",
    "print('Application table size\\t: ', application_record_sdf.count(), \n",
    "      '\\nCredit table size\\t: ', credit_record_sdf.count())"
   ]
  },
  {
   "cell_type": "code",
   "execution_count": 8,
   "id": "4821b6e4-5587-492d-a544-46675eb675eb",
   "metadata": {},
   "outputs": [
    {
     "data": {
      "text/plain": [
       "438557"
      ]
     },
     "execution_count": 8,
     "metadata": {},
     "output_type": "execute_result"
    }
   ],
   "source": [
    "len(application_record_sdf)"
   ]
  },
  {
   "cell_type": "code",
   "execution_count": 9,
   "id": "969c0455",
   "metadata": {},
   "outputs": [
    {
     "data": {
      "text/html": [
       "<div>\n",
       "<style scoped>\n",
       "    .dataframe tbody tr th:only-of-type {\n",
       "        vertical-align: middle;\n",
       "    }\n",
       "\n",
       "    .dataframe tbody tr th {\n",
       "        vertical-align: top;\n",
       "    }\n",
       "\n",
       "    .dataframe thead th {\n",
       "        text-align: right;\n",
       "    }\n",
       "</style>\n",
       "<table border=\"1\" class=\"dataframe\">\n",
       "  <thead>\n",
       "    <tr style=\"text-align: right;\">\n",
       "      <th></th>\n",
       "      <th>ID</th>\n",
       "      <th>CODE_GENDER</th>\n",
       "      <th>FLAG_OWN_CAR</th>\n",
       "      <th>FLAG_OWN_REALTY</th>\n",
       "      <th>CNT_CHILDREN</th>\n",
       "      <th>AMT_INCOME_TOTAL</th>\n",
       "      <th>NAME_INCOME_TYPE</th>\n",
       "      <th>NAME_EDUCATION_TYPE</th>\n",
       "      <th>NAME_FAMILY_STATUS</th>\n",
       "      <th>NAME_HOUSING_TYPE</th>\n",
       "      <th>DAYS_BIRTH</th>\n",
       "      <th>DAYS_EMPLOYED</th>\n",
       "      <th>FLAG_MOBIL</th>\n",
       "      <th>FLAG_WORK_PHONE</th>\n",
       "      <th>FLAG_PHONE</th>\n",
       "      <th>FLAG_EMAIL</th>\n",
       "      <th>OCCUPATION_TYPE</th>\n",
       "      <th>CNT_FAM_MEMBERS</th>\n",
       "    </tr>\n",
       "  </thead>\n",
       "  <tbody>\n",
       "    <tr>\n",
       "      <th>0</th>\n",
       "      <td>5008804</td>\n",
       "      <td>M</td>\n",
       "      <td>Y</td>\n",
       "      <td>Y</td>\n",
       "      <td>0</td>\n",
       "      <td>427500.0</td>\n",
       "      <td>Working</td>\n",
       "      <td>Higher education</td>\n",
       "      <td>Civil marriage</td>\n",
       "      <td>Rented apartment</td>\n",
       "      <td>-12005</td>\n",
       "      <td>-4542</td>\n",
       "      <td>1</td>\n",
       "      <td>1</td>\n",
       "      <td>0</td>\n",
       "      <td>0</td>\n",
       "      <td>None</td>\n",
       "      <td>2</td>\n",
       "    </tr>\n",
       "    <tr>\n",
       "      <th>1</th>\n",
       "      <td>5008805</td>\n",
       "      <td>M</td>\n",
       "      <td>Y</td>\n",
       "      <td>Y</td>\n",
       "      <td>0</td>\n",
       "      <td>427500.0</td>\n",
       "      <td>Working</td>\n",
       "      <td>Higher education</td>\n",
       "      <td>Civil marriage</td>\n",
       "      <td>Rented apartment</td>\n",
       "      <td>-12005</td>\n",
       "      <td>-4542</td>\n",
       "      <td>1</td>\n",
       "      <td>1</td>\n",
       "      <td>0</td>\n",
       "      <td>0</td>\n",
       "      <td>None</td>\n",
       "      <td>2</td>\n",
       "    </tr>\n",
       "    <tr>\n",
       "      <th>2</th>\n",
       "      <td>5008806</td>\n",
       "      <td>M</td>\n",
       "      <td>Y</td>\n",
       "      <td>Y</td>\n",
       "      <td>0</td>\n",
       "      <td>112500.0</td>\n",
       "      <td>Working</td>\n",
       "      <td>Secondary / secondary special</td>\n",
       "      <td>Married</td>\n",
       "      <td>House / apartment</td>\n",
       "      <td>-21474</td>\n",
       "      <td>-1134</td>\n",
       "      <td>1</td>\n",
       "      <td>0</td>\n",
       "      <td>0</td>\n",
       "      <td>0</td>\n",
       "      <td>Security staff</td>\n",
       "      <td>2</td>\n",
       "    </tr>\n",
       "    <tr>\n",
       "      <th>3</th>\n",
       "      <td>5008808</td>\n",
       "      <td>F</td>\n",
       "      <td>N</td>\n",
       "      <td>Y</td>\n",
       "      <td>0</td>\n",
       "      <td>270000.0</td>\n",
       "      <td>Commercial associate</td>\n",
       "      <td>Secondary / secondary special</td>\n",
       "      <td>Single / not married</td>\n",
       "      <td>House / apartment</td>\n",
       "      <td>-19110</td>\n",
       "      <td>-3051</td>\n",
       "      <td>1</td>\n",
       "      <td>0</td>\n",
       "      <td>1</td>\n",
       "      <td>1</td>\n",
       "      <td>Sales staff</td>\n",
       "      <td>1</td>\n",
       "    </tr>\n",
       "    <tr>\n",
       "      <th>4</th>\n",
       "      <td>5008809</td>\n",
       "      <td>F</td>\n",
       "      <td>N</td>\n",
       "      <td>Y</td>\n",
       "      <td>0</td>\n",
       "      <td>270000.0</td>\n",
       "      <td>Commercial associate</td>\n",
       "      <td>Secondary / secondary special</td>\n",
       "      <td>Single / not married</td>\n",
       "      <td>House / apartment</td>\n",
       "      <td>-19110</td>\n",
       "      <td>-3051</td>\n",
       "      <td>1</td>\n",
       "      <td>0</td>\n",
       "      <td>1</td>\n",
       "      <td>1</td>\n",
       "      <td>Sales staff</td>\n",
       "      <td>1</td>\n",
       "    </tr>\n",
       "  </tbody>\n",
       "</table>\n",
       "</div>"
      ],
      "text/plain": [
       "        ID CODE_GENDER FLAG_OWN_CAR FLAG_OWN_REALTY  CNT_CHILDREN  \\\n",
       "0  5008804           M            Y               Y             0   \n",
       "1  5008805           M            Y               Y             0   \n",
       "2  5008806           M            Y               Y             0   \n",
       "3  5008808           F            N               Y             0   \n",
       "4  5008809           F            N               Y             0   \n",
       "\n",
       "   AMT_INCOME_TOTAL      NAME_INCOME_TYPE            NAME_EDUCATION_TYPE  \\\n",
       "0          427500.0               Working               Higher education   \n",
       "1          427500.0               Working               Higher education   \n",
       "2          112500.0               Working  Secondary / secondary special   \n",
       "3          270000.0  Commercial associate  Secondary / secondary special   \n",
       "4          270000.0  Commercial associate  Secondary / secondary special   \n",
       "\n",
       "     NAME_FAMILY_STATUS  NAME_HOUSING_TYPE  DAYS_BIRTH  DAYS_EMPLOYED  \\\n",
       "0        Civil marriage   Rented apartment      -12005          -4542   \n",
       "1        Civil marriage   Rented apartment      -12005          -4542   \n",
       "2               Married  House / apartment      -21474          -1134   \n",
       "3  Single / not married  House / apartment      -19110          -3051   \n",
       "4  Single / not married  House / apartment      -19110          -3051   \n",
       "\n",
       "   FLAG_MOBIL  FLAG_WORK_PHONE  FLAG_PHONE  FLAG_EMAIL OCCUPATION_TYPE  \\\n",
       "0           1                1           0           0            None   \n",
       "1           1                1           0           0            None   \n",
       "2           1                0           0           0  Security staff   \n",
       "3           1                0           1           1     Sales staff   \n",
       "4           1                0           1           1     Sales staff   \n",
       "\n",
       "   CNT_FAM_MEMBERS  \n",
       "0                2  \n",
       "1                2  \n",
       "2                2  \n",
       "3                1  \n",
       "4                1  "
      ]
     },
     "execution_count": 9,
     "metadata": {},
     "output_type": "execute_result"
    }
   ],
   "source": [
    "application_record_sdf.head(5)"
   ]
  },
  {
   "cell_type": "markdown",
   "id": "da083474-4843-4062-a07f-d4aca9058c88",
   "metadata": {},
   "source": [
    "## Transform Data"
   ]
  },
  {
   "cell_type": "code",
   "execution_count": 10,
   "id": "f5b10bd6-8c43-4e26-b8d5-3c677910bf16",
   "metadata": {},
   "outputs": [
    {
     "name": "stderr",
     "output_type": "stream",
     "text": [
      "WARNING:snowflake.snowpark.modin.pandas.utils.warning_message:The argument `convert_dtype` of `apply` has been ignored by Snowpark Pandas API:\n",
      "convert_dtype is ignored in Snowflake backend.\n"
     ]
    },
    {
     "name": "stdout",
     "output_type": "stream",
     "text": [
      "CPU times: user 81.6 ms, sys: 40.4 ms, total: 122 ms\n",
      "Wall time: 28.2 s\n"
     ]
    }
   ],
   "source": [
    "%%time\n",
    "credit_record_sdf['CNT_LATE'] = credit_record_sdf['STATUS'].apply(lambda x: 1 if x in ['2', '3', '4', '5'] else 0)"
   ]
  },
  {
   "cell_type": "code",
   "execution_count": 11,
   "id": "85959bff-e6aa-42a9-b16f-4f2fb4a97006",
   "metadata": {},
   "outputs": [
    {
     "data": {
      "text/plain": [
       "ID                 int64\n",
       "MONTHS_BALANCE     int64\n",
       "STATUS            object\n",
       "CNT_LATE          object\n",
       "dtype: object"
      ]
     },
     "execution_count": 11,
     "metadata": {},
     "output_type": "execute_result"
    }
   ],
   "source": [
    "credit_record_sdf.dtypes"
   ]
  },
  {
   "cell_type": "code",
   "execution_count": 12,
   "id": "b0a2721d-6193-4910-9e46-0aea3386da45",
   "metadata": {},
   "outputs": [
    {
     "name": "stdout",
     "output_type": "stream",
     "text": [
      "CPU times: user 10.7 ms, sys: 2.93 ms, total: 13.6 ms\n",
      "Wall time: 594 ms\n"
     ]
    }
   ],
   "source": [
    "%%time\n",
    "credit_temp = credit_record_sdf.groupby(['ID']).sum()['CNT_LATE'].reset_index()"
   ]
  },
  {
   "cell_type": "code",
   "execution_count": 13,
   "id": "c2d2ccd1-2b40-43f2-b4d3-d37b498e144f",
   "metadata": {},
   "outputs": [
    {
     "data": {
      "text/plain": [
       "array([0, 1])"
      ]
     },
     "execution_count": 13,
     "metadata": {},
     "output_type": "execute_result"
    }
   ],
   "source": [
    "credit_record_sdf['CNT_LATE'].unique()"
   ]
  },
  {
   "cell_type": "code",
   "execution_count": 14,
   "id": "b2b04e2c-a1b3-4127-8d74-a5391d8d3f27",
   "metadata": {},
   "outputs": [
    {
     "data": {
      "text/html": [
       "<div>\n",
       "<style scoped>\n",
       "    .dataframe tbody tr th:only-of-type {\n",
       "        vertical-align: middle;\n",
       "    }\n",
       "\n",
       "    .dataframe tbody tr th {\n",
       "        vertical-align: top;\n",
       "    }\n",
       "\n",
       "    .dataframe thead th {\n",
       "        text-align: right;\n",
       "    }\n",
       "</style>\n",
       "<table border=\"1\" class=\"dataframe\">\n",
       "  <thead>\n",
       "    <tr style=\"text-align: right;\">\n",
       "      <th></th>\n",
       "      <th>ID</th>\n",
       "      <th>CNT_LATE</th>\n",
       "    </tr>\n",
       "  </thead>\n",
       "  <tbody>\n",
       "    <tr>\n",
       "      <th>0</th>\n",
       "      <td>5001711</td>\n",
       "      <td>0.0</td>\n",
       "    </tr>\n",
       "    <tr>\n",
       "      <th>1</th>\n",
       "      <td>5001712</td>\n",
       "      <td>0.0</td>\n",
       "    </tr>\n",
       "    <tr>\n",
       "      <th>2</th>\n",
       "      <td>5001713</td>\n",
       "      <td>0.0</td>\n",
       "    </tr>\n",
       "    <tr>\n",
       "      <th>3</th>\n",
       "      <td>5001714</td>\n",
       "      <td>0.0</td>\n",
       "    </tr>\n",
       "    <tr>\n",
       "      <th>4</th>\n",
       "      <td>5001715</td>\n",
       "      <td>0.0</td>\n",
       "    </tr>\n",
       "  </tbody>\n",
       "</table>\n",
       "</div>"
      ],
      "text/plain": [
       "        ID  CNT_LATE\n",
       "0  5001711       0.0\n",
       "1  5001712       0.0\n",
       "2  5001713       0.0\n",
       "3  5001714       0.0\n",
       "4  5001715       0.0"
      ]
     },
     "execution_count": 14,
     "metadata": {},
     "output_type": "execute_result"
    }
   ],
   "source": [
    "credit_temp.head(5)"
   ]
  },
  {
   "cell_type": "code",
   "execution_count": 23,
   "id": "13b533fc-8684-429f-9ebf-4e4de6d91618",
   "metadata": {},
   "outputs": [
    {
     "data": {
      "text/plain": [
       "ID            int64\n",
       "CNT_LATE    float64\n",
       "dtype: object"
      ]
     },
     "execution_count": 23,
     "metadata": {},
     "output_type": "execute_result"
    }
   ],
   "source": [
    "credit_temp.dtypes"
   ]
  },
  {
   "cell_type": "markdown",
   "id": "c329df21-3313-4313-92aa-ecfbfad4b3e8",
   "metadata": {},
   "source": [
    "### While doing .apply() here it makes 'TARGET' column as Object. Need to convert to type Int"
   ]
  },
  {
   "cell_type": "code",
   "execution_count": 24,
   "id": "3aa99c26-197e-4acd-9492-b4301e5554ac",
   "metadata": {},
   "outputs": [
    {
     "data": {
      "text/plain": [
       "ID            int64\n",
       "CNT_LATE    float64\n",
       "TARGET       object\n",
       "dtype: object"
      ]
     },
     "execution_count": 24,
     "metadata": {},
     "output_type": "execute_result"
    }
   ],
   "source": [
    "credit_temp['TARGET'] = credit_temp['CNT_LATE'].apply(lambda x: 1 if x > 0 else 0)\n",
    "credit_temp.dtypes"
   ]
  },
  {
   "cell_type": "code",
   "execution_count": 25,
   "id": "5928f230-310e-4fad-bf8b-1b532de9c38a",
   "metadata": {},
   "outputs": [
    {
     "name": "stdout",
     "output_type": "stream",
     "text": [
      "CPU times: user 77.6 ms, sys: 11.8 ms, total: 89.4 ms\n",
      "Wall time: 1.88 s\n"
     ]
    }
   ],
   "source": [
    "%%time\n",
    "credit_temp['TARGET'] = credit_temp['CNT_LATE'].apply(lambda x: 1 if x > 0 else 0).astype('int')\n",
    "credit_cleaned = credit_temp.drop('CNT_LATE', axis=1).dropna()"
   ]
  },
  {
   "cell_type": "code",
   "execution_count": 26,
   "id": "2f70cc58-5ed6-4001-b6ec-7e5211728b00",
   "metadata": {},
   "outputs": [
    {
     "data": {
      "text/plain": [
       "array([ 0.,  5.,  1.,  2.,  3., 33.,  6.,  9.,  7., 15., 20., 11.,  4.,\n",
       "       13., 22., 38., 14., 12.,  8., 10., 18., 39., 17., 40., 27., 21.,\n",
       "       16., 48., 26., 19., 24., 31., 45., 43., 47., 23., 35.])"
      ]
     },
     "execution_count": 26,
     "metadata": {},
     "output_type": "execute_result"
    }
   ],
   "source": [
    "credit_temp['CNT_LATE'].unique()"
   ]
  },
  {
   "cell_type": "code",
   "execution_count": 27,
   "id": "cecdc9ca-971d-4cbc-9a1f-f0247d8fc72d",
   "metadata": {},
   "outputs": [
    {
     "data": {
      "text/plain": [
       "array([0, 1], dtype=int8)"
      ]
     },
     "execution_count": 27,
     "metadata": {},
     "output_type": "execute_result"
    }
   ],
   "source": [
    "credit_temp['TARGET'].unique()"
   ]
  },
  {
   "cell_type": "code",
   "execution_count": 28,
   "id": "b4232e90-2ef5-47b2-89dc-4fa097b9d7e2",
   "metadata": {},
   "outputs": [],
   "source": [
    "arr = credit_cleaned['TARGET'].unique()"
   ]
  },
  {
   "cell_type": "code",
   "execution_count": 29,
   "id": "dd8627ab-db7e-4031-9a6f-acd7d39209d9",
   "metadata": {},
   "outputs": [
    {
     "data": {
      "text/plain": [
       "numpy.int8"
      ]
     },
     "execution_count": 29,
     "metadata": {},
     "output_type": "execute_result"
    }
   ],
   "source": [
    "type(arr[1])"
   ]
  },
  {
   "cell_type": "code",
   "execution_count": 30,
   "id": "de2fc7f2-389e-4ee2-bee4-0422fe946190",
   "metadata": {},
   "outputs": [
    {
     "name": "stdout",
     "output_type": "stream",
     "text": [
      "CPU times: user 32.7 ms, sys: 6.31 ms, total: 39 ms\n",
      "Wall time: 392 ms\n"
     ]
    },
    {
     "data": {
      "text/plain": [
       "ID        0\n",
       "TARGET    0\n",
       "dtype: int8"
      ]
     },
     "execution_count": 30,
     "metadata": {},
     "output_type": "execute_result"
    }
   ],
   "source": [
    "%%time\n",
    "credit_cleaned.isna().sum()"
   ]
  },
  {
   "cell_type": "code",
   "execution_count": null,
   "id": "5c8bf4a9-f4fc-48b9-8d9a-7fffca14afda",
   "metadata": {},
   "outputs": [],
   "source": [
    "credit_cleaned.head(5)"
   ]
  },
  {
   "cell_type": "code",
   "execution_count": null,
   "id": "aedf484a-93ee-407d-b8c6-c34271b4c55b",
   "metadata": {},
   "outputs": [],
   "source": [
    "credit_cleaned.dtypes"
   ]
  },
  {
   "cell_type": "code",
   "execution_count": null,
   "id": "32686894-f3eb-46d9-a983-7d6534f93736",
   "metadata": {},
   "outputs": [],
   "source": [
    "temp = credit_cleaned.limit(5).to_pandas()\n",
    "temp"
   ]
  },
  {
   "cell_type": "code",
   "execution_count": null,
   "id": "31f82bf2-a80a-4ba7-9850-1bbdd4a232e6",
   "metadata": {},
   "outputs": [],
   "source": [
    "temp.dtypes"
   ]
  },
  {
   "cell_type": "code",
   "execution_count": null,
   "id": "f05dc3f0-05b1-473e-8ff5-ea415494e658",
   "metadata": {},
   "outputs": [],
   "source": [
    "%%time\n",
    "joined_sdf = application_record_sdf.merge(credit_cleaned, left_on='ID', right_on='ID', how='inner')"
   ]
  },
  {
   "cell_type": "code",
   "execution_count": null,
   "id": "7181c0ef-4e45-4e68-b8d4-35467400b4ad",
   "metadata": {},
   "outputs": [],
   "source": [
    "%%time\n",
    "joined_sdf.head(5)"
   ]
  },
  {
   "cell_type": "code",
   "execution_count": null,
   "id": "63d703c1-8306-48c6-8bb5-69b4b2b2189d",
   "metadata": {},
   "outputs": [],
   "source": [
    "cols_numerical = ['AMT_INCOME_TOTAL', 'DAYS_EMPLOYED', 'FLAG_MOBIL', 'CNT_FAM_MEMBERS', 'TARGET']\n",
    "cols_categorical = ['CODE_GENDER', 'NAME_HOUSING_TYPE', 'OCCUPATION_TYPE']\n",
    "joined_sdf = joined_sdf[cols_numerical+cols_categorical]"
   ]
  },
  {
   "cell_type": "code",
   "execution_count": null,
   "id": "35d464e4-686f-4e4a-92ac-2a0f7af56796",
   "metadata": {},
   "outputs": [],
   "source": []
  },
  {
   "cell_type": "code",
   "execution_count": null,
   "id": "23505869-12be-47ae-9b9e-cb967141a114",
   "metadata": {},
   "outputs": [],
   "source": []
  },
  {
   "cell_type": "markdown",
   "id": "2b3a8a29-cd5b-4901-87ee-1cb576ad7cc9",
   "metadata": {},
   "source": [
    "# General Testing on 500K Rows Table"
   ]
  },
  {
   "cell_type": "markdown",
   "id": "9a4a4cff-d6ea-4c37-9aea-445a00f70bcf",
   "metadata": {},
   "source": [
    "## Where\n",
    "\n",
    "Observations ->\n",
    "1. .where doesn't work when column given inside and run on entire DF."
   ]
  },
  {
   "cell_type": "markdown",
   "id": "16ad2c3b-ddcf-4be6-8fa7-36a628f3902a",
   "metadata": {},
   "source": [
    "#### ** Where without column"
   ]
  },
  {
   "cell_type": "code",
   "execution_count": 16,
   "id": "8dbe0296-8e8a-4fcc-afbc-755e1e167535",
   "metadata": {
    "scrolled": true
   },
   "outputs": [
    {
     "name": "stdout",
     "output_type": "stream",
     "text": [
      "CPU times: user 35.4 ms, sys: 3.94 ms, total: 39.3 ms\n",
      "Wall time: 421 ms\n"
     ]
    },
    {
     "data": {
      "text/html": [
       "<div>\n",
       "<style scoped>\n",
       "    .dataframe tbody tr th:only-of-type {\n",
       "        vertical-align: middle;\n",
       "    }\n",
       "\n",
       "    .dataframe tbody tr th {\n",
       "        vertical-align: top;\n",
       "    }\n",
       "\n",
       "    .dataframe thead th {\n",
       "        text-align: right;\n",
       "    }\n",
       "</style>\n",
       "<table border=\"1\" class=\"dataframe\">\n",
       "  <thead>\n",
       "    <tr style=\"text-align: right;\">\n",
       "      <th></th>\n",
       "      <th>ID</th>\n",
       "      <th>CODE_GENDER</th>\n",
       "      <th>FLAG_OWN_CAR</th>\n",
       "      <th>FLAG_OWN_REALTY</th>\n",
       "      <th>CNT_CHILDREN</th>\n",
       "      <th>AMT_INCOME_TOTAL</th>\n",
       "      <th>NAME_INCOME_TYPE</th>\n",
       "      <th>NAME_EDUCATION_TYPE</th>\n",
       "      <th>NAME_FAMILY_STATUS</th>\n",
       "      <th>NAME_HOUSING_TYPE</th>\n",
       "      <th>DAYS_BIRTH</th>\n",
       "      <th>DAYS_EMPLOYED</th>\n",
       "      <th>FLAG_MOBIL</th>\n",
       "      <th>FLAG_WORK_PHONE</th>\n",
       "      <th>FLAG_PHONE</th>\n",
       "      <th>FLAG_EMAIL</th>\n",
       "      <th>OCCUPATION_TYPE</th>\n",
       "      <th>CNT_FAM_MEMBERS</th>\n",
       "    </tr>\n",
       "  </thead>\n",
       "  <tbody>\n",
       "    <tr>\n",
       "      <th>0</th>\n",
       "      <td>None</td>\n",
       "      <td>None</td>\n",
       "      <td>None</td>\n",
       "      <td>None</td>\n",
       "      <td>None</td>\n",
       "      <td>427500.0</td>\n",
       "      <td>None</td>\n",
       "      <td>None</td>\n",
       "      <td>None</td>\n",
       "      <td>None</td>\n",
       "      <td>None</td>\n",
       "      <td>None</td>\n",
       "      <td>None</td>\n",
       "      <td>None</td>\n",
       "      <td>None</td>\n",
       "      <td>None</td>\n",
       "      <td>None</td>\n",
       "      <td>None</td>\n",
       "    </tr>\n",
       "    <tr>\n",
       "      <th>1</th>\n",
       "      <td>None</td>\n",
       "      <td>None</td>\n",
       "      <td>None</td>\n",
       "      <td>None</td>\n",
       "      <td>None</td>\n",
       "      <td>427500.0</td>\n",
       "      <td>None</td>\n",
       "      <td>None</td>\n",
       "      <td>None</td>\n",
       "      <td>None</td>\n",
       "      <td>None</td>\n",
       "      <td>None</td>\n",
       "      <td>None</td>\n",
       "      <td>None</td>\n",
       "      <td>None</td>\n",
       "      <td>None</td>\n",
       "      <td>None</td>\n",
       "      <td>None</td>\n",
       "    </tr>\n",
       "    <tr>\n",
       "      <th>2</th>\n",
       "      <td>None</td>\n",
       "      <td>None</td>\n",
       "      <td>None</td>\n",
       "      <td>None</td>\n",
       "      <td>None</td>\n",
       "      <td>NaN</td>\n",
       "      <td>None</td>\n",
       "      <td>None</td>\n",
       "      <td>None</td>\n",
       "      <td>None</td>\n",
       "      <td>None</td>\n",
       "      <td>None</td>\n",
       "      <td>None</td>\n",
       "      <td>None</td>\n",
       "      <td>None</td>\n",
       "      <td>None</td>\n",
       "      <td>None</td>\n",
       "      <td>None</td>\n",
       "    </tr>\n",
       "    <tr>\n",
       "      <th>3</th>\n",
       "      <td>None</td>\n",
       "      <td>None</td>\n",
       "      <td>None</td>\n",
       "      <td>None</td>\n",
       "      <td>None</td>\n",
       "      <td>270000.0</td>\n",
       "      <td>None</td>\n",
       "      <td>None</td>\n",
       "      <td>None</td>\n",
       "      <td>None</td>\n",
       "      <td>None</td>\n",
       "      <td>None</td>\n",
       "      <td>None</td>\n",
       "      <td>None</td>\n",
       "      <td>None</td>\n",
       "      <td>None</td>\n",
       "      <td>None</td>\n",
       "      <td>None</td>\n",
       "    </tr>\n",
       "    <tr>\n",
       "      <th>4</th>\n",
       "      <td>None</td>\n",
       "      <td>None</td>\n",
       "      <td>None</td>\n",
       "      <td>None</td>\n",
       "      <td>None</td>\n",
       "      <td>270000.0</td>\n",
       "      <td>None</td>\n",
       "      <td>None</td>\n",
       "      <td>None</td>\n",
       "      <td>None</td>\n",
       "      <td>None</td>\n",
       "      <td>None</td>\n",
       "      <td>None</td>\n",
       "      <td>None</td>\n",
       "      <td>None</td>\n",
       "      <td>None</td>\n",
       "      <td>None</td>\n",
       "      <td>None</td>\n",
       "    </tr>\n",
       "    <tr>\n",
       "      <th>...</th>\n",
       "      <td>...</td>\n",
       "      <td>...</td>\n",
       "      <td>...</td>\n",
       "      <td>...</td>\n",
       "      <td>...</td>\n",
       "      <td>...</td>\n",
       "      <td>...</td>\n",
       "      <td>...</td>\n",
       "      <td>...</td>\n",
       "      <td>...</td>\n",
       "      <td>...</td>\n",
       "      <td>...</td>\n",
       "      <td>...</td>\n",
       "      <td>...</td>\n",
       "      <td>...</td>\n",
       "      <td>...</td>\n",
       "      <td>...</td>\n",
       "      <td>...</td>\n",
       "    </tr>\n",
       "    <tr>\n",
       "      <th>438552</th>\n",
       "      <td>None</td>\n",
       "      <td>None</td>\n",
       "      <td>None</td>\n",
       "      <td>None</td>\n",
       "      <td>None</td>\n",
       "      <td>NaN</td>\n",
       "      <td>None</td>\n",
       "      <td>None</td>\n",
       "      <td>None</td>\n",
       "      <td>None</td>\n",
       "      <td>None</td>\n",
       "      <td>None</td>\n",
       "      <td>None</td>\n",
       "      <td>None</td>\n",
       "      <td>None</td>\n",
       "      <td>None</td>\n",
       "      <td>None</td>\n",
       "      <td>None</td>\n",
       "    </tr>\n",
       "    <tr>\n",
       "      <th>438553</th>\n",
       "      <td>None</td>\n",
       "      <td>None</td>\n",
       "      <td>None</td>\n",
       "      <td>None</td>\n",
       "      <td>None</td>\n",
       "      <td>NaN</td>\n",
       "      <td>None</td>\n",
       "      <td>None</td>\n",
       "      <td>None</td>\n",
       "      <td>None</td>\n",
       "      <td>None</td>\n",
       "      <td>None</td>\n",
       "      <td>None</td>\n",
       "      <td>None</td>\n",
       "      <td>None</td>\n",
       "      <td>None</td>\n",
       "      <td>None</td>\n",
       "      <td>None</td>\n",
       "    </tr>\n",
       "    <tr>\n",
       "      <th>438554</th>\n",
       "      <td>None</td>\n",
       "      <td>None</td>\n",
       "      <td>None</td>\n",
       "      <td>None</td>\n",
       "      <td>None</td>\n",
       "      <td>NaN</td>\n",
       "      <td>None</td>\n",
       "      <td>None</td>\n",
       "      <td>None</td>\n",
       "      <td>None</td>\n",
       "      <td>None</td>\n",
       "      <td>None</td>\n",
       "      <td>None</td>\n",
       "      <td>None</td>\n",
       "      <td>None</td>\n",
       "      <td>None</td>\n",
       "      <td>None</td>\n",
       "      <td>None</td>\n",
       "    </tr>\n",
       "    <tr>\n",
       "      <th>438555</th>\n",
       "      <td>None</td>\n",
       "      <td>None</td>\n",
       "      <td>None</td>\n",
       "      <td>None</td>\n",
       "      <td>None</td>\n",
       "      <td>NaN</td>\n",
       "      <td>None</td>\n",
       "      <td>None</td>\n",
       "      <td>None</td>\n",
       "      <td>None</td>\n",
       "      <td>None</td>\n",
       "      <td>None</td>\n",
       "      <td>None</td>\n",
       "      <td>None</td>\n",
       "      <td>None</td>\n",
       "      <td>None</td>\n",
       "      <td>None</td>\n",
       "      <td>None</td>\n",
       "    </tr>\n",
       "    <tr>\n",
       "      <th>438556</th>\n",
       "      <td>None</td>\n",
       "      <td>None</td>\n",
       "      <td>None</td>\n",
       "      <td>None</td>\n",
       "      <td>None</td>\n",
       "      <td>NaN</td>\n",
       "      <td>None</td>\n",
       "      <td>None</td>\n",
       "      <td>None</td>\n",
       "      <td>None</td>\n",
       "      <td>None</td>\n",
       "      <td>None</td>\n",
       "      <td>None</td>\n",
       "      <td>None</td>\n",
       "      <td>None</td>\n",
       "      <td>None</td>\n",
       "      <td>None</td>\n",
       "      <td>None</td>\n",
       "    </tr>\n",
       "  </tbody>\n",
       "</table>\n",
       "<p>438557 rows × 18 columns</p>\n",
       "</div>"
      ],
      "text/plain": [
       "          ID CODE_GENDER FLAG_OWN_CAR FLAG_OWN_REALTY CNT_CHILDREN  \\\n",
       "0       None        None         None            None         None   \n",
       "1       None        None         None            None         None   \n",
       "2       None        None         None            None         None   \n",
       "3       None        None         None            None         None   \n",
       "4       None        None         None            None         None   \n",
       "...      ...         ...          ...             ...          ...   \n",
       "438552  None        None         None            None         None   \n",
       "438553  None        None         None            None         None   \n",
       "438554  None        None         None            None         None   \n",
       "438555  None        None         None            None         None   \n",
       "438556  None        None         None            None         None   \n",
       "\n",
       "        AMT_INCOME_TOTAL NAME_INCOME_TYPE NAME_EDUCATION_TYPE  \\\n",
       "0               427500.0             None                None   \n",
       "1               427500.0             None                None   \n",
       "2                    NaN             None                None   \n",
       "3               270000.0             None                None   \n",
       "4               270000.0             None                None   \n",
       "...                  ...              ...                 ...   \n",
       "438552               NaN             None                None   \n",
       "438553               NaN             None                None   \n",
       "438554               NaN             None                None   \n",
       "438555               NaN             None                None   \n",
       "438556               NaN             None                None   \n",
       "\n",
       "       NAME_FAMILY_STATUS NAME_HOUSING_TYPE DAYS_BIRTH DAYS_EMPLOYED  \\\n",
       "0                    None              None       None          None   \n",
       "1                    None              None       None          None   \n",
       "2                    None              None       None          None   \n",
       "3                    None              None       None          None   \n",
       "4                    None              None       None          None   \n",
       "...                   ...               ...        ...           ...   \n",
       "438552               None              None       None          None   \n",
       "438553               None              None       None          None   \n",
       "438554               None              None       None          None   \n",
       "438555               None              None       None          None   \n",
       "438556               None              None       None          None   \n",
       "\n",
       "       FLAG_MOBIL FLAG_WORK_PHONE FLAG_PHONE FLAG_EMAIL OCCUPATION_TYPE  \\\n",
       "0            None            None       None       None            None   \n",
       "1            None            None       None       None            None   \n",
       "2            None            None       None       None            None   \n",
       "3            None            None       None       None            None   \n",
       "4            None            None       None       None            None   \n",
       "...           ...             ...        ...        ...             ...   \n",
       "438552       None            None       None       None            None   \n",
       "438553       None            None       None       None            None   \n",
       "438554       None            None       None       None            None   \n",
       "438555       None            None       None       None            None   \n",
       "438556       None            None       None       None            None   \n",
       "\n",
       "       CNT_FAM_MEMBERS  \n",
       "0                 None  \n",
       "1                 None  \n",
       "2                 None  \n",
       "3                 None  \n",
       "4                 None  \n",
       "...                ...  \n",
       "438552            None  \n",
       "438553            None  \n",
       "438554            None  \n",
       "438555            None  \n",
       "438556            None  \n",
       "\n",
       "[438557 rows x 18 columns]"
      ]
     },
     "execution_count": 16,
     "metadata": {},
     "output_type": "execute_result"
    }
   ],
   "source": [
    "%%time\n",
    "application_record_sdf.where(application_record_sdf['AMT_INCOME_TOTAL'] > 200000)"
   ]
  },
  {
   "cell_type": "code",
   "execution_count": 17,
   "id": "2fa22d61-2050-4087-9ede-58f0844f1484",
   "metadata": {},
   "outputs": [
    {
     "name": "stdout",
     "output_type": "stream",
     "text": [
      "CPU times: user 29.9 ms, sys: 3.03 ms, total: 32.9 ms\n",
      "Wall time: 387 ms\n"
     ]
    },
    {
     "data": {
      "text/plain": [
       "0    427500.0\n",
       "1    427500.0\n",
       "2         NaN\n",
       "3    270000.0\n",
       "4    270000.0\n",
       "Name: AMT_INCOME_TOTAL, dtype: float64"
      ]
     },
     "execution_count": 17,
     "metadata": {},
     "output_type": "execute_result"
    }
   ],
   "source": [
    "%%time\n",
    "application_record_sdf['AMT_INCOME_TOTAL'].where(application_record_sdf['AMT_INCOME_TOTAL'] > 200000).head()"
   ]
  },
  {
   "cell_type": "code",
   "execution_count": 18,
   "id": "f0942437-7e1d-462c-bbe1-b92cc2bbf24a",
   "metadata": {
    "scrolled": true
   },
   "outputs": [
    {
     "name": "stdout",
     "output_type": "stream",
     "text": [
      "CPU times: user 16 ms, sys: 2.03 ms, total: 18 ms\n",
      "Wall time: 252 ms\n"
     ]
    },
    {
     "data": {
      "text/html": [
       "<div>\n",
       "<style scoped>\n",
       "    .dataframe tbody tr th:only-of-type {\n",
       "        vertical-align: middle;\n",
       "    }\n",
       "\n",
       "    .dataframe tbody tr th {\n",
       "        vertical-align: top;\n",
       "    }\n",
       "\n",
       "    .dataframe thead th {\n",
       "        text-align: right;\n",
       "    }\n",
       "</style>\n",
       "<table border=\"1\" class=\"dataframe\">\n",
       "  <thead>\n",
       "    <tr style=\"text-align: right;\">\n",
       "      <th></th>\n",
       "      <th>ID</th>\n",
       "      <th>CODE_GENDER</th>\n",
       "      <th>FLAG_OWN_CAR</th>\n",
       "      <th>FLAG_OWN_REALTY</th>\n",
       "      <th>CNT_CHILDREN</th>\n",
       "      <th>AMT_INCOME_TOTAL</th>\n",
       "      <th>NAME_INCOME_TYPE</th>\n",
       "      <th>NAME_EDUCATION_TYPE</th>\n",
       "      <th>NAME_FAMILY_STATUS</th>\n",
       "      <th>NAME_HOUSING_TYPE</th>\n",
       "      <th>DAYS_BIRTH</th>\n",
       "      <th>DAYS_EMPLOYED</th>\n",
       "      <th>FLAG_MOBIL</th>\n",
       "      <th>FLAG_WORK_PHONE</th>\n",
       "      <th>FLAG_PHONE</th>\n",
       "      <th>FLAG_EMAIL</th>\n",
       "      <th>OCCUPATION_TYPE</th>\n",
       "      <th>CNT_FAM_MEMBERS</th>\n",
       "    </tr>\n",
       "  </thead>\n",
       "  <tbody>\n",
       "    <tr>\n",
       "      <th>0</th>\n",
       "      <td>5008804</td>\n",
       "      <td>M</td>\n",
       "      <td>Y</td>\n",
       "      <td>Y</td>\n",
       "      <td>0</td>\n",
       "      <td>427500.0</td>\n",
       "      <td>Working</td>\n",
       "      <td>Higher education</td>\n",
       "      <td>Civil marriage</td>\n",
       "      <td>Rented apartment</td>\n",
       "      <td>-12005</td>\n",
       "      <td>-4542</td>\n",
       "      <td>1</td>\n",
       "      <td>1</td>\n",
       "      <td>0</td>\n",
       "      <td>0</td>\n",
       "      <td>None</td>\n",
       "      <td>2.0</td>\n",
       "    </tr>\n",
       "    <tr>\n",
       "      <th>1</th>\n",
       "      <td>5008805</td>\n",
       "      <td>M</td>\n",
       "      <td>Y</td>\n",
       "      <td>Y</td>\n",
       "      <td>0</td>\n",
       "      <td>427500.0</td>\n",
       "      <td>Working</td>\n",
       "      <td>Higher education</td>\n",
       "      <td>Civil marriage</td>\n",
       "      <td>Rented apartment</td>\n",
       "      <td>-12005</td>\n",
       "      <td>-4542</td>\n",
       "      <td>1</td>\n",
       "      <td>1</td>\n",
       "      <td>0</td>\n",
       "      <td>0</td>\n",
       "      <td>None</td>\n",
       "      <td>2.0</td>\n",
       "    </tr>\n",
       "    <tr>\n",
       "      <th>3</th>\n",
       "      <td>5008808</td>\n",
       "      <td>F</td>\n",
       "      <td>N</td>\n",
       "      <td>Y</td>\n",
       "      <td>0</td>\n",
       "      <td>270000.0</td>\n",
       "      <td>Commercial associate</td>\n",
       "      <td>Secondary / secondary special</td>\n",
       "      <td>Single / not married</td>\n",
       "      <td>House / apartment</td>\n",
       "      <td>-19110</td>\n",
       "      <td>-3051</td>\n",
       "      <td>1</td>\n",
       "      <td>0</td>\n",
       "      <td>1</td>\n",
       "      <td>1</td>\n",
       "      <td>Sales staff</td>\n",
       "      <td>1.0</td>\n",
       "    </tr>\n",
       "    <tr>\n",
       "      <th>4</th>\n",
       "      <td>5008809</td>\n",
       "      <td>F</td>\n",
       "      <td>N</td>\n",
       "      <td>Y</td>\n",
       "      <td>0</td>\n",
       "      <td>270000.0</td>\n",
       "      <td>Commercial associate</td>\n",
       "      <td>Secondary / secondary special</td>\n",
       "      <td>Single / not married</td>\n",
       "      <td>House / apartment</td>\n",
       "      <td>-19110</td>\n",
       "      <td>-3051</td>\n",
       "      <td>1</td>\n",
       "      <td>0</td>\n",
       "      <td>1</td>\n",
       "      <td>1</td>\n",
       "      <td>Sales staff</td>\n",
       "      <td>1.0</td>\n",
       "    </tr>\n",
       "    <tr>\n",
       "      <th>5</th>\n",
       "      <td>5008810</td>\n",
       "      <td>F</td>\n",
       "      <td>N</td>\n",
       "      <td>Y</td>\n",
       "      <td>0</td>\n",
       "      <td>270000.0</td>\n",
       "      <td>Commercial associate</td>\n",
       "      <td>Secondary / secondary special</td>\n",
       "      <td>Single / not married</td>\n",
       "      <td>House / apartment</td>\n",
       "      <td>-19110</td>\n",
       "      <td>-3051</td>\n",
       "      <td>1</td>\n",
       "      <td>0</td>\n",
       "      <td>1</td>\n",
       "      <td>1</td>\n",
       "      <td>Sales staff</td>\n",
       "      <td>1.0</td>\n",
       "    </tr>\n",
       "  </tbody>\n",
       "</table>\n",
       "</div>"
      ],
      "text/plain": [
       "        ID CODE_GENDER FLAG_OWN_CAR FLAG_OWN_REALTY  CNT_CHILDREN  \\\n",
       "0  5008804           M            Y               Y             0   \n",
       "1  5008805           M            Y               Y             0   \n",
       "3  5008808           F            N               Y             0   \n",
       "4  5008809           F            N               Y             0   \n",
       "5  5008810           F            N               Y             0   \n",
       "\n",
       "   AMT_INCOME_TOTAL      NAME_INCOME_TYPE            NAME_EDUCATION_TYPE  \\\n",
       "0          427500.0               Working               Higher education   \n",
       "1          427500.0               Working               Higher education   \n",
       "3          270000.0  Commercial associate  Secondary / secondary special   \n",
       "4          270000.0  Commercial associate  Secondary / secondary special   \n",
       "5          270000.0  Commercial associate  Secondary / secondary special   \n",
       "\n",
       "     NAME_FAMILY_STATUS  NAME_HOUSING_TYPE  DAYS_BIRTH  DAYS_EMPLOYED  \\\n",
       "0        Civil marriage   Rented apartment      -12005          -4542   \n",
       "1        Civil marriage   Rented apartment      -12005          -4542   \n",
       "3  Single / not married  House / apartment      -19110          -3051   \n",
       "4  Single / not married  House / apartment      -19110          -3051   \n",
       "5  Single / not married  House / apartment      -19110          -3051   \n",
       "\n",
       "   FLAG_MOBIL  FLAG_WORK_PHONE  FLAG_PHONE  FLAG_EMAIL OCCUPATION_TYPE  \\\n",
       "0           1                1           0           0            None   \n",
       "1           1                1           0           0            None   \n",
       "3           1                0           1           1     Sales staff   \n",
       "4           1                0           1           1     Sales staff   \n",
       "5           1                0           1           1     Sales staff   \n",
       "\n",
       "   CNT_FAM_MEMBERS  \n",
       "0              2.0  \n",
       "1              2.0  \n",
       "3              1.0  \n",
       "4              1.0  \n",
       "5              1.0  "
      ]
     },
     "execution_count": 18,
     "metadata": {},
     "output_type": "execute_result"
    }
   ],
   "source": [
    "%%time\n",
    "application_record_sdf[application_record_sdf['AMT_INCOME_TOTAL'] > 200000].head()"
   ]
  },
  {
   "cell_type": "markdown",
   "id": "17420d21-6181-415c-94e1-edd9f33b8dd4",
   "metadata": {},
   "source": [
    "## Merge"
   ]
  },
  {
   "cell_type": "code",
   "execution_count": null,
   "id": "e6951016-9376-4a1a-9306-67001d784ab9",
   "metadata": {},
   "outputs": [],
   "source": [
    "%%time\n",
    "df1 = application_record_sdf[['ID', 'AMT_INCOME_TOTAL']]\n",
    "df2 = application_record_sdf[['ID', 'NAME_EDUCATION_TYPE']]\n",
    "merged_data = df1.merge(df2, on='ID')"
   ]
  },
  {
   "cell_type": "code",
   "execution_count": null,
   "id": "3dcc90c2-ccfa-49d1-87ab-23b48ca4f08c",
   "metadata": {},
   "outputs": [],
   "source": [
    "merged_data.head()"
   ]
  },
  {
   "cell_type": "markdown",
   "id": "809da7f0-d03a-411f-96c0-665e3361e92d",
   "metadata": {},
   "source": [
    "## Sub\n",
    "\n",
    "Subtract 10000 from DF compare gender salaries"
   ]
  },
  {
   "cell_type": "code",
   "execution_count": null,
   "id": "d9875033-dc45-4e13-9697-f82e70f82f18",
   "metadata": {},
   "outputs": [],
   "source": [
    "%%time\n",
    "df1 = application_record_sdf[['CODE_GENDER','AMT_INCOME_TOTAL']]\n",
    "df1 = df1.groupby('CODE_GENDER').mean()['AMT_INCOME_TOTAL'].astype('int')"
   ]
  },
  {
   "cell_type": "code",
   "execution_count": null,
   "id": "29003575-645e-4bd6-b0b1-939e7049f523",
   "metadata": {},
   "outputs": [],
   "source": [
    "%%time\n",
    "df1 = application_record_sdf[['CODE_GENDER','AMT_INCOME_TOTAL']]\n",
    "df1 = df1.groupby('CODE_GENDER').mean()['AMT_INCOME_TOTAL'].astype('int')\n",
    "df1"
   ]
  },
  {
   "cell_type": "code",
   "execution_count": null,
   "id": "21fcc4bf-b3cd-4d9a-a6eb-bd5ffe39c822",
   "metadata": {},
   "outputs": [],
   "source": [
    "%%time\n",
    "df1"
   ]
  },
  {
   "cell_type": "code",
   "execution_count": null,
   "id": "4cf67095-274e-405b-b35d-834ce31ce785",
   "metadata": {},
   "outputs": [],
   "source": [
    "print(df1)"
   ]
  },
  {
   "cell_type": "code",
   "execution_count": null,
   "id": "aed354bb-b3fe-45a7-a5ca-e9caa0c6ad03",
   "metadata": {},
   "outputs": [],
   "source": [
    "print(df1.head())"
   ]
  },
  {
   "cell_type": "code",
   "execution_count": null,
   "id": "9052446c-b758-4501-a9ee-c96a398308e5",
   "metadata": {},
   "outputs": [],
   "source": [
    "%%time\n",
    "df2 = application_record_sdf[['CODE_GENDER','AMT_INCOME_TOTAL']]\n",
    "df2['AMT_INCOME_TOTAL'] = df2['AMT_INCOME_TOTAL'].sub(10000)"
   ]
  },
  {
   "cell_type": "code",
   "execution_count": null,
   "id": "5a41ed71-b2f9-4b0e-b0cd-fbc11bdc94a1",
   "metadata": {},
   "outputs": [],
   "source": [
    "%%time\n",
    "df2 = df2.groupby('CODE_GENDER').mean()['AMT_INCOME_TOTAL'].astype('int')\n",
    "print(df2.head())"
   ]
  },
  {
   "cell_type": "code",
   "execution_count": null,
   "id": "00a097ee-eb07-4b2b-8954-da9a232d2c02",
   "metadata": {},
   "outputs": [],
   "source": [
    "df1 - df2"
   ]
  },
  {
   "cell_type": "markdown",
   "id": "b154f065-9795-4c3b-91ec-5a9f91d8a934",
   "metadata": {
    "editable": true,
    "slideshow": {
     "slide_type": ""
    },
    "tags": []
   },
   "source": [
    "## Groupby\n",
    "\n",
    "Observations ->\n",
    "1. Cannot get groups"
   ]
  },
  {
   "cell_type": "markdown",
   "id": "b56c9673-12d1-4bf3-a35e-7bac569f7d7a",
   "metadata": {},
   "source": [
    "#### ** Groups"
   ]
  },
  {
   "cell_type": "code",
   "execution_count": null,
   "id": "df3fd24e-a0d2-4db2-a502-a4782a86c4cc",
   "metadata": {},
   "outputs": [],
   "source": [
    "type(application_record_sdf)"
   ]
  },
  {
   "cell_type": "code",
   "execution_count": null,
   "id": "c0d0b990-eb08-4db7-a8d9-5332fe89f9fe",
   "metadata": {
    "scrolled": true
   },
   "outputs": [],
   "source": [
    "grouped_df = application_record_sdf.groupby('CODE_GENDER')\n",
    "grouped_df.groups.keys() #doesnt work yet"
   ]
  },
  {
   "cell_type": "code",
   "execution_count": null,
   "id": "01e9bec8-a69d-46b9-af9c-fd76ae1b3b98",
   "metadata": {},
   "outputs": [],
   "source": []
  },
  {
   "cell_type": "markdown",
   "id": "3744c98f-ce76-41cc-80cc-c64999d909fa",
   "metadata": {},
   "source": [
    "#### Groupby + Agg"
   ]
  },
  {
   "cell_type": "code",
   "execution_count": null,
   "id": "002d7401-b554-4ea8-bb6e-307c7851e36e",
   "metadata": {},
   "outputs": [],
   "source": [
    "%%time\n",
    "application_record_sdf.groupby('NAME_EDUCATION_TYPE')['AMT_INCOME_TOTAL'].agg(['min', 'max', 'mean'])"
   ]
  },
  {
   "cell_type": "code",
   "execution_count": null,
   "id": "3ce33939-dfbd-4d2f-9d89-a573190e13ba",
   "metadata": {},
   "outputs": [],
   "source": [
    "%%time\n",
    "application_record_sdf.groupby('NAME_EDUCATION_TYPE').agg({'CNT_FAM_MEMBERS': 'max',\n",
    "                                                           'AMT_INCOME_TOTAL': 'mean'})"
   ]
  },
  {
   "cell_type": "code",
   "execution_count": null,
   "id": "76104eaa-6cd5-45a3-98bd-aed7f8875da4",
   "metadata": {},
   "outputs": [],
   "source": [
    "temp = application_record_sdf.groupby('NAME_EDUCATION_TYPE').agg({'CNT_FAM_MEMBERS': 'max',\n",
    "                                                           'AMT_INCOME_TOTAL': 'mean'})\n",
    "\n",
    "temp"
   ]
  },
  {
   "cell_type": "markdown",
   "id": "b8538bc8-30e1-42fc-a6ec-82fb944e5826",
   "metadata": {},
   "source": [
    "#### Multi-level Grouping"
   ]
  },
  {
   "cell_type": "code",
   "execution_count": null,
   "id": "5c309e7d-6fdd-410f-8756-392d74748bbf",
   "metadata": {
    "scrolled": true
   },
   "outputs": [],
   "source": [
    "%%time\n",
    "application_record_sdf.groupby(['NAME_EDUCATION_TYPE', 'NAME_FAMILY_STATUS'])['AMT_INCOME_TOTAL'].mean().reset_index()"
   ]
  },
  {
   "cell_type": "markdown",
   "id": "ef155032-bd2b-4a82-bc3b-3ad17e58fa1c",
   "metadata": {},
   "source": [
    "## ** Transform and Sort"
   ]
  },
  {
   "cell_type": "code",
   "execution_count": null,
   "id": "b6be2634-7520-4c4e-ba3d-7abd03d25d53",
   "metadata": {},
   "outputs": [],
   "source": [
    "application_record_sdf.head()"
   ]
  },
  {
   "cell_type": "code",
   "execution_count": null,
   "id": "d3a45652-2cf9-40af-8355-c63061eff44c",
   "metadata": {},
   "outputs": [],
   "source": [
    "%%time\n",
    "temp = application_record_sdf.copy()"
   ]
  },
  {
   "cell_type": "code",
   "execution_count": null,
   "id": "e221e2e7-81c7-4d2a-bbec-704af357cbcd",
   "metadata": {},
   "outputs": [],
   "source": [
    "%%time\n",
    "temp['AGE_YEARS'] = -temp['DAYS_BIRTH']"
   ]
  },
  {
   "cell_type": "code",
   "execution_count": null,
   "id": "b8a336dd-9c6c-466f-a5f5-236ca956d96a",
   "metadata": {},
   "outputs": [],
   "source": [
    "%%time\n",
    "temp['AGE_YEARS'] = temp['AGE_YEARS']/365"
   ]
  },
  {
   "cell_type": "code",
   "execution_count": null,
   "id": "b536ab13-9fd6-47f4-b67d-5ddf9e92f783",
   "metadata": {},
   "outputs": [],
   "source": [
    "%%time\n",
    "temp['AGE_YEARS'] = temp['AGE_YEARS'].astype(int)"
   ]
  },
  {
   "cell_type": "code",
   "execution_count": null,
   "id": "f426c615-b649-447d-a110-074fca0953af",
   "metadata": {},
   "outputs": [],
   "source": [
    "%%time\n",
    "temp = temp.sort_values(by='AGE_YEARS', ascending=False)"
   ]
  },
  {
   "cell_type": "code",
   "execution_count": null,
   "id": "5927b5d1-8712-4022-b980-270c0cccab42",
   "metadata": {
    "scrolled": true
   },
   "outputs": [],
   "source": [
    "temp.head()"
   ]
  },
  {
   "cell_type": "code",
   "execution_count": null,
   "id": "652bc3d7-ff6e-4750-9be0-e8944b524f29",
   "metadata": {},
   "outputs": [],
   "source": []
  },
  {
   "cell_type": "markdown",
   "id": "ba1ea764-c7d6-490b-84df-b362c923be71",
   "metadata": {},
   "source": [
    "## Pivot Table & Multiple Aggs"
   ]
  },
  {
   "cell_type": "code",
   "execution_count": null,
   "id": "e7b3dc00-373b-4013-91b3-d675fa97e1a2",
   "metadata": {},
   "outputs": [],
   "source": [
    "%%time\n",
    "application_record_sdf['AMT_INCOME_TOTAL'] = application_record_sdf['AMT_INCOME_TOTAL'].astype('int')\n",
    "application_record_sdf.pivot_table(values='AMT_INCOME_TOTAL',\n",
    "                                   index='NAME_EDUCATION_TYPE',\n",
    "                                   columns='NAME_FAMILY_STATUS',\n",
    "                                   aggfunc=['mean', 'max'])"
   ]
  },
  {
   "cell_type": "code",
   "execution_count": null,
   "id": "70d39a3b-584a-4367-939d-d1b4a3a3532a",
   "metadata": {},
   "outputs": [],
   "source": []
  },
  {
   "cell_type": "markdown",
   "id": "4231e344-f0fc-4c80-99c1-fe45e844e081",
   "metadata": {},
   "source": [
    "## ** Conditional Assignment"
   ]
  },
  {
   "cell_type": "code",
   "execution_count": null,
   "id": "9249e497-0334-446e-a12d-1625e7ea722d",
   "metadata": {},
   "outputs": [],
   "source": [
    "temp = application_record_sdf.copy()"
   ]
  },
  {
   "cell_type": "code",
   "execution_count": null,
   "id": "08b6f2b7-1c86-4eab-b8f4-c4c348ecaf68",
   "metadata": {},
   "outputs": [],
   "source": [
    "temp.head()"
   ]
  },
  {
   "cell_type": "code",
   "execution_count": null,
   "id": "1ebe9c68-40e0-465d-8fa4-4d5dc446e6b4",
   "metadata": {},
   "outputs": [],
   "source": [
    "%%time\n",
    "temp['PERSON_DESC'] = ''\n",
    "temp.loc[(temp['DAYS_BIRTH'] / -365 < 30) & (temp['AMT_INCOME_TOTAL'] > 200000), 'PERSON_DESC'] = 'Young High Earner'\n",
    "temp.loc[(temp['DAYS_BIRTH'] / -365 > 30) & (temp['AMT_INCOME_TOTAL'] <= 200000), 'PERSON_DESC'] = 'Older Low Earner'"
   ]
  },
  {
   "cell_type": "code",
   "execution_count": null,
   "id": "cc483d4c-bb14-44d2-a361-fc2326cc92f9",
   "metadata": {},
   "outputs": [],
   "source": [
    "temp.head()"
   ]
  },
  {
   "cell_type": "code",
   "execution_count": null,
   "id": "330ccff4-26d8-41c7-a00d-2286eb89a851",
   "metadata": {},
   "outputs": [],
   "source": []
  },
  {
   "cell_type": "markdown",
   "id": "8f674e48-56c2-47a1-b2b9-0e58ad69c2fc",
   "metadata": {},
   "source": [
    "## ** Merging and Sub Two Cols\n"
   ]
  },
  {
   "cell_type": "code",
   "execution_count": null,
   "id": "65709e47-4190-42a8-829c-f0f6b10383ea",
   "metadata": {
    "scrolled": true
   },
   "outputs": [],
   "source": [
    "application_record_sdf"
   ]
  },
  {
   "cell_type": "code",
   "execution_count": null,
   "id": "38b6c73f-6493-4222-825b-3ac98efd94b3",
   "metadata": {},
   "outputs": [],
   "source": [
    "%%time\n",
    "df1 = application_record_sdf[['ID', 'DAYS_BIRTH']]\n",
    "df2 = application_record_sdf[['ID', 'DAYS_EMPLOYED']]"
   ]
  },
  {
   "cell_type": "code",
   "execution_count": null,
   "id": "1059c18f-de40-4842-a4cc-2922718595cc",
   "metadata": {},
   "outputs": [],
   "source": [
    "%%time\n",
    "merged_data = df1.merge(df2, on='ID', how='left').fillna(0)"
   ]
  },
  {
   "cell_type": "code",
   "execution_count": null,
   "id": "2c96554f-d126-4d2e-9b31-aaf872ecd512",
   "metadata": {},
   "outputs": [],
   "source": [
    "%%time\n",
    "merged_data['DAYS_BEFORE_JOB'] = merged_data['DAYS_EMPLOYED'] - merged_data['DAYS_BIRTH']"
   ]
  },
  {
   "cell_type": "code",
   "execution_count": null,
   "id": "f2a29fab-fdd9-426b-a38a-3078e1dc9ba2",
   "metadata": {},
   "outputs": [],
   "source": [
    "%%time\n",
    "merged_data.head()"
   ]
  },
  {
   "cell_type": "code",
   "execution_count": null,
   "id": "08af937b-2d4c-49c0-a853-fb9be0ed9c34",
   "metadata": {},
   "outputs": [],
   "source": []
  },
  {
   "cell_type": "markdown",
   "id": "80778e73-d1d4-417f-9b66-d29fcd5b17b6",
   "metadata": {},
   "source": [
    "## ** Resampling (Requires Datetime Conversion):\n"
   ]
  },
  {
   "cell_type": "code",
   "execution_count": null,
   "id": "eb67c30a-5df5-41e0-ac9c-d43f0e4f6208",
   "metadata": {},
   "outputs": [],
   "source": [
    "%%time\n",
    "df1 = application_record_sdf.copy()"
   ]
  },
  {
   "cell_type": "code",
   "execution_count": null,
   "id": "e208e5ba-24b8-4941-b843-30ab963c78c5",
   "metadata": {},
   "outputs": [],
   "source": [
    "%%time\n",
    "df1['DAYS_BIRTH'] = -df1['DAYS_BIRTH']"
   ]
  },
  {
   "cell_type": "code",
   "execution_count": null,
   "id": "0d2701f7-11b9-48a2-a3e1-f2306283e4e1",
   "metadata": {},
   "outputs": [],
   "source": [
    "%%time\n",
    "df1['DOB'] = pd.to_datetime(df1['DAYS_BIRTH'], origin='1900-01-01', unit='D')"
   ]
  },
  {
   "cell_type": "code",
   "execution_count": null,
   "id": "f0170a64-03e6-42bc-860d-cc3ff8639929",
   "metadata": {},
   "outputs": [],
   "source": [
    "df1.head()"
   ]
  },
  {
   "cell_type": "code",
   "execution_count": null,
   "id": "446e035b-b748-4e50-a003-59652f7cd0a5",
   "metadata": {},
   "outputs": [],
   "source": [
    "%%time\n",
    "df1['DOB_YEAR'] = df1['DOB'].dt.year"
   ]
  },
  {
   "cell_type": "code",
   "execution_count": null,
   "id": "785ce3ba-6882-4562-bf04-ef336907c3fb",
   "metadata": {
    "scrolled": true
   },
   "outputs": [],
   "source": [
    "%%time\n",
    "df1.groupby('DOB_YEAR')['DOB'].count().sort_values(ascending=False)"
   ]
  },
  {
   "cell_type": "markdown",
   "id": "ef68b55c-04ca-4361-8021-a5f79eb440c8",
   "metadata": {},
   "source": [
    "#### Pandas"
   ]
  },
  {
   "cell_type": "code",
   "execution_count": null,
   "id": "4e34730f-482c-4b00-b8f7-cb686eed3459",
   "metadata": {},
   "outputs": [],
   "source": [
    "df1_pandas = df1.to_pandas()"
   ]
  },
  {
   "cell_type": "code",
   "execution_count": null,
   "id": "7f724407-49a9-428e-a327-f2b66851dc02",
   "metadata": {},
   "outputs": [],
   "source": [
    "len(df1_pandas)"
   ]
  },
  {
   "cell_type": "code",
   "execution_count": null,
   "id": "cd2f1fb4-b0b5-4a15-99b3-4dc8897c0fff",
   "metadata": {},
   "outputs": [],
   "source": [
    "%%time\n",
    "df1_pandas['DOB'].dt.year"
   ]
  },
  {
   "cell_type": "code",
   "execution_count": null,
   "id": "0b1da187-835c-4d74-85f9-07c3789a6e6c",
   "metadata": {},
   "outputs": [],
   "source": []
  },
  {
   "cell_type": "markdown",
   "id": "1895b757-3b7a-499f-8d49-60f86fd5379d",
   "metadata": {},
   "source": [
    "## Column Rename, Head, and Filter"
   ]
  },
  {
   "cell_type": "code",
   "execution_count": null,
   "id": "bd7021c8-c6c9-4c28-a666-32dc164469b1",
   "metadata": {},
   "outputs": [],
   "source": [
    "%%time\n",
    "df1 = application_record_sdf.copy()"
   ]
  },
  {
   "cell_type": "code",
   "execution_count": null,
   "id": "1e289075-c12d-44ba-96b7-6e216f11e96f",
   "metadata": {},
   "outputs": [],
   "source": [
    "df1.head()"
   ]
  },
  {
   "cell_type": "code",
   "execution_count": null,
   "id": "980354d3-647f-4a90-a279-611abbde5b1e",
   "metadata": {},
   "outputs": [],
   "source": [
    "%%time\n",
    "df1 = df1.rename(columns={'FLAG_EMAIL': 'HAS_EMAIL'})"
   ]
  },
  {
   "cell_type": "code",
   "execution_count": null,
   "id": "281c535b-c5ba-441d-9ba0-96ff37b52503",
   "metadata": {
    "scrolled": true
   },
   "outputs": [],
   "source": [
    "%%time\n",
    "df1.loc[df1['HAS_EMAIL'] == 1].head()"
   ]
  }
 ],
 "metadata": {
  "kernelspec": {
   "display_name": "Python 3 (ipykernel)",
   "language": "python",
   "name": "python3"
  },
  "language_info": {
   "codemirror_mode": {
    "name": "ipython",
    "version": 3
   },
   "file_extension": ".py",
   "mimetype": "text/x-python",
   "name": "python",
   "nbconvert_exporter": "python",
   "pygments_lexer": "ipython3",
   "version": "3.9.18"
  }
 },
 "nbformat": 4,
 "nbformat_minor": 5
}
