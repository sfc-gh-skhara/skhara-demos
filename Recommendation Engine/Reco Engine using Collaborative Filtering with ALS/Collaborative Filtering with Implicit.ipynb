{
 "cells": [
  {
   "cell_type": "markdown",
   "id": "a7d72538",
   "metadata": {},
   "source": [
    "## Steps:\n",
    "- Import libraries\n",
    "- Setup Snowflake objects\n",
    "- Load data to Snowflake (you may skip this step if you already have data in Snowflake)\n",
    "- Write code to run Implicit library locally on your machine\n",
    "- Package code to and make it clean\n",
    "- Create a Task and schedule it"
   ]
  },
  {
   "cell_type": "markdown",
   "id": "fa08deeb",
   "metadata": {},
   "source": [
    "# Imports"
   ]
  },
  {
   "cell_type": "code",
   "execution_count": 1,
   "id": "2cb04fd9",
   "metadata": {},
   "outputs": [],
   "source": [
    "from snowflake.snowpark.session import Session\n",
    "import snowflake.snowpark.types as T\n",
    "import snowflake.snowpark.functions as F\n",
    "from snowflake.snowpark.functions import col\n",
    "\n",
    "import json\n",
    "\n",
    "import os\n",
    "\n",
    "import numpy as np\n",
    "import pandas as pd\n",
    "\n",
    "import scipy.sparse as sparse\n",
    "from scipy.sparse.linalg import spsolve\n",
    "import random\n",
    "from sklearn.preprocessing import MinMaxScaler\n",
    "import implicit \n",
    "from datetime import datetime, timedelta\n",
    "\n",
    "import warnings\n",
    "warnings.filterwarnings(\"ignore\")"
   ]
  },
  {
   "cell_type": "code",
   "execution_count": 2,
   "id": "9cc080c0",
   "metadata": {},
   "outputs": [],
   "source": [
    "connection_parameters = json.load(open('/Users/skhara/Documents/GitHub/creds.json'))\n",
    "session = Session.builder.configs(connection_parameters).create()"
   ]
  },
  {
   "cell_type": "code",
   "execution_count": 4,
   "id": "605182bd",
   "metadata": {},
   "outputs": [
    {
     "data": {
      "text/plain": [
       "[Row(status='ML_MODELS already exists, statement succeeded.')]"
      ]
     },
     "execution_count": 4,
     "metadata": {},
     "output_type": "execute_result"
    }
   ],
   "source": [
    "session.sql('CREATE DATABASE IF NOT EXISTS RECOMMENDER_SYSTEMS').collect()\n",
    "session.sql('CREATE SCHEMA IF NOT EXISTS RECOMMENDER_SYSTEMS.COLLABORATIVE_FILTERING_ALS').collect()\n",
    "\n",
    "session.sql('USE DATABASE RECOMMENDER_SYSTEMS').collect()\n",
    "session.sql('USE SCHEMA COLLABORATIVE_FILTERING_ALS').collect()\n",
    "session.sql('CREATE STAGE IF NOT EXISTS ML_MODELS;').collect()"
   ]
  },
  {
   "cell_type": "markdown",
   "id": "97c33e1c",
   "metadata": {},
   "source": [
    "# Load Data to Snowflake\n",
    "This is done in case your data is not already in a Snowflake table. If it is then you can skip this step."
   ]
  },
  {
   "cell_type": "code",
   "execution_count": 6,
   "id": "acdb5f2e-7dd3-4a2e-af77-14bbcde7202f",
   "metadata": {},
   "outputs": [
    {
     "data": {
      "text/html": [
       "<div>\n",
       "<style scoped>\n",
       "    .dataframe tbody tr th:only-of-type {\n",
       "        vertical-align: middle;\n",
       "    }\n",
       "\n",
       "    .dataframe tbody tr th {\n",
       "        vertical-align: top;\n",
       "    }\n",
       "\n",
       "    .dataframe thead th {\n",
       "        text-align: right;\n",
       "    }\n",
       "</style>\n",
       "<table border=\"1\" class=\"dataframe\">\n",
       "  <thead>\n",
       "    <tr style=\"text-align: right;\">\n",
       "      <th></th>\n",
       "      <th>timestamp</th>\n",
       "      <th>visitorid</th>\n",
       "      <th>event</th>\n",
       "      <th>itemid</th>\n",
       "      <th>transactionid</th>\n",
       "    </tr>\n",
       "  </thead>\n",
       "  <tbody>\n",
       "    <tr>\n",
       "      <th>0</th>\n",
       "      <td>1433221332117</td>\n",
       "      <td>257597</td>\n",
       "      <td>view</td>\n",
       "      <td>355908</td>\n",
       "      <td>NaN</td>\n",
       "    </tr>\n",
       "    <tr>\n",
       "      <th>1</th>\n",
       "      <td>1433224214164</td>\n",
       "      <td>992329</td>\n",
       "      <td>view</td>\n",
       "      <td>248676</td>\n",
       "      <td>NaN</td>\n",
       "    </tr>\n",
       "    <tr>\n",
       "      <th>2</th>\n",
       "      <td>1433221999827</td>\n",
       "      <td>111016</td>\n",
       "      <td>view</td>\n",
       "      <td>318965</td>\n",
       "      <td>NaN</td>\n",
       "    </tr>\n",
       "    <tr>\n",
       "      <th>3</th>\n",
       "      <td>1433221955914</td>\n",
       "      <td>483717</td>\n",
       "      <td>view</td>\n",
       "      <td>253185</td>\n",
       "      <td>NaN</td>\n",
       "    </tr>\n",
       "    <tr>\n",
       "      <th>4</th>\n",
       "      <td>1433221337106</td>\n",
       "      <td>951259</td>\n",
       "      <td>view</td>\n",
       "      <td>367447</td>\n",
       "      <td>NaN</td>\n",
       "    </tr>\n",
       "  </tbody>\n",
       "</table>\n",
       "</div>"
      ],
      "text/plain": [
       "       timestamp  visitorid event  itemid  transactionid\n",
       "0  1433221332117     257597  view  355908            NaN\n",
       "1  1433224214164     992329  view  248676            NaN\n",
       "2  1433221999827     111016  view  318965            NaN\n",
       "3  1433221955914     483717  view  253185            NaN\n",
       "4  1433221337106     951259  view  367447            NaN"
      ]
     },
     "execution_count": 6,
     "metadata": {},
     "output_type": "execute_result"
    }
   ],
   "source": [
    "# Loading from local CSV-files\n",
    "events_data = pd.read_csv('data/events.csv')\n",
    "events_data.head()"
   ]
  },
  {
   "cell_type": "code",
   "execution_count": 7,
   "id": "1d013e46",
   "metadata": {},
   "outputs": [
    {
     "data": {
      "text/plain": [
       "<snowflake.snowpark.table.Table at 0x2a3611910>"
      ]
     },
     "execution_count": 7,
     "metadata": {},
     "output_type": "execute_result"
    }
   ],
   "source": [
    "session.write_pandas(events_data, table_name='EVENTS_DATA', auto_create_table=True, overwrite=True)"
   ]
  },
  {
   "cell_type": "markdown",
   "id": "4f5a6ae0",
   "metadata": {},
   "source": [
    "# Step 1: Testing Locally"
   ]
  },
  {
   "cell_type": "code",
   "execution_count": 39,
   "id": "bb7eed9e",
   "metadata": {},
   "outputs": [],
   "source": [
    "# Data PreProcessing\n",
    "def create_data(datapath,start_date,end_date):\n",
    "    df= session.table(datapath).to_pandas()\n",
    "    df= df.assign(date=pd.Series(datetime.fromtimestamp(a/1000).date() for a in df.timestamp))\n",
    "    df= df.sort_values(by='date').reset_index(drop=True) # for some reasons RetailRocket did NOT sort data by date\n",
    "    df= df[(df.date>=datetime.strptime(start_date,'%Y-%m-%d').date())&(df.date<=datetime.strptime(end_date,'%Y-%m-%d').date())]\n",
    "    df= df[['visitorid','itemid','event']]\n",
    "    return df"
   ]
  },
  {
   "cell_type": "code",
   "execution_count": 40,
   "id": "41f769b8-d87b-4b7a-aef4-0c13bc319fdf",
   "metadata": {},
   "outputs": [
    {
     "data": {
      "text/html": [
       "<div>\n",
       "<style scoped>\n",
       "    .dataframe tbody tr th:only-of-type {\n",
       "        vertical-align: middle;\n",
       "    }\n",
       "\n",
       "    .dataframe tbody tr th {\n",
       "        vertical-align: top;\n",
       "    }\n",
       "\n",
       "    .dataframe thead th {\n",
       "        text-align: right;\n",
       "    }\n",
       "</style>\n",
       "<table border=\"1\" class=\"dataframe\">\n",
       "  <thead>\n",
       "    <tr style=\"text-align: right;\">\n",
       "      <th></th>\n",
       "      <th>visitorid</th>\n",
       "      <th>itemid</th>\n",
       "      <th>event</th>\n",
       "    </tr>\n",
       "  </thead>\n",
       "  <tbody>\n",
       "    <tr>\n",
       "      <th>1022</th>\n",
       "      <td>711599</td>\n",
       "      <td>122296</td>\n",
       "      <td>view</td>\n",
       "    </tr>\n",
       "    <tr>\n",
       "      <th>1023</th>\n",
       "      <td>1058545</td>\n",
       "      <td>203248</td>\n",
       "      <td>view</td>\n",
       "    </tr>\n",
       "    <tr>\n",
       "      <th>1024</th>\n",
       "      <td>1175565</td>\n",
       "      <td>67580</td>\n",
       "      <td>view</td>\n",
       "    </tr>\n",
       "    <tr>\n",
       "      <th>1025</th>\n",
       "      <td>517160</td>\n",
       "      <td>203248</td>\n",
       "      <td>view</td>\n",
       "    </tr>\n",
       "    <tr>\n",
       "      <th>1026</th>\n",
       "      <td>908008</td>\n",
       "      <td>258812</td>\n",
       "      <td>view</td>\n",
       "    </tr>\n",
       "  </tbody>\n",
       "</table>\n",
       "</div>"
      ],
      "text/plain": [
       "      visitorid  itemid event\n",
       "1022     711599  122296  view\n",
       "1023    1058545  203248  view\n",
       "1024    1175565   67580  view\n",
       "1025     517160  203248  view\n",
       "1026     908008  258812  view"
      ]
     },
     "execution_count": 40,
     "metadata": {},
     "output_type": "execute_result"
    }
   ],
   "source": [
    "datapath= 'RECOMMENDER_SYSTEMS.COLLABORATIVE_FILTERING_ALS.EVENTS_DATA'\n",
    "data_raw= create_data(datapath,'2015-5-3','2015-5-18')\n",
    "data_raw.head()"
   ]
  },
  {
   "cell_type": "code",
   "execution_count": 41,
   "id": "5d559caf-6e94-47e7-a0a2-e2ecafaed18d",
   "metadata": {},
   "outputs": [
    {
     "name": "stdout",
     "output_type": "stream",
     "text": [
      "<class 'pandas.core.frame.DataFrame'>\n",
      "Int64Index: 328185 entries, 1022 to 329206\n",
      "Data columns (total 5 columns):\n",
      " #   Column      Non-Null Count   Dtype\n",
      "---  ------      --------------   -----\n",
      " 0   visitorid   328185 non-null  int64\n",
      " 1   itemid      328185 non-null  int64\n",
      " 2   event       328185 non-null  int8 \n",
      " 3   visitor_id  328185 non-null  int32\n",
      " 4   item_id     328185 non-null  int32\n",
      "dtypes: int32(2), int64(2), int8(1)\n",
      "memory usage: 10.3 MB\n"
     ]
    }
   ],
   "source": [
    "data = data_raw.copy(deep=True)\n",
    "data['visitorid'] = data['visitorid'].astype(\"category\")\n",
    "data['visitor_id'] = data['visitorid'].cat.codes\n",
    "data['visitorid'] = data['visitorid'].astype(\"int\")\n",
    "\n",
    "data['itemid'] = data['itemid'].astype(\"category\")\n",
    "data['item_id'] = data['itemid'].cat.codes\n",
    "data['itemid'] = data['itemid'].astype(\"int\")\n",
    "\n",
    "data['event']= data['event'].astype('category')\n",
    "data['event']= data['event'].cat.codes\n",
    "\n",
    "data.info()"
   ]
  },
  {
   "cell_type": "code",
   "execution_count": 42,
   "id": "1c2cb11a",
   "metadata": {},
   "outputs": [],
   "source": [
    "unique_pairs = data[['visitorid','visitor_id']].drop_duplicates()\n",
    "user_id_dict = dict(zip(unique_pairs['visitor_id'], unique_pairs['visitorid']))\n",
    "\n",
    "unique_pairs = data[['itemid','item_id']].drop_duplicates()\n",
    "item_id_dict = dict(zip(unique_pairs['item_id'], unique_pairs['itemid']))"
   ]
  },
  {
   "cell_type": "code",
   "execution_count": 43,
   "id": "37be9cc9",
   "metadata": {},
   "outputs": [
    {
     "data": {
      "application/vnd.jupyter.widget-view+json": {
       "model_id": "151834fcc25847e3b9a79ca2cedc3639",
       "version_major": 2,
       "version_minor": 0
      },
      "text/plain": [
       "  0%|          | 0/20 [00:00<?, ?it/s]"
      ]
     },
     "metadata": {},
     "output_type": "display_data"
    }
   ],
   "source": [
    "sparse_item_user = sparse.csr_matrix((data['event'].astype(float), (data['item_id'], data['visitor_id'])))\n",
    "sparse_user_item = sparse.csr_matrix((data['event'].astype(float), (data['visitor_id'], data['item_id'])))\n",
    "\n",
    "#Building the model\n",
    "model = implicit.als.AlternatingLeastSquares(factors=20, regularization=0.1, iterations=20)\n",
    "\n",
    "alpha_val = 40\n",
    "data_conf = (sparse_user_item * alpha_val).astype('double')\n",
    "\n",
    "model.fit(data_conf)"
   ]
  },
  {
   "cell_type": "code",
   "execution_count": 44,
   "id": "2a0b8f02",
   "metadata": {},
   "outputs": [
    {
     "name": "stdout",
     "output_type": "stream",
     "text": [
      "(array([56574,  1394, 82130, 53243, 48720], dtype=int32), array([1.3219736e-12, 1.1100892e-12, 1.0795274e-12, 8.3879323e-13,\n",
      "       7.3194391e-13], dtype=float32))\n"
     ]
    }
   ],
   "source": [
    "###USING THE MODEL\n",
    "#Get Recommendations\n",
    "user_id = 2\n",
    "reco = model.recommend(user_id, sparse_user_item[user_id], N=5)\n",
    "print(reco)"
   ]
  },
  {
   "cell_type": "code",
   "execution_count": 45,
   "id": "df477bae",
   "metadata": {},
   "outputs": [
    {
     "name": "stdout",
     "output_type": "stream",
     "text": [
      "[[74487 21116 46614 56304 54046]\n",
      " [55597  1394 70231 12300 52390]\n",
      " [17191 24386 71224 60480 68712]\n",
      " [55597  1394 70231 12300 52390]\n",
      " [40366 14251 13003 60538 42292]\n",
      " [36072 28193 34224 34310 79246]\n",
      " [44063 56304 76337 15938 31495]\n",
      " [55597  1394 70231 12300 52390]\n",
      " [59532 56091 17813 56304 75241]\n",
      " [65987 59735 63579 44650 16306]]\n"
     ]
    }
   ],
   "source": [
    "#Get Recommendations for all users\n",
    "recommended = model.recommend(list(user_id_dict.keys()), sparse_user_item[list(user_id_dict.keys())], N=5)\n",
    "print(recommended[0][0:10])"
   ]
  },
  {
   "cell_type": "markdown",
   "id": "d79484e7",
   "metadata": {},
   "source": [
    "# Step 2: Write clean code for Orchestration in Snowflake\n",
    "\n",
    "Here we take all the pieces of code written above for local testing and package in a modularized format. We may also choose to\n",
    "schedule the preprocess pipeline as a predecessor to model train and inference."
   ]
  },
  {
   "cell_type": "code",
   "execution_count": 7,
   "id": "87a92a00",
   "metadata": {},
   "outputs": [],
   "source": [
    "from snowflake.core import Root\n",
    "from snowflake.core.task import StoredProcedureCall, Task\n",
    "from snowflake.core.task.dagv1 import DAGOperation, DAG, DAGTask\n",
    "api_root = Root(session)"
   ]
  },
  {
   "cell_type": "code",
   "execution_count": 34,
   "id": "abede6e8",
   "metadata": {},
   "outputs": [],
   "source": [
    "# Load data and process\n",
    "def preprocess_data(session:Session, table):\n",
    "    import pandas as pd\n",
    "    import numpy\n",
    "    from datetime import datetime\n",
    "\n",
    "    df= session.table(table).to_pandas()\n",
    "    df= df.assign(date=pd.Series(datetime.fromtimestamp(a/1000).date() for a in df.timestamp))\n",
    "    df= df.sort_values(by='date').reset_index(drop=True) # for some reasons RetailRocket did NOT sort data by date\n",
    "    df= df[(df.date>=datetime.strptime('2015-5-3','%Y-%m-%d').date())&(df.date<=datetime.strptime('2015-5-18','%Y-%m-%d').date())]\n",
    "\n",
    "    data= df[['visitorid','itemid','event']]\n",
    "\n",
    "    data['visitorid'] = data['visitorid'].astype(\"category\")\n",
    "    data['visitor_id'] = data['visitorid'].cat.codes\n",
    "\n",
    "    data['itemid'] = data['itemid'].astype(\"category\")\n",
    "    data['item_id'] = data['itemid'].cat.codes\n",
    "\n",
    "    data['event']= data['event'].astype('category')\n",
    "    data['event']= data['event'].cat.codes\n",
    "\n",
    "    return data\n",
    "\n",
    "# Model Train\n",
    "def train_model(session:Session, sparse_user_item):\n",
    "    import implicit\n",
    "    import scipy.sparse as sparse\n",
    "\n",
    "    model = implicit.als.AlternatingLeastSquares(factors=20, regularization=0.1, iterations=20)\n",
    "    alpha_val = 40\n",
    "    data_conf = (sparse_user_item * alpha_val).astype('double')\n",
    "    model.fit(data_conf)\n",
    "\n",
    "    return model\n",
    "\n",
    "# Clean output\n",
    "def process_output(session:Session, reco, user_id_dict, item_id_dict):\n",
    "    rec_df = pd.DataFrame(reco[0], columns=['rec1', 'rec2', 'rec3', 'rec4', 'rec5'])\n",
    "    user_df = pd.DataFrame(data = list(user_id_dict.items()), columns = ['visitor_id','visitorid'])\n",
    "    joined_df = user_df.join(rec_df)\n",
    "\n",
    "    for col in ['rec1', 'rec2', 'rec3', 'rec4', 'rec5']:\n",
    "        joined_df[col] = joined_df[col].map(item_id_dict)\n",
    "    \n",
    "    joined_df['PRED_TIMESTAMP'] = str(pd.Timestamp.now())\n",
    "    return joined_df\n",
    "\n",
    "# Run the Process\n",
    "def get_predictions(session:Session) -> str:\n",
    "    import pandas as pd\n",
    "    import numpy\n",
    "    import implicit\n",
    "    import scipy.sparse as sparse\n",
    "    from scipy.sparse.linalg import spsolve\n",
    "    from datetime import datetime\n",
    "    import snowflake.snowpark.functions as F\n",
    "\n",
    "    table = 'RECOMMENDER_SYSTEMS.COLLABORATIVE_FILTERING_ALS.EVENTS_DATA'\n",
    "    data = preprocess_data(session, table)\n",
    "\n",
    "    # Map cat codes to visitorid\n",
    "    unique_pairs = data[['visitorid','visitor_id']].drop_duplicates()\n",
    "    user_id_dict = dict(zip(unique_pairs['visitor_id'], unique_pairs['visitorid']))\n",
    "\n",
    "    # Map cat codes to itemid\n",
    "    unique_pairs = data[['itemid','item_id']].drop_duplicates()\n",
    "    item_id_dict = dict(zip(unique_pairs['item_id'], unique_pairs['itemid']))\n",
    "\n",
    "    # sparse_item_user = sparse.csr_matrix((data['event'].astype(float), (data['item_id'], data['visitor_id'])))\n",
    "    sparse_user_item = sparse.csr_matrix((data['event'].astype(float), (data['visitor_id'], data['item_id'])))\n",
    "\n",
    "    model = train_model(session, sparse_user_item)\n",
    "    \n",
    "    recommended = model.recommend(list(user_id_dict.keys()), sparse_user_item[list(user_id_dict.keys())], N=5)\n",
    "\n",
    "    cleaned_df = process_output(session, recommended, user_id_dict, item_id_dict)\n",
    "    \n",
    "    # Save Data in Snowflake\n",
    "    session.write_pandas(cleaned_df, table_name='ITEM_RECOMMENDATIONS', auto_create_table=True, overwrite=True)\n",
    "\n",
    "    return 'Success'"
   ]
  },
  {
   "cell_type": "code",
   "execution_count": 35,
   "id": "717bd4dc",
   "metadata": {},
   "outputs": [],
   "source": [
    "schema = api_root.databases['RECOMMENDER_SYSTEMS'].schemas['COLLABORATIVE_FILTERING_ALS']\n",
    "tasks = schema.tasks"
   ]
  },
  {
   "cell_type": "code",
   "execution_count": 36,
   "id": "58e45be2",
   "metadata": {},
   "outputs": [],
   "source": [
    "# Create a Task and Schedule it to run daily\n",
    "task1_entity = Task(\n",
    "    \"reco_engine\",\n",
    "    definition = StoredProcedureCall(get_predictions, stage_location=\"@ML_MODELS\", \n",
    "                                     packages=[\"snowflake-snowpark-python\",\"snowflake-ml-python\",\n",
    "                                               \"regex\", \"scipy\", \"implicit==0.6.2\", \"numpy==1.23.5\"]),\n",
    "    warehouse = connection_parameters['warehouse'],\n",
    "    schedule = timedelta(days=1))\n",
    "\n",
    "task1 = tasks.create(task1_entity, mode=\"orReplace\")\n",
    "task1.resume()"
   ]
  },
  {
   "cell_type": "code",
   "execution_count": 37,
   "id": "c9667dc3",
   "metadata": {},
   "outputs": [],
   "source": [
    "task1.execute()"
   ]
  }
 ],
 "metadata": {
  "kernelspec": {
   "display_name": "Python 3 (ipykernel)",
   "language": "python",
   "name": "python3"
  },
  "language_info": {
   "codemirror_mode": {
    "name": "ipython",
    "version": 3
   },
   "file_extension": ".py",
   "mimetype": "text/x-python",
   "name": "python",
   "nbconvert_exporter": "python",
   "pygments_lexer": "ipython3",
   "version": "3.9.17"
  }
 },
 "nbformat": 4,
 "nbformat_minor": 5
}
