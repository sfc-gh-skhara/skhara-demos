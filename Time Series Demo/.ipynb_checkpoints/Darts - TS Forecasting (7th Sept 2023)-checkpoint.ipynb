{
 "cells": [
  {
   "cell_type": "markdown",
   "id": "bea36370",
   "metadata": {},
   "source": [
    "# Steps in this Notebook\n",
    "\n",
    "1. Imports\n",
    "2. Snowflake Setup\n",
    "3. TS Forecasting with DARTS\n",
    "4. Deployment of TS Forecasting with Snowflake Tasks"
   ]
  },
  {
   "cell_type": "markdown",
   "id": "a7d72538",
   "metadata": {},
   "source": [
    "# Imports"
   ]
  },
  {
   "cell_type": "code",
   "execution_count": 1,
   "id": "2cb04fd9",
   "metadata": {},
   "outputs": [],
   "source": [
    "from snowflake.snowpark.session import Session\n",
    "import snowflake.snowpark.types as T\n",
    "import snowflake.snowpark.functions as F\n",
    "from snowflake.snowpark.functions import col\n",
    "\n",
    "from snowflake.snowpark.functions import udf\n",
    "from snowflake.snowpark.types import IntegerType, FloatType, StringType,StructType, StructField\n",
    "\n",
    "import snowflake.ml.modeling.preprocessing as snowml\n",
    "from snowflake.ml.modeling.xgboost import XGBClassifier\n",
    "from snowflake.ml.modeling.preprocessing import KBinsDiscretizer, OrdinalEncoder, OneHotEncoder\n",
    "from snowflake.ml.modeling.impute import SimpleImputer\n",
    "\n",
    "import json\n",
    "import pandas as pd\n",
    "from datetime import date, timedelta\n",
    "\n",
    "import matplotlib.pyplot as plt\n",
    "import seaborn as sns\n",
    "\n",
    "import warnings\n",
    "warnings.filterwarnings(\"ignore\")"
   ]
  },
  {
   "cell_type": "code",
   "execution_count": 4,
   "id": "9cc080c0",
   "metadata": {},
   "outputs": [],
   "source": [
    "connection_parameters = json.load(open('/Users/skhara/Documents/Code/creds.json'))\n",
    "session = Session.builder.configs(connection_parameters).create()"
   ]
  },
  {
   "cell_type": "code",
   "execution_count": 5,
   "id": "0697a78d-dfe2-4b7d-92a0-ae48c7053b74",
   "metadata": {},
   "outputs": [
    {
     "data": {
      "text/plain": [
       "'/Users/skhara/Documents/GitHub/skhara-demos-public/Time Series Demo'"
      ]
     },
     "execution_count": 5,
     "metadata": {},
     "output_type": "execute_result"
    }
   ],
   "source": [
    "import os\n",
    "os.getcwd()"
   ]
  },
  {
   "cell_type": "markdown",
   "id": "3daf6745",
   "metadata": {},
   "source": [
    "# Snowflake Setup: Create a Database and Schema\n",
    "\n",
    "We will be using PUBLIC schema."
   ]
  },
  {
   "cell_type": "code",
   "execution_count": 7,
   "id": "e0866765",
   "metadata": {},
   "outputs": [
    {
     "data": {
      "text/plain": [
       "[Row(status='Statement executed successfully.')]"
      ]
     },
     "execution_count": 7,
     "metadata": {},
     "output_type": "execute_result"
    }
   ],
   "source": [
    "session.sql('USE DATABASE X').collect()\n",
    "session.sql('USE SCHEMA X').collect()"
   ]
  },
  {
   "cell_type": "code",
   "execution_count": 8,
   "id": "463a699a",
   "metadata": {},
   "outputs": [],
   "source": [
    "# Load TS data from Store_Traffic Database into ACCRUENT_TS_FORECASTING DB for testing purposes.\n",
    "sdf_raw = session.table('SYNTHETIC_TIME_SERIES')"
   ]
  },
  {
   "cell_type": "code",
   "execution_count": 9,
   "id": "1d6ff284",
   "metadata": {},
   "outputs": [
    {
     "data": {
      "text/plain": [
       "[Row(COUNT(DISTINCT PUMP_ID)=1000)]"
      ]
     },
     "execution_count": 9,
     "metadata": {},
     "output_type": "execute_result"
    }
   ],
   "source": [
    "# Print the Number of Time Series/Pumps that we have to predict\n",
    "session.sql('SELECT COUNT(DISTINCT PUMP_ID) FROM SYNTHETIC_TIME_SERIES').collect()"
   ]
  },
  {
   "cell_type": "code",
   "execution_count": 3,
   "id": "f9b5e478",
   "metadata": {
    "scrolled": true
   },
   "outputs": [],
   "source": [
    "# Print the PUMP_ID and Start and End date of Time Series\n",
    "session.sql('SELECT PUMP_ID, MIN(TIMESTAMP), MAX(TIMESTAMP) FROM SYNTHETIC_TIME_SERIES GROUP BY PUMP_ID').collect()"
   ]
  },
  {
   "cell_type": "code",
   "execution_count": 11,
   "id": "fed6bf98",
   "metadata": {},
   "outputs": [
    {
     "data": {
      "text/html": [
       "<div>\n",
       "<style scoped>\n",
       "    .dataframe tbody tr th:only-of-type {\n",
       "        vertical-align: middle;\n",
       "    }\n",
       "\n",
       "    .dataframe tbody tr th {\n",
       "        vertical-align: top;\n",
       "    }\n",
       "\n",
       "    .dataframe thead th {\n",
       "        text-align: right;\n",
       "    }\n",
       "</style>\n",
       "<table border=\"1\" class=\"dataframe\">\n",
       "  <thead>\n",
       "    <tr style=\"text-align: right;\">\n",
       "      <th></th>\n",
       "      <th>TIMESTAMP</th>\n",
       "      <th>PUMP_ID</th>\n",
       "      <th>VALUE</th>\n",
       "    </tr>\n",
       "  </thead>\n",
       "  <tbody>\n",
       "    <tr>\n",
       "      <th>0</th>\n",
       "      <td>2018-01-01</td>\n",
       "      <td>1</td>\n",
       "      <td>119</td>\n",
       "    </tr>\n",
       "    <tr>\n",
       "      <th>1</th>\n",
       "      <td>2018-01-02</td>\n",
       "      <td>1</td>\n",
       "      <td>138</td>\n",
       "    </tr>\n",
       "    <tr>\n",
       "      <th>2</th>\n",
       "      <td>2018-01-03</td>\n",
       "      <td>1</td>\n",
       "      <td>134</td>\n",
       "    </tr>\n",
       "    <tr>\n",
       "      <th>3</th>\n",
       "      <td>2018-01-04</td>\n",
       "      <td>1</td>\n",
       "      <td>124</td>\n",
       "    </tr>\n",
       "    <tr>\n",
       "      <th>4</th>\n",
       "      <td>2018-01-05</td>\n",
       "      <td>1</td>\n",
       "      <td>103</td>\n",
       "    </tr>\n",
       "  </tbody>\n",
       "</table>\n",
       "</div>"
      ],
      "text/plain": [
       "    TIMESTAMP  PUMP_ID  VALUE\n",
       "0  2018-01-01        1    119\n",
       "1  2018-01-02        1    138\n",
       "2  2018-01-03        1    134\n",
       "3  2018-01-04        1    124\n",
       "4  2018-01-05        1    103"
      ]
     },
     "execution_count": 11,
     "metadata": {},
     "output_type": "execute_result"
    }
   ],
   "source": [
    "sdf_raw.limit(5).to_pandas()"
   ]
  },
  {
   "cell_type": "code",
   "execution_count": 12,
   "id": "cdff238d",
   "metadata": {},
   "outputs": [
    {
     "data": {
      "text/plain": [
       "[Row(SUMMARY='count', PUMP_ID=2046000.0, VALUE=2046000.0),\n",
       " Row(SUMMARY='mean', PUMP_ID=500.5, VALUE=124.109512),\n",
       " Row(SUMMARY='stddev', PUMP_ID=288.67506080366553, VALUE=35.57537708865502),\n",
       " Row(SUMMARY='min', PUMP_ID=1.0, VALUE=44.0),\n",
       " Row(SUMMARY='max', PUMP_ID=1000.0, VALUE=246.0)]"
      ]
     },
     "execution_count": 12,
     "metadata": {},
     "output_type": "execute_result"
    }
   ],
   "source": [
    "sdf_raw.describe().collect()"
   ]
  },
  {
   "cell_type": "markdown",
   "id": "46caa133",
   "metadata": {},
   "source": [
    "# Local Testing"
   ]
  },
  {
   "cell_type": "code",
   "execution_count": 9,
   "id": "41cd657a-7f5e-4ee9-b766-b1238876a80e",
   "metadata": {},
   "outputs": [],
   "source": [
    "df_data = sdf_raw.filter((F.col(\"PUMP_ID\") == 62)).to_pandas()\n",
    "\n",
    "# Here onwards copy paste in UDTF\n",
    "df_data['TIMESTAMP'] = pd.to_datetime(df_data['TIMESTAMP'])\n",
    "df_data.groupby('TIMESTAMP').sum('VALUE').reset_index()\n",
    "df_data = df_data[['TIMESTAMP','VALUE']]\n",
    "df_data = df_data.sort_values(by=['TIMESTAMP']).reset_index(drop=True)"
   ]
  },
  {
   "cell_type": "code",
   "execution_count": 10,
   "id": "573f853f-b8ba-4112-87c2-77d71517a44b",
   "metadata": {},
   "outputs": [
    {
     "data": {
      "text/html": [
       "<div>\n",
       "<style scoped>\n",
       "    .dataframe tbody tr th:only-of-type {\n",
       "        vertical-align: middle;\n",
       "    }\n",
       "\n",
       "    .dataframe tbody tr th {\n",
       "        vertical-align: top;\n",
       "    }\n",
       "\n",
       "    .dataframe thead th {\n",
       "        text-align: right;\n",
       "    }\n",
       "</style>\n",
       "<table border=\"1\" class=\"dataframe\">\n",
       "  <thead>\n",
       "    <tr style=\"text-align: right;\">\n",
       "      <th></th>\n",
       "      <th>TIMESTAMP</th>\n",
       "      <th>VALUE</th>\n",
       "    </tr>\n",
       "  </thead>\n",
       "  <tbody>\n",
       "    <tr>\n",
       "      <th>0</th>\n",
       "      <td>2018-01-01</td>\n",
       "      <td>119</td>\n",
       "    </tr>\n",
       "    <tr>\n",
       "      <th>1</th>\n",
       "      <td>2018-01-02</td>\n",
       "      <td>138</td>\n",
       "    </tr>\n",
       "    <tr>\n",
       "      <th>2</th>\n",
       "      <td>2018-01-03</td>\n",
       "      <td>133</td>\n",
       "    </tr>\n",
       "    <tr>\n",
       "      <th>3</th>\n",
       "      <td>2018-01-04</td>\n",
       "      <td>124</td>\n",
       "    </tr>\n",
       "    <tr>\n",
       "      <th>4</th>\n",
       "      <td>2018-01-05</td>\n",
       "      <td>103</td>\n",
       "    </tr>\n",
       "  </tbody>\n",
       "</table>\n",
       "</div>"
      ],
      "text/plain": [
       "   TIMESTAMP  VALUE\n",
       "0 2018-01-01    119\n",
       "1 2018-01-02    138\n",
       "2 2018-01-03    133\n",
       "3 2018-01-04    124\n",
       "4 2018-01-05    103"
      ]
     },
     "execution_count": 10,
     "metadata": {},
     "output_type": "execute_result"
    }
   ],
   "source": [
    "df_data.head()"
   ]
  },
  {
   "cell_type": "code",
   "execution_count": 11,
   "id": "d84792e4-0075-4c5d-9cb0-e2d22f8f635f",
   "metadata": {},
   "outputs": [
    {
     "data": {
      "text/plain": [
       "<Axes: xlabel='TIMESTAMP'>"
      ]
     },
     "execution_count": 11,
     "metadata": {},
     "output_type": "execute_result"
    },
    {
     "data": {
      "image/png": "[encoded data removed]",
      "text/plain": [
       "<Figure size 640x480 with 1 Axes>"
      ]
     },
     "metadata": {},
     "output_type": "display_data"
    }
   ],
   "source": [
    "df_data.set_index('TIMESTAMP')['VALUE'].plot()"
   ]
  },
  {
   "cell_type": "markdown",
   "id": "421bbc16-a9c4-41ea-86cc-8c8c612f65c2",
   "metadata": {
    "jp-MarkdownHeadingCollapsed": true
   },
   "source": [
    "### Testing with Sktime Locally"
   ]
  },
  {
   "cell_type": "code",
   "execution_count": 70,
   "id": "7d3e96f4-cbcb-4a2a-9fa4-f76ab62f2796",
   "metadata": {},
   "outputs": [],
   "source": [
    "from sktime.forecasting.base import ForecastingHorizon\n",
    "from sktime.forecasting.model_selection import temporal_train_test_split\n",
    "from sktime.forecasting.theta import ThetaForecaster\n",
    "from sktime.performance_metrics.forecasting import mean_absolute_percentage_error"
   ]
  },
  {
   "cell_type": "code",
   "execution_count": 71,
   "id": "d0823b9e-ac08-48cb-927d-18d5ed3253bc",
   "metadata": {},
   "outputs": [
    {
     "data": {
      "text/plain": [
       "TIMESTAMP\n",
       "2018-01-01    119\n",
       "2018-01-02    138\n",
       "2018-01-03    133\n",
       "2018-01-04    124\n",
       "2018-01-05    103\n",
       "             ... \n",
       "2023-08-04    161\n",
       "2023-08-05    153\n",
       "2023-08-06    158\n",
       "2023-08-07    176\n",
       "2023-08-08    192\n",
       "Length: 2046, dtype: int16"
      ]
     },
     "execution_count": 71,
     "metadata": {},
     "output_type": "execute_result"
    }
   ],
   "source": [
    "df_input = pd.Series(df_data['VALUE'].values, index=df_data['TIMESTAMP'])\n",
    "df_input"
   ]
  },
  {
   "cell_type": "code",
   "execution_count": 75,
   "id": "597f7c8d-f117-42ca-8329-586d2bd159f5",
   "metadata": {},
   "outputs": [],
   "source": [
    "df_input.index.freq = 'D'  # Set this to the appropriate frequency\n",
    "df_input = df_input.resample('D').asfreq()  # Resample if needed; adjust the 'M' if using a different frequency"
   ]
  },
  {
   "cell_type": "code",
   "execution_count": 76,
   "id": "3336a46f-ad1f-4789-8775-988b3e0e6040",
   "metadata": {
    "scrolled": true
   },
   "outputs": [
    {
     "data": {
      "text/plain": [
       "TIMESTAMP\n",
       "2022-03-15    166.037887\n",
       "2022-03-16    166.349381\n",
       "2022-03-17    165.784103\n",
       "2022-03-18    165.128814\n",
       "2022-03-19    165.061084\n",
       "                 ...    \n",
       "2023-08-04    172.499784\n",
       "2023-08-05    172.428377\n",
       "2023-08-06    172.944889\n",
       "2023-08-07    174.079407\n",
       "2023-08-08    173.627253\n",
       "Freq: D, Length: 512, dtype: float64"
      ]
     },
     "execution_count": 76,
     "metadata": {},
     "output_type": "execute_result"
    }
   ],
   "source": [
    "y_train, y_test = temporal_train_test_split(df_input)\n",
    "fh = ForecastingHorizon(y_test.index, is_relative=False)\n",
    "forecaster = ThetaForecaster(sp=12)  # monthly seasonal periodicity\n",
    "forecaster.fit(y_train)\n",
    "y_pred = forecaster.predict(fh)\n",
    "y_pred"
   ]
  },
  {
   "cell_type": "code",
   "execution_count": 77,
   "id": "2933a734-a66a-4d63-8dec-56457f27d3b5",
   "metadata": {},
   "outputs": [
    {
     "data": {
      "text/plain": [
       "0.0888130877494323"
      ]
     },
     "execution_count": 77,
     "metadata": {},
     "output_type": "execute_result"
    }
   ],
   "source": [
    "y_pred = forecaster.predict(fh)\n",
    "mean_absolute_percentage_error(y_test, y_pred)"
   ]
  },
  {
   "cell_type": "markdown",
   "id": "b397dea7",
   "metadata": {},
   "source": [
    "### Testing with Dart Locally"
   ]
  },
  {
   "cell_type": "code",
   "execution_count": null,
   "id": "7a28b048",
   "metadata": {
    "scrolled": true
   },
   "outputs": [],
   "source": [
    "# !pip install darts"
   ]
  },
  {
   "cell_type": "code",
   "execution_count": 13,
   "id": "2f610dee",
   "metadata": {
    "scrolled": true
   },
   "outputs": [
    {
     "name": "stderr",
     "output_type": "stream",
     "text": [
      "Importing plotly failed. Interactive plots will not work.\n"
     ]
    }
   ],
   "source": [
    "import darts\n",
    "from darts import TimeSeries\n",
    "from darts.models import FFT\n",
    "from darts.metrics import mae, mape"
   ]
  },
  {
   "cell_type": "code",
   "execution_count": 14,
   "id": "5ed10297",
   "metadata": {
    "scrolled": true
   },
   "outputs": [
    {
     "data": {
      "text/html": [
       "<div><svg style=\"position: absolute; width: 0; height: 0; overflow: hidden\">\n",
       "<defs>\n",
       "<symbol id=\"icon-database\" viewBox=\"0 0 32 32\">\n",
       "<path d=\"M16 0c-8.837 0-16 2.239-16 5v4c0 2.761 7.163 5 16 5s16-2.239 16-5v-4c0-2.761-7.163-5-16-5z\"></path>\n",
       "<path d=\"M16 17c-8.837 0-16-2.239-16-5v6c0 2.761 7.163 5 16 5s16-2.239 16-5v-6c0 2.761-7.163 5-16 5z\"></path>\n",
       "<path d=\"M16 26c-8.837 0-16-2.239-16-5v6c0 2.761 7.163 5 16 5s16-2.239 16-5v-6c0 2.761-7.163 5-16 5z\"></path>\n",
       "</symbol>\n",
       "<symbol id=\"icon-file-text2\" viewBox=\"0 0 32 32\">\n",
       "<path d=\"M28.681 7.159c-0.694-0.947-1.662-2.053-2.724-3.116s-2.169-2.030-3.116-2.724c-1.612-1.182-2.393-1.319-2.841-1.319h-15.5c-1.378 0-2.5 1.121-2.5 2.5v27c0 1.378 1.122 2.5 2.5 2.5h23c1.378 0 2.5-1.122 2.5-2.5v-19.5c0-0.448-0.137-1.23-1.319-2.841zM24.543 5.457c0.959 0.959 1.712 1.825 2.268 2.543h-4.811v-4.811c0.718 0.556 1.584 1.309 2.543 2.268zM28 29.5c0 0.271-0.229 0.5-0.5 0.5h-23c-0.271 0-0.5-0.229-0.5-0.5v-27c0-0.271 0.229-0.5 0.5-0.5 0 0 15.499-0 15.5 0v7c0 0.552 0.448 1 1 1h7v19.5z\"></path>\n",
       "<path d=\"M23 26h-14c-0.552 0-1-0.448-1-1s0.448-1 1-1h14c0.552 0 1 0.448 1 1s-0.448 1-1 1z\"></path>\n",
       "<path d=\"M23 22h-14c-0.552 0-1-0.448-1-1s0.448-1 1-1h14c0.552 0 1 0.448 1 1s-0.448 1-1 1z\"></path>\n",
       "<path d=\"M23 18h-14c-0.552 0-1-0.448-1-1s0.448-1 1-1h14c0.552 0 1 0.448 1 1s-0.448 1-1 1z\"></path>\n",
       "</symbol>\n",
       "</defs>\n",
       "</svg>\n",
       "<style>/* CSS stylesheet for displaying xarray objects in jupyterlab.\n",
       " *\n",
       " */\n",
       "\n",
       ":root {\n",
       "  --xr-font-color0: var(--jp-content-font-color0, rgba(0, 0, 0, 1));\n",
       "  --xr-font-color2: var(--jp-content-font-color2, rgba(0, 0, 0, 0.54));\n",
       "  --xr-font-color3: var(--jp-content-font-color3, rgba(0, 0, 0, 0.38));\n",
       "  --xr-border-color: var(--jp-border-color2, #e0e0e0);\n",
       "  --xr-disabled-color: var(--jp-layout-color3, #bdbdbd);\n",
       "  --xr-background-color: var(--jp-layout-color0, white);\n",
       "  --xr-background-color-row-even: var(--jp-layout-color1, white);\n",
       "  --xr-background-color-row-odd: var(--jp-layout-color2, #eeeeee);\n",
       "}\n",
       "\n",
       "html[theme=dark],\n",
       "body[data-theme=dark],\n",
       "body.vscode-dark {\n",
       "  --xr-font-color0: rgba(255, 255, 255, 1);\n",
       "  --xr-font-color2: rgba(255, 255, 255, 0.54);\n",
       "  --xr-font-color3: rgba(255, 255, 255, 0.38);\n",
       "  --xr-border-color: #1F1F1F;\n",
       "  --xr-disabled-color: #515151;\n",
       "  --xr-background-color: #111111;\n",
       "  --xr-background-color-row-even: #111111;\n",
       "  --xr-background-color-row-odd: #313131;\n",
       "}\n",
       "\n",
       ".xr-wrap {\n",
       "  display: block !important;\n",
       "  min-width: 300px;\n",
       "  max-width: 700px;\n",
       "}\n",
       "\n",
       ".xr-text-repr-fallback {\n",
       "  /* fallback to plain text repr when CSS is not injected (untrusted notebook) */\n",
       "  display: none;\n",
       "}\n",
       "\n",
       ".xr-header {\n",
       "  padding-top: 6px;\n",
       "  padding-bottom: 6px;\n",
       "  margin-bottom: 4px;\n",
       "  border-bottom: solid 1px var(--xr-border-color);\n",
       "}\n",
       "\n",
       ".xr-header > div,\n",
       ".xr-header > ul {\n",
       "  display: inline;\n",
       "  margin-top: 0;\n",
       "  margin-bottom: 0;\n",
       "}\n",
       "\n",
       ".xr-obj-type,\n",
       ".xr-array-name {\n",
       "  margin-left: 2px;\n",
       "  margin-right: 10px;\n",
       "}\n",
       "\n",
       ".xr-obj-type {\n",
       "  color: var(--xr-font-color2);\n",
       "}\n",
       "\n",
       ".xr-sections {\n",
       "  padding-left: 0 !important;\n",
       "  display: grid;\n",
       "  grid-template-columns: 150px auto auto 1fr 20px 20px;\n",
       "}\n",
       "\n",
       ".xr-section-item {\n",
       "  display: contents;\n",
       "}\n",
       "\n",
       ".xr-section-item input {\n",
       "  display: none;\n",
       "}\n",
       "\n",
       ".xr-section-item input + label {\n",
       "  color: var(--xr-disabled-color);\n",
       "}\n",
       "\n",
       ".xr-section-item input:enabled + label {\n",
       "  cursor: pointer;\n",
       "  color: var(--xr-font-color2);\n",
       "}\n",
       "\n",
       ".xr-section-item input:enabled + label:hover {\n",
       "  color: var(--xr-font-color0);\n",
       "}\n",
       "\n",
       ".xr-section-summary {\n",
       "  grid-column: 1;\n",
       "  color: var(--xr-font-color2);\n",
       "  font-weight: 500;\n",
       "}\n",
       "\n",
       ".xr-section-summary > span {\n",
       "  display: inline-block;\n",
       "  padding-left: 0.5em;\n",
       "}\n",
       "\n",
       ".xr-section-summary-in:disabled + label {\n",
       "  color: var(--xr-font-color2);\n",
       "}\n",
       "\n",
       ".xr-section-summary-in + label:before {\n",
       "  display: inline-block;\n",
       "  content: '►';\n",
       "  font-size: 11px;\n",
       "  width: 15px;\n",
       "  text-align: center;\n",
       "}\n",
       "\n",
       ".xr-section-summary-in:disabled + label:before {\n",
       "  color: var(--xr-disabled-color);\n",
       "}\n",
       "\n",
       ".xr-section-summary-in:checked + label:before {\n",
       "  content: '▼';\n",
       "}\n",
       "\n",
       ".xr-section-summary-in:checked + label > span {\n",
       "  display: none;\n",
       "}\n",
       "\n",
       ".xr-section-summary,\n",
       ".xr-section-inline-details {\n",
       "  padding-top: 4px;\n",
       "  padding-bottom: 4px;\n",
       "}\n",
       "\n",
       ".xr-section-inline-details {\n",
       "  grid-column: 2 / -1;\n",
       "}\n",
       "\n",
       ".xr-section-details {\n",
       "  display: none;\n",
       "  grid-column: 1 / -1;\n",
       "  margin-bottom: 5px;\n",
       "}\n",
       "\n",
       ".xr-section-summary-in:checked ~ .xr-section-details {\n",
       "  display: contents;\n",
       "}\n",
       "\n",
       ".xr-array-wrap {\n",
       "  grid-column: 1 / -1;\n",
       "  display: grid;\n",
       "  grid-template-columns: 20px auto;\n",
       "}\n",
       "\n",
       ".xr-array-wrap > label {\n",
       "  grid-column: 1;\n",
       "  vertical-align: top;\n",
       "}\n",
       "\n",
       ".xr-preview {\n",
       "  color: var(--xr-font-color3);\n",
       "}\n",
       "\n",
       ".xr-array-preview,\n",
       ".xr-array-data {\n",
       "  padding: 0 5px !important;\n",
       "  grid-column: 2;\n",
       "}\n",
       "\n",
       ".xr-array-data,\n",
       ".xr-array-in:checked ~ .xr-array-preview {\n",
       "  display: none;\n",
       "}\n",
       "\n",
       ".xr-array-in:checked ~ .xr-array-data,\n",
       ".xr-array-preview {\n",
       "  display: inline-block;\n",
       "}\n",
       "\n",
       ".xr-dim-list {\n",
       "  display: inline-block !important;\n",
       "  list-style: none;\n",
       "  padding: 0 !important;\n",
       "  margin: 0;\n",
       "}\n",
       "\n",
       ".xr-dim-list li {\n",
       "  display: inline-block;\n",
       "  padding: 0;\n",
       "  margin: 0;\n",
       "}\n",
       "\n",
       ".xr-dim-list:before {\n",
       "  content: '(';\n",
       "}\n",
       "\n",
       ".xr-dim-list:after {\n",
       "  content: ')';\n",
       "}\n",
       "\n",
       ".xr-dim-list li:not(:last-child):after {\n",
       "  content: ',';\n",
       "  padding-right: 5px;\n",
       "}\n",
       "\n",
       ".xr-has-index {\n",
       "  font-weight: bold;\n",
       "}\n",
       "\n",
       ".xr-var-list,\n",
       ".xr-var-item {\n",
       "  display: contents;\n",
       "}\n",
       "\n",
       ".xr-var-item > div,\n",
       ".xr-var-item label,\n",
       ".xr-var-item > .xr-var-name span {\n",
       "  background-color: var(--xr-background-color-row-even);\n",
       "  margin-bottom: 0;\n",
       "}\n",
       "\n",
       ".xr-var-item > .xr-var-name:hover span {\n",
       "  padding-right: 5px;\n",
       "}\n",
       "\n",
       ".xr-var-list > li:nth-child(odd) > div,\n",
       ".xr-var-list > li:nth-child(odd) > label,\n",
       ".xr-var-list > li:nth-child(odd) > .xr-var-name span {\n",
       "  background-color: var(--xr-background-color-row-odd);\n",
       "}\n",
       "\n",
       ".xr-var-name {\n",
       "  grid-column: 1;\n",
       "}\n",
       "\n",
       ".xr-var-dims {\n",
       "  grid-column: 2;\n",
       "}\n",
       "\n",
       ".xr-var-dtype {\n",
       "  grid-column: 3;\n",
       "  text-align: right;\n",
       "  color: var(--xr-font-color2);\n",
       "}\n",
       "\n",
       ".xr-var-preview {\n",
       "  grid-column: 4;\n",
       "}\n",
       "\n",
       ".xr-index-preview {\n",
       "  grid-column: 2 / 5;\n",
       "  color: var(--xr-font-color2);\n",
       "}\n",
       "\n",
       ".xr-var-name,\n",
       ".xr-var-dims,\n",
       ".xr-var-dtype,\n",
       ".xr-preview,\n",
       ".xr-attrs dt {\n",
       "  white-space: nowrap;\n",
       "  overflow: hidden;\n",
       "  text-overflow: ellipsis;\n",
       "  padding-right: 10px;\n",
       "}\n",
       "\n",
       ".xr-var-name:hover,\n",
       ".xr-var-dims:hover,\n",
       ".xr-var-dtype:hover,\n",
       ".xr-attrs dt:hover {\n",
       "  overflow: visible;\n",
       "  width: auto;\n",
       "  z-index: 1;\n",
       "}\n",
       "\n",
       ".xr-var-attrs,\n",
       ".xr-var-data,\n",
       ".xr-index-data {\n",
       "  display: none;\n",
       "  background-color: var(--xr-background-color) !important;\n",
       "  padding-bottom: 5px !important;\n",
       "}\n",
       "\n",
       ".xr-var-attrs-in:checked ~ .xr-var-attrs,\n",
       ".xr-var-data-in:checked ~ .xr-var-data,\n",
       ".xr-index-data-in:checked ~ .xr-index-data {\n",
       "  display: block;\n",
       "}\n",
       "\n",
       ".xr-var-data > table {\n",
       "  float: right;\n",
       "}\n",
       "\n",
       ".xr-var-name span,\n",
       ".xr-var-data,\n",
       ".xr-index-name div,\n",
       ".xr-index-data,\n",
       ".xr-attrs {\n",
       "  padding-left: 25px !important;\n",
       "}\n",
       "\n",
       ".xr-attrs,\n",
       ".xr-var-attrs,\n",
       ".xr-var-data,\n",
       ".xr-index-data {\n",
       "  grid-column: 1 / -1;\n",
       "}\n",
       "\n",
       "dl.xr-attrs {\n",
       "  padding: 0;\n",
       "  margin: 0;\n",
       "  display: grid;\n",
       "  grid-template-columns: 125px auto;\n",
       "}\n",
       "\n",
       ".xr-attrs dt,\n",
       ".xr-attrs dd {\n",
       "  padding: 0;\n",
       "  margin: 0;\n",
       "  float: left;\n",
       "  padding-right: 10px;\n",
       "  width: auto;\n",
       "}\n",
       "\n",
       ".xr-attrs dt {\n",
       "  font-weight: normal;\n",
       "  grid-column: 1;\n",
       "}\n",
       "\n",
       ".xr-attrs dt:hover span {\n",
       "  display: inline-block;\n",
       "  background: var(--xr-background-color);\n",
       "  padding-right: 10px;\n",
       "}\n",
       "\n",
       ".xr-attrs dd {\n",
       "  grid-column: 2;\n",
       "  white-space: pre-wrap;\n",
       "  word-break: break-all;\n",
       "}\n",
       "\n",
       ".xr-icon-database,\n",
       ".xr-icon-file-text2,\n",
       ".xr-no-icon {\n",
       "  display: inline-block;\n",
       "  vertical-align: middle;\n",
       "  width: 1em;\n",
       "  height: 1.5em !important;\n",
       "  stroke-width: 0;\n",
       "  stroke: currentColor;\n",
       "  fill: currentColor;\n",
       "}\n",
       "</style><pre class='xr-text-repr-fallback'>&lt;TimeSeries (DataArray) (time: 600, component: 1, sample: 1)&gt;\n",
       "array([[[184.]],\n",
       "\n",
       "       [[184.]],\n",
       "\n",
       "       [[170.]],\n",
       "\n",
       "       [[149.]],\n",
       "\n",
       "       [[133.]],\n",
       "\n",
       "       [[141.]],\n",
       "\n",
       "       [[155.]],\n",
       "\n",
       "       [[174.]],\n",
       "\n",
       "       [[184.]],\n",
       "\n",
       "       [[174.]],\n",
       "\n",
       "...\n",
       "\n",
       "       [[194.]],\n",
       "\n",
       "       [[173.]],\n",
       "\n",
       "       [[150.]],\n",
       "\n",
       "       [[154.]],\n",
       "\n",
       "       [[177.]],\n",
       "\n",
       "       [[190.]],\n",
       "\n",
       "       [[196.]],\n",
       "\n",
       "       [[185.]],\n",
       "\n",
       "       [[167.]],\n",
       "\n",
       "       [[156.]]])\n",
       "Coordinates:\n",
       "  * time       (time) datetime64[ns] 2021-11-16 2021-11-17 ... 2023-07-08\n",
       "  * component  (component) object &#x27;VALUE&#x27;\n",
       "Dimensions without coordinates: sample\n",
       "Attributes:\n",
       "    static_covariates:  None\n",
       "    hierarchy:          None</pre><div class='xr-wrap' style='display:none'><div class='xr-header'><div class='xr-obj-type'>TimeSeries (DataArray)</div><div class='xr-array-name'></div><ul class='xr-dim-list'><li><span class='xr-has-index'>time</span>: 600</li><li><span class='xr-has-index'>component</span>: 1</li><li><span>sample</span>: 1</li></ul></div><ul class='xr-sections'><li class='xr-section-item'><div class='xr-array-wrap'><input id='section-2f7f604e-9ca2-43f9-a058-9579de0c8965' class='xr-array-in' type='checkbox' checked><label for='section-2f7f604e-9ca2-43f9-a058-9579de0c8965' title='Show/hide data repr'><svg class='icon xr-icon-database'><use xlink:href='#icon-database'></use></svg></label><div class='xr-array-preview xr-preview'><span>184.0 184.0 170.0 149.0 133.0 141.0 ... 190.0 196.0 185.0 167.0 156.0</span></div><div class='xr-array-data'><pre>array([[[184.]],\n",
       "\n",
       "       [[184.]],\n",
       "\n",
       "       [[170.]],\n",
       "\n",
       "       [[149.]],\n",
       "\n",
       "       [[133.]],\n",
       "\n",
       "       [[141.]],\n",
       "\n",
       "       [[155.]],\n",
       "\n",
       "       [[174.]],\n",
       "\n",
       "       [[184.]],\n",
       "\n",
       "       [[174.]],\n",
       "\n",
       "...\n",
       "\n",
       "       [[194.]],\n",
       "\n",
       "       [[173.]],\n",
       "\n",
       "       [[150.]],\n",
       "\n",
       "       [[154.]],\n",
       "\n",
       "       [[177.]],\n",
       "\n",
       "       [[190.]],\n",
       "\n",
       "       [[196.]],\n",
       "\n",
       "       [[185.]],\n",
       "\n",
       "       [[167.]],\n",
       "\n",
       "       [[156.]]])</pre></div></div></li><li class='xr-section-item'><input id='section-147e7979-663d-45cf-a278-2168d6bbbef5' class='xr-section-summary-in' type='checkbox'  checked><label for='section-147e7979-663d-45cf-a278-2168d6bbbef5' class='xr-section-summary' >Coordinates: <span>(2)</span></label><div class='xr-section-inline-details'></div><div class='xr-section-details'><ul class='xr-var-list'><li class='xr-var-item'><div class='xr-var-name'><span class='xr-has-index'>time</span></div><div class='xr-var-dims'>(time)</div><div class='xr-var-dtype'>datetime64[ns]</div><div class='xr-var-preview xr-preview'>2021-11-16 ... 2023-07-08</div><input id='attrs-fbd0440f-dbae-49ea-af3f-0e504239cacb' class='xr-var-attrs-in' type='checkbox' disabled><label for='attrs-fbd0440f-dbae-49ea-af3f-0e504239cacb' title='Show/Hide attributes'><svg class='icon xr-icon-file-text2'><use xlink:href='#icon-file-text2'></use></svg></label><input id='data-ff74d757-0d42-44c8-84b1-92d1ae4f8b20' class='xr-var-data-in' type='checkbox'><label for='data-ff74d757-0d42-44c8-84b1-92d1ae4f8b20' title='Show/Hide data repr'><svg class='icon xr-icon-database'><use xlink:href='#icon-database'></use></svg></label><div class='xr-var-attrs'><dl class='xr-attrs'></dl></div><div class='xr-var-data'><pre>array([&#x27;2021-11-16T00:00:00.000000000&#x27;, &#x27;2021-11-17T00:00:00.000000000&#x27;,\n",
       "       &#x27;2021-11-18T00:00:00.000000000&#x27;, ..., &#x27;2023-07-06T00:00:00.000000000&#x27;,\n",
       "       &#x27;2023-07-07T00:00:00.000000000&#x27;, &#x27;2023-07-08T00:00:00.000000000&#x27;],\n",
       "      dtype=&#x27;datetime64[ns]&#x27;)</pre></div></li><li class='xr-var-item'><div class='xr-var-name'><span class='xr-has-index'>component</span></div><div class='xr-var-dims'>(component)</div><div class='xr-var-dtype'>object</div><div class='xr-var-preview xr-preview'>&#x27;VALUE&#x27;</div><input id='attrs-6ed6c652-5c22-45f7-b4e6-40e714474312' class='xr-var-attrs-in' type='checkbox' disabled><label for='attrs-6ed6c652-5c22-45f7-b4e6-40e714474312' title='Show/Hide attributes'><svg class='icon xr-icon-file-text2'><use xlink:href='#icon-file-text2'></use></svg></label><input id='data-c4647c5d-cd37-49e0-be83-dd699b45b952' class='xr-var-data-in' type='checkbox'><label for='data-c4647c5d-cd37-49e0-be83-dd699b45b952' title='Show/Hide data repr'><svg class='icon xr-icon-database'><use xlink:href='#icon-database'></use></svg></label><div class='xr-var-attrs'><dl class='xr-attrs'></dl></div><div class='xr-var-data'><pre>array([&#x27;VALUE&#x27;], dtype=object)</pre></div></li></ul></div></li><li class='xr-section-item'><input id='section-c3f91395-3812-48b8-8371-8cf79a649d59' class='xr-section-summary-in' type='checkbox'  ><label for='section-c3f91395-3812-48b8-8371-8cf79a649d59' class='xr-section-summary' >Indexes: <span>(2)</span></label><div class='xr-section-inline-details'></div><div class='xr-section-details'><ul class='xr-var-list'><li class='xr-var-item'><div class='xr-index-name'><div>time</div></div><div class='xr-index-preview'>PandasIndex</div><div></div><input id='index-4c474ff5-3839-4432-bcdf-4c7829c88efb' class='xr-index-data-in' type='checkbox'/><label for='index-4c474ff5-3839-4432-bcdf-4c7829c88efb' title='Show/Hide index repr'><svg class='icon xr-icon-database'><use xlink:href='#icon-database'></use></svg></label><div class='xr-index-data'><pre>PandasIndex(DatetimeIndex([&#x27;2021-11-16&#x27;, &#x27;2021-11-17&#x27;, &#x27;2021-11-18&#x27;, &#x27;2021-11-19&#x27;,\n",
       "               &#x27;2021-11-20&#x27;, &#x27;2021-11-21&#x27;, &#x27;2021-11-22&#x27;, &#x27;2021-11-23&#x27;,\n",
       "               &#x27;2021-11-24&#x27;, &#x27;2021-11-25&#x27;,\n",
       "               ...\n",
       "               &#x27;2023-06-29&#x27;, &#x27;2023-06-30&#x27;, &#x27;2023-07-01&#x27;, &#x27;2023-07-02&#x27;,\n",
       "               &#x27;2023-07-03&#x27;, &#x27;2023-07-04&#x27;, &#x27;2023-07-05&#x27;, &#x27;2023-07-06&#x27;,\n",
       "               &#x27;2023-07-07&#x27;, &#x27;2023-07-08&#x27;],\n",
       "              dtype=&#x27;datetime64[ns]&#x27;, name=&#x27;time&#x27;, length=600, freq=&#x27;D&#x27;))</pre></div></li><li class='xr-var-item'><div class='xr-index-name'><div>component</div></div><div class='xr-index-preview'>PandasIndex</div><div></div><input id='index-1ea26446-fc20-44c1-bdd0-a03bf94545c0' class='xr-index-data-in' type='checkbox'/><label for='index-1ea26446-fc20-44c1-bdd0-a03bf94545c0' title='Show/Hide index repr'><svg class='icon xr-icon-database'><use xlink:href='#icon-database'></use></svg></label><div class='xr-index-data'><pre>PandasIndex(Index([&#x27;VALUE&#x27;], dtype=&#x27;object&#x27;, name=&#x27;component&#x27;))</pre></div></li></ul></div></li><li class='xr-section-item'><input id='section-f177675f-1469-4c2e-824b-213b371ffebd' class='xr-section-summary-in' type='checkbox'  checked><label for='section-f177675f-1469-4c2e-824b-213b371ffebd' class='xr-section-summary' >Attributes: <span>(2)</span></label><div class='xr-section-inline-details'></div><div class='xr-section-details'><dl class='xr-attrs'><dt><span>static_covariates :</span></dt><dd>None</dd><dt><span>hierarchy :</span></dt><dd>None</dd></dl></div></li></ul></div></div>"
      ],
      "text/plain": [
       "<TimeSeries (DataArray) (time: 600, component: 1, sample: 1)>\n",
       "array([[[184.]],\n",
       "\n",
       "       [[184.]],\n",
       "\n",
       "       [[170.]],\n",
       "\n",
       "       [[149.]],\n",
       "\n",
       "       [[133.]],\n",
       "\n",
       "       [[141.]],\n",
       "\n",
       "       [[155.]],\n",
       "\n",
       "       [[174.]],\n",
       "\n",
       "       [[184.]],\n",
       "\n",
       "       [[174.]],\n",
       "\n",
       "...\n",
       "\n",
       "       [[194.]],\n",
       "\n",
       "       [[173.]],\n",
       "\n",
       "       [[150.]],\n",
       "\n",
       "       [[154.]],\n",
       "\n",
       "       [[177.]],\n",
       "\n",
       "       [[190.]],\n",
       "\n",
       "       [[196.]],\n",
       "\n",
       "       [[185.]],\n",
       "\n",
       "       [[167.]],\n",
       "\n",
       "       [[156.]]])\n",
       "Coordinates:\n",
       "  * time       (time) datetime64[ns] 2021-11-16 2021-11-17 ... 2023-07-08\n",
       "  * component  (component) object 'VALUE'\n",
       "Dimensions without coordinates: sample\n",
       "Attributes:\n",
       "    static_covariates:  None\n",
       "    hierarchy:          None"
      ]
     },
     "execution_count": 14,
     "metadata": {},
     "output_type": "execute_result"
    }
   ],
   "source": [
    "# Train + Forecast Length\n",
    "train_length = 600\n",
    "forecast_horizon = 30\n",
    "train_end = max(df_data['TIMESTAMP']) - pd.Timedelta(days = 30)\n",
    "train_start = train_end - pd.Timedelta(days = 600)\n",
    "df_input = df_data.loc[(df_data['TIMESTAMP'] >= train_start) &\n",
    "                        (df_data['TIMESTAMP'] < train_end)].reset_index(drop=True)\n",
    "df_input = df_input.set_index('TIMESTAMP')\n",
    "df_input.index.name = 'time'\n",
    "\n",
    "ts_train = TimeSeries.from_dataframe(df_input, fill_missing_dates=True, freq='D')\n",
    "ts_train"
   ]
  },
  {
   "cell_type": "code",
   "execution_count": 15,
   "id": "c20a1f0c",
   "metadata": {
    "scrolled": true
   },
   "outputs": [
    {
     "data": {
      "text/plain": [
       "XGBModel(lags=10, lags_past_covariates=None, lags_future_covariates=None, output_chunk_length=1, add_encoders=None, likelihood=None, quantiles=None, random_state=None, multi_models=True, use_static_covariates=True, n_estimators=100, max_depth=5)"
      ]
     },
     "execution_count": 15,
     "metadata": {},
     "output_type": "execute_result"
    }
   ],
   "source": [
    "from darts.models import XGBModel\n",
    "my_model = XGBModel(lags = 10, n_estimators=100, max_depth=5)\n",
    "my_model.fit(ts_train)"
   ]
  },
  {
   "cell_type": "code",
   "execution_count": 17,
   "id": "39873efc-fbf0-486f-a0fc-639c6dbd9845",
   "metadata": {
    "scrolled": true
   },
   "outputs": [
    {
     "data": {
      "text/html": [
       "<div>\n",
       "<style scoped>\n",
       "    .dataframe tbody tr th:only-of-type {\n",
       "        vertical-align: middle;\n",
       "    }\n",
       "\n",
       "    .dataframe tbody tr th {\n",
       "        vertical-align: top;\n",
       "    }\n",
       "\n",
       "    .dataframe thead th {\n",
       "        text-align: right;\n",
       "    }\n",
       "</style>\n",
       "<table border=\"1\" class=\"dataframe\">\n",
       "  <thead>\n",
       "    <tr style=\"text-align: right;\">\n",
       "      <th></th>\n",
       "      <th>TIMESTAMP</th>\n",
       "      <th>FORECAST</th>\n",
       "    </tr>\n",
       "  </thead>\n",
       "  <tbody>\n",
       "    <tr>\n",
       "      <th>0</th>\n",
       "      <td>2023-07-09</td>\n",
       "      <td>154.098129</td>\n",
       "    </tr>\n",
       "    <tr>\n",
       "      <th>1</th>\n",
       "      <td>2023-07-10</td>\n",
       "      <td>177.000229</td>\n",
       "    </tr>\n",
       "    <tr>\n",
       "      <th>2</th>\n",
       "      <td>2023-07-11</td>\n",
       "      <td>194.219437</td>\n",
       "    </tr>\n",
       "    <tr>\n",
       "      <th>3</th>\n",
       "      <td>2023-07-12</td>\n",
       "      <td>196.041092</td>\n",
       "    </tr>\n",
       "    <tr>\n",
       "      <th>4</th>\n",
       "      <td>2023-07-13</td>\n",
       "      <td>178.886414</td>\n",
       "    </tr>\n",
       "    <tr>\n",
       "      <th>5</th>\n",
       "      <td>2023-07-14</td>\n",
       "      <td>167.056152</td>\n",
       "    </tr>\n",
       "    <tr>\n",
       "      <th>6</th>\n",
       "      <td>2023-07-15</td>\n",
       "      <td>153.515213</td>\n",
       "    </tr>\n",
       "    <tr>\n",
       "      <th>7</th>\n",
       "      <td>2023-07-16</td>\n",
       "      <td>153.075653</td>\n",
       "    </tr>\n",
       "    <tr>\n",
       "      <th>8</th>\n",
       "      <td>2023-07-17</td>\n",
       "      <td>177.338379</td>\n",
       "    </tr>\n",
       "    <tr>\n",
       "      <th>9</th>\n",
       "      <td>2023-07-18</td>\n",
       "      <td>195.800369</td>\n",
       "    </tr>\n",
       "    <tr>\n",
       "      <th>10</th>\n",
       "      <td>2023-07-19</td>\n",
       "      <td>194.430466</td>\n",
       "    </tr>\n",
       "    <tr>\n",
       "      <th>11</th>\n",
       "      <td>2023-07-20</td>\n",
       "      <td>184.703201</td>\n",
       "    </tr>\n",
       "    <tr>\n",
       "      <th>12</th>\n",
       "      <td>2023-07-21</td>\n",
       "      <td>166.946381</td>\n",
       "    </tr>\n",
       "    <tr>\n",
       "      <th>13</th>\n",
       "      <td>2023-07-22</td>\n",
       "      <td>154.664413</td>\n",
       "    </tr>\n",
       "    <tr>\n",
       "      <th>14</th>\n",
       "      <td>2023-07-23</td>\n",
       "      <td>153.762146</td>\n",
       "    </tr>\n",
       "    <tr>\n",
       "      <th>15</th>\n",
       "      <td>2023-07-24</td>\n",
       "      <td>176.461807</td>\n",
       "    </tr>\n",
       "    <tr>\n",
       "      <th>16</th>\n",
       "      <td>2023-07-25</td>\n",
       "      <td>195.846237</td>\n",
       "    </tr>\n",
       "    <tr>\n",
       "      <th>17</th>\n",
       "      <td>2023-07-26</td>\n",
       "      <td>196.354233</td>\n",
       "    </tr>\n",
       "    <tr>\n",
       "      <th>18</th>\n",
       "      <td>2023-07-27</td>\n",
       "      <td>181.805481</td>\n",
       "    </tr>\n",
       "    <tr>\n",
       "      <th>19</th>\n",
       "      <td>2023-07-28</td>\n",
       "      <td>167.864731</td>\n",
       "    </tr>\n",
       "    <tr>\n",
       "      <th>20</th>\n",
       "      <td>2023-07-29</td>\n",
       "      <td>152.877487</td>\n",
       "    </tr>\n",
       "    <tr>\n",
       "      <th>21</th>\n",
       "      <td>2023-07-30</td>\n",
       "      <td>155.224548</td>\n",
       "    </tr>\n",
       "    <tr>\n",
       "      <th>22</th>\n",
       "      <td>2023-07-31</td>\n",
       "      <td>175.632339</td>\n",
       "    </tr>\n",
       "    <tr>\n",
       "      <th>23</th>\n",
       "      <td>2023-08-01</td>\n",
       "      <td>195.348694</td>\n",
       "    </tr>\n",
       "    <tr>\n",
       "      <th>24</th>\n",
       "      <td>2023-08-02</td>\n",
       "      <td>198.228134</td>\n",
       "    </tr>\n",
       "    <tr>\n",
       "      <th>25</th>\n",
       "      <td>2023-08-03</td>\n",
       "      <td>184.869492</td>\n",
       "    </tr>\n",
       "    <tr>\n",
       "      <th>26</th>\n",
       "      <td>2023-08-04</td>\n",
       "      <td>166.549332</td>\n",
       "    </tr>\n",
       "    <tr>\n",
       "      <th>27</th>\n",
       "      <td>2023-08-05</td>\n",
       "      <td>153.542572</td>\n",
       "    </tr>\n",
       "    <tr>\n",
       "      <th>28</th>\n",
       "      <td>2023-08-06</td>\n",
       "      <td>155.645676</td>\n",
       "    </tr>\n",
       "    <tr>\n",
       "      <th>29</th>\n",
       "      <td>2023-08-07</td>\n",
       "      <td>176.744888</td>\n",
       "    </tr>\n",
       "  </tbody>\n",
       "</table>\n",
       "</div>"
      ],
      "text/plain": [
       "    TIMESTAMP    FORECAST\n",
       "0  2023-07-09  154.098129\n",
       "1  2023-07-10  177.000229\n",
       "2  2023-07-11  194.219437\n",
       "3  2023-07-12  196.041092\n",
       "4  2023-07-13  178.886414\n",
       "5  2023-07-14  167.056152\n",
       "6  2023-07-15  153.515213\n",
       "7  2023-07-16  153.075653\n",
       "8  2023-07-17  177.338379\n",
       "9  2023-07-18  195.800369\n",
       "10 2023-07-19  194.430466\n",
       "11 2023-07-20  184.703201\n",
       "12 2023-07-21  166.946381\n",
       "13 2023-07-22  154.664413\n",
       "14 2023-07-23  153.762146\n",
       "15 2023-07-24  176.461807\n",
       "16 2023-07-25  195.846237\n",
       "17 2023-07-26  196.354233\n",
       "18 2023-07-27  181.805481\n",
       "19 2023-07-28  167.864731\n",
       "20 2023-07-29  152.877487\n",
       "21 2023-07-30  155.224548\n",
       "22 2023-07-31  175.632339\n",
       "23 2023-08-01  195.348694\n",
       "24 2023-08-02  198.228134\n",
       "25 2023-08-03  184.869492\n",
       "26 2023-08-04  166.549332\n",
       "27 2023-08-05  153.542572\n",
       "28 2023-08-06  155.645676\n",
       "29 2023-08-07  176.744888"
      ]
     },
     "execution_count": 17,
     "metadata": {},
     "output_type": "execute_result"
    }
   ],
   "source": [
    "ts_forecast = my_model.predict(forecast_horizon)\n",
    "data = ts_forecast.pd_dataframe().reset_index().values\n",
    "df_forecasted = pd.DataFrame(data, columns = ['TIMESTAMP','FORECAST'])\n",
    "df_forecasted"
   ]
  },
  {
   "cell_type": "code",
   "execution_count": 18,
   "id": "d711832d-c9a3-4424-a312-bfe5d7c0c637",
   "metadata": {},
   "outputs": [
    {
     "data": {
      "text/plain": [
       "<Axes: xlabel='TIMESTAMP'>"
      ]
     },
     "execution_count": 18,
     "metadata": {},
     "output_type": "execute_result"
    },
    {
     "data": {
      "image/png": "[encoded data removed]",
      "text/plain": [
       "<Figure size 640x480 with 1 Axes>"
      ]
     },
     "metadata": {},
     "output_type": "display_data"
    }
   ],
   "source": [
    "df_compare = df_data.merge(df_forecasted, how='left', left_on='TIMESTAMP', right_on='TIMESTAMP')\n",
    "df_compare = df_compare.set_index('TIMESTAMP')\n",
    "df_compare.iloc[-90:].plot()"
   ]
  },
  {
   "cell_type": "code",
   "execution_count": 19,
   "id": "90779e69-6cae-42fb-b9de-6c9bd766af21",
   "metadata": {},
   "outputs": [
    {
     "name": "stdout",
     "output_type": "stream",
     "text": [
      "MAPE=  1.5275283859880622\n"
     ]
    }
   ],
   "source": [
    "df_res = df_compare.dropna()\n",
    "df_res = (df_res['VALUE'] - df_res['FORECAST'])/df_res['VALUE'] * 100\n",
    "print('MAPE= ',df_res.mean())"
   ]
  },
  {
   "cell_type": "code",
   "execution_count": null,
   "id": "e18fea84-265a-42af-8884-dece920c2d49",
   "metadata": {},
   "outputs": [],
   "source": []
  },
  {
   "cell_type": "markdown",
   "id": "99c7dd1c",
   "metadata": {},
   "source": [
    "# Creating UDTF for multi-node parallelized model training"
   ]
  },
  {
   "cell_type": "markdown",
   "id": "7ef715fc",
   "metadata": {},
   "source": [
    "### Upload library to Snowflake Stage\n",
    "We are uploading to a stage as this library is not available through the Snowflake Anaconda Channel."
   ]
  },
  {
   "cell_type": "code",
   "execution_count": 8,
   "id": "b4c8c7c1-0a77-465a-bb19-5f9a2125790b",
   "metadata": {},
   "outputs": [
    {
     "data": {
      "text/plain": [
       "[Row(status='Statement executed successfully.')]"
      ]
     },
     "execution_count": 8,
     "metadata": {},
     "output_type": "execute_result"
    }
   ],
   "source": [
    "session.sql('USE DATABASE TIME_SERIES').collect()\n",
    "session.sql('USE SCHEMA PUBLIC').collect()\n",
    "session.sql('USE WAREHOUSE ML_WORKLOADS').collect()"
   ]
  },
  {
   "cell_type": "code",
   "execution_count": 11,
   "id": "bf8ef688-636d-4c80-87bc-7143deadaab9",
   "metadata": {},
   "outputs": [
    {
     "data": {
      "text/plain": [
       "[Row(status='Stage area ML_MODELS successfully created.')]"
      ]
     },
     "execution_count": 11,
     "metadata": {},
     "output_type": "execute_result"
    }
   ],
   "source": [
    "session.sql('CREATE STAGE IF NOT EXISTS ML_MODELS').collect()"
   ]
  },
  {
   "cell_type": "code",
   "execution_count": 14,
   "id": "869fc8d7-471d-40d7-ae27-0571581205e2",
   "metadata": {},
   "outputs": [
    {
     "data": {
      "text/plain": [
       "[Row(status='ML successfully dropped.')]"
      ]
     },
     "execution_count": 14,
     "metadata": {},
     "output_type": "execute_result"
    }
   ],
   "source": [
    "session.sql('DROP STAGE ML').collect()"
   ]
  },
  {
   "cell_type": "code",
   "execution_count": 12,
   "id": "3175af40-d703-4403-8aa7-507c36733f8c",
   "metadata": {},
   "outputs": [
    {
     "name": "stdout",
     "output_type": "stream",
     "text": [
      "/Users/skhara/anaconda3/envs/pysnowpark_ml_09_2023/lib/python3.9/site-packages/prophet\n"
     ]
    }
   ],
   "source": [
    "import prophet\n",
    "prophet_path = prophet.__path__[0]\n",
    "print(prophet_path)"
   ]
  },
  {
   "cell_type": "code",
   "execution_count": 13,
   "id": "34fdc848-c2b9-4c46-89fe-41481f4546f9",
   "metadata": {},
   "outputs": [
    {
     "data": {
      "text/plain": [
       "[PutResult(source='prophet.zip', target='prophet.zip', source_size=8333593, target_size=8333600, source_compression='NONE', target_compression='NONE', status='UPLOADED', message='')]"
      ]
     },
     "execution_count": 13,
     "metadata": {},
     "output_type": "execute_result"
    }
   ],
   "source": [
    "zip_file_path = \"/Users/skhara/anaconda3/envs/pysnowpark_ml_09_2023/lib/python3.9/site-packages/prophet.zip\"\n",
    "session.file.put(zip_file_path, \"@ML_MODELS\", auto_compress=False, overwrite=True)"
   ]
  },
  {
   "cell_type": "code",
   "execution_count": null,
   "id": "21d58728",
   "metadata": {},
   "outputs": [],
   "source": [
    "import nfoursid\n",
    "nfoursid_path = nfoursid.__path__[0]\n",
    "print(nfoursid_path)"
   ]
  },
  {
   "cell_type": "code",
   "execution_count": 139,
   "id": "75a6bcbf",
   "metadata": {},
   "outputs": [
    {
     "name": "stdout",
     "output_type": "stream",
     "text": [
      "/Users/skhara/anaconda3/envs/pysnowpark_ml_09_2023/lib/python3.9/site-packages/darts\n"
     ]
    }
   ],
   "source": [
    "import darts\n",
    "darts_path = darts.__path__[0]\n",
    "print(darts_path)"
   ]
  },
  {
   "cell_type": "code",
   "execution_count": null,
   "id": "54cfa018",
   "metadata": {},
   "outputs": [],
   "source": [
    "zip_file_path = \"/Users/skhara/anaconda3/envs/pysnowpark_ml_tpcds/lib/python3.9/site-packages/nfoursid.zip\"\n",
    "session.file.put(zip_file_path, \"@ML_MODELS\", auto_compress=False, overwrite=True)"
   ]
  },
  {
   "cell_type": "code",
   "execution_count": null,
   "id": "3ca01956",
   "metadata": {},
   "outputs": [],
   "source": [
    "zip_file_path = \"/Users/skhara/anaconda3/envs/pysnowpark_ml_tpcds/lib/python3.9/site-packages/darts.zip\"\n",
    "session.file.put(zip_file_path, \"@ML_MODELS\", auto_compress=False, overwrite=True)"
   ]
  },
  {
   "cell_type": "markdown",
   "id": "ce02755a",
   "metadata": {},
   "source": [
    "## - Darts with RandomForest"
   ]
  },
  {
   "cell_type": "code",
   "execution_count": 20,
   "id": "0e5c833d",
   "metadata": {
    "scrolled": true
   },
   "outputs": [
    {
     "name": "stderr",
     "output_type": "stream",
     "text": [
      "The version of package 'fsspec' in the local environment is 2023.9.2, which does not fit the criteria for the requirement 'fsspec==2023.4.0'. Your UDF might not work when the package version is different between the server and your local environment.\n",
      "The version of package 'holidays' in the local environment is 0.33, which does not fit the criteria for the requirement 'holidays==0.18'. Your UDF might not work when the package version is different between the server and your local environment.\n",
      "The version of package 'joblib' in the local environment is 1.3.2, which does not fit the criteria for the requirement 'joblib==1.2.0'. Your UDF might not work when the package version is different between the server and your local environment.\n",
      "Package 'plotly' is not installed in the local environment. Your UDF might not work when the package is installed on the server but not on your local environment.\n",
      "Package 'pytorch' is not installed in the local environment. Your UDF might not work when the package is installed on the server but not on your local environment.\n",
      "The version of package 'pytorch-lightning' in the local environment is 2.0.9.post0, which does not fit the criteria for the requirement 'pytorch-lightning==2.0.3'. Your UDF might not work when the package version is different between the server and your local environment.\n",
      "The version of package 'pyyaml' in the local environment is 6.0.1, which does not fit the criteria for the requirement 'pyyaml==6.0'. Your UDF might not work when the package version is different between the server and your local environment.\n",
      "The version of package 'snowflake-snowpark-python' in the local environment is 1.7.0a2, which does not fit the criteria for the requirement 'snowflake-snowpark-python==1.4.0'. Your UDF might not work when the package version is different between the server and your local environment.\n",
      "The version of package 'torchmetrics' in the local environment is 1.2.0, which does not fit the criteria for the requirement 'torchmetrics==0.11.4'. Your UDF might not work when the package version is different between the server and your local environment.\n",
      "The version of package 'tqdm' in the local environment is 4.66.1, which does not fit the criteria for the requirement 'tqdm'. Your UDF might not work when the package version is different between the server and your local environment.\n",
      "The version of package 'xarray' in the local environment is 2023.9.0, which does not fit the criteria for the requirement 'xarray'. Your UDF might not work when the package version is different between the server and your local environment.\n"
     ]
    }
   ],
   "source": [
    "schema = T.StructType([\n",
    "    T.StructField(\"TIMESTAMP\", T.DateType()),\n",
    "    T.StructField(\"FORECAST\", T.IntegerType()),\n",
    "    T.StructField(\"TRAIN_START\", T.DateType()),\n",
    "    T.StructField(\"TRAIN_END\", T.DateType()),\n",
    "    T.StructField(\"FORECAST_HORIZON\", T.IntegerType())\n",
    "])\n",
    "\n",
    "@F.udtf(output_schema = schema,\n",
    "        input_types = [T.VariantType()],\n",
    "        name = \"PUMP_TS_DARTS_RANDOMFOREST\", is_permanent=True, stage_location=\"@ML_MODELS\", session=session,\n",
    "        packages=['pandas', 'fsspec==2023.4.0','holidays==0.18',\n",
    "                  'joblib==1.2.0','lightning-utilities==0.7.1','matplotlib==3.7.1',\n",
    "                  'plotly==5.9.0','pmdarima==2.0.3','pytorch==2.0.1',\n",
    "                  'pytorch-lightning==2.0.3','pyyaml==6.0','scikit-learn==1.2.2',\n",
    "                  'scipy==1.10.1','snowflake-snowpark-python==1.4.0','statsmodels',\n",
    "                  'tbats==1.1.3','torchmetrics==0.11.4','tqdm','xarray'\n",
    "                 ], replace=True,\n",
    "        imports = [\"@ML_MODELS/nfoursid.zip\", \"@ML_MODELS/darts.zip\"])\n",
    "\n",
    "class forecast:\n",
    "    def __init__(self):\n",
    "        self.rows=[]\n",
    "        self.dfs=[]\n",
    "    \n",
    "    def process(self, data):\n",
    "        self.rows.append(data)\n",
    "\n",
    "        # Merge rows into a dataframe\n",
    "        if len(self.rows) >= 16000:\n",
    "            df = pd.DataFrame(self.rows)\n",
    "            self.dfs.append(df)\n",
    "            self.rows = []\n",
    "        \n",
    "        # Merge dataframes into a single dataframe\n",
    "        # Minimizes memory footprint\n",
    "        if len(self.dfs) >= 100:\n",
    "            merged_df = pd.concat(self.dfs)\n",
    "            self.dfs = [merged_df]\n",
    "\n",
    "        yield None\n",
    "    \n",
    "    def end_partition(self):\n",
    "        # Merge any remaining rows\n",
    "        from darts import TimeSeries\n",
    "        from darts.models import RandomForest\n",
    "\n",
    "        if len(self.rows) > 0:\n",
    "            df = pd.DataFrame(self.rows)\n",
    "            self.dfs.append(df)\n",
    "            self.rows = []\n",
    "        \n",
    "        # Process Input\n",
    "        df_input = pd.concat(self.dfs)\n",
    "        df_input['TIMESTAMP'] = pd.to_datetime(df_input['TIMESTAMP'])\n",
    "        df_input = df_input.groupby('TIMESTAMP').sum('VALUE').reset_index()\n",
    "        df_input = df_input[['TIMESTAMP','VALUE']]\n",
    "\n",
    "        #Train + Forecast Length\n",
    "        train_length = 600\n",
    "        forecast_horizon = 30\n",
    "        train_end = max(df_input['TIMESTAMP'])\n",
    "        train_start = train_end - pd.Timedelta(days = 600)\n",
    "        \n",
    "        df_input = df_input.loc[(df_input['TIMESTAMP'] >= train_start) &\n",
    "                                (df_input['TIMESTAMP'] < train_end)].reset_index(drop=True)\n",
    "        df_input = df_input.set_index('TIMESTAMP')\n",
    "        df_input.index.name = 'time'\n",
    "        \n",
    "        # Convert DataFrame to Darts TS Object\n",
    "        ts_train = TimeSeries.from_dataframe(df_input, fill_missing_dates=True, freq='D')\n",
    "        \n",
    "        # Initialize Model\n",
    "        my_model = RandomForest(lags = 10, n_estimators=100, max_depth=5)\n",
    "\n",
    "        # Fit Model and Predict\n",
    "        my_model.fit(ts_train)\n",
    "        ts_forecast = my_model.predict(forecast_horizon)\n",
    "        \n",
    "        # Processing\n",
    "        data = ts_forecast.pd_dataframe().reset_index().values\n",
    "        df_forecast = pd.DataFrame(data, columns = ['TIMESTAMP','VALUE'])\n",
    "        df_forecast['TRAIN_START'] = train_start\n",
    "        df_forecast['TRAIN_END'] = train_end\n",
    "        df_forecast['FORECAST_HORIZON'] = forecast_horizon\n",
    "\n",
    "        yield from df_forecast.itertuples(index=False, name=None)"
   ]
  },
  {
   "cell_type": "code",
   "execution_count": 21,
   "id": "a9d85095",
   "metadata": {},
   "outputs": [],
   "source": [
    "df = session.table('TIME_SERIES_DATA') \\\n",
    "        .with_column('ROW', F.object_construct_keep_null('*')) \\\n",
    "        .select(F.col('PUMP_ID'), F.col('ROW'))\n",
    "\n",
    "store_forecast_test = F.table_function(\"PUMP_TS_DARTS_RANDOMFOREST\")\n",
    "\n",
    "variant_column = F.parse_json(df.col('ROW').cast(T.VariantType()))\n",
    "\n",
    "forecast = df.select(\n",
    "                F.col('PUMP_ID'),\n",
    "                F.col('GENDER')\n",
    "                store_forecast_test(variant_column).over(partition_by=['PUMP_ID','GENDER'])\n",
    "                )\n",
    "\n",
    "forecast = forecast.with_column('MODEL', F.lit('RANDOMFOREST'))\n",
    "forecast = forecast.with_column('FORECAST_DATETIME', F.current_timestamp())\n",
    "forecast.write.save_as_table(\"FORECAST_USING_DARTS_RANDOMFOREST\", mode=\"overwrite\")"
   ]
  },
  {
   "cell_type": "code",
   "execution_count": 22,
   "id": "00eed478",
   "metadata": {},
   "outputs": [
    {
     "data": {
      "text/html": [
       "<div>\n",
       "<style scoped>\n",
       "    .dataframe tbody tr th:only-of-type {\n",
       "        vertical-align: middle;\n",
       "    }\n",
       "\n",
       "    .dataframe tbody tr th {\n",
       "        vertical-align: top;\n",
       "    }\n",
       "\n",
       "    .dataframe thead th {\n",
       "        text-align: right;\n",
       "    }\n",
       "</style>\n",
       "<table border=\"1\" class=\"dataframe\">\n",
       "  <thead>\n",
       "    <tr style=\"text-align: right;\">\n",
       "      <th></th>\n",
       "      <th>PUMP_ID</th>\n",
       "      <th>TIMESTAMP</th>\n",
       "      <th>FORECAST</th>\n",
       "      <th>TRAIN_START</th>\n",
       "      <th>TRAIN_END</th>\n",
       "      <th>FORECAST_HORIZON</th>\n",
       "      <th>MODEL</th>\n",
       "      <th>FORECAST_DATETIME</th>\n",
       "    </tr>\n",
       "  </thead>\n",
       "  <tbody>\n",
       "    <tr>\n",
       "      <th>0</th>\n",
       "      <td>688</td>\n",
       "      <td>2023-08-08</td>\n",
       "      <td>171</td>\n",
       "      <td>2021-12-16</td>\n",
       "      <td>2023-08-08</td>\n",
       "      <td>30</td>\n",
       "      <td>RANDOMFOREST</td>\n",
       "      <td>2023-10-02 12:31:12.922000-07:00</td>\n",
       "    </tr>\n",
       "    <tr>\n",
       "      <th>1</th>\n",
       "      <td>688</td>\n",
       "      <td>2023-08-09</td>\n",
       "      <td>175</td>\n",
       "      <td>2021-12-16</td>\n",
       "      <td>2023-08-08</td>\n",
       "      <td>30</td>\n",
       "      <td>RANDOMFOREST</td>\n",
       "      <td>2023-10-02 12:31:12.922000-07:00</td>\n",
       "    </tr>\n",
       "    <tr>\n",
       "      <th>2</th>\n",
       "      <td>688</td>\n",
       "      <td>2023-08-10</td>\n",
       "      <td>162</td>\n",
       "      <td>2021-12-16</td>\n",
       "      <td>2023-08-08</td>\n",
       "      <td>30</td>\n",
       "      <td>RANDOMFOREST</td>\n",
       "      <td>2023-10-02 12:31:12.922000-07:00</td>\n",
       "    </tr>\n",
       "    <tr>\n",
       "      <th>3</th>\n",
       "      <td>688</td>\n",
       "      <td>2023-08-11</td>\n",
       "      <td>143</td>\n",
       "      <td>2021-12-16</td>\n",
       "      <td>2023-08-08</td>\n",
       "      <td>30</td>\n",
       "      <td>RANDOMFOREST</td>\n",
       "      <td>2023-10-02 12:31:12.922000-07:00</td>\n",
       "    </tr>\n",
       "    <tr>\n",
       "      <th>4</th>\n",
       "      <td>688</td>\n",
       "      <td>2023-08-12</td>\n",
       "      <td>134</td>\n",
       "      <td>2021-12-16</td>\n",
       "      <td>2023-08-08</td>\n",
       "      <td>30</td>\n",
       "      <td>RANDOMFOREST</td>\n",
       "      <td>2023-10-02 12:31:12.922000-07:00</td>\n",
       "    </tr>\n",
       "  </tbody>\n",
       "</table>\n",
       "</div>"
      ],
      "text/plain": [
       "   PUMP_ID   TIMESTAMP  FORECAST TRAIN_START   TRAIN_END  FORECAST_HORIZON  \\\n",
       "0      688  2023-08-08       171  2021-12-16  2023-08-08                30   \n",
       "1      688  2023-08-09       175  2021-12-16  2023-08-08                30   \n",
       "2      688  2023-08-10       162  2021-12-16  2023-08-08                30   \n",
       "3      688  2023-08-11       143  2021-12-16  2023-08-08                30   \n",
       "4      688  2023-08-12       134  2021-12-16  2023-08-08                30   \n",
       "\n",
       "          MODEL                FORECAST_DATETIME  \n",
       "0  RANDOMFOREST 2023-10-02 12:31:12.922000-07:00  \n",
       "1  RANDOMFOREST 2023-10-02 12:31:12.922000-07:00  \n",
       "2  RANDOMFOREST 2023-10-02 12:31:12.922000-07:00  \n",
       "3  RANDOMFOREST 2023-10-02 12:31:12.922000-07:00  \n",
       "4  RANDOMFOREST 2023-10-02 12:31:12.922000-07:00  "
      ]
     },
     "execution_count": 22,
     "metadata": {},
     "output_type": "execute_result"
    }
   ],
   "source": [
    "df_temp = session.table('FORECAST_USING_DARTS_RANDOMFOREST')\n",
    "df_temp.limit(5).to_pandas()"
   ]
  },
  {
   "cell_type": "markdown",
   "id": "1c11588f",
   "metadata": {},
   "source": [
    "## - TEST"
   ]
  },
  {
   "cell_type": "code",
   "execution_count": 15,
   "id": "aa871440",
   "metadata": {},
   "outputs": [
    {
     "name": "stderr",
     "output_type": "stream",
     "text": [
      "The version of package 'fsspec' in the local environment is 2023.6.0, which does not fit the criteria for the requirement 'fsspec==2023.4.0'. Your UDF might not work when the package version is different between the server and your local environment.\n",
      "The version of package 'holidays' in the local environment is 0.33, which does not fit the criteria for the requirement 'holidays==0.18'. Your UDF might not work when the package version is different between the server and your local environment.\n",
      "The version of package 'joblib' in the local environment is 1.3.2, which does not fit the criteria for the requirement 'joblib==1.2.0'. Your UDF might not work when the package version is different between the server and your local environment.\n"
     ]
    }
   ],
   "source": [
    "schema = T.StructType([\n",
    "    T.StructField(\"TIMESTAMP\", T.DateType()),\n",
    "    T.StructField(\"FORECAST\", T.IntegerType()),\n",
    "    T.StructField(\"TRAIN_START\", T.DateType()),\n",
    "    T.StructField(\"TRAIN_END\", T.DateType()),\n",
    "    T.StructField(\"FORECAST_HORIZON\", T.IntegerType())\n",
    "])\n",
    "\n",
    "@F.udtf(output_schema = schema,\n",
    "        input_types = [T.VariantType()],\n",
    "        name = \"TESTING_PROPHET_115\", is_permanent=True, stage_location=\"@ML_MODELS\", session=session,\n",
    "        packages=['pandas', 'fsspec==2023.4.0','holidays==0.18',\n",
    "                  'joblib==1.2.0','lightning-utilities==0.7.1','matplotlib==3.7.1',\n",
    "                  'scipy==1.10.1','statsmodels',\n",
    "                 ], replace=True,\n",
    "        imports = [\"@ML_MODELS/prophet.zip\"])\n",
    "\n",
    "class forecast:\n",
    "    def __init__(self):\n",
    "        self.rows=[]\n",
    "        self.dfs=[]\n",
    "    \n",
    "    def process(self, data):\n",
    "        self.rows.append(data)\n",
    "\n",
    "        # Merge rows into a dataframe\n",
    "        if len(self.rows) >= 16000:\n",
    "            df = pd.DataFrame(self.rows)\n",
    "            self.dfs.append(df)\n",
    "            self.rows = []\n",
    "        \n",
    "        # Merge dataframes into a single dataframe\n",
    "        # Minimizes memory footprint\n",
    "        if len(self.dfs) >= 100:\n",
    "            merged_df = pd.concat(self.dfs)\n",
    "            self.dfs = [merged_df]\n",
    "\n",
    "        yield None\n",
    "    \n",
    "    def end_partition(self):\n",
    "        # Merge any remaining rows\n",
    "        import prophet\n",
    "\n",
    "        if len(self.rows) > 0:\n",
    "            df = pd.DataFrame(self.rows)\n",
    "            self.dfs.append(df)\n",
    "            self.rows = []\n",
    "        \n",
    "        # Process Input\n",
    "        df_input = pd.concat(self.dfs)\n",
    "        df_input['TIMESTAMP'] = pd.to_datetime(df_input['TIMESTAMP'])\n",
    "        df_input.groupby('TIMESTAMP').sum('VALUE').reset_index()\n",
    "        df_input = df_input[['TIMESTAMP','VALUE']]\n",
    "\n",
    "        #Train + Forecast Length\n",
    "        train_length = 600\n",
    "        forecast_horizon = 30\n",
    "        train_end = max(df_input['TIMESTAMP'])\n",
    "        train_start = train_end - pd.Timedelta(days = 600)\n",
    "        \n",
    "        df_input = df_input.loc[(df_input['TIMESTAMP'] >= train_start) &\n",
    "                                (df_input['TIMESTAMP'] < train_end)].reset_index(drop=True)\n",
    "        df_input = df_input.set_index('TIMESTAMP')\n",
    "        df_input.index.name = 'time'\n",
    "        \n",
    "        # Convert DataFrame to Darts TS Object\n",
    "        ts_train = TimeSeries.from_dataframe(df_input, fill_missing_dates=True, freq='D')\n",
    "        \n",
    "        # Initialize Model\n",
    "        FFT_model = FFT(nr_freqs_to_keep=400,trend=None)\n",
    "        \n",
    "        # Fit Model and Predict\n",
    "        FFT_model.fit(ts_train)\n",
    "        ts_forecast = FFT_model.predict(forecast_horizon)\n",
    "        \n",
    "        # Processing\n",
    "        data = ts_forecast.pd_dataframe().reset_index().values\n",
    "        df_forecast = pd.DataFrame(data, columns = ['TIMESTAMP','VALUE'])\n",
    "        df_forecast['TRAIN_START'] = train_start\n",
    "        df_forecast['TRAIN_END'] = train_end\n",
    "        df_forecast['FORECAST_HORIZON'] = forecast_horizon\n",
    "\n",
    "        yield from df_forecast.itertuples(index=False, name=None)"
   ]
  },
  {
   "cell_type": "code",
   "execution_count": 144,
   "id": "7ff6c817",
   "metadata": {},
   "outputs": [],
   "source": [
    "df = session.table('TIME_SERIES_DATA') \\\n",
    "        .with_column('ROW', F.object_construct_keep_null('*')) \\\n",
    "        .select(F.col('PUMP_ID'), F.col('ROW'))\n",
    "\n",
    "store_forecast_test = F.table_function(\"PUMP_TS_DARTS_FFT\")\n",
    "\n",
    "variant_column = F.parse_json(df.col('ROW').cast(T.VariantType()))\n",
    "\n",
    "forecast = df.select(\n",
    "                F.col('PUMP_ID'), \n",
    "                store_forecast_test(variant_column).over(partition_by=['PUMP_ID'])\n",
    "                )\n",
    "\n",
    "forecast = forecast.with_column('MODEL', F.lit('FFT'))\n",
    "forecast = forecast.with_column('FORECAST_DATETIME', F.current_timestamp())\n",
    "forecast.write.save_as_table(\"FORECAST_USING_DARTS_FFT\", mode=\"overwrite\")"
   ]
  },
  {
   "cell_type": "code",
   "execution_count": null,
   "id": "63e7801c",
   "metadata": {},
   "outputs": [],
   "source": []
  },
  {
   "cell_type": "markdown",
   "id": "54ce9d1e",
   "metadata": {},
   "source": [
    "## - Darts with XGBoost"
   ]
  },
  {
   "cell_type": "code",
   "execution_count": 147,
   "id": "5f0231f9",
   "metadata": {},
   "outputs": [
    {
     "name": "stderr",
     "output_type": "stream",
     "text": [
      "The version of package 'fsspec' in the local environment is 2023.9.0, which does not fit the criteria for the requirement 'fsspec==2023.4.0'. Your UDF might not work when the package version is different between the server and your local environment.\n",
      "The version of package 'holidays' in the local environment is 0.32, which does not fit the criteria for the requirement 'holidays==0.18'. Your UDF might not work when the package version is different between the server and your local environment.\n",
      "The version of package 'joblib' in the local environment is 1.3.2, which does not fit the criteria for the requirement 'joblib==1.2.0'. Your UDF might not work when the package version is different between the server and your local environment.\n",
      "The version of package 'lightning-utilities' in the local environment is 0.9.0, which does not fit the criteria for the requirement 'lightning-utilities==0.7.1'. Your UDF might not work when the package version is different between the server and your local environment.\n",
      "Package 'plotly' is not installed in the local environment. Your UDF might not work when the package is installed on the server but not on your local environment.\n",
      "Package 'pytorch' is not installed in the local environment. Your UDF might not work when the package is installed on the server but not on your local environment.\n",
      "The version of package 'pytorch-lightning' in the local environment is 2.0.9, which does not fit the criteria for the requirement 'pytorch-lightning==2.0.3'. Your UDF might not work when the package version is different between the server and your local environment.\n",
      "The version of package 'pyyaml' in the local environment is 6.0.1, which does not fit the criteria for the requirement 'pyyaml==6.0'. Your UDF might not work when the package version is different between the server and your local environment.\n",
      "The version of package 'snowflake-snowpark-python' in the local environment is 1.7.0, which does not fit the criteria for the requirement 'snowflake-snowpark-python==1.4.0'. Your UDF might not work when the package version is different between the server and your local environment.\n",
      "The version of package 'torchmetrics' in the local environment is 1.1.2, which does not fit the criteria for the requirement 'torchmetrics==0.11.4'. Your UDF might not work when the package version is different between the server and your local environment.\n",
      "The version of package 'tqdm' in the local environment is 4.66.1, which does not fit the criteria for the requirement 'tqdm'. Your UDF might not work when the package version is different between the server and your local environment.\n",
      "The version of package 'xarray' in the local environment is 2023.8.0, which does not fit the criteria for the requirement 'xarray'. Your UDF might not work when the package version is different between the server and your local environment.\n"
     ]
    }
   ],
   "source": [
    "schema = T.StructType([\n",
    "    T.StructField(\"TIMESTAMP\", T.DateType()),\n",
    "    T.StructField(\"FORECAST\", T.IntegerType()),\n",
    "    T.StructField(\"TRAIN_START\", T.DateType()),\n",
    "    T.StructField(\"TRAIN_END\", T.DateType()),\n",
    "    T.StructField(\"FORECAST_HORIZON\", T.IntegerType())\n",
    "])\n",
    "\n",
    "@F.udtf(output_schema = schema,\n",
    "        input_types = [T.VariantType()],\n",
    "        name = \"PUMP_TS_DARTS_XGB\", is_permanent=True, stage_location=\"@ML_MODELS\", session=session,\n",
    "        packages=['pandas', 'fsspec==2023.4.0','holidays==0.18',\n",
    "                  'joblib==1.2.0','lightning-utilities==0.7.1','matplotlib==3.7.1',\n",
    "                  'plotly==5.9.0','pmdarima==2.0.3','pytorch==2.0.1',\n",
    "                  'pytorch-lightning==2.0.3','pyyaml==6.0','scikit-learn==1.2.2',\n",
    "                  'scipy==1.10.1','snowflake-snowpark-python==1.4.0','statsmodels',\n",
    "                  'tbats==1.1.3','torchmetrics==0.11.4','tqdm','xarray','xgboost'\n",
    "                 ], replace=True,\n",
    "        imports = [\"@ML_MODELS/nfoursid.zip\", \"@ML_MODELS/darts.zip\"])\n",
    "\n",
    "class forecast:\n",
    "    def __init__(self):\n",
    "        self.rows=[]\n",
    "        self.dfs=[]\n",
    "    \n",
    "    def process(self, data):\n",
    "        self.rows.append(data)\n",
    "\n",
    "        # Merge rows into a dataframe\n",
    "        if len(self.rows) >= 16000:\n",
    "            df = pd.DataFrame(self.rows)\n",
    "            self.dfs.append(df)\n",
    "            self.rows = []\n",
    "        \n",
    "        # Merge dataframes into a single dataframe\n",
    "        # Minimizes memory footprint\n",
    "        if len(self.dfs) >= 100:\n",
    "            merged_df = pd.concat(self.dfs)\n",
    "            self.dfs = [merged_df]\n",
    "\n",
    "        yield None\n",
    "    \n",
    "    def end_partition(self):\n",
    "        # Merge any remaining rows\n",
    "        from darts import TimeSeries\n",
    "        import xgboost\n",
    "        from darts.models import XGBModel\n",
    "        \n",
    "\n",
    "        if len(self.rows) > 0:\n",
    "            df = pd.DataFrame(self.rows)\n",
    "            self.dfs.append(df)\n",
    "            self.rows = []\n",
    "        \n",
    "        # Process Input\n",
    "        df_input = pd.concat(self.dfs)\n",
    "        df_input['TIMESTAMP'] = pd.to_datetime(df_input['TIMESTAMP'])\n",
    "        df_input.groupby('TIMESTAMP').sum('VALUE').reset_index()\n",
    "        df_input = df_input[['TIMESTAMP','VALUE']]\n",
    "\n",
    "        #Train + Forecast Length\n",
    "        train_length = 600\n",
    "        forecast_horizon = 30\n",
    "        train_end = max(df_input['TIMESTAMP'])\n",
    "        train_start = train_end - pd.Timedelta(days = 600)\n",
    "        \n",
    "        df_input = df_input.loc[(df_input['TIMESTAMP'] >= train_start) &\n",
    "                                (df_input['TIMESTAMP'] < train_end)].reset_index(drop=True)\n",
    "        df_input = df_input.set_index('TIMESTAMP')\n",
    "        df_input.index.name = 'time'\n",
    "        \n",
    "        # Convert DataFrame to Darts TS Object\n",
    "        ts_train = TimeSeries.from_dataframe(df_input, fill_missing_dates=True, freq='D')\n",
    "        \n",
    "        # Initialize Model\n",
    "        my_model = XGBModel(lags = 10, n_estimators=100, max_depth=5)\n",
    "\n",
    "        # Fit Model and Predict\n",
    "        my_model.fit(ts_train)\n",
    "        ts_forecast = my_model.predict(forecast_horizon)\n",
    "        \n",
    "        # Processing\n",
    "        data = ts_forecast.pd_dataframe().reset_index().values\n",
    "        df_forecast = pd.DataFrame(data, columns = ['TIMESTAMP','VALUE'])\n",
    "        df_forecast['TRAIN_START'] = train_start\n",
    "        df_forecast['TRAIN_END'] = train_end\n",
    "        df_forecast['FORECAST_HORIZON'] = forecast_horizon\n",
    "\n",
    "        yield from df_forecast.itertuples(index=False, name=None) "
   ]
  },
  {
   "cell_type": "code",
   "execution_count": 148,
   "id": "334ce005",
   "metadata": {},
   "outputs": [],
   "source": [
    "df = session.table('TIME_SERIES_DATA') \\\n",
    "        .with_column('ROW', F.object_construct_keep_null('*')) \\\n",
    "        .select(F.col('PUMP_ID'), F.col('ROW'))\n",
    "\n",
    "store_forecast_test = F.table_function(\"PUMP_TS_DARTS_XGB\")\n",
    "\n",
    "variant_column = F.parse_json(df.col('ROW').cast(T.VariantType()))\n",
    "\n",
    "forecast = df.select(\n",
    "                F.col('PUMP_ID'), \n",
    "                store_forecast_test(variant_column).over(partition_by=['PUMP_ID'])\n",
    "                )\n",
    "\n",
    "forecast = forecast.with_column('MODEL', F.lit('XGB'))\n",
    "forecast = forecast.with_column('FORECAST_DATETIME', F.current_timestamp())\n",
    "forecast.write.save_as_table(\"FORECAST_USING_DARTS_XGB\", mode=\"append\")"
   ]
  },
  {
   "cell_type": "code",
   "execution_count": 149,
   "id": "08cd5b93",
   "metadata": {},
   "outputs": [],
   "source": [
    "# df_temp = session.table('FORECAST_USING_DARTS_XGB')\n",
    "# df_temp.limit(5).to_pandas()"
   ]
  },
  {
   "cell_type": "code",
   "execution_count": null,
   "id": "4d2ebc4e-ba93-4d36-a4e9-f9ba80a461dd",
   "metadata": {},
   "outputs": [],
   "source": []
  },
  {
   "cell_type": "markdown",
   "id": "63369f08-f95d-4139-8c6d-1a250b381b40",
   "metadata": {},
   "source": [
    "# Deployment\n",
    "Two options -\n",
    "1. Create a task using SQL\n",
    "2. Create a task using Task API (future improvement)\n",
    "\n",
    "The code given below uses option 1 to create a task in SQL.\n",
    "1. Get the command to run the forecast function\n",
    "2. Create a task\n",
    "3. Resume task to run on the schedule"
   ]
  },
  {
   "cell_type": "code",
   "execution_count": 6,
   "id": "e904399f-367f-4778-bf0b-1c35e0c905f2",
   "metadata": {},
   "outputs": [],
   "source": [
    "forecast_script = f'''\n",
    "INSERT  INTO FORECAST_USING_DARTS_XGB  SELECT \"PUMP_ID\", \"TIMESTAMP\", \"FORECAST\", \"TRAIN_START\", \"TRAIN_END\",\n",
    "\"FORECAST_HORIZON\", 'XGB' AS \"MODEL\", current_timestamp() AS \"FORECAST_DATETIME\"\n",
    "FROM ( SELECT T_LEFT.*, T_RIGHT.\"TIMESTAMP\", T_RIGHT.\"FORECAST\", T_RIGHT.\"TRAIN_START\", T_RIGHT.\"TRAIN_END\", T_RIGHT.\"FORECAST_HORIZON\"\n",
    "FROM ( SELECT \"PUMP_ID\", object_construct_keep_null(*) AS \"ROW\" FROM TIME_SERIES_DATA) AS T_LEFT\n",
    "JOIN  TABLE (PUMP_TS_DARTS_XGB(parse_json( CAST (\"ROW\" AS VARIANT)))  OVER (PARTITION BY \"PUMP_ID\" )) AS T_RIGHT)\n",
    "'''\n",
    "\n",
    "task_script = f'''\n",
    "CREATE OR REPLACE TASK POC_INVISTA.TASK_FORECAST_TS\n",
    "WAREHOUSE = SSK_RESEARCH\n",
    "SCHEDULE = '1 MINUTE'\n",
    "AS {forecast_script};\n",
    "'''\n",
    "\n",
    "resume_script = f'''ALTER TASK POC_INVISTA.TASK_FORECAST_TS RESUME;'''"
   ]
  },
  {
   "cell_type": "code",
   "execution_count": 7,
   "id": "a458bd5d-661f-4837-a286-ca6025794854",
   "metadata": {},
   "outputs": [
    {
     "data": {
      "text/plain": [
       "[Row(status='Task TASK_FORECAST_TS successfully created.')]"
      ]
     },
     "execution_count": 7,
     "metadata": {},
     "output_type": "execute_result"
    }
   ],
   "source": [
    "session.sql(task_script).collect()\n",
    "# session.sql(resume_script).collect()"
   ]
  },
  {
   "cell_type": "code",
   "execution_count": null,
   "id": "7031f764-d987-4324-aedf-5a6bfe4fe2e6",
   "metadata": {},
   "outputs": [],
   "source": []
  },
  {
   "cell_type": "code",
   "execution_count": null,
   "id": "d3d8d1d6-6db4-4f63-a252-63d73157f356",
   "metadata": {},
   "outputs": [],
   "source": []
  }
 ],
 "metadata": {
  "kernelspec": {
   "display_name": "Python 3 (ipykernel)",
   "language": "python",
   "name": "python3"
  },
  "language_info": {
   "codemirror_mode": {
    "name": "ipython",
    "version": 3
   },
   "file_extension": ".py",
   "mimetype": "text/x-python",
   "name": "python",
   "nbconvert_exporter": "python",
   "pygments_lexer": "ipython3",
   "version": "3.9.17"
  }
 },
 "nbformat": 4,
 "nbformat_minor": 5
}
