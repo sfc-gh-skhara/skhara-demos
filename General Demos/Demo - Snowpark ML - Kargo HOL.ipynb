{
 "cells": [
  {
   "cell_type": "code",
   "execution_count": null,
   "id": "3acea2ed",
   "metadata": {},
   "outputs": [],
   "source": [
    "# !conda install snowflake-ml-python --y"
   ]
  },
  {
   "cell_type": "code",
   "execution_count": 6,
   "id": "81c3dff8",
   "metadata": {},
   "outputs": [],
   "source": [
    "# !pip install snowflake-ml-python --index-url https://repo.anaconda.com/pkgs/snowflake --y"
   ]
  },
  {
   "cell_type": "markdown",
   "id": "a7d72538",
   "metadata": {},
   "source": [
    "## Imports"
   ]
  },
  {
   "cell_type": "code",
   "execution_count": 5,
   "id": "2cb04fd9",
   "metadata": {},
   "outputs": [],
   "source": [
    "from snowflake.snowpark.session import Session\n",
    "import snowflake.snowpark.types as T\n",
    "import snowflake.snowpark.functions as F\n",
    "from snowflake.snowpark.functions import col\n",
    "\n",
    "from snowflake.snowpark.functions import udf\n",
    "from snowflake.snowpark.types import IntegerType, FloatType, StringType,StructType, StructField, DecimalType\n",
    "\n",
    "import snowflake.ml.modeling.preprocessing as snowml\n",
    "from snowflake.ml.modeling.pipeline import Pipeline\n",
    "from snowflake.ml.modeling.model_selection import GridSearchCV\n",
    "from snowflake.ml.registry import registry\n",
    "\n",
    "import json\n",
    "\n",
    "import matplotlib.pyplot as plt\n",
    "import seaborn as sns\n",
    "import os\n",
    "import pandas as pd\n",
    "\n",
    "import warnings\n",
    "warnings.filterwarnings(\"ignore\")"
   ]
  },
  {
   "cell_type": "code",
   "execution_count": 7,
   "id": "9cc080c0",
   "metadata": {},
   "outputs": [],
   "source": [
    "my_dir = os.getcwd()\n",
    "# connection_parameters = json.load(open(f'{my_dir}/creds.json'))\n",
    "connection_parameters = json.load(open('/Users/skhara/Documents/Code/creds.json'))\n",
    "session = Session.builder.configs(connection_parameters).create()"
   ]
  },
  {
   "cell_type": "code",
   "execution_count": 11,
   "id": "0f036a97",
   "metadata": {},
   "outputs": [],
   "source": [
    "session.use_warehouse('SSK_RESEARCH') # Pick a known Warehouse\n",
    "session.use_database('DEMO_DB') # Pick a DB\n",
    "session.use_schema('PUBLIC') # Pick a Schema"
   ]
  },
  {
   "cell_type": "markdown",
   "id": "4aa3effe",
   "metadata": {},
   "source": [
    "# 0.0 Load Data"
   ]
  },
  {
   "cell_type": "code",
   "execution_count": 12,
   "id": "24cd17c7",
   "metadata": {},
   "outputs": [
    {
     "data": {
      "text/plain": [
       "<snowflake.snowpark.table.Table at 0x16710a1f0>"
      ]
     },
     "execution_count": 12,
     "metadata": {},
     "output_type": "execute_result"
    }
   ],
   "source": [
    "df_credit = pd.read_csv(\"credit_record.csv\")\n",
    "df_application = pd.read_csv(\"application_record.csv\")\n",
    "session.write_pandas(df_credit,'CREDIT_RECORD',auto_create_table=True,quote_identifiers=False,overwrite=True)\n",
    "session.write_pandas(df_application,'APPLICATION_RECORD',auto_create_table=True,quote_identifiers=False,overwrite=True)"
   ]
  },
  {
   "cell_type": "markdown",
   "id": "5efba6a2",
   "metadata": {},
   "source": [
    "## 1.0 Prepare Data "
   ]
  },
  {
   "cell_type": "code",
   "execution_count": 13,
   "id": "52dd5ab7",
   "metadata": {},
   "outputs": [
    {
     "name": "stdout",
     "output_type": "stream",
     "text": [
      "Application table size\t:  438557 \n",
      "Credit table size\t:  1048575\n"
     ]
    }
   ],
   "source": [
    "# Creating a Snowpark DataFrame\n",
    "application_record_sdf = session.table('APPLICATION_RECORD')\n",
    "credit_record_sdf = session.table('CREDIT_RECORD')\n",
    "print('Application table size\\t: ',application_record_sdf.count(), \n",
    "      '\\nCredit table size\\t: ', credit_record_sdf.count())"
   ]
  },
  {
   "cell_type": "code",
   "execution_count": 14,
   "id": "eed6303a",
   "metadata": {},
   "outputs": [
    {
     "data": {
      "text/html": [
       "<div>\n",
       "<style scoped>\n",
       "    .dataframe tbody tr th:only-of-type {\n",
       "        vertical-align: middle;\n",
       "    }\n",
       "\n",
       "    .dataframe tbody tr th {\n",
       "        vertical-align: top;\n",
       "    }\n",
       "\n",
       "    .dataframe thead th {\n",
       "        text-align: right;\n",
       "    }\n",
       "</style>\n",
       "<table border=\"1\" class=\"dataframe\">\n",
       "  <thead>\n",
       "    <tr style=\"text-align: right;\">\n",
       "      <th></th>\n",
       "      <th>ID</th>\n",
       "      <th>MONTHS_BALANCE</th>\n",
       "      <th>STATUS</th>\n",
       "    </tr>\n",
       "  </thead>\n",
       "  <tbody>\n",
       "    <tr>\n",
       "      <th>0</th>\n",
       "      <td>5001711</td>\n",
       "      <td>0</td>\n",
       "      <td>X</td>\n",
       "    </tr>\n",
       "    <tr>\n",
       "      <th>1</th>\n",
       "      <td>5001711</td>\n",
       "      <td>-1</td>\n",
       "      <td>0</td>\n",
       "    </tr>\n",
       "    <tr>\n",
       "      <th>2</th>\n",
       "      <td>5001711</td>\n",
       "      <td>-2</td>\n",
       "      <td>0</td>\n",
       "    </tr>\n",
       "    <tr>\n",
       "      <th>3</th>\n",
       "      <td>5001711</td>\n",
       "      <td>-3</td>\n",
       "      <td>0</td>\n",
       "    </tr>\n",
       "    <tr>\n",
       "      <th>4</th>\n",
       "      <td>5001712</td>\n",
       "      <td>0</td>\n",
       "      <td>C</td>\n",
       "    </tr>\n",
       "  </tbody>\n",
       "</table>\n",
       "</div>"
      ],
      "text/plain": [
       "        ID  MONTHS_BALANCE STATUS\n",
       "0  5001711               0      X\n",
       "1  5001711              -1      0\n",
       "2  5001711              -2      0\n",
       "3  5001711              -3      0\n",
       "4  5001712               0      C"
      ]
     },
     "execution_count": 14,
     "metadata": {},
     "output_type": "execute_result"
    }
   ],
   "source": [
    "credit_record_sdf.limit(5).to_pandas()"
   ]
  },
  {
   "cell_type": "code",
   "execution_count": 15,
   "id": "b4ac25eb",
   "metadata": {},
   "outputs": [],
   "source": [
    "# We will create a new column, TARGET, that will have a 1 for high-risk and 0 for low-risk.\n",
    "credit_record_sdf = credit_record_sdf.group_by('ID')\\\n",
    "                        .agg(F.sum(F.iff(F.col('STATUS').in_(['2', '3','4','5']), 1, 0)).as_(\"CNT_LATE\"))\\\n",
    "                        .with_column('TARGET', F.when(F.col('CNT_LATE') > 0, 1).otherwise(0)).drop(\"CNT_LATE\")"
   ]
  },
  {
   "cell_type": "code",
   "execution_count": 16,
   "id": "ceb3d538",
   "metadata": {},
   "outputs": [],
   "source": [
    "# Join Credit Record data with Application Record Data\n",
    "joined_sdf = application_record_sdf.join(credit_record_sdf, using_columns='ID', join_type='inner')"
   ]
  },
  {
   "cell_type": "code",
   "execution_count": 17,
   "id": "cb3e476f",
   "metadata": {},
   "outputs": [],
   "source": [
    "# Duplicate Removal - Use the **drop_duplicates** to remove duplicated rows\n",
    "joined_sdf = joined_sdf.drop_duplicates('ID')"
   ]
  },
  {
   "cell_type": "code",
   "execution_count": 18,
   "id": "f40b1d45",
   "metadata": {},
   "outputs": [
    {
     "data": {
      "text/plain": [
       "36457"
      ]
     },
     "execution_count": 18,
     "metadata": {},
     "output_type": "execute_result"
    }
   ],
   "source": [
    "joined_sdf.count()"
   ]
  },
  {
   "cell_type": "code",
   "execution_count": 19,
   "id": "64ddc3a3",
   "metadata": {},
   "outputs": [],
   "source": [
    "# Selecting a few columns for modeling\n",
    "cols_numerical = ['AMT_INCOME_TOTAL', 'DAYS_EMPLOYED', 'FLAG_MOBIL', 'CNT_FAM_MEMBERS']\n",
    "cols_categorical = ['CODE_GENDER', 'NAME_HOUSING_TYPE', 'OCCUPATION_TYPE']\n",
    "target = ['TARGET']\n",
    "joined_sdf = joined_sdf[cols_numerical + cols_categorical + target]"
   ]
  },
  {
   "cell_type": "code",
   "execution_count": 20,
   "id": "de497de8",
   "metadata": {},
   "outputs": [
    {
     "data": {
      "text/html": [
       "<div>\n",
       "<style scoped>\n",
       "    .dataframe tbody tr th:only-of-type {\n",
       "        vertical-align: middle;\n",
       "    }\n",
       "\n",
       "    .dataframe tbody tr th {\n",
       "        vertical-align: top;\n",
       "    }\n",
       "\n",
       "    .dataframe thead th {\n",
       "        text-align: right;\n",
       "    }\n",
       "</style>\n",
       "<table border=\"1\" class=\"dataframe\">\n",
       "  <thead>\n",
       "    <tr style=\"text-align: right;\">\n",
       "      <th></th>\n",
       "      <th>AMT_INCOME_TOTAL</th>\n",
       "      <th>DAYS_EMPLOYED</th>\n",
       "      <th>FLAG_MOBIL</th>\n",
       "      <th>CNT_FAM_MEMBERS</th>\n",
       "      <th>CODE_GENDER</th>\n",
       "      <th>NAME_HOUSING_TYPE</th>\n",
       "      <th>OCCUPATION_TYPE</th>\n",
       "      <th>TARGET</th>\n",
       "    </tr>\n",
       "  </thead>\n",
       "  <tbody>\n",
       "    <tr>\n",
       "      <th>0</th>\n",
       "      <td>94500.0</td>\n",
       "      <td>365243</td>\n",
       "      <td>1</td>\n",
       "      <td>1</td>\n",
       "      <td>F</td>\n",
       "      <td>House / apartment</td>\n",
       "      <td>None</td>\n",
       "      <td>0</td>\n",
       "    </tr>\n",
       "    <tr>\n",
       "      <th>1</th>\n",
       "      <td>90000.0</td>\n",
       "      <td>-735</td>\n",
       "      <td>1</td>\n",
       "      <td>4</td>\n",
       "      <td>M</td>\n",
       "      <td>House / apartment</td>\n",
       "      <td>Laborers</td>\n",
       "      <td>0</td>\n",
       "    </tr>\n",
       "    <tr>\n",
       "      <th>2</th>\n",
       "      <td>166500.0</td>\n",
       "      <td>-1046</td>\n",
       "      <td>1</td>\n",
       "      <td>3</td>\n",
       "      <td>M</td>\n",
       "      <td>House / apartment</td>\n",
       "      <td>Core staff</td>\n",
       "      <td>0</td>\n",
       "    </tr>\n",
       "    <tr>\n",
       "      <th>3</th>\n",
       "      <td>675000.0</td>\n",
       "      <td>-1175</td>\n",
       "      <td>1</td>\n",
       "      <td>4</td>\n",
       "      <td>F</td>\n",
       "      <td>House / apartment</td>\n",
       "      <td>HR staff</td>\n",
       "      <td>0</td>\n",
       "    </tr>\n",
       "    <tr>\n",
       "      <th>4</th>\n",
       "      <td>123750.0</td>\n",
       "      <td>-599</td>\n",
       "      <td>1</td>\n",
       "      <td>2</td>\n",
       "      <td>F</td>\n",
       "      <td>House / apartment</td>\n",
       "      <td>Cleaning staff</td>\n",
       "      <td>0</td>\n",
       "    </tr>\n",
       "    <tr>\n",
       "      <th>5</th>\n",
       "      <td>135000.0</td>\n",
       "      <td>-95</td>\n",
       "      <td>1</td>\n",
       "      <td>1</td>\n",
       "      <td>F</td>\n",
       "      <td>House / apartment</td>\n",
       "      <td>Sales staff</td>\n",
       "      <td>0</td>\n",
       "    </tr>\n",
       "    <tr>\n",
       "      <th>6</th>\n",
       "      <td>225000.0</td>\n",
       "      <td>-1111</td>\n",
       "      <td>1</td>\n",
       "      <td>2</td>\n",
       "      <td>M</td>\n",
       "      <td>House / apartment</td>\n",
       "      <td>None</td>\n",
       "      <td>0</td>\n",
       "    </tr>\n",
       "    <tr>\n",
       "      <th>7</th>\n",
       "      <td>90000.0</td>\n",
       "      <td>365243</td>\n",
       "      <td>1</td>\n",
       "      <td>1</td>\n",
       "      <td>F</td>\n",
       "      <td>House / apartment</td>\n",
       "      <td>None</td>\n",
       "      <td>0</td>\n",
       "    </tr>\n",
       "    <tr>\n",
       "      <th>8</th>\n",
       "      <td>180000.0</td>\n",
       "      <td>-643</td>\n",
       "      <td>1</td>\n",
       "      <td>2</td>\n",
       "      <td>M</td>\n",
       "      <td>House / apartment</td>\n",
       "      <td>High skill tech staff</td>\n",
       "      <td>0</td>\n",
       "    </tr>\n",
       "    <tr>\n",
       "      <th>9</th>\n",
       "      <td>67500.0</td>\n",
       "      <td>-8691</td>\n",
       "      <td>1</td>\n",
       "      <td>2</td>\n",
       "      <td>F</td>\n",
       "      <td>With parents</td>\n",
       "      <td>Medicine staff</td>\n",
       "      <td>0</td>\n",
       "    </tr>\n",
       "  </tbody>\n",
       "</table>\n",
       "</div>"
      ],
      "text/plain": [
       "   AMT_INCOME_TOTAL  DAYS_EMPLOYED  FLAG_MOBIL  CNT_FAM_MEMBERS CODE_GENDER  \\\n",
       "0           94500.0         365243           1                1           F   \n",
       "1           90000.0           -735           1                4           M   \n",
       "2          166500.0          -1046           1                3           M   \n",
       "3          675000.0          -1175           1                4           F   \n",
       "4          123750.0           -599           1                2           F   \n",
       "5          135000.0            -95           1                1           F   \n",
       "6          225000.0          -1111           1                2           M   \n",
       "7           90000.0         365243           1                1           F   \n",
       "8          180000.0           -643           1                2           M   \n",
       "9           67500.0          -8691           1                2           F   \n",
       "\n",
       "   NAME_HOUSING_TYPE        OCCUPATION_TYPE  TARGET  \n",
       "0  House / apartment                   None       0  \n",
       "1  House / apartment               Laborers       0  \n",
       "2  House / apartment             Core staff       0  \n",
       "3  House / apartment               HR staff       0  \n",
       "4  House / apartment         Cleaning staff       0  \n",
       "5  House / apartment            Sales staff       0  \n",
       "6  House / apartment                   None       0  \n",
       "7  House / apartment                   None       0  \n",
       "8  House / apartment  High skill tech staff       0  \n",
       "9       With parents         Medicine staff       0  "
      ]
     },
     "execution_count": 20,
     "metadata": {},
     "output_type": "execute_result"
    }
   ],
   "source": [
    "joined_sdf.limit(10).to_pandas()"
   ]
  },
  {
   "cell_type": "code",
   "execution_count": 21,
   "id": "adad4acc",
   "metadata": {},
   "outputs": [
    {
     "data": {
      "text/html": [
       "<div>\n",
       "<style scoped>\n",
       "    .dataframe tbody tr th:only-of-type {\n",
       "        vertical-align: middle;\n",
       "    }\n",
       "\n",
       "    .dataframe tbody tr th {\n",
       "        vertical-align: top;\n",
       "    }\n",
       "\n",
       "    .dataframe thead th {\n",
       "        text-align: right;\n",
       "    }\n",
       "</style>\n",
       "<table border=\"1\" class=\"dataframe\">\n",
       "  <thead>\n",
       "    <tr style=\"text-align: right;\">\n",
       "      <th></th>\n",
       "      <th>CODE_GENDER_F</th>\n",
       "      <th>CODE_GENDER_M</th>\n",
       "      <th>NAME_HOUSING_TYPE_Co-op apartment</th>\n",
       "      <th>NAME_HOUSING_TYPE_House / apartment</th>\n",
       "      <th>NAME_HOUSING_TYPE_Municipal apartment</th>\n",
       "      <th>NAME_HOUSING_TYPE_Office apartment</th>\n",
       "      <th>NAME_HOUSING_TYPE_Rented apartment</th>\n",
       "      <th>NAME_HOUSING_TYPE_With parents</th>\n",
       "      <th>OCCUPATION_TYPE_Accountants</th>\n",
       "      <th>OCCUPATION_TYPE_Cleaning staff</th>\n",
       "      <th>...</th>\n",
       "      <th>OCCUPATION_TYPE_Sales staff</th>\n",
       "      <th>OCCUPATION_TYPE_Secretaries</th>\n",
       "      <th>OCCUPATION_TYPE_Security staff</th>\n",
       "      <th>OCCUPATION_TYPE_Waiters/barmen staff</th>\n",
       "      <th>OCCUPATION_TYPE_None</th>\n",
       "      <th>AMT_INCOME_TOTAL</th>\n",
       "      <th>DAYS_EMPLOYED</th>\n",
       "      <th>FLAG_MOBIL</th>\n",
       "      <th>CNT_FAM_MEMBERS</th>\n",
       "      <th>TARGET</th>\n",
       "    </tr>\n",
       "  </thead>\n",
       "  <tbody>\n",
       "    <tr>\n",
       "      <th>0</th>\n",
       "      <td>1.0</td>\n",
       "      <td>0.0</td>\n",
       "      <td>0.0</td>\n",
       "      <td>1.0</td>\n",
       "      <td>0.0</td>\n",
       "      <td>0.0</td>\n",
       "      <td>0.0</td>\n",
       "      <td>0.0</td>\n",
       "      <td>0.0</td>\n",
       "      <td>0.0</td>\n",
       "      <td>...</td>\n",
       "      <td>0.0</td>\n",
       "      <td>0.0</td>\n",
       "      <td>0.0</td>\n",
       "      <td>0.0</td>\n",
       "      <td>0.0</td>\n",
       "      <td>135000.0</td>\n",
       "      <td>-777</td>\n",
       "      <td>1</td>\n",
       "      <td>2</td>\n",
       "      <td>0</td>\n",
       "    </tr>\n",
       "    <tr>\n",
       "      <th>1</th>\n",
       "      <td>0.0</td>\n",
       "      <td>1.0</td>\n",
       "      <td>0.0</td>\n",
       "      <td>1.0</td>\n",
       "      <td>0.0</td>\n",
       "      <td>0.0</td>\n",
       "      <td>0.0</td>\n",
       "      <td>0.0</td>\n",
       "      <td>0.0</td>\n",
       "      <td>0.0</td>\n",
       "      <td>...</td>\n",
       "      <td>1.0</td>\n",
       "      <td>0.0</td>\n",
       "      <td>0.0</td>\n",
       "      <td>0.0</td>\n",
       "      <td>0.0</td>\n",
       "      <td>157500.0</td>\n",
       "      <td>-367</td>\n",
       "      <td>1</td>\n",
       "      <td>3</td>\n",
       "      <td>0</td>\n",
       "    </tr>\n",
       "    <tr>\n",
       "      <th>2</th>\n",
       "      <td>1.0</td>\n",
       "      <td>0.0</td>\n",
       "      <td>0.0</td>\n",
       "      <td>1.0</td>\n",
       "      <td>0.0</td>\n",
       "      <td>0.0</td>\n",
       "      <td>0.0</td>\n",
       "      <td>0.0</td>\n",
       "      <td>0.0</td>\n",
       "      <td>0.0</td>\n",
       "      <td>...</td>\n",
       "      <td>1.0</td>\n",
       "      <td>0.0</td>\n",
       "      <td>0.0</td>\n",
       "      <td>0.0</td>\n",
       "      <td>0.0</td>\n",
       "      <td>180000.0</td>\n",
       "      <td>-4354</td>\n",
       "      <td>1</td>\n",
       "      <td>2</td>\n",
       "      <td>0</td>\n",
       "    </tr>\n",
       "    <tr>\n",
       "      <th>3</th>\n",
       "      <td>1.0</td>\n",
       "      <td>0.0</td>\n",
       "      <td>0.0</td>\n",
       "      <td>1.0</td>\n",
       "      <td>0.0</td>\n",
       "      <td>0.0</td>\n",
       "      <td>0.0</td>\n",
       "      <td>0.0</td>\n",
       "      <td>1.0</td>\n",
       "      <td>0.0</td>\n",
       "      <td>...</td>\n",
       "      <td>0.0</td>\n",
       "      <td>0.0</td>\n",
       "      <td>0.0</td>\n",
       "      <td>0.0</td>\n",
       "      <td>0.0</td>\n",
       "      <td>171000.0</td>\n",
       "      <td>-8405</td>\n",
       "      <td>1</td>\n",
       "      <td>1</td>\n",
       "      <td>0</td>\n",
       "    </tr>\n",
       "    <tr>\n",
       "      <th>4</th>\n",
       "      <td>1.0</td>\n",
       "      <td>0.0</td>\n",
       "      <td>0.0</td>\n",
       "      <td>1.0</td>\n",
       "      <td>0.0</td>\n",
       "      <td>0.0</td>\n",
       "      <td>0.0</td>\n",
       "      <td>0.0</td>\n",
       "      <td>0.0</td>\n",
       "      <td>0.0</td>\n",
       "      <td>...</td>\n",
       "      <td>0.0</td>\n",
       "      <td>0.0</td>\n",
       "      <td>0.0</td>\n",
       "      <td>0.0</td>\n",
       "      <td>1.0</td>\n",
       "      <td>315000.0</td>\n",
       "      <td>-806</td>\n",
       "      <td>1</td>\n",
       "      <td>2</td>\n",
       "      <td>0</td>\n",
       "    </tr>\n",
       "  </tbody>\n",
       "</table>\n",
       "<p>5 rows × 32 columns</p>\n",
       "</div>"
      ],
      "text/plain": [
       "   CODE_GENDER_F  CODE_GENDER_M  NAME_HOUSING_TYPE_Co-op apartment  \\\n",
       "0            1.0            0.0                                0.0   \n",
       "1            0.0            1.0                                0.0   \n",
       "2            1.0            0.0                                0.0   \n",
       "3            1.0            0.0                                0.0   \n",
       "4            1.0            0.0                                0.0   \n",
       "\n",
       "   NAME_HOUSING_TYPE_House / apartment  NAME_HOUSING_TYPE_Municipal apartment  \\\n",
       "0                                  1.0                                    0.0   \n",
       "1                                  1.0                                    0.0   \n",
       "2                                  1.0                                    0.0   \n",
       "3                                  1.0                                    0.0   \n",
       "4                                  1.0                                    0.0   \n",
       "\n",
       "   NAME_HOUSING_TYPE_Office apartment  NAME_HOUSING_TYPE_Rented apartment  \\\n",
       "0                                 0.0                                 0.0   \n",
       "1                                 0.0                                 0.0   \n",
       "2                                 0.0                                 0.0   \n",
       "3                                 0.0                                 0.0   \n",
       "4                                 0.0                                 0.0   \n",
       "\n",
       "   NAME_HOUSING_TYPE_With parents  OCCUPATION_TYPE_Accountants  \\\n",
       "0                             0.0                          0.0   \n",
       "1                             0.0                          0.0   \n",
       "2                             0.0                          0.0   \n",
       "3                             0.0                          1.0   \n",
       "4                             0.0                          0.0   \n",
       "\n",
       "   OCCUPATION_TYPE_Cleaning staff  ...  OCCUPATION_TYPE_Sales staff  \\\n",
       "0                             0.0  ...                          0.0   \n",
       "1                             0.0  ...                          1.0   \n",
       "2                             0.0  ...                          1.0   \n",
       "3                             0.0  ...                          0.0   \n",
       "4                             0.0  ...                          0.0   \n",
       "\n",
       "   OCCUPATION_TYPE_Secretaries  OCCUPATION_TYPE_Security staff  \\\n",
       "0                          0.0                             0.0   \n",
       "1                          0.0                             0.0   \n",
       "2                          0.0                             0.0   \n",
       "3                          0.0                             0.0   \n",
       "4                          0.0                             0.0   \n",
       "\n",
       "   OCCUPATION_TYPE_Waiters/barmen staff  OCCUPATION_TYPE_None  \\\n",
       "0                                   0.0                   0.0   \n",
       "1                                   0.0                   0.0   \n",
       "2                                   0.0                   0.0   \n",
       "3                                   0.0                   0.0   \n",
       "4                                   0.0                   1.0   \n",
       "\n",
       "   AMT_INCOME_TOTAL  DAYS_EMPLOYED  FLAG_MOBIL  CNT_FAM_MEMBERS  TARGET  \n",
       "0          135000.0           -777           1                2       0  \n",
       "1          157500.0           -367           1                3       0  \n",
       "2          180000.0          -4354           1                2       0  \n",
       "3          171000.0          -8405           1                1       0  \n",
       "4          315000.0           -806           1                2       0  \n",
       "\n",
       "[5 rows x 32 columns]"
      ]
     },
     "execution_count": 21,
     "metadata": {},
     "output_type": "execute_result"
    }
   ],
   "source": [
    "# Build the pipeline\n",
    "preprocessing_pipeline = Pipeline(\n",
    "    steps=[\n",
    "            (\n",
    "                \"OHE\",\n",
    "                snowml.OneHotEncoder(\n",
    "                    input_cols=cols_categorical,\n",
    "                    output_cols=cols_categorical,\n",
    "                    drop_input_cols=True\n",
    "                )\n",
    "            )\n",
    "    ]\n",
    ")\n",
    "\n",
    "transformed_df = preprocessing_pipeline.fit(joined_sdf).transform(joined_sdf)\n",
    "transformed_df.limit(5).to_pandas()"
   ]
  },
  {
   "cell_type": "code",
   "execution_count": 22,
   "id": "bb954edb",
   "metadata": {},
   "outputs": [
    {
     "data": {
      "text/plain": [
       "['CODE_GENDER_F',\n",
       " 'CODE_GENDER_M',\n",
       " '\"NAME_HOUSING_TYPE_Co-op apartment\"',\n",
       " '\"NAME_HOUSING_TYPE_House / apartment\"',\n",
       " '\"NAME_HOUSING_TYPE_Municipal apartment\"',\n",
       " '\"NAME_HOUSING_TYPE_Office apartment\"',\n",
       " '\"NAME_HOUSING_TYPE_Rented apartment\"',\n",
       " '\"NAME_HOUSING_TYPE_With parents\"',\n",
       " '\"OCCUPATION_TYPE_Accountants\"',\n",
       " '\"OCCUPATION_TYPE_Cleaning staff\"',\n",
       " '\"OCCUPATION_TYPE_Cooking staff\"',\n",
       " '\"OCCUPATION_TYPE_Core staff\"',\n",
       " '\"OCCUPATION_TYPE_Drivers\"',\n",
       " '\"OCCUPATION_TYPE_HR staff\"',\n",
       " '\"OCCUPATION_TYPE_High skill tech staff\"',\n",
       " '\"OCCUPATION_TYPE_IT staff\"',\n",
       " '\"OCCUPATION_TYPE_Laborers\"',\n",
       " '\"OCCUPATION_TYPE_Low-skill Laborers\"',\n",
       " '\"OCCUPATION_TYPE_Managers\"',\n",
       " '\"OCCUPATION_TYPE_Medicine staff\"',\n",
       " '\"OCCUPATION_TYPE_Private service staff\"',\n",
       " '\"OCCUPATION_TYPE_Realty agents\"',\n",
       " '\"OCCUPATION_TYPE_Sales staff\"',\n",
       " '\"OCCUPATION_TYPE_Secretaries\"',\n",
       " '\"OCCUPATION_TYPE_Security staff\"',\n",
       " '\"OCCUPATION_TYPE_Waiters/barmen staff\"',\n",
       " '\"OCCUPATION_TYPE_None\"',\n",
       " 'AMT_INCOME_TOTAL',\n",
       " 'DAYS_EMPLOYED',\n",
       " 'FLAG_MOBIL',\n",
       " 'CNT_FAM_MEMBERS',\n",
       " 'TARGET']"
      ]
     },
     "execution_count": 22,
     "metadata": {},
     "output_type": "execute_result"
    }
   ],
   "source": [
    "transformed_df.columns"
   ]
  },
  {
   "cell_type": "code",
   "execution_count": 23,
   "id": "2448b99f",
   "metadata": {},
   "outputs": [],
   "source": [
    "# Cleaning column names to make it easier for future referencing\n",
    "import re\n",
    "\n",
    "cols = transformed_df.columns\n",
    "for old_col in cols:\n",
    "    new_col = re.sub(r'[^a-zA-Z0-9_]', '', old_col)\n",
    "    new_col = new_col.upper()\n",
    "    transformed_df = transformed_df.rename(col(old_col), new_col)"
   ]
  },
  {
   "cell_type": "code",
   "execution_count": 24,
   "id": "39d8549b",
   "metadata": {},
   "outputs": [],
   "source": [
    "# Split the data and save the train and test sets as tables in Snowflake\n",
    "snowdf_train, snowdf_test = transformed_df.random_split([0.8, 0.2], seed=82) \n",
    "snowdf_train.write.mode(\"overwrite\").save_as_table(\"CREDIT_DEFAULT_TRAIN\")\n",
    "snowdf_test.write.mode(\"overwrite\").save_as_table(\"CREDIT_DEFAULT_TEST\")"
   ]
  },
  {
   "cell_type": "markdown",
   "id": "24d093ad",
   "metadata": {},
   "source": [
    "## 2.0 ML Modeling"
   ]
  },
  {
   "cell_type": "code",
   "execution_count": 25,
   "id": "5e8d4388",
   "metadata": {},
   "outputs": [],
   "source": [
    "session.sql('ALTER WAREHOUSE SSK_RESEARCH SET WAREHOUSE_SIZE = \"LARGE\"').collect()\n",
    "session.use_warehouse('SSK_RESEARCH')"
   ]
  },
  {
   "cell_type": "code",
   "execution_count": 26,
   "id": "b2d2c3a7",
   "metadata": {},
   "outputs": [],
   "source": [
    "# Prepare Data for modeling\n",
    "snowdf_train = session.table('DEMO_DB.PUBLIC.CREDIT_DEFAULT_TRAIN')\n",
    "feature_cols = snowdf_train.columns\n",
    "target_col = 'TARGET'\n",
    "feature_cols.remove(target_col)"
   ]
  },
  {
   "cell_type": "code",
   "execution_count": 27,
   "id": "ec90713c",
   "metadata": {},
   "outputs": [
    {
     "name": "stderr",
     "output_type": "stream",
     "text": [
      "The version of package 'snowflake-snowpark-python' in the local environment is 1.12.1, which does not fit the criteria for the requirement 'snowflake-snowpark-python'. Your UDF might not work when the package version is different between the server and your local environment.\n"
     ]
    },
    {
     "data": {
      "text/plain": [
       "<snowflake.ml.modeling.xgboost.xgb_classifier.XGBClassifier at 0x1674ef6a0>"
      ]
     },
     "execution_count": 27,
     "metadata": {},
     "output_type": "execute_result"
    }
   ],
   "source": [
    "# Define the XGBClassifier and fit the model\n",
    "from snowflake.ml.modeling.xgboost import XGBClassifier\n",
    "xgbmodel = XGBClassifier(random_state=123, input_cols=feature_cols, label_cols=target_col, output_cols='PREDICTION')\n",
    "xgbmodel.fit(snowdf_train)"
   ]
  },
  {
   "cell_type": "code",
   "execution_count": 28,
   "id": "05bb8667",
   "metadata": {
    "scrolled": true
   },
   "outputs": [
    {
     "name": "stdout",
     "output_type": "stream",
     "text": [
      "7112\n"
     ]
    }
   ],
   "source": [
    "# Score the data using the fitted xgbmodel\n",
    "snowdf_test = session.table('CREDIT_DEFAULT_TEST')\n",
    "scored_sdf = xgbmodel.predict(snowdf_test)\n",
    "print(snowdf_test.count())"
   ]
  },
  {
   "cell_type": "code",
   "execution_count": 29,
   "id": "1a313f6c",
   "metadata": {},
   "outputs": [
    {
     "name": "stderr",
     "output_type": "stream",
     "text": [
      "DataFrame.flatten() is deprecated since 0.7.0. Use `DataFrame.join_table_function()` instead.\n"
     ]
    },
    {
     "name": "stdout",
     "output_type": "stream",
     "text": [
      "F1 Score: 0.028368794326241134 \n",
      "Accuracy Score: 0.980737\n"
     ]
    }
   ],
   "source": [
    "# Calculate Metrics\n",
    "from snowflake.ml.modeling.metrics import f1_score, accuracy_score\n",
    "F1 = f1_score(df = scored_sdf,\n",
    "              y_true_col_names = 'TARGET',\n",
    "              y_pred_col_names = 'PREDICTION')\n",
    "ACCURACY = accuracy_score(df = scored_sdf,\n",
    "                          y_true_col_names = 'TARGET',\n",
    "                          y_pred_col_names = 'PREDICTION')\n",
    "print(f'F1 Score: {F1} \\nAccuracy Score: {ACCURACY}')"
   ]
  },
  {
   "cell_type": "markdown",
   "id": "19b2f5c3",
   "metadata": {},
   "source": [
    "### Now, let's use Snowpark ML's Distributed GridSearchCV() function to find optimal model parameters"
   ]
  },
  {
   "cell_type": "code",
   "execution_count": null,
   "id": "40f952c8",
   "metadata": {},
   "outputs": [],
   "source": [
    "from snowflake.ml.modeling.xgboost import XGBClassifier\n",
    "\n",
    "grid_search = GridSearchCV(\n",
    "    estimator=XGBClassifier(),\n",
    "    param_grid={\n",
    "        \"n_estimators\":[100, 200],\n",
    "        \"learning_rate\":[0.3],\n",
    "        \"max_depth\": [1,3]\n",
    "    },\n",
    "    n_jobs = 1,\n",
    "    scoring=\"neg_mean_absolute_percentage_error\",\n",
    "    input_cols=feature_cols,\n",
    "    label_cols=target_col,\n",
    "    output_cols='PREDICTION'\n",
    ")\n",
    "\n",
    "# Train\n",
    "grid_search.fit(snowdf_train)"
   ]
  },
  {
   "cell_type": "code",
   "execution_count": 30,
   "id": "7c72f643",
   "metadata": {},
   "outputs": [
    {
     "data": {
      "text/html": [
       "<div>\n",
       "<style scoped>\n",
       "    .dataframe tbody tr th:only-of-type {\n",
       "        vertical-align: middle;\n",
       "    }\n",
       "\n",
       "    .dataframe tbody tr th {\n",
       "        vertical-align: top;\n",
       "    }\n",
       "\n",
       "    .dataframe thead th {\n",
       "        text-align: right;\n",
       "    }\n",
       "</style>\n",
       "<table border=\"1\" class=\"dataframe\">\n",
       "  <thead>\n",
       "    <tr style=\"text-align: right;\">\n",
       "      <th></th>\n",
       "      <th>created_on</th>\n",
       "      <th>name</th>\n",
       "      <th>database_name</th>\n",
       "      <th>schema_name</th>\n",
       "      <th>comment</th>\n",
       "      <th>owner</th>\n",
       "      <th>default_version_name</th>\n",
       "      <th>versions</th>\n",
       "    </tr>\n",
       "  </thead>\n",
       "  <tbody>\n",
       "    <tr>\n",
       "      <th>0</th>\n",
       "      <td>2024-01-23 18:49:21.897000-08:00</td>\n",
       "      <td>DEMO_CREDIT_XGB</td>\n",
       "      <td>DEMO_DB</td>\n",
       "      <td>CREDIT_APPROVAL</td>\n",
       "      <td>None</td>\n",
       "      <td>ACCOUNTADMIN</td>\n",
       "      <td>V0</td>\n",
       "      <td>[\"V0\",\"V1\",\"V2_2024_02_14\",\"V3_2024_02_14\",\"V4...</td>\n",
       "    </tr>\n",
       "    <tr>\n",
       "      <th>1</th>\n",
       "      <td>2024-03-07 12:44:09.373000-08:00</td>\n",
       "      <td>TEST_DELETE_LATER</td>\n",
       "      <td>DEMO_DB</td>\n",
       "      <td>CREDIT_APPROVAL</td>\n",
       "      <td>None</td>\n",
       "      <td>ACCOUNTADMIN</td>\n",
       "      <td>V1_2024_03_07</td>\n",
       "      <td>[\"V1_2024_03_07\"]</td>\n",
       "    </tr>\n",
       "  </tbody>\n",
       "</table>\n",
       "</div>"
      ],
      "text/plain": [
       "                        created_on               name database_name  \\\n",
       "0 2024-01-23 18:49:21.897000-08:00    DEMO_CREDIT_XGB       DEMO_DB   \n",
       "1 2024-03-07 12:44:09.373000-08:00  TEST_DELETE_LATER       DEMO_DB   \n",
       "\n",
       "       schema_name comment         owner default_version_name  \\\n",
       "0  CREDIT_APPROVAL    None  ACCOUNTADMIN                   V0   \n",
       "1  CREDIT_APPROVAL    None  ACCOUNTADMIN        V1_2024_03_07   \n",
       "\n",
       "                                            versions  \n",
       "0  [\"V0\",\"V1\",\"V2_2024_02_14\",\"V3_2024_02_14\",\"V4...  \n",
       "1                                  [\"V1_2024_03_07\"]  "
      ]
     },
     "execution_count": 30,
     "metadata": {},
     "output_type": "execute_result"
    }
   ],
   "source": [
    "db = 'DEMO_DB'\n",
    "schema = 'CREDIT_APPROVAL'\n",
    "\n",
    "# Create a registry and log the model\n",
    "native_registry = registry.Registry(session=session, database_name=db, schema_name=schema)\n",
    "native_registry.show_models()"
   ]
  },
  {
   "cell_type": "code",
   "execution_count": 31,
   "id": "e3752caf",
   "metadata": {},
   "outputs": [],
   "source": [
    "# Define model name\n",
    "model_name = \"DEMO_CREDIT_XGB\"\n",
    "model_version = f\"V1_{pd.datetime.now().strftime('%Y_%m_%d')}\"\n",
    "# model_version = \"V0\"\n",
    "\n",
    "# Let's log the best model trained\n",
    "model_ver = native_registry.log_model(\n",
    "    model_name= model_name,\n",
    "    version_name= model_version,\n",
    "    model= xgbmodel\n",
    ")"
   ]
  },
  {
   "cell_type": "code",
   "execution_count": 32,
   "id": "d756fc5d",
   "metadata": {},
   "outputs": [
    {
     "data": {
      "text/plain": [
       "[{'name': 'PREDICT',\n",
       "  'target_method': 'predict',\n",
       "  'signature': ModelSignature(\n",
       "                      inputs=[\n",
       "                          FeatureSpec(dtype=DataType.DOUBLE, name='CODE_GENDER_F'),\n",
       "  \t\tFeatureSpec(dtype=DataType.DOUBLE, name='CODE_GENDER_M'),\n",
       "  \t\tFeatureSpec(dtype=DataType.DOUBLE, name='NAME_HOUSING_TYPE_COOPAPARTMENT'),\n",
       "  \t\tFeatureSpec(dtype=DataType.DOUBLE, name='NAME_HOUSING_TYPE_HOUSEAPARTMENT'),\n",
       "  \t\tFeatureSpec(dtype=DataType.DOUBLE, name='NAME_HOUSING_TYPE_MUNICIPALAPARTMENT'),\n",
       "  \t\tFeatureSpec(dtype=DataType.DOUBLE, name='NAME_HOUSING_TYPE_OFFICEAPARTMENT'),\n",
       "  \t\tFeatureSpec(dtype=DataType.DOUBLE, name='NAME_HOUSING_TYPE_RENTEDAPARTMENT'),\n",
       "  \t\tFeatureSpec(dtype=DataType.DOUBLE, name='NAME_HOUSING_TYPE_WITHPARENTS'),\n",
       "  \t\tFeatureSpec(dtype=DataType.DOUBLE, name='OCCUPATION_TYPE_ACCOUNTANTS'),\n",
       "  \t\tFeatureSpec(dtype=DataType.DOUBLE, name='OCCUPATION_TYPE_CLEANINGSTAFF'),\n",
       "  \t\tFeatureSpec(dtype=DataType.DOUBLE, name='OCCUPATION_TYPE_COOKINGSTAFF'),\n",
       "  \t\tFeatureSpec(dtype=DataType.DOUBLE, name='OCCUPATION_TYPE_CORESTAFF'),\n",
       "  \t\tFeatureSpec(dtype=DataType.DOUBLE, name='OCCUPATION_TYPE_DRIVERS'),\n",
       "  \t\tFeatureSpec(dtype=DataType.DOUBLE, name='OCCUPATION_TYPE_HRSTAFF'),\n",
       "  \t\tFeatureSpec(dtype=DataType.DOUBLE, name='OCCUPATION_TYPE_HIGHSKILLTECHSTAFF'),\n",
       "  \t\tFeatureSpec(dtype=DataType.DOUBLE, name='OCCUPATION_TYPE_ITSTAFF'),\n",
       "  \t\tFeatureSpec(dtype=DataType.DOUBLE, name='OCCUPATION_TYPE_LABORERS'),\n",
       "  \t\tFeatureSpec(dtype=DataType.DOUBLE, name='OCCUPATION_TYPE_LOWSKILLLABORERS'),\n",
       "  \t\tFeatureSpec(dtype=DataType.DOUBLE, name='OCCUPATION_TYPE_MANAGERS'),\n",
       "  \t\tFeatureSpec(dtype=DataType.DOUBLE, name='OCCUPATION_TYPE_MEDICINESTAFF'),\n",
       "  \t\tFeatureSpec(dtype=DataType.DOUBLE, name='OCCUPATION_TYPE_PRIVATESERVICESTAFF'),\n",
       "  \t\tFeatureSpec(dtype=DataType.DOUBLE, name='OCCUPATION_TYPE_REALTYAGENTS'),\n",
       "  \t\tFeatureSpec(dtype=DataType.DOUBLE, name='OCCUPATION_TYPE_SALESSTAFF'),\n",
       "  \t\tFeatureSpec(dtype=DataType.DOUBLE, name='OCCUPATION_TYPE_SECRETARIES'),\n",
       "  \t\tFeatureSpec(dtype=DataType.DOUBLE, name='OCCUPATION_TYPE_SECURITYSTAFF'),\n",
       "  \t\tFeatureSpec(dtype=DataType.DOUBLE, name='OCCUPATION_TYPE_WAITERSBARMENSTAFF'),\n",
       "  \t\tFeatureSpec(dtype=DataType.DOUBLE, name='OCCUPATION_TYPE_NONE'),\n",
       "  \t\tFeatureSpec(dtype=DataType.DOUBLE, name='AMT_INCOME_TOTAL'),\n",
       "  \t\tFeatureSpec(dtype=DataType.INT32, name='DAYS_EMPLOYED'),\n",
       "  \t\tFeatureSpec(dtype=DataType.INT8, name='FLAG_MOBIL'),\n",
       "  \t\tFeatureSpec(dtype=DataType.INT8, name='CNT_FAM_MEMBERS')\n",
       "                      ],\n",
       "                      outputs=[\n",
       "                          FeatureSpec(dtype=DataType.DOUBLE, name='CODE_GENDER_F'),\n",
       "  \t\tFeatureSpec(dtype=DataType.DOUBLE, name='CODE_GENDER_M'),\n",
       "  \t\tFeatureSpec(dtype=DataType.DOUBLE, name='NAME_HOUSING_TYPE_COOPAPARTMENT'),\n",
       "  \t\tFeatureSpec(dtype=DataType.DOUBLE, name='NAME_HOUSING_TYPE_HOUSEAPARTMENT'),\n",
       "  \t\tFeatureSpec(dtype=DataType.DOUBLE, name='NAME_HOUSING_TYPE_MUNICIPALAPARTMENT'),\n",
       "  \t\tFeatureSpec(dtype=DataType.DOUBLE, name='NAME_HOUSING_TYPE_OFFICEAPARTMENT'),\n",
       "  \t\tFeatureSpec(dtype=DataType.DOUBLE, name='NAME_HOUSING_TYPE_RENTEDAPARTMENT'),\n",
       "  \t\tFeatureSpec(dtype=DataType.DOUBLE, name='NAME_HOUSING_TYPE_WITHPARENTS'),\n",
       "  \t\tFeatureSpec(dtype=DataType.DOUBLE, name='OCCUPATION_TYPE_ACCOUNTANTS'),\n",
       "  \t\tFeatureSpec(dtype=DataType.DOUBLE, name='OCCUPATION_TYPE_CLEANINGSTAFF'),\n",
       "  \t\tFeatureSpec(dtype=DataType.DOUBLE, name='OCCUPATION_TYPE_COOKINGSTAFF'),\n",
       "  \t\tFeatureSpec(dtype=DataType.DOUBLE, name='OCCUPATION_TYPE_CORESTAFF'),\n",
       "  \t\tFeatureSpec(dtype=DataType.DOUBLE, name='OCCUPATION_TYPE_DRIVERS'),\n",
       "  \t\tFeatureSpec(dtype=DataType.DOUBLE, name='OCCUPATION_TYPE_HRSTAFF'),\n",
       "  \t\tFeatureSpec(dtype=DataType.DOUBLE, name='OCCUPATION_TYPE_HIGHSKILLTECHSTAFF'),\n",
       "  \t\tFeatureSpec(dtype=DataType.DOUBLE, name='OCCUPATION_TYPE_ITSTAFF'),\n",
       "  \t\tFeatureSpec(dtype=DataType.DOUBLE, name='OCCUPATION_TYPE_LABORERS'),\n",
       "  \t\tFeatureSpec(dtype=DataType.DOUBLE, name='OCCUPATION_TYPE_LOWSKILLLABORERS'),\n",
       "  \t\tFeatureSpec(dtype=DataType.DOUBLE, name='OCCUPATION_TYPE_MANAGERS'),\n",
       "  \t\tFeatureSpec(dtype=DataType.DOUBLE, name='OCCUPATION_TYPE_MEDICINESTAFF'),\n",
       "  \t\tFeatureSpec(dtype=DataType.DOUBLE, name='OCCUPATION_TYPE_PRIVATESERVICESTAFF'),\n",
       "  \t\tFeatureSpec(dtype=DataType.DOUBLE, name='OCCUPATION_TYPE_REALTYAGENTS'),\n",
       "  \t\tFeatureSpec(dtype=DataType.DOUBLE, name='OCCUPATION_TYPE_SALESSTAFF'),\n",
       "  \t\tFeatureSpec(dtype=DataType.DOUBLE, name='OCCUPATION_TYPE_SECRETARIES'),\n",
       "  \t\tFeatureSpec(dtype=DataType.DOUBLE, name='OCCUPATION_TYPE_SECURITYSTAFF'),\n",
       "  \t\tFeatureSpec(dtype=DataType.DOUBLE, name='OCCUPATION_TYPE_WAITERSBARMENSTAFF'),\n",
       "  \t\tFeatureSpec(dtype=DataType.DOUBLE, name='OCCUPATION_TYPE_NONE'),\n",
       "  \t\tFeatureSpec(dtype=DataType.DOUBLE, name='AMT_INCOME_TOTAL'),\n",
       "  \t\tFeatureSpec(dtype=DataType.INT32, name='DAYS_EMPLOYED'),\n",
       "  \t\tFeatureSpec(dtype=DataType.INT8, name='FLAG_MOBIL'),\n",
       "  \t\tFeatureSpec(dtype=DataType.INT8, name='CNT_FAM_MEMBERS'),\n",
       "  \t\tFeatureSpec(dtype=DataType.INT8, name='PREDICTION')\n",
       "                      ]\n",
       "                  )},\n",
       " {'name': 'PREDICT_PROBA',\n",
       "  'target_method': 'predict_proba',\n",
       "  'signature': ModelSignature(\n",
       "                      inputs=[\n",
       "                          FeatureSpec(dtype=DataType.DOUBLE, name='CODE_GENDER_F'),\n",
       "  \t\tFeatureSpec(dtype=DataType.DOUBLE, name='CODE_GENDER_M'),\n",
       "  \t\tFeatureSpec(dtype=DataType.DOUBLE, name='NAME_HOUSING_TYPE_COOPAPARTMENT'),\n",
       "  \t\tFeatureSpec(dtype=DataType.DOUBLE, name='NAME_HOUSING_TYPE_HOUSEAPARTMENT'),\n",
       "  \t\tFeatureSpec(dtype=DataType.DOUBLE, name='NAME_HOUSING_TYPE_MUNICIPALAPARTMENT'),\n",
       "  \t\tFeatureSpec(dtype=DataType.DOUBLE, name='NAME_HOUSING_TYPE_OFFICEAPARTMENT'),\n",
       "  \t\tFeatureSpec(dtype=DataType.DOUBLE, name='NAME_HOUSING_TYPE_RENTEDAPARTMENT'),\n",
       "  \t\tFeatureSpec(dtype=DataType.DOUBLE, name='NAME_HOUSING_TYPE_WITHPARENTS'),\n",
       "  \t\tFeatureSpec(dtype=DataType.DOUBLE, name='OCCUPATION_TYPE_ACCOUNTANTS'),\n",
       "  \t\tFeatureSpec(dtype=DataType.DOUBLE, name='OCCUPATION_TYPE_CLEANINGSTAFF'),\n",
       "  \t\tFeatureSpec(dtype=DataType.DOUBLE, name='OCCUPATION_TYPE_COOKINGSTAFF'),\n",
       "  \t\tFeatureSpec(dtype=DataType.DOUBLE, name='OCCUPATION_TYPE_CORESTAFF'),\n",
       "  \t\tFeatureSpec(dtype=DataType.DOUBLE, name='OCCUPATION_TYPE_DRIVERS'),\n",
       "  \t\tFeatureSpec(dtype=DataType.DOUBLE, name='OCCUPATION_TYPE_HRSTAFF'),\n",
       "  \t\tFeatureSpec(dtype=DataType.DOUBLE, name='OCCUPATION_TYPE_HIGHSKILLTECHSTAFF'),\n",
       "  \t\tFeatureSpec(dtype=DataType.DOUBLE, name='OCCUPATION_TYPE_ITSTAFF'),\n",
       "  \t\tFeatureSpec(dtype=DataType.DOUBLE, name='OCCUPATION_TYPE_LABORERS'),\n",
       "  \t\tFeatureSpec(dtype=DataType.DOUBLE, name='OCCUPATION_TYPE_LOWSKILLLABORERS'),\n",
       "  \t\tFeatureSpec(dtype=DataType.DOUBLE, name='OCCUPATION_TYPE_MANAGERS'),\n",
       "  \t\tFeatureSpec(dtype=DataType.DOUBLE, name='OCCUPATION_TYPE_MEDICINESTAFF'),\n",
       "  \t\tFeatureSpec(dtype=DataType.DOUBLE, name='OCCUPATION_TYPE_PRIVATESERVICESTAFF'),\n",
       "  \t\tFeatureSpec(dtype=DataType.DOUBLE, name='OCCUPATION_TYPE_REALTYAGENTS'),\n",
       "  \t\tFeatureSpec(dtype=DataType.DOUBLE, name='OCCUPATION_TYPE_SALESSTAFF'),\n",
       "  \t\tFeatureSpec(dtype=DataType.DOUBLE, name='OCCUPATION_TYPE_SECRETARIES'),\n",
       "  \t\tFeatureSpec(dtype=DataType.DOUBLE, name='OCCUPATION_TYPE_SECURITYSTAFF'),\n",
       "  \t\tFeatureSpec(dtype=DataType.DOUBLE, name='OCCUPATION_TYPE_WAITERSBARMENSTAFF'),\n",
       "  \t\tFeatureSpec(dtype=DataType.DOUBLE, name='OCCUPATION_TYPE_NONE'),\n",
       "  \t\tFeatureSpec(dtype=DataType.DOUBLE, name='AMT_INCOME_TOTAL'),\n",
       "  \t\tFeatureSpec(dtype=DataType.INT32, name='DAYS_EMPLOYED'),\n",
       "  \t\tFeatureSpec(dtype=DataType.INT8, name='FLAG_MOBIL'),\n",
       "  \t\tFeatureSpec(dtype=DataType.INT8, name='CNT_FAM_MEMBERS')\n",
       "                      ],\n",
       "                      outputs=[\n",
       "                          FeatureSpec(dtype=DataType.DOUBLE, name='CODE_GENDER_F'),\n",
       "  \t\tFeatureSpec(dtype=DataType.DOUBLE, name='CODE_GENDER_M'),\n",
       "  \t\tFeatureSpec(dtype=DataType.DOUBLE, name='NAME_HOUSING_TYPE_COOPAPARTMENT'),\n",
       "  \t\tFeatureSpec(dtype=DataType.DOUBLE, name='NAME_HOUSING_TYPE_HOUSEAPARTMENT'),\n",
       "  \t\tFeatureSpec(dtype=DataType.DOUBLE, name='NAME_HOUSING_TYPE_MUNICIPALAPARTMENT'),\n",
       "  \t\tFeatureSpec(dtype=DataType.DOUBLE, name='NAME_HOUSING_TYPE_OFFICEAPARTMENT'),\n",
       "  \t\tFeatureSpec(dtype=DataType.DOUBLE, name='NAME_HOUSING_TYPE_RENTEDAPARTMENT'),\n",
       "  \t\tFeatureSpec(dtype=DataType.DOUBLE, name='NAME_HOUSING_TYPE_WITHPARENTS'),\n",
       "  \t\tFeatureSpec(dtype=DataType.DOUBLE, name='OCCUPATION_TYPE_ACCOUNTANTS'),\n",
       "  \t\tFeatureSpec(dtype=DataType.DOUBLE, name='OCCUPATION_TYPE_CLEANINGSTAFF'),\n",
       "  \t\tFeatureSpec(dtype=DataType.DOUBLE, name='OCCUPATION_TYPE_COOKINGSTAFF'),\n",
       "  \t\tFeatureSpec(dtype=DataType.DOUBLE, name='OCCUPATION_TYPE_CORESTAFF'),\n",
       "  \t\tFeatureSpec(dtype=DataType.DOUBLE, name='OCCUPATION_TYPE_DRIVERS'),\n",
       "  \t\tFeatureSpec(dtype=DataType.DOUBLE, name='OCCUPATION_TYPE_HRSTAFF'),\n",
       "  \t\tFeatureSpec(dtype=DataType.DOUBLE, name='OCCUPATION_TYPE_HIGHSKILLTECHSTAFF'),\n",
       "  \t\tFeatureSpec(dtype=DataType.DOUBLE, name='OCCUPATION_TYPE_ITSTAFF'),\n",
       "  \t\tFeatureSpec(dtype=DataType.DOUBLE, name='OCCUPATION_TYPE_LABORERS'),\n",
       "  \t\tFeatureSpec(dtype=DataType.DOUBLE, name='OCCUPATION_TYPE_LOWSKILLLABORERS'),\n",
       "  \t\tFeatureSpec(dtype=DataType.DOUBLE, name='OCCUPATION_TYPE_MANAGERS'),\n",
       "  \t\tFeatureSpec(dtype=DataType.DOUBLE, name='OCCUPATION_TYPE_MEDICINESTAFF'),\n",
       "  \t\tFeatureSpec(dtype=DataType.DOUBLE, name='OCCUPATION_TYPE_PRIVATESERVICESTAFF'),\n",
       "  \t\tFeatureSpec(dtype=DataType.DOUBLE, name='OCCUPATION_TYPE_REALTYAGENTS'),\n",
       "  \t\tFeatureSpec(dtype=DataType.DOUBLE, name='OCCUPATION_TYPE_SALESSTAFF'),\n",
       "  \t\tFeatureSpec(dtype=DataType.DOUBLE, name='OCCUPATION_TYPE_SECRETARIES'),\n",
       "  \t\tFeatureSpec(dtype=DataType.DOUBLE, name='OCCUPATION_TYPE_SECURITYSTAFF'),\n",
       "  \t\tFeatureSpec(dtype=DataType.DOUBLE, name='OCCUPATION_TYPE_WAITERSBARMENSTAFF'),\n",
       "  \t\tFeatureSpec(dtype=DataType.DOUBLE, name='OCCUPATION_TYPE_NONE'),\n",
       "  \t\tFeatureSpec(dtype=DataType.DOUBLE, name='AMT_INCOME_TOTAL'),\n",
       "  \t\tFeatureSpec(dtype=DataType.INT32, name='DAYS_EMPLOYED'),\n",
       "  \t\tFeatureSpec(dtype=DataType.INT8, name='FLAG_MOBIL'),\n",
       "  \t\tFeatureSpec(dtype=DataType.INT8, name='CNT_FAM_MEMBERS'),\n",
       "  \t\tFeatureSpec(dtype=DataType.DOUBLE, name='PREDICT_PROBA_0'),\n",
       "  \t\tFeatureSpec(dtype=DataType.DOUBLE, name='PREDICT_PROBA_1')\n",
       "                      ]\n",
       "                  )}]"
      ]
     },
     "execution_count": 32,
     "metadata": {},
     "output_type": "execute_result"
    }
   ],
   "source": [
    "snowdf_test = session.table('CREDIT_DEFAULT_TEST')\n",
    "model_name = \"DEMO_CREDIT_XGB\"\n",
    "# model_version = 'V0'\n",
    "\n",
    "model_ver = native_registry.get_model(model_name).version(model_version)\n",
    "model_ver.show_functions()\n"
   ]
  },
  {
   "cell_type": "code",
   "execution_count": 33,
   "id": "bd2adbe1",
   "metadata": {},
   "outputs": [],
   "source": [
    "result_sdf2 = model_ver.run(snowdf_train, function_name=\"predict\")"
   ]
  },
  {
   "cell_type": "code",
   "execution_count": 34,
   "id": "97730140",
   "metadata": {},
   "outputs": [],
   "source": [
    "result_sdf2.write.mode(\"overwrite\").save_as_table(\"RESULTS\")"
   ]
  },
  {
   "cell_type": "markdown",
   "id": "1a3ff2fb-c33c-48d9-a1eb-49bca2d9127f",
   "metadata": {},
   "source": [
    "# Want to Deploy and Schedule Your Code?"
   ]
  },
  {
   "cell_type": "code",
   "execution_count": null,
   "id": "dd90e4cd-bd9a-435a-8d95-59ad965d2b6a",
   "metadata": {},
   "outputs": [],
   "source": [
    "from snowflake.core import Root\n",
    "from snowflake.core.task import StoredProcedureCall, Task\n",
    "from snowflake.core.task.dagv1 import DAGOperation, DAG, DAGTask\n",
    "from datetime import date, timedelta"
   ]
  },
  {
   "cell_type": "code",
   "execution_count": null,
   "id": "4cac52e4",
   "metadata": {},
   "outputs": [],
   "source": [
    "api_root = Root(session)"
   ]
  },
  {
   "cell_type": "code",
   "execution_count": null,
   "id": "ef69647f",
   "metadata": {},
   "outputs": [],
   "source": [
    "def func_step1(session:Session):\n",
    "    session.use_database('DEMO_DB')\n",
    "    session.use_schema('PUBLIC')\n",
    "        # Creating a Snowpark DataFrame\n",
    "    application_record_sdf = session.table('APPLICATION_RECORD')\n",
    "    credit_record_sdf = session.table('CREDIT_RECORD')\n",
    "\n",
    "    # We will create a new column, TARGET, that will have a 1 for high-risk and 0 for low-risk.\n",
    "    credit_record_sdf = credit_record_sdf.group_by('ID')\\\n",
    "                            .agg(F.sum(F.iff(F.col('STATUS').in_(['2', '3','4','5']), 1, 0)).as_(\"CNT_LATE\"))\\\n",
    "                            .with_column('TARGET', F.when(F.col('CNT_LATE') > 0, 1).otherwise(0)).drop(\"CNT_LATE\")\n",
    "\n",
    "    \n",
    "    # Join Credit Record data with Application Record Data\n",
    "    joined_sdf = application_record_sdf.join(credit_record_sdf, using_columns='ID', join_type='inner')\n",
    "    # Duplicate Removal - Use the **drop_duplicates** to remove duplicated rows\n",
    "    joined_sdf = joined_sdf.drop_duplicates('ID')\n",
    "\n",
    "    # Selecting a few columns for modeling\n",
    "    cols_numerical = ['AMT_INCOME_TOTAL', 'DAYS_EMPLOYED', 'FLAG_MOBIL', 'CNT_FAM_MEMBERS', 'TARGET']\n",
    "    cols_categorical = ['CODE_GENDER', 'NAME_HOUSING_TYPE', 'OCCUPATION_TYPE']\n",
    "    joined_sdf = joined_sdf[cols_numerical+cols_categorical]\n",
    "    return joined_sdf"
   ]
  },
  {
   "cell_type": "code",
   "execution_count": null,
   "id": "a54d338d-a658-4e50-90ed-f08c7bddea97",
   "metadata": {},
   "outputs": [],
   "source": [
    "def func_data_preprocess_pipeline(session:Session) -> str:\n",
    "    import snowflake.snowpark.functions as F\n",
    "    from snowflake.snowpark.functions import udf\n",
    "    from snowflake.ml.modeling.preprocessing import OneHotEncoder\n",
    "    import re\n",
    "\n",
    "    joined_sdf = func_step1(Session)\n",
    "    # Perform One-Hot-Encoding for categorical columns\n",
    "    my_ohe_encoder = OneHotEncoder(input_cols=cols_categorical, output_cols=cols_categorical, drop_input_cols=True)\n",
    "    prepared_sdf = my_ohe_encoder.fit(joined_sdf).transform(joined_sdf)\n",
    "\n",
    "    cols = prepared_sdf.columns\n",
    "    for old_col in cols:\n",
    "        new_col = re.sub(r'[^a-zA-Z0-9_]', '', old_col)\n",
    "        new_col = new_col.upper()\n",
    "        prepared_sdf = prepared_sdf.rename(col(old_col), new_col)\n",
    "\n",
    "    # Save the data as table in Snowflake\n",
    "    prepared_sdf.write.mode(\"overwrite\").save_as_table(\"PIPE_CREDIT_DEFAULT\")\n",
    "    \n",
    "    return f\"Preprocessing pipeline ran successfully\""
   ]
  },
  {
   "cell_type": "code",
   "execution_count": null,
   "id": "429b1c2b",
   "metadata": {},
   "outputs": [],
   "source": [
    "def func_inference_pipeline(session:Session) -> str:\n",
    "    from snowflake.ml.registry import registry\n",
    "    registry = registry.Registry(session=session, database_name=db, schema_name=schema)\n",
    "    \n",
    "    # Get data\n",
    "    snowdf_test = session.table('PIPE_CREDIT_DEFAULT')\n",
    "    model_name = \"DEMO_CREDIT_XGB\"\n",
    "    model_ver = registry.get_model(model_name).default\n",
    "    result_sdf = model_ver.run(snowdf_test, function_name=\"predict\")\n",
    "    result_sdf.write.mode(\"overwrite\").save_as_table(\"SCORED_CREDIT_DEFAULT\")\n",
    "    return f\"Inference pipeline ran successfully\""
   ]
  },
  {
   "cell_type": "markdown",
   "id": "5d7132ce-f3a8-418a-9b95-3ae341332a5b",
   "metadata": {},
   "source": [
    "#### Setup Tasks"
   ]
  },
  {
   "cell_type": "code",
   "execution_count": null,
   "id": "fa691a11-dec8-44af-976b-959fb75d84a4",
   "metadata": {},
   "outputs": [],
   "source": [
    "schema = api_root.databases['DEMO_DB'].schemas['PUBLIC']\n",
    "tasks = schema.tasks"
   ]
  },
  {
   "cell_type": "code",
   "execution_count": null,
   "id": "838f2469-0ae3-472c-a749-637402523a3d",
   "metadata": {},
   "outputs": [],
   "source": [
    "# Task 1 stuff\n",
    "task1_entity = Task(\n",
    "    \"preprocess_pipeline\",\n",
    "    definition=StoredProcedureCall(func_data_preprocess_pipeline, stage_location=\"@ML_MODELS\", packages=[\"snowflake-snowpark-python\",\"snowflake-ml-python\", \"regex\"]),\n",
    "    warehouse='SSK_RESEARCH',\n",
    "    schedule=timedelta(days=1))\n",
    "\n",
    "task1 = tasks.create(task1_entity, mode=\"orReplace\")"
   ]
  },
  {
   "cell_type": "code",
   "execution_count": null,
   "id": "47be040a",
   "metadata": {},
   "outputs": [],
   "source": [
    "# Task 2 stuff\n",
    "task2_entity = Task(\n",
    "    \"inference_pipeline\",\n",
    "    definition=StoredProcedureCall(func_inference_pipeline, stage_location=\"@ML_MODELS\", packages=[\"snowflake-snowpark-python\"]),\n",
    "    warehouse='SSK_RESEARCH')\n",
    "\n",
    "task2_entity.predecessors = [\"DEMO_DB.PUBLIC.PREPROCESS_PIPELINE\"]\n",
    "task2 = tasks.create(task2_entity, mode=\"orReplace\")"
   ]
  },
  {
   "cell_type": "code",
   "execution_count": null,
   "id": "43211626-1965-4e25-93b7-40694a9dac87",
   "metadata": {},
   "outputs": [],
   "source": [
    "task2.resume()\n",
    "task1.resume()"
   ]
  },
  {
   "cell_type": "code",
   "execution_count": null,
   "id": "41f769b8-d87b-4b7a-aef4-0c13bc319fdf",
   "metadata": {},
   "outputs": [],
   "source": []
  },
  {
   "cell_type": "code",
   "execution_count": null,
   "id": "5d559caf-6e94-47e7-a0a2-e2ecafaed18d",
   "metadata": {},
   "outputs": [],
   "source": []
  },
  {
   "cell_type": "code",
   "execution_count": null,
   "id": "b5dd562b-4e56-4d8b-9156-5b2c3651ddae",
   "metadata": {},
   "outputs": [],
   "source": []
  }
 ],
 "metadata": {
  "kernelspec": {
   "display_name": "Python 3 (ipykernel)",
   "language": "python",
   "name": "python3"
  },
  "language_info": {
   "codemirror_mode": {
    "name": "ipython",
    "version": 3
   },
   "file_extension": ".py",
   "mimetype": "text/x-python",
   "name": "python",
   "nbconvert_exporter": "python",
   "pygments_lexer": "ipython3",
   "version": "3.9.17"
  }
 },
 "nbformat": 4,
 "nbformat_minor": 5
}
