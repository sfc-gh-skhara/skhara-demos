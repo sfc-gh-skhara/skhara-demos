{
 "cells": [
  {
   "cell_type": "markdown",
   "id": "a7d72538",
   "metadata": {},
   "source": [
    "## Imports"
   ]
  },
  {
   "cell_type": "code",
   "execution_count": null,
   "id": "8d4fde62",
   "metadata": {},
   "outputs": [],
   "source": [
    "!conda install snowflake-ml-python --y"
   ]
  },
  {
   "cell_type": "code",
   "execution_count": null,
   "id": "0e0b611f",
   "metadata": {},
   "outputs": [],
   "source": [
    "!conda install snowflake-snowpark-python --y"
   ]
  },
  {
   "cell_type": "code",
   "execution_count": 1,
   "id": "2cb04fd9",
   "metadata": {},
   "outputs": [],
   "source": [
    "from snowflake.snowpark.session import Session\n",
    "import snowflake.snowpark.types as T\n",
    "import snowflake.snowpark.functions as F\n",
    "from snowflake.snowpark.functions import col\n",
    "\n",
    "from snowflake.snowpark.functions import udf\n",
    "from snowflake.snowpark.types import IntegerType, FloatType, StringType,StructType, StructField, DecimalType\n",
    "\n",
    "import snowflake.ml.modeling.preprocessing as snowml\n",
    "from snowflake.ml.modeling.pipeline import Pipeline\n",
    "from snowflake.ml.modeling.model_selection import GridSearchCV\n",
    "from snowflake.ml.registry import registry\n",
    "\n",
    "import json\n",
    "\n",
    "import matplotlib.pyplot as plt\n",
    "import seaborn as sns\n",
    "import os\n",
    "import pandas as pd\n",
    "\n",
    "import warnings\n",
    "warnings.filterwarnings(\"ignore\")"
   ]
  },
  {
   "cell_type": "code",
   "execution_count": 2,
   "id": "81c3dff8",
   "metadata": {},
   "outputs": [],
   "source": [
    "# !pip install snowflake-ml-python --index-url https://repo.anaconda.com/pkgs/snowflake"
   ]
  },
  {
   "cell_type": "code",
   "execution_count": 34,
   "id": "9cc080c0",
   "metadata": {},
   "outputs": [],
   "source": [
    "my_dir = os.getcwd()\n",
    "# connection_parameters = json.load(open(f'{my_dir}/creds.json'))\n",
    "connection_parameters = json.load(open('/Users/skhara/Documents/Code/creds.json'))\n",
    "session = Session.builder.configs(connection_parameters).create()"
   ]
  },
  {
   "cell_type": "markdown",
   "id": "67790ddf",
   "metadata": {},
   "source": [
    "# <font color='red'>Snowpark with Big Data</font>"
   ]
  },
  {
   "cell_type": "code",
   "execution_count": 4,
   "id": "e37e670b",
   "metadata": {},
   "outputs": [],
   "source": [
    "session.use_warehouse('ML_WORKLOADS')"
   ]
  },
  {
   "cell_type": "code",
   "execution_count": 5,
   "id": "48d0374b",
   "metadata": {},
   "outputs": [],
   "source": [
    "snow_df = session.table('CITIBIKEML_JACK.DEMO.TRIPS')"
   ]
  },
  {
   "cell_type": "code",
   "execution_count": 6,
   "id": "b3e7dabc",
   "metadata": {},
   "outputs": [
    {
     "data": {
      "text/plain": [
       "<snowflake.snowpark.table.Table at 0x16c5bb640>"
      ]
     },
     "execution_count": 6,
     "metadata": {},
     "output_type": "execute_result"
    }
   ],
   "source": [
    "snow_df"
   ]
  },
  {
   "cell_type": "code",
   "execution_count": 7,
   "id": "82f0070f",
   "metadata": {},
   "outputs": [
    {
     "name": "stdout",
     "output_type": "stream",
     "text": [
      "CPU times: user 12.7 ms, sys: 5.48 ms, total: 18.2 ms\n",
      "Wall time: 3.5 s\n"
     ]
    },
    {
     "data": {
      "text/html": [
       "<div>\n",
       "<style scoped>\n",
       "    .dataframe tbody tr th:only-of-type {\n",
       "        vertical-align: middle;\n",
       "    }\n",
       "\n",
       "    .dataframe tbody tr th {\n",
       "        vertical-align: top;\n",
       "    }\n",
       "\n",
       "    .dataframe thead th {\n",
       "        text-align: right;\n",
       "    }\n",
       "</style>\n",
       "<table border=\"1\" class=\"dataframe\">\n",
       "  <thead>\n",
       "    <tr style=\"text-align: right;\">\n",
       "      <th></th>\n",
       "      <th>START_STATION_NAME</th>\n",
       "      <th>START_STATION_ID</th>\n",
       "      <th>END_STATION_NAME</th>\n",
       "      <th>END_STATION_ID</th>\n",
       "      <th>START_STATION_LATITUDE</th>\n",
       "      <th>START_STATION_LONGITUDE</th>\n",
       "      <th>END_STATION_LATITUDE</th>\n",
       "      <th>END_STATION_LONGITUDE</th>\n",
       "      <th>USERTYPE</th>\n",
       "      <th>STARTTIME</th>\n",
       "      <th>STOPTIME</th>\n",
       "    </tr>\n",
       "  </thead>\n",
       "  <tbody>\n",
       "    <tr>\n",
       "      <th>0</th>\n",
       "      <td>Cleveland Pl &amp; Spring St</td>\n",
       "      <td>151</td>\n",
       "      <td>Great Jones St</td>\n",
       "      <td>229</td>\n",
       "      <td>40.722103786686034</td>\n",
       "      <td>-73.99724900722504</td>\n",
       "      <td>40.72743423</td>\n",
       "      <td>-73.99379025</td>\n",
       "      <td>Subscriber</td>\n",
       "      <td>2015-12-18 20:55:35</td>\n",
       "      <td>2015-12-18 20:58:07</td>\n",
       "    </tr>\n",
       "    <tr>\n",
       "      <th>1</th>\n",
       "      <td>Cleveland Pl &amp; Spring St</td>\n",
       "      <td>151</td>\n",
       "      <td>W 17 St &amp; 8 Ave</td>\n",
       "      <td>116</td>\n",
       "      <td>40.722103786686034</td>\n",
       "      <td>-73.99724900722504</td>\n",
       "      <td>40.74177603</td>\n",
       "      <td>-74.00149746</td>\n",
       "      <td>Subscriber</td>\n",
       "      <td>2015-12-20 14:19:38</td>\n",
       "      <td>2015-12-20 14:33:54</td>\n",
       "    </tr>\n",
       "    <tr>\n",
       "      <th>2</th>\n",
       "      <td>Cleveland Pl &amp; Spring St</td>\n",
       "      <td>151</td>\n",
       "      <td>6 Ave &amp; Canal St</td>\n",
       "      <td>377</td>\n",
       "      <td>40.722103786686034</td>\n",
       "      <td>-73.99724900722504</td>\n",
       "      <td>40.72243797</td>\n",
       "      <td>-74.00566443</td>\n",
       "      <td>Subscriber</td>\n",
       "      <td>2015-12-20 19:00:11</td>\n",
       "      <td>2015-12-20 19:04:43</td>\n",
       "    </tr>\n",
       "    <tr>\n",
       "      <th>3</th>\n",
       "      <td>Cleveland Pl &amp; Spring St</td>\n",
       "      <td>151</td>\n",
       "      <td>Allen St &amp; Rivington St</td>\n",
       "      <td>401</td>\n",
       "      <td>40.722103786686034</td>\n",
       "      <td>-73.99724900722504</td>\n",
       "      <td>40.72019576</td>\n",
       "      <td>-73.98997825</td>\n",
       "      <td>Subscriber</td>\n",
       "      <td>2015-12-29 17:33:42</td>\n",
       "      <td>2015-12-29 17:39:57</td>\n",
       "    </tr>\n",
       "    <tr>\n",
       "      <th>4</th>\n",
       "      <td>Cleveland Pl &amp; Spring St</td>\n",
       "      <td>151</td>\n",
       "      <td>Washington St &amp; Gansevoort St</td>\n",
       "      <td>405</td>\n",
       "      <td>40.722103786686034</td>\n",
       "      <td>-73.99724900722504</td>\n",
       "      <td>40.739323</td>\n",
       "      <td>-74.008119</td>\n",
       "      <td>Subscriber</td>\n",
       "      <td>2015-12-30 13:56:20</td>\n",
       "      <td>2015-12-30 14:11:19</td>\n",
       "    </tr>\n",
       "  </tbody>\n",
       "</table>\n",
       "</div>"
      ],
      "text/plain": [
       "         START_STATION_NAME START_STATION_ID               END_STATION_NAME  \\\n",
       "0  Cleveland Pl & Spring St              151                 Great Jones St   \n",
       "1  Cleveland Pl & Spring St              151                W 17 St & 8 Ave   \n",
       "2  Cleveland Pl & Spring St              151               6 Ave & Canal St   \n",
       "3  Cleveland Pl & Spring St              151        Allen St & Rivington St   \n",
       "4  Cleveland Pl & Spring St              151  Washington St & Gansevoort St   \n",
       "\n",
       "  END_STATION_ID START_STATION_LATITUDE START_STATION_LONGITUDE  \\\n",
       "0            229     40.722103786686034      -73.99724900722504   \n",
       "1            116     40.722103786686034      -73.99724900722504   \n",
       "2            377     40.722103786686034      -73.99724900722504   \n",
       "3            401     40.722103786686034      -73.99724900722504   \n",
       "4            405     40.722103786686034      -73.99724900722504   \n",
       "\n",
       "  END_STATION_LATITUDE END_STATION_LONGITUDE    USERTYPE           STARTTIME  \\\n",
       "0          40.72743423          -73.99379025  Subscriber 2015-12-18 20:55:35   \n",
       "1          40.74177603          -74.00149746  Subscriber 2015-12-20 14:19:38   \n",
       "2          40.72243797          -74.00566443  Subscriber 2015-12-20 19:00:11   \n",
       "3          40.72019576          -73.98997825  Subscriber 2015-12-29 17:33:42   \n",
       "4            40.739323            -74.008119  Subscriber 2015-12-30 13:56:20   \n",
       "\n",
       "             STOPTIME  \n",
       "0 2015-12-18 20:58:07  \n",
       "1 2015-12-20 14:33:54  \n",
       "2 2015-12-20 19:04:43  \n",
       "3 2015-12-29 17:39:57  \n",
       "4 2015-12-30 14:11:19  "
      ]
     },
     "execution_count": 7,
     "metadata": {},
     "output_type": "execute_result"
    }
   ],
   "source": [
    "%%time\n",
    "snow_df.limit(5).to_pandas()"
   ]
  },
  {
   "cell_type": "code",
   "execution_count": 8,
   "id": "0a522874",
   "metadata": {
    "scrolled": true
   },
   "outputs": [
    {
     "name": "stdout",
     "output_type": "stream",
     "text": [
      "Size of the Snowpark DF:  103835123\n",
      "CPU times: user 3.51 ms, sys: 1.79 ms, total: 5.29 ms\n",
      "Wall time: 2.37 s\n"
     ]
    }
   ],
   "source": [
    "%%time\n",
    "print('Size of the Snowpark DF: ', snow_df.count())"
   ]
  },
  {
   "cell_type": "code",
   "execution_count": null,
   "id": "729e344e",
   "metadata": {},
   "outputs": [],
   "source": [
    "# # Retrieve the last query ID directly using Snowpark's session object\n",
    "# # This uses the LAST_QUERY_ID() function which gives the ID of the last query executed in the session\n",
    "# last_query_id = session.sql(\"SELECT LAST_QUERY_ID()\").collect()[0][0]\n",
    "# print(f\"The last query ID is: {last_query_id}\")"
   ]
  },
  {
   "cell_type": "code",
   "execution_count": 13,
   "id": "f2a9d9ea",
   "metadata": {},
   "outputs": [
    {
     "name": "stdout",
     "output_type": "stream",
     "text": [
      "CPU times: user 10.3 ms, sys: 2.41 ms, total: 12.7 ms\n",
      "Wall time: 437 ms\n"
     ]
    }
   ],
   "source": [
    "%%time\n",
    "pandas_df = snow_df.with_column(\"date\", F.to_date(\"STARTTIME\")).group_by(\"date\").count().sort(\"date\").to_pandas()"
   ]
  },
  {
   "cell_type": "code",
   "execution_count": 12,
   "id": "7dad1edb",
   "metadata": {},
   "outputs": [
    {
     "data": {
      "text/plain": [
       "2641"
      ]
     },
     "execution_count": 12,
     "metadata": {},
     "output_type": "execute_result"
    }
   ],
   "source": [
    "len(pandas_df)"
   ]
  },
  {
   "cell_type": "code",
   "execution_count": null,
   "id": "ad48bae8",
   "metadata": {},
   "outputs": [],
   "source": [
    "plt.figure(figsize=(15, 8))\n",
    "ax = sns.lineplot(x='DATE', y='COUNT', data=pandas_df)"
   ]
  },
  {
   "cell_type": "markdown",
   "id": "7b38abe0",
   "metadata": {},
   "source": [
    "#  \n",
    "#  \n",
    "# \n",
    " \n",
    "# <font color='red'>Snowpark for ML</font>"
   ]
  },
  {
   "cell_type": "markdown",
   "id": "5efba6a2",
   "metadata": {},
   "source": [
    "## 1.0 Prepare Data "
   ]
  },
  {
   "cell_type": "code",
   "execution_count": 14,
   "id": "9f148313",
   "metadata": {},
   "outputs": [],
   "source": [
    "session.sql('ALTER WAREHOUSE SSK_RESEARCH SET WAREHOUSE_SIZE = \"LARGE\"').collect()\n",
    "session.use_warehouse('SSK_RESEARCH')"
   ]
  },
  {
   "cell_type": "code",
   "execution_count": 15,
   "id": "a019f8e4",
   "metadata": {},
   "outputs": [],
   "source": [
    "session.use_database('DEMO_DB')\n",
    "session.use_schema('PUBLIC')"
   ]
  },
  {
   "cell_type": "code",
   "execution_count": 16,
   "id": "52dd5ab7",
   "metadata": {},
   "outputs": [
    {
     "name": "stdout",
     "output_type": "stream",
     "text": [
      "Application table size\t:  438557 \n",
      "Credit table size\t:  1048575\n"
     ]
    }
   ],
   "source": [
    "# Creating a Snowpark DataFrame\n",
    "application_record_sdf = session.table('APPLICATION_RECORD')\n",
    "credit_record_sdf = session.table('CREDIT_RECORD')\n",
    "print('Application table size\\t: ',application_record_sdf.count(), \n",
    "      '\\nCredit table size\\t: ', credit_record_sdf.count())"
   ]
  },
  {
   "cell_type": "code",
   "execution_count": 18,
   "id": "eed6303a",
   "metadata": {},
   "outputs": [
    {
     "data": {
      "text/html": [
       "<div>\n",
       "<style scoped>\n",
       "    .dataframe tbody tr th:only-of-type {\n",
       "        vertical-align: middle;\n",
       "    }\n",
       "\n",
       "    .dataframe tbody tr th {\n",
       "        vertical-align: top;\n",
       "    }\n",
       "\n",
       "    .dataframe thead th {\n",
       "        text-align: right;\n",
       "    }\n",
       "</style>\n",
       "<table border=\"1\" class=\"dataframe\">\n",
       "  <thead>\n",
       "    <tr style=\"text-align: right;\">\n",
       "      <th></th>\n",
       "      <th>ID</th>\n",
       "      <th>MONTHS_BALANCE</th>\n",
       "      <th>STATUS</th>\n",
       "    </tr>\n",
       "  </thead>\n",
       "  <tbody>\n",
       "    <tr>\n",
       "      <th>0</th>\n",
       "      <td>5001711</td>\n",
       "      <td>0</td>\n",
       "      <td>X</td>\n",
       "    </tr>\n",
       "    <tr>\n",
       "      <th>1</th>\n",
       "      <td>5001711</td>\n",
       "      <td>-1</td>\n",
       "      <td>0</td>\n",
       "    </tr>\n",
       "    <tr>\n",
       "      <th>2</th>\n",
       "      <td>5001711</td>\n",
       "      <td>-2</td>\n",
       "      <td>0</td>\n",
       "    </tr>\n",
       "    <tr>\n",
       "      <th>3</th>\n",
       "      <td>5001711</td>\n",
       "      <td>-3</td>\n",
       "      <td>0</td>\n",
       "    </tr>\n",
       "    <tr>\n",
       "      <th>4</th>\n",
       "      <td>5001712</td>\n",
       "      <td>0</td>\n",
       "      <td>C</td>\n",
       "    </tr>\n",
       "  </tbody>\n",
       "</table>\n",
       "</div>"
      ],
      "text/plain": [
       "        ID  MONTHS_BALANCE STATUS\n",
       "0  5001711               0      X\n",
       "1  5001711              -1      0\n",
       "2  5001711              -2      0\n",
       "3  5001711              -3      0\n",
       "4  5001712               0      C"
      ]
     },
     "execution_count": 18,
     "metadata": {},
     "output_type": "execute_result"
    }
   ],
   "source": [
    "credit_record_sdf.limit(5).to_pandas()"
   ]
  },
  {
   "cell_type": "code",
   "execution_count": 19,
   "id": "b4ac25eb",
   "metadata": {},
   "outputs": [],
   "source": [
    "# We will create a new column, TARGET, that will have a 1 for high-risk and 0 for low-risk.\n",
    "credit_record_sdf = credit_record_sdf.group_by('ID')\\\n",
    "                        .agg(F.sum(F.iff(F.col('STATUS').in_(['2', '3','4','5']), 1, 0)).as_(\"CNT_LATE\"))\\\n",
    "                        .with_column('TARGET', F.when(F.col('CNT_LATE') > 0, 1).otherwise(0)).drop(\"CNT_LATE\")"
   ]
  },
  {
   "cell_type": "code",
   "execution_count": 20,
   "id": "ceb3d538",
   "metadata": {},
   "outputs": [],
   "source": [
    "# Join Credit Record data with Application Record Data\n",
    "joined_sdf = application_record_sdf.join(credit_record_sdf, using_columns='ID', join_type='inner')"
   ]
  },
  {
   "cell_type": "code",
   "execution_count": 21,
   "id": "cb3e476f",
   "metadata": {},
   "outputs": [],
   "source": [
    "# Duplicate Removal - Use the **drop_duplicates** to remove duplicated rows\n",
    "joined_sdf = joined_sdf.drop_duplicates('ID')"
   ]
  },
  {
   "cell_type": "code",
   "execution_count": 22,
   "id": "f40b1d45",
   "metadata": {},
   "outputs": [
    {
     "data": {
      "text/plain": [
       "36457"
      ]
     },
     "execution_count": 22,
     "metadata": {},
     "output_type": "execute_result"
    }
   ],
   "source": [
    "joined_sdf.count()"
   ]
  },
  {
   "cell_type": "code",
   "execution_count": 23,
   "id": "64ddc3a3",
   "metadata": {},
   "outputs": [],
   "source": [
    "# Selecting a few columns for modeling\n",
    "cols_numerical = ['AMT_INCOME_TOTAL', 'DAYS_EMPLOYED', 'FLAG_MOBIL', 'CNT_FAM_MEMBERS']\n",
    "cols_categorical = ['CODE_GENDER', 'NAME_HOUSING_TYPE', 'OCCUPATION_TYPE']\n",
    "target = ['TARGET']\n",
    "joined_sdf = joined_sdf[cols_numerical + cols_categorical + target]"
   ]
  },
  {
   "cell_type": "code",
   "execution_count": 24,
   "id": "de497de8",
   "metadata": {},
   "outputs": [
    {
     "data": {
      "text/html": [
       "<div>\n",
       "<style scoped>\n",
       "    .dataframe tbody tr th:only-of-type {\n",
       "        vertical-align: middle;\n",
       "    }\n",
       "\n",
       "    .dataframe tbody tr th {\n",
       "        vertical-align: top;\n",
       "    }\n",
       "\n",
       "    .dataframe thead th {\n",
       "        text-align: right;\n",
       "    }\n",
       "</style>\n",
       "<table border=\"1\" class=\"dataframe\">\n",
       "  <thead>\n",
       "    <tr style=\"text-align: right;\">\n",
       "      <th></th>\n",
       "      <th>AMT_INCOME_TOTAL</th>\n",
       "      <th>DAYS_EMPLOYED</th>\n",
       "      <th>FLAG_MOBIL</th>\n",
       "      <th>CNT_FAM_MEMBERS</th>\n",
       "      <th>CODE_GENDER</th>\n",
       "      <th>NAME_HOUSING_TYPE</th>\n",
       "      <th>OCCUPATION_TYPE</th>\n",
       "      <th>TARGET</th>\n",
       "    </tr>\n",
       "  </thead>\n",
       "  <tbody>\n",
       "    <tr>\n",
       "      <th>0</th>\n",
       "      <td>90000.0</td>\n",
       "      <td>365243</td>\n",
       "      <td>1</td>\n",
       "      <td>2</td>\n",
       "      <td>F</td>\n",
       "      <td>House / apartment</td>\n",
       "      <td>None</td>\n",
       "      <td>0</td>\n",
       "    </tr>\n",
       "    <tr>\n",
       "      <th>1</th>\n",
       "      <td>135000.0</td>\n",
       "      <td>-5507</td>\n",
       "      <td>1</td>\n",
       "      <td>2</td>\n",
       "      <td>F</td>\n",
       "      <td>House / apartment</td>\n",
       "      <td>None</td>\n",
       "      <td>0</td>\n",
       "    </tr>\n",
       "    <tr>\n",
       "      <th>2</th>\n",
       "      <td>135000.0</td>\n",
       "      <td>-397</td>\n",
       "      <td>1</td>\n",
       "      <td>3</td>\n",
       "      <td>F</td>\n",
       "      <td>House / apartment</td>\n",
       "      <td>Accountants</td>\n",
       "      <td>0</td>\n",
       "    </tr>\n",
       "    <tr>\n",
       "      <th>3</th>\n",
       "      <td>216000.0</td>\n",
       "      <td>-1457</td>\n",
       "      <td>1</td>\n",
       "      <td>3</td>\n",
       "      <td>M</td>\n",
       "      <td>Rented apartment</td>\n",
       "      <td>Laborers</td>\n",
       "      <td>0</td>\n",
       "    </tr>\n",
       "    <tr>\n",
       "      <th>4</th>\n",
       "      <td>225000.0</td>\n",
       "      <td>-5064</td>\n",
       "      <td>1</td>\n",
       "      <td>2</td>\n",
       "      <td>M</td>\n",
       "      <td>House / apartment</td>\n",
       "      <td>Laborers</td>\n",
       "      <td>0</td>\n",
       "    </tr>\n",
       "    <tr>\n",
       "      <th>5</th>\n",
       "      <td>180000.0</td>\n",
       "      <td>-1892</td>\n",
       "      <td>1</td>\n",
       "      <td>3</td>\n",
       "      <td>M</td>\n",
       "      <td>House / apartment</td>\n",
       "      <td>Laborers</td>\n",
       "      <td>0</td>\n",
       "    </tr>\n",
       "    <tr>\n",
       "      <th>6</th>\n",
       "      <td>90000.0</td>\n",
       "      <td>-1508</td>\n",
       "      <td>1</td>\n",
       "      <td>2</td>\n",
       "      <td>F</td>\n",
       "      <td>House / apartment</td>\n",
       "      <td>Medicine staff</td>\n",
       "      <td>0</td>\n",
       "    </tr>\n",
       "    <tr>\n",
       "      <th>7</th>\n",
       "      <td>360000.0</td>\n",
       "      <td>-4023</td>\n",
       "      <td>1</td>\n",
       "      <td>2</td>\n",
       "      <td>F</td>\n",
       "      <td>House / apartment</td>\n",
       "      <td>Managers</td>\n",
       "      <td>0</td>\n",
       "    </tr>\n",
       "    <tr>\n",
       "      <th>8</th>\n",
       "      <td>121500.0</td>\n",
       "      <td>365243</td>\n",
       "      <td>1</td>\n",
       "      <td>3</td>\n",
       "      <td>F</td>\n",
       "      <td>House / apartment</td>\n",
       "      <td>None</td>\n",
       "      <td>0</td>\n",
       "    </tr>\n",
       "    <tr>\n",
       "      <th>9</th>\n",
       "      <td>202500.0</td>\n",
       "      <td>-261</td>\n",
       "      <td>1</td>\n",
       "      <td>3</td>\n",
       "      <td>F</td>\n",
       "      <td>House / apartment</td>\n",
       "      <td>Medicine staff</td>\n",
       "      <td>0</td>\n",
       "    </tr>\n",
       "  </tbody>\n",
       "</table>\n",
       "</div>"
      ],
      "text/plain": [
       "   AMT_INCOME_TOTAL  DAYS_EMPLOYED  FLAG_MOBIL  CNT_FAM_MEMBERS CODE_GENDER  \\\n",
       "0           90000.0         365243           1                2           F   \n",
       "1          135000.0          -5507           1                2           F   \n",
       "2          135000.0           -397           1                3           F   \n",
       "3          216000.0          -1457           1                3           M   \n",
       "4          225000.0          -5064           1                2           M   \n",
       "5          180000.0          -1892           1                3           M   \n",
       "6           90000.0          -1508           1                2           F   \n",
       "7          360000.0          -4023           1                2           F   \n",
       "8          121500.0         365243           1                3           F   \n",
       "9          202500.0           -261           1                3           F   \n",
       "\n",
       "   NAME_HOUSING_TYPE OCCUPATION_TYPE  TARGET  \n",
       "0  House / apartment            None       0  \n",
       "1  House / apartment            None       0  \n",
       "2  House / apartment     Accountants       0  \n",
       "3   Rented apartment        Laborers       0  \n",
       "4  House / apartment        Laborers       0  \n",
       "5  House / apartment        Laborers       0  \n",
       "6  House / apartment  Medicine staff       0  \n",
       "7  House / apartment        Managers       0  \n",
       "8  House / apartment            None       0  \n",
       "9  House / apartment  Medicine staff       0  "
      ]
     },
     "execution_count": 24,
     "metadata": {},
     "output_type": "execute_result"
    }
   ],
   "source": [
    "joined_sdf.limit(10).to_pandas()"
   ]
  },
  {
   "cell_type": "code",
   "execution_count": 25,
   "id": "adad4acc",
   "metadata": {},
   "outputs": [
    {
     "data": {
      "text/html": [
       "<div>\n",
       "<style scoped>\n",
       "    .dataframe tbody tr th:only-of-type {\n",
       "        vertical-align: middle;\n",
       "    }\n",
       "\n",
       "    .dataframe tbody tr th {\n",
       "        vertical-align: top;\n",
       "    }\n",
       "\n",
       "    .dataframe thead th {\n",
       "        text-align: right;\n",
       "    }\n",
       "</style>\n",
       "<table border=\"1\" class=\"dataframe\">\n",
       "  <thead>\n",
       "    <tr style=\"text-align: right;\">\n",
       "      <th></th>\n",
       "      <th>CODE_GENDER_F</th>\n",
       "      <th>CODE_GENDER_M</th>\n",
       "      <th>NAME_HOUSING_TYPE_Co-op apartment</th>\n",
       "      <th>NAME_HOUSING_TYPE_House / apartment</th>\n",
       "      <th>NAME_HOUSING_TYPE_Municipal apartment</th>\n",
       "      <th>NAME_HOUSING_TYPE_Office apartment</th>\n",
       "      <th>NAME_HOUSING_TYPE_Rented apartment</th>\n",
       "      <th>NAME_HOUSING_TYPE_With parents</th>\n",
       "      <th>OCCUPATION_TYPE_Accountants</th>\n",
       "      <th>OCCUPATION_TYPE_Cleaning staff</th>\n",
       "      <th>...</th>\n",
       "      <th>OCCUPATION_TYPE_Sales staff</th>\n",
       "      <th>OCCUPATION_TYPE_Secretaries</th>\n",
       "      <th>OCCUPATION_TYPE_Security staff</th>\n",
       "      <th>OCCUPATION_TYPE_Waiters/barmen staff</th>\n",
       "      <th>OCCUPATION_TYPE_None</th>\n",
       "      <th>AMT_INCOME_TOTAL</th>\n",
       "      <th>DAYS_EMPLOYED</th>\n",
       "      <th>FLAG_MOBIL</th>\n",
       "      <th>CNT_FAM_MEMBERS</th>\n",
       "      <th>TARGET</th>\n",
       "    </tr>\n",
       "  </thead>\n",
       "  <tbody>\n",
       "    <tr>\n",
       "      <th>0</th>\n",
       "      <td>1.0</td>\n",
       "      <td>0.0</td>\n",
       "      <td>0.0</td>\n",
       "      <td>1.0</td>\n",
       "      <td>0.0</td>\n",
       "      <td>0.0</td>\n",
       "      <td>0.0</td>\n",
       "      <td>0.0</td>\n",
       "      <td>0.0</td>\n",
       "      <td>0.0</td>\n",
       "      <td>...</td>\n",
       "      <td>0.0</td>\n",
       "      <td>0.0</td>\n",
       "      <td>0.0</td>\n",
       "      <td>0.0</td>\n",
       "      <td>0.0</td>\n",
       "      <td>450000.0</td>\n",
       "      <td>-2470</td>\n",
       "      <td>1</td>\n",
       "      <td>2</td>\n",
       "      <td>0</td>\n",
       "    </tr>\n",
       "    <tr>\n",
       "      <th>1</th>\n",
       "      <td>1.0</td>\n",
       "      <td>0.0</td>\n",
       "      <td>0.0</td>\n",
       "      <td>1.0</td>\n",
       "      <td>0.0</td>\n",
       "      <td>0.0</td>\n",
       "      <td>0.0</td>\n",
       "      <td>0.0</td>\n",
       "      <td>0.0</td>\n",
       "      <td>0.0</td>\n",
       "      <td>...</td>\n",
       "      <td>0.0</td>\n",
       "      <td>0.0</td>\n",
       "      <td>0.0</td>\n",
       "      <td>0.0</td>\n",
       "      <td>0.0</td>\n",
       "      <td>135000.0</td>\n",
       "      <td>-777</td>\n",
       "      <td>1</td>\n",
       "      <td>2</td>\n",
       "      <td>0</td>\n",
       "    </tr>\n",
       "    <tr>\n",
       "      <th>2</th>\n",
       "      <td>0.0</td>\n",
       "      <td>1.0</td>\n",
       "      <td>0.0</td>\n",
       "      <td>0.0</td>\n",
       "      <td>0.0</td>\n",
       "      <td>0.0</td>\n",
       "      <td>0.0</td>\n",
       "      <td>1.0</td>\n",
       "      <td>0.0</td>\n",
       "      <td>0.0</td>\n",
       "      <td>...</td>\n",
       "      <td>0.0</td>\n",
       "      <td>0.0</td>\n",
       "      <td>0.0</td>\n",
       "      <td>0.0</td>\n",
       "      <td>0.0</td>\n",
       "      <td>270000.0</td>\n",
       "      <td>-2202</td>\n",
       "      <td>1</td>\n",
       "      <td>2</td>\n",
       "      <td>0</td>\n",
       "    </tr>\n",
       "    <tr>\n",
       "      <th>3</th>\n",
       "      <td>1.0</td>\n",
       "      <td>0.0</td>\n",
       "      <td>0.0</td>\n",
       "      <td>1.0</td>\n",
       "      <td>0.0</td>\n",
       "      <td>0.0</td>\n",
       "      <td>0.0</td>\n",
       "      <td>0.0</td>\n",
       "      <td>0.0</td>\n",
       "      <td>0.0</td>\n",
       "      <td>...</td>\n",
       "      <td>1.0</td>\n",
       "      <td>0.0</td>\n",
       "      <td>0.0</td>\n",
       "      <td>0.0</td>\n",
       "      <td>0.0</td>\n",
       "      <td>180000.0</td>\n",
       "      <td>-4354</td>\n",
       "      <td>1</td>\n",
       "      <td>2</td>\n",
       "      <td>0</td>\n",
       "    </tr>\n",
       "    <tr>\n",
       "      <th>4</th>\n",
       "      <td>1.0</td>\n",
       "      <td>0.0</td>\n",
       "      <td>0.0</td>\n",
       "      <td>1.0</td>\n",
       "      <td>0.0</td>\n",
       "      <td>0.0</td>\n",
       "      <td>0.0</td>\n",
       "      <td>0.0</td>\n",
       "      <td>1.0</td>\n",
       "      <td>0.0</td>\n",
       "      <td>...</td>\n",
       "      <td>0.0</td>\n",
       "      <td>0.0</td>\n",
       "      <td>0.0</td>\n",
       "      <td>0.0</td>\n",
       "      <td>0.0</td>\n",
       "      <td>180000.0</td>\n",
       "      <td>-8923</td>\n",
       "      <td>1</td>\n",
       "      <td>3</td>\n",
       "      <td>0</td>\n",
       "    </tr>\n",
       "  </tbody>\n",
       "</table>\n",
       "<p>5 rows × 32 columns</p>\n",
       "</div>"
      ],
      "text/plain": [
       "   CODE_GENDER_F  CODE_GENDER_M  NAME_HOUSING_TYPE_Co-op apartment  \\\n",
       "0            1.0            0.0                                0.0   \n",
       "1            1.0            0.0                                0.0   \n",
       "2            0.0            1.0                                0.0   \n",
       "3            1.0            0.0                                0.0   \n",
       "4            1.0            0.0                                0.0   \n",
       "\n",
       "   NAME_HOUSING_TYPE_House / apartment  NAME_HOUSING_TYPE_Municipal apartment  \\\n",
       "0                                  1.0                                    0.0   \n",
       "1                                  1.0                                    0.0   \n",
       "2                                  0.0                                    0.0   \n",
       "3                                  1.0                                    0.0   \n",
       "4                                  1.0                                    0.0   \n",
       "\n",
       "   NAME_HOUSING_TYPE_Office apartment  NAME_HOUSING_TYPE_Rented apartment  \\\n",
       "0                                 0.0                                 0.0   \n",
       "1                                 0.0                                 0.0   \n",
       "2                                 0.0                                 0.0   \n",
       "3                                 0.0                                 0.0   \n",
       "4                                 0.0                                 0.0   \n",
       "\n",
       "   NAME_HOUSING_TYPE_With parents  OCCUPATION_TYPE_Accountants  \\\n",
       "0                             0.0                          0.0   \n",
       "1                             0.0                          0.0   \n",
       "2                             1.0                          0.0   \n",
       "3                             0.0                          0.0   \n",
       "4                             0.0                          1.0   \n",
       "\n",
       "   OCCUPATION_TYPE_Cleaning staff  ...  OCCUPATION_TYPE_Sales staff  \\\n",
       "0                             0.0  ...                          0.0   \n",
       "1                             0.0  ...                          0.0   \n",
       "2                             0.0  ...                          0.0   \n",
       "3                             0.0  ...                          1.0   \n",
       "4                             0.0  ...                          0.0   \n",
       "\n",
       "   OCCUPATION_TYPE_Secretaries  OCCUPATION_TYPE_Security staff  \\\n",
       "0                          0.0                             0.0   \n",
       "1                          0.0                             0.0   \n",
       "2                          0.0                             0.0   \n",
       "3                          0.0                             0.0   \n",
       "4                          0.0                             0.0   \n",
       "\n",
       "   OCCUPATION_TYPE_Waiters/barmen staff  OCCUPATION_TYPE_None  \\\n",
       "0                                   0.0                   0.0   \n",
       "1                                   0.0                   0.0   \n",
       "2                                   0.0                   0.0   \n",
       "3                                   0.0                   0.0   \n",
       "4                                   0.0                   0.0   \n",
       "\n",
       "   AMT_INCOME_TOTAL  DAYS_EMPLOYED  FLAG_MOBIL  CNT_FAM_MEMBERS  TARGET  \n",
       "0          450000.0          -2470           1                2       0  \n",
       "1          135000.0           -777           1                2       0  \n",
       "2          270000.0          -2202           1                2       0  \n",
       "3          180000.0          -4354           1                2       0  \n",
       "4          180000.0          -8923           1                3       0  \n",
       "\n",
       "[5 rows x 32 columns]"
      ]
     },
     "execution_count": 25,
     "metadata": {},
     "output_type": "execute_result"
    }
   ],
   "source": [
    "# Build the pipeline\n",
    "preprocessing_pipeline = Pipeline(\n",
    "    steps=[\n",
    "            (\n",
    "                \"OHE\",\n",
    "                snowml.OneHotEncoder(\n",
    "                    input_cols=cols_categorical,\n",
    "                    output_cols=cols_categorical,\n",
    "                    drop_input_cols=True\n",
    "                )\n",
    "            )\n",
    "    ]\n",
    ")\n",
    "\n",
    "transformed_df = preprocessing_pipeline.fit(joined_sdf).transform(joined_sdf)\n",
    "transformed_df.limit(5).to_pandas()"
   ]
  },
  {
   "cell_type": "code",
   "execution_count": 26,
   "id": "bb954edb",
   "metadata": {},
   "outputs": [
    {
     "data": {
      "text/plain": [
       "['CODE_GENDER_F',\n",
       " 'CODE_GENDER_M',\n",
       " '\"NAME_HOUSING_TYPE_Co-op apartment\"',\n",
       " '\"NAME_HOUSING_TYPE_House / apartment\"',\n",
       " '\"NAME_HOUSING_TYPE_Municipal apartment\"',\n",
       " '\"NAME_HOUSING_TYPE_Office apartment\"',\n",
       " '\"NAME_HOUSING_TYPE_Rented apartment\"',\n",
       " '\"NAME_HOUSING_TYPE_With parents\"',\n",
       " '\"OCCUPATION_TYPE_Accountants\"',\n",
       " '\"OCCUPATION_TYPE_Cleaning staff\"',\n",
       " '\"OCCUPATION_TYPE_Cooking staff\"',\n",
       " '\"OCCUPATION_TYPE_Core staff\"',\n",
       " '\"OCCUPATION_TYPE_Drivers\"',\n",
       " '\"OCCUPATION_TYPE_HR staff\"',\n",
       " '\"OCCUPATION_TYPE_High skill tech staff\"',\n",
       " '\"OCCUPATION_TYPE_IT staff\"',\n",
       " '\"OCCUPATION_TYPE_Laborers\"',\n",
       " '\"OCCUPATION_TYPE_Low-skill Laborers\"',\n",
       " '\"OCCUPATION_TYPE_Managers\"',\n",
       " '\"OCCUPATION_TYPE_Medicine staff\"',\n",
       " '\"OCCUPATION_TYPE_Private service staff\"',\n",
       " '\"OCCUPATION_TYPE_Realty agents\"',\n",
       " '\"OCCUPATION_TYPE_Sales staff\"',\n",
       " '\"OCCUPATION_TYPE_Secretaries\"',\n",
       " '\"OCCUPATION_TYPE_Security staff\"',\n",
       " '\"OCCUPATION_TYPE_Waiters/barmen staff\"',\n",
       " '\"OCCUPATION_TYPE_None\"',\n",
       " 'AMT_INCOME_TOTAL',\n",
       " 'DAYS_EMPLOYED',\n",
       " 'FLAG_MOBIL',\n",
       " 'CNT_FAM_MEMBERS',\n",
       " 'TARGET']"
      ]
     },
     "execution_count": 26,
     "metadata": {},
     "output_type": "execute_result"
    }
   ],
   "source": [
    "transformed_df.columns"
   ]
  },
  {
   "cell_type": "code",
   "execution_count": 27,
   "id": "2448b99f",
   "metadata": {},
   "outputs": [],
   "source": [
    "# Cleaning column names to make it easier for future referencing\n",
    "import re\n",
    "\n",
    "cols = transformed_df.columns\n",
    "for old_col in cols:\n",
    "    new_col = re.sub(r'[^a-zA-Z0-9_]', '', old_col)\n",
    "    new_col = new_col.upper()\n",
    "    transformed_df = transformed_df.rename(col(old_col), new_col)"
   ]
  },
  {
   "cell_type": "code",
   "execution_count": 28,
   "id": "39d8549b",
   "metadata": {},
   "outputs": [],
   "source": [
    "# Split the data and save the train and test sets as tables in Snowflake\n",
    "snowdf_train, snowdf_test = transformed_df.random_split([0.8, 0.2], seed=82) \n",
    "snowdf_train.write.mode(\"overwrite\").save_as_table(\"CREDIT_DEFAULT_TRAIN\")\n",
    "snowdf_test.write.mode(\"overwrite\").save_as_table(\"CREDIT_DEFAULT_TEST\")"
   ]
  },
  {
   "cell_type": "markdown",
   "id": "24d093ad",
   "metadata": {},
   "source": [
    "## 2.0 ML Modeling"
   ]
  },
  {
   "cell_type": "code",
   "execution_count": 35,
   "id": "5e8d4388",
   "metadata": {},
   "outputs": [],
   "source": [
    "session.sql('ALTER WAREHOUSE SSK_RESEARCH SET WAREHOUSE_SIZE = \"LARGE\"').collect()\n",
    "session.use_warehouse('SSK_RESEARCH')"
   ]
  },
  {
   "cell_type": "code",
   "execution_count": 36,
   "id": "b2d2c3a7",
   "metadata": {},
   "outputs": [],
   "source": [
    "# Prepare Data for modeling\n",
    "snowdf_train = session.table('DEMO_DB.PUBLIC.CREDIT_DEFAULT_TRAIN')\n",
    "feature_cols = snowdf_train.columns\n",
    "target_col = 'TARGET'\n",
    "feature_cols.remove(target_col)"
   ]
  },
  {
   "cell_type": "code",
   "execution_count": 37,
   "id": "ec90713c",
   "metadata": {},
   "outputs": [
    {
     "data": {
      "text/plain": [
       "<snowflake.ml.modeling.xgboost.xgb_classifier.XGBClassifier at 0x322837070>"
      ]
     },
     "execution_count": 37,
     "metadata": {},
     "output_type": "execute_result"
    }
   ],
   "source": [
    "# Define the XGBClassifier and fit the model\n",
    "from snowflake.ml.modeling.xgboost import XGBClassifier\n",
    "xgbmodel = XGBClassifier(random_state=123, input_cols=feature_cols, label_cols=target_col, output_cols='PREDICTION')\n",
    "xgbmodel.fit(snowdf_train)"
   ]
  },
  {
   "cell_type": "code",
   "execution_count": null,
   "id": "05bb8667",
   "metadata": {
    "scrolled": true
   },
   "outputs": [],
   "source": [
    "# Score the data using the fitted xgbmodel\n",
    "snowdf_test = session.table('CREDIT_DEFAULT_TEST')\n",
    "scored_sdf = xgbmodel.predict(snowdf_test)\n",
    "print(snowdf_test.count())"
   ]
  },
  {
   "cell_type": "code",
   "execution_count": null,
   "id": "1a313f6c",
   "metadata": {},
   "outputs": [],
   "source": [
    "# Calculate Metrics\n",
    "from snowflake.ml.modeling.metrics import f1_score, accuracy_score\n",
    "F1 = f1_score(df = scored_sdf,\n",
    "              y_true_col_names = 'TARGET',\n",
    "              y_pred_col_names = 'PREDICTION')\n",
    "ACCURACY = accuracy_score(df = scored_sdf,\n",
    "                          y_true_col_names = 'TARGET',\n",
    "                          y_pred_col_names = 'PREDICTION')\n",
    "print(f'F1 Score: {F1} \\nAccuracy Score: {ACCURACY}')"
   ]
  },
  {
   "cell_type": "markdown",
   "id": "19b2f5c3",
   "metadata": {},
   "source": [
    "### Now, let's use Snowpark ML's Distributed GridSearchCV() function to find optimal model parameters"
   ]
  },
  {
   "cell_type": "code",
   "execution_count": null,
   "id": "40f952c8",
   "metadata": {},
   "outputs": [],
   "source": [
    "from snowflake.ml.modeling.xgboost import XGBClassifier\n",
    "\n",
    "grid_search = GridSearchCV(\n",
    "    estimator=XGBClassifier(),\n",
    "    param_grid={\n",
    "        \"n_estimators\":[100, 200],\n",
    "        \"learning_rate\":[0.3],\n",
    "        \"max_depth\": [1,3]\n",
    "    },\n",
    "    n_jobs = 1,\n",
    "    scoring=\"neg_mean_absolute_percentage_error\",\n",
    "    input_cols=feature_cols,\n",
    "    label_cols=target_col,\n",
    "    output_cols='PREDICTION'\n",
    ")\n",
    "\n",
    "# Train\n",
    "grid_search.fit(snowdf_train)"
   ]
  },
  {
   "cell_type": "code",
   "execution_count": null,
   "id": "7c72f643",
   "metadata": {},
   "outputs": [],
   "source": [
    "db = 'DEMO_DB'\n",
    "schema = 'CREDIT_APPROVAL'\n",
    "\n",
    "# Create a registry and log the model\n",
    "native_registry = registry.Registry(session=session, database_name=db, schema_name=schema)\n",
    "native_registry.show_models()"
   ]
  },
  {
   "cell_type": "code",
   "execution_count": null,
   "id": "e3752caf",
   "metadata": {},
   "outputs": [],
   "source": [
    "# Define model name\n",
    "model_name = \"TEST_DELETE_LATER\"\n",
    "model_version = f\"V1_{pd.datetime.now().strftime('%Y_%m_%d')}\"\n",
    "\n",
    "# Let's log the best model trained\n",
    "model_ver = native_registry.log_model(\n",
    "    model_name= model_name,\n",
    "    version_name= model_version,\n",
    "    model= xgbmodel\n",
    ")"
   ]
  },
  {
   "cell_type": "code",
   "execution_count": null,
   "id": "6409108e",
   "metadata": {},
   "outputs": [],
   "source": [
    "model_name = \"TEST_DELETE_LATER\"\n",
    "model_version = f\"V1_{pd.datetime.now().strftime('%Y_%m_%d')}\"\n",
    "\n",
    "native_registry.get_model(model_name).show_versions()"
   ]
  },
  {
   "cell_type": "code",
   "execution_count": null,
   "id": "d756fc5d",
   "metadata": {},
   "outputs": [],
   "source": [
    "snowdf_test = session.table('CREDIT_DEFAULT_TEST')\n",
    "model_name = \"DEMO_CREDIT_XGB\"\n",
    "model_version = 'V0'\n",
    "\n",
    "model_ver = native_registry.get_model(model_name).version(model_version)\n",
    "model_ver.show_functions()"
   ]
  },
  {
   "cell_type": "code",
   "execution_count": null,
   "id": "adacd24b",
   "metadata": {},
   "outputs": [],
   "source": [
    "snowdf_test = session.table('CREDIT_DEFAULT_TEST')\n",
    "model_name = \"TEST_DELETE_LATER\"\n",
    "model_version = 'V0'\n",
    "\n",
    "model_ver = native_registry.get_model(model_name).default\n",
    "result_sdf2 = model_ver.run(snowdf_train, function_name=\"predict\")"
   ]
  },
  {
   "cell_type": "code",
   "execution_count": null,
   "id": "97730140",
   "metadata": {},
   "outputs": [],
   "source": [
    "result_sdf2.write.mode(\"overwrite\").save_as_table(\"RESULTS\")"
   ]
  },
  {
   "cell_type": "markdown",
   "id": "1a3ff2fb-c33c-48d9-a1eb-49bca2d9127f",
   "metadata": {},
   "source": [
    "# Want to Deploy and Schedule Your Code?"
   ]
  },
  {
   "cell_type": "code",
   "execution_count": null,
   "id": "dd90e4cd-bd9a-435a-8d95-59ad965d2b6a",
   "metadata": {},
   "outputs": [],
   "source": [
    "from snowflake.core import Root\n",
    "from snowflake.core.task import StoredProcedureCall, Task\n",
    "from snowflake.core.task.dagv1 import DAGOperation, DAG, DAGTask\n",
    "from datetime import date, timedelta"
   ]
  },
  {
   "cell_type": "code",
   "execution_count": null,
   "id": "4cac52e4",
   "metadata": {},
   "outputs": [],
   "source": [
    "api_root = Root(session)"
   ]
  },
  {
   "cell_type": "code",
   "execution_count": null,
   "id": "ef69647f",
   "metadata": {},
   "outputs": [],
   "source": [
    "def func_step1(session:Session):\n",
    "    session.use_database('DEMO_DB')\n",
    "    session.use_schema('PUBLIC')\n",
    "        # Creating a Snowpark DataFrame\n",
    "    application_record_sdf = session.table('APPLICATION_RECORD')\n",
    "    credit_record_sdf = session.table('CREDIT_RECORD')\n",
    "\n",
    "    # We will create a new column, TARGET, that will have a 1 for high-risk and 0 for low-risk.\n",
    "    credit_record_sdf = credit_record_sdf.group_by('ID')\\\n",
    "                            .agg(F.sum(F.iff(F.col('STATUS').in_(['2', '3','4','5']), 1, 0)).as_(\"CNT_LATE\"))\\\n",
    "                            .with_column('TARGET', F.when(F.col('CNT_LATE') > 0, 1).otherwise(0)).drop(\"CNT_LATE\")\n",
    "\n",
    "    \n",
    "    # Join Credit Record data with Application Record Data\n",
    "    joined_sdf = application_record_sdf.join(credit_record_sdf, using_columns='ID', join_type='inner')\n",
    "    # Duplicate Removal - Use the **drop_duplicates** to remove duplicated rows\n",
    "    joined_sdf = joined_sdf.drop_duplicates('ID')\n",
    "\n",
    "    # Selecting a few columns for modeling\n",
    "    cols_numerical = ['AMT_INCOME_TOTAL', 'DAYS_EMPLOYED', 'FLAG_MOBIL', 'CNT_FAM_MEMBERS', 'TARGET']\n",
    "    cols_categorical = ['CODE_GENDER', 'NAME_HOUSING_TYPE', 'OCCUPATION_TYPE']\n",
    "    joined_sdf = joined_sdf[cols_numerical+cols_categorical]\n",
    "    return joined_sdf"
   ]
  },
  {
   "cell_type": "code",
   "execution_count": null,
   "id": "a54d338d-a658-4e50-90ed-f08c7bddea97",
   "metadata": {},
   "outputs": [],
   "source": [
    "def func_data_preprocess_pipeline(session:Session) -> str:\n",
    "    import snowflake.snowpark.functions as F\n",
    "    from snowflake.snowpark.functions import udf\n",
    "    from snowflake.ml.modeling.preprocessing import OneHotEncoder\n",
    "    import re\n",
    "\n",
    "    joined_sdf = func_step1(Session)\n",
    "    # Perform One-Hot-Encoding for categorical columns\n",
    "    my_ohe_encoder = OneHotEncoder(input_cols=cols_categorical, output_cols=cols_categorical, drop_input_cols=True)\n",
    "    prepared_sdf = my_ohe_encoder.fit(joined_sdf).transform(joined_sdf)\n",
    "\n",
    "    cols = prepared_sdf.columns\n",
    "    for old_col in cols:\n",
    "        new_col = re.sub(r'[^a-zA-Z0-9_]', '', old_col)\n",
    "        new_col = new_col.upper()\n",
    "        prepared_sdf = prepared_sdf.rename(col(old_col), new_col)\n",
    "\n",
    "    # Save the data as table in Snowflake\n",
    "    prepared_sdf.write.mode(\"overwrite\").save_as_table(\"PIPE_CREDIT_DEFAULT\")\n",
    "    \n",
    "    return f\"Preprocessing pipeline ran successfully\""
   ]
  },
  {
   "cell_type": "code",
   "execution_count": null,
   "id": "429b1c2b",
   "metadata": {},
   "outputs": [],
   "source": [
    "def func_inference_pipeline(session:Session) -> str:\n",
    "    from snowflake.ml.registry import registry\n",
    "    registry = registry.Registry(session=session, database_name=db, schema_name=schema)\n",
    "    \n",
    "    # Get data\n",
    "    snowdf_test = session.table('PIPE_CREDIT_DEFAULT')\n",
    "    model_name = \"DEMO_CREDIT_XGB\"\n",
    "    model_ver = registry.get_model(model_name).default\n",
    "    result_sdf = model_ver.run(snowdf_test, function_name=\"predict\")\n",
    "    result_sdf.write.mode(\"overwrite\").save_as_table(\"SCORED_CREDIT_DEFAULT\")\n",
    "    return f\"Inference pipeline ran successfully\""
   ]
  },
  {
   "cell_type": "markdown",
   "id": "5d7132ce-f3a8-418a-9b95-3ae341332a5b",
   "metadata": {},
   "source": [
    "#### Setup Tasks"
   ]
  },
  {
   "cell_type": "code",
   "execution_count": null,
   "id": "fa691a11-dec8-44af-976b-959fb75d84a4",
   "metadata": {},
   "outputs": [],
   "source": [
    "schema = api_root.databases['DEMO_DB'].schemas['PUBLIC']\n",
    "tasks = schema.tasks"
   ]
  },
  {
   "cell_type": "code",
   "execution_count": null,
   "id": "838f2469-0ae3-472c-a749-637402523a3d",
   "metadata": {},
   "outputs": [],
   "source": [
    "# Task 1 stuff\n",
    "task1_entity = Task(\n",
    "    \"preprocess_pipeline\",\n",
    "    definition=StoredProcedureCall(func_data_preprocess_pipeline, stage_location=\"@ML_MODELS\", packages=[\"snowflake-snowpark-python\",\"snowflake-ml-python\", \"regex\"]),\n",
    "    warehouse='SSK_RESEARCH',\n",
    "    schedule=timedelta(days=1))\n",
    "\n",
    "task1 = tasks.create(task1_entity, mode=\"orReplace\")"
   ]
  },
  {
   "cell_type": "code",
   "execution_count": null,
   "id": "47be040a",
   "metadata": {},
   "outputs": [],
   "source": [
    "# Task 2 stuff\n",
    "task2_entity = Task(\n",
    "    \"inference_pipeline\",\n",
    "    definition=StoredProcedureCall(func_inference_pipeline, stage_location=\"@ML_MODELS\", packages=[\"snowflake-snowpark-python\"]),\n",
    "    warehouse='SSK_RESEARCH')\n",
    "\n",
    "task2_entity.predecessors = [\"DEMO_DB.PUBLIC.PREPROCESS_PIPELINE\"]\n",
    "task2 = tasks.create(task2_entity, mode=\"orReplace\")"
   ]
  },
  {
   "cell_type": "code",
   "execution_count": null,
   "id": "43211626-1965-4e25-93b7-40694a9dac87",
   "metadata": {},
   "outputs": [],
   "source": [
    "task2.resume()\n",
    "task1.resume()"
   ]
  },
  {
   "cell_type": "code",
   "execution_count": null,
   "id": "41f769b8-d87b-4b7a-aef4-0c13bc319fdf",
   "metadata": {},
   "outputs": [],
   "source": []
  },
  {
   "cell_type": "code",
   "execution_count": null,
   "id": "5d559caf-6e94-47e7-a0a2-e2ecafaed18d",
   "metadata": {},
   "outputs": [],
   "source": []
  },
  {
   "cell_type": "code",
   "execution_count": null,
   "id": "b5dd562b-4e56-4d8b-9156-5b2c3651ddae",
   "metadata": {},
   "outputs": [],
   "source": []
  }
 ],
 "metadata": {
  "kernelspec": {
   "display_name": "Python 3 (ipykernel)",
   "language": "python",
   "name": "python3"
  },
  "language_info": {
   "codemirror_mode": {
    "name": "ipython",
    "version": 3
   },
   "file_extension": ".py",
   "mimetype": "text/x-python",
   "name": "python",
   "nbconvert_exporter": "python",
   "pygments_lexer": "ipython3",
   "version": "3.9.17"
  }
 },
 "nbformat": 4,
 "nbformat_minor": 5
}
