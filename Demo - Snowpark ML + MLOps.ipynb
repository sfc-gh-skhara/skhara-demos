{
 "cells": [
  {
   "cell_type": "markdown",
   "id": "a7d72538",
   "metadata": {},
   "source": [
    "## Imports"
   ]
  },
  {
   "cell_type": "code",
   "execution_count": 1,
   "id": "2cb04fd9",
   "metadata": {},
   "outputs": [],
   "source": [
    "from snowflake.snowpark.session import Session\n",
    "import snowflake.snowpark.types as T\n",
    "import snowflake.snowpark.functions as F\n",
    "from snowflake.snowpark.functions import col\n",
    "\n",
    "import snowflake.ml.modeling.preprocessing as snowml\n",
    "from snowflake.ml.modeling.xgboost import XGBClassifier\n",
    "from snowflake.ml.modeling.preprocessing import KBinsDiscretizer, OrdinalEncoder, OneHotEncoder\n",
    "from snowflake.ml.modeling.impute import SimpleImputer\n",
    "\n",
    "import json\n",
    "\n",
    "import matplotlib.pyplot as plt\n",
    "import seaborn as sns\n",
    "\n",
    "import warnings\n",
    "warnings.filterwarnings(\"ignore\")"
   ]
  },
  {
   "cell_type": "code",
   "execution_count": 2,
   "id": "9cc080c0",
   "metadata": {},
   "outputs": [],
   "source": [
    "connection_parameters = json.load(open('/Users/skhara/Documents/GitHub/creds.json'))\n",
    "session = Session.builder.configs(connection_parameters).create()"
   ]
  },
  {
   "cell_type": "markdown",
   "id": "7b38abe0",
   "metadata": {},
   "source": [
    "# 1. Snowpark for ML"
   ]
  },
  {
   "cell_type": "markdown",
   "id": "5efba6a2",
   "metadata": {},
   "source": [
    "## 1.1 Prepare Data "
   ]
  },
  {
   "cell_type": "code",
   "execution_count": 3,
   "id": "a019f8e4",
   "metadata": {},
   "outputs": [],
   "source": [
    "session.use_database('DEMO_DB')\n",
    "session.use_schema('PUBLIC')"
   ]
  },
  {
   "cell_type": "code",
   "execution_count": 4,
   "id": "52dd5ab7",
   "metadata": {},
   "outputs": [
    {
     "name": "stdout",
     "output_type": "stream",
     "text": [
      "Application table size\t:  438557 \n",
      "Credit table size\t:  1048575\n"
     ]
    }
   ],
   "source": [
    "# Creating a Snowpark DataFrame\n",
    "application_record_sdf = session.table('APPLICATION_RECORD')\n",
    "credit_record_sdf = session.table('CREDIT_RECORD')\n",
    "print('Application table size\\t: ',application_record_sdf.count(), \n",
    "      '\\nCredit table size\\t: ', credit_record_sdf.count())"
   ]
  },
  {
   "cell_type": "code",
   "execution_count": 5,
   "id": "eed6303a",
   "metadata": {},
   "outputs": [
    {
     "data": {
      "text/html": [
       "<div>\n",
       "<style scoped>\n",
       "    .dataframe tbody tr th:only-of-type {\n",
       "        vertical-align: middle;\n",
       "    }\n",
       "\n",
       "    .dataframe tbody tr th {\n",
       "        vertical-align: top;\n",
       "    }\n",
       "\n",
       "    .dataframe thead th {\n",
       "        text-align: right;\n",
       "    }\n",
       "</style>\n",
       "<table border=\"1\" class=\"dataframe\">\n",
       "  <thead>\n",
       "    <tr style=\"text-align: right;\">\n",
       "      <th></th>\n",
       "      <th>ID</th>\n",
       "      <th>MONTHS_BALANCE</th>\n",
       "      <th>STATUS</th>\n",
       "    </tr>\n",
       "  </thead>\n",
       "  <tbody>\n",
       "    <tr>\n",
       "      <th>0</th>\n",
       "      <td>5001711</td>\n",
       "      <td>0</td>\n",
       "      <td>X</td>\n",
       "    </tr>\n",
       "    <tr>\n",
       "      <th>1</th>\n",
       "      <td>5001711</td>\n",
       "      <td>-1</td>\n",
       "      <td>0</td>\n",
       "    </tr>\n",
       "    <tr>\n",
       "      <th>2</th>\n",
       "      <td>5001711</td>\n",
       "      <td>-2</td>\n",
       "      <td>0</td>\n",
       "    </tr>\n",
       "    <tr>\n",
       "      <th>3</th>\n",
       "      <td>5001711</td>\n",
       "      <td>-3</td>\n",
       "      <td>0</td>\n",
       "    </tr>\n",
       "    <tr>\n",
       "      <th>4</th>\n",
       "      <td>5001712</td>\n",
       "      <td>0</td>\n",
       "      <td>C</td>\n",
       "    </tr>\n",
       "  </tbody>\n",
       "</table>\n",
       "</div>"
      ],
      "text/plain": [
       "        ID  MONTHS_BALANCE STATUS\n",
       "0  5001711               0      X\n",
       "1  5001711              -1      0\n",
       "2  5001711              -2      0\n",
       "3  5001711              -3      0\n",
       "4  5001712               0      C"
      ]
     },
     "execution_count": 5,
     "metadata": {},
     "output_type": "execute_result"
    }
   ],
   "source": [
    "credit_record_sdf.limit(5).to_pandas()"
   ]
  },
  {
   "cell_type": "code",
   "execution_count": 6,
   "id": "b4ac25eb",
   "metadata": {},
   "outputs": [],
   "source": [
    "# We will create a new column, TARGET, that will have a 1 for high-risk and 0 for low-risk.\n",
    "credit_record_sdf = credit_record_sdf.group_by('ID')\\\n",
    "                        .agg(F.sum(F.iff(F.col('STATUS').in_(['2', '3','4','5']), 1, 0)).as_(\"CNT_LATE\"))\\\n",
    "                        .with_column('TARGET', F.when(F.col('CNT_LATE') > 0, 1).otherwise(0)).drop(\"CNT_LATE\")"
   ]
  },
  {
   "cell_type": "code",
   "execution_count": 7,
   "id": "ceb3d538",
   "metadata": {},
   "outputs": [],
   "source": [
    "# Join Credit Record data with Application Record Data\n",
    "joined_sdf = application_record_sdf.join(credit_record_sdf, using_columns='ID', join_type='inner')"
   ]
  },
  {
   "cell_type": "code",
   "execution_count": 8,
   "id": "cb3e476f",
   "metadata": {},
   "outputs": [
    {
     "data": {
      "text/plain": [
       "36457"
      ]
     },
     "execution_count": 8,
     "metadata": {},
     "output_type": "execute_result"
    }
   ],
   "source": [
    "# Duplicate Removal - Use the **drop_duplicates** to remove duplicated rows\n",
    "joined_sdf = joined_sdf.drop_duplicates('ID')\n",
    "joined_sdf.count()"
   ]
  },
  {
   "cell_type": "code",
   "execution_count": 9,
   "id": "64ddc3a3",
   "metadata": {},
   "outputs": [],
   "source": [
    "# Selecting a few columns for modeling\n",
    "cols_numerical = ['AMT_INCOME_TOTAL', 'DAYS_EMPLOYED', 'FLAG_MOBIL', 'CNT_FAM_MEMBERS', 'TARGET']\n",
    "cols_categorical = ['CODE_GENDER', 'NAME_HOUSING_TYPE', 'OCCUPATION_TYPE']\n",
    "joined_sdf = joined_sdf[cols_numerical+cols_categorical]"
   ]
  },
  {
   "cell_type": "code",
   "execution_count": 10,
   "id": "41f6c375",
   "metadata": {},
   "outputs": [],
   "source": [
    "# Perform One-Hot-Encoding for categorical columns\n",
    "my_ohe_encoder = OneHotEncoder(input_cols=cols_categorical, output_cols=cols_categorical, drop_input_cols=True)\n",
    "prepared_sdf = my_ohe_encoder.fit(joined_sdf).transform(joined_sdf)"
   ]
  },
  {
   "cell_type": "code",
   "execution_count": 11,
   "id": "2448b99f",
   "metadata": {},
   "outputs": [],
   "source": [
    "# Cleaning column names to make it easier for future referencing\n",
    "import re\n",
    "\n",
    "cols = prepared_sdf.columns\n",
    "for old_col in cols:\n",
    "    new_col = re.sub(r'[^a-zA-Z0-9_]', '', old_col)\n",
    "    new_col = new_col.upper()\n",
    "    prepared_sdf = prepared_sdf.rename(col(old_col), new_col)"
   ]
  },
  {
   "cell_type": "code",
   "execution_count": 12,
   "id": "39d8549b",
   "metadata": {},
   "outputs": [],
   "source": [
    "# Split the data and save the train and test sets as tables in Snowflake\n",
    "snowdf_train, snowdf_test = prepared_sdf.random_split([0.8, 0.2], seed=82) \n",
    "snowdf_train.write.mode(\"overwrite\").save_as_table(\"CREDIT_DEFAULT_TRAIN\")\n",
    "snowdf_test.write.mode(\"overwrite\").save_as_table(\"CREDIT_DEFAULT_TEST\")"
   ]
  },
  {
   "cell_type": "markdown",
   "id": "24d093ad",
   "metadata": {},
   "source": [
    "## 1.2 ML Modeling"
   ]
  },
  {
   "cell_type": "code",
   "execution_count": 13,
   "id": "6ffe6884",
   "metadata": {},
   "outputs": [],
   "source": [
    "snowdf_train = session.table('CREDIT_DEFAULT_TRAIN')\n",
    "snowdf_test = session.table('CREDIT_DEFAULT_TEST')"
   ]
  },
  {
   "cell_type": "code",
   "execution_count": 14,
   "id": "b2d2c3a7",
   "metadata": {},
   "outputs": [],
   "source": [
    "# Prepare Data for modeling\n",
    "feature_cols = snowdf_train.columns\n",
    "feature_cols.remove('TARGET')\n",
    "target_col = 'TARGET'"
   ]
  },
  {
   "cell_type": "markdown",
   "id": "c0254df8",
   "metadata": {},
   "source": [
    "## 1.3 Train and Score Multiple Models"
   ]
  },
  {
   "cell_type": "code",
   "execution_count": 15,
   "id": "1639fe00",
   "metadata": {},
   "outputs": [],
   "source": [
    "from snowflake.ml.modeling.metrics import f1_score, accuracy_score, confusion_matrix\n",
    "\n",
    "def calculate_test_metrics(session, model, test_df):\n",
    "    \"\"\" Function to calculate the metrics. \"\"\"\n",
    "    session.use_database('DEMO_DB')\n",
    "    session.use_schema('PUBLIC')\n",
    "    \n",
    "    scored_sdf = model.predict(test_df)\n",
    "\n",
    "    f1 = f1_score(df = scored_sdf,\n",
    "                  y_true_col_names = 'TARGET',\n",
    "                  y_pred_col_names = 'PREDICTION')\n",
    "    \n",
    "    accuracy = accuracy_score(df = scored_sdf,\n",
    "                              y_true_col_names = 'TARGET',\n",
    "                              y_pred_col_names = 'PREDICTION')\n",
    "\n",
    "    cm = confusion_matrix(df = scored_sdf,\n",
    "                          y_true_col_name = 'TARGET',\n",
    "                          y_pred_col_name = 'PREDICTION')\n",
    "    \n",
    "\n",
    "    return accuracy, f1, cm"
   ]
  },
  {
   "cell_type": "code",
   "execution_count": 10,
   "id": "005ed262",
   "metadata": {},
   "outputs": [],
   "source": [
    "from snowflake.ml.modeling.xgboost import XGBRegressor\n",
    "from snowflake.ml.modeling.model_selection import GridSearchCV\n",
    "\n",
    "models = []\n",
    "for n_estimators in [50,100,150]:\n",
    "    for learning_rate in [0.1, 0.2]:\n",
    "        model = XGBClassifier(input_cols=feature_cols, label_cols=target_col, output_cols='PREDICTION', n_estimators=n_estimators, learning_rate=learning_rate)\n",
    "        model.fit(snowdf_train)\n",
    "        models.append(model)"
   ]
  },
  {
   "cell_type": "code",
   "execution_count": null,
   "id": "154cedc4-87cb-4b24-b2c8-682ee2e6c52c",
   "metadata": {},
   "outputs": [],
   "source": [
    "# from snowflake.ml.modeling.xgboost import XGBRegressor\n",
    "# from snowflake.ml.modeling.model_selection import GridSearchCV\n",
    "\n",
    "# grid_search = GridSearchCV(\n",
    "#     estimator=XGBRegressor(),\n",
    "#     param_grid={\n",
    "#         \"n_estimators\":[100, 200, 300],\n",
    "#         \"learning_rate\":[0.1, 0.2],\n",
    "#     },\n",
    "#     n_jobs = -1,\n",
    "#     scoring=\"neg_mean_absolute_percentage_error\",\n",
    "#     input_cols=feature_cols,\n",
    "#     label_cols=target_col,\n",
    "#     output_cols='PREDICTION'\n",
    "# )\n",
    "\n",
    "# # Train\n",
    "# grid_search.fit(snowdf_train)"
   ]
  },
  {
   "cell_type": "code",
   "execution_count": 14,
   "id": "67769f28",
   "metadata": {},
   "outputs": [
    {
     "data": {
      "text/plain": [
       "(0.984944,\n",
       " 0.036036036036036036,\n",
       " array([[7.992e+03, 8.000e+00],\n",
       "        [1.000e+02, 2.000e+00]]))"
      ]
     },
     "execution_count": 14,
     "metadata": {},
     "output_type": "execute_result"
    }
   ],
   "source": [
    "calculate_test_metrics(session, model, snowdf_test)"
   ]
  },
  {
   "cell_type": "markdown",
   "id": "1908c582",
   "metadata": {},
   "source": [
    "# 2. MLOps"
   ]
  },
  {
   "cell_type": "markdown",
   "id": "b2bacd84",
   "metadata": {},
   "source": [
    "## 2.1 Open/Create Model Registry\n",
    "A model registry needs to be created before it can be used. The creation will create a new database in the current account so the active role needs to have permissions to create a database. After the first creation, the model registry can be opened without the need to create it again."
   ]
  },
  {
   "cell_type": "code",
   "execution_count": 5,
   "id": "c290d6db",
   "metadata": {},
   "outputs": [],
   "source": [
    "import importlib\n",
    "from snowflake.ml.registry import model_registry"
   ]
  },
  {
   "cell_type": "code",
   "execution_count": 7,
   "id": "9c849e34",
   "metadata": {},
   "outputs": [],
   "source": [
    "session.use_database('BAIN_TF_TASK')"
   ]
  },
  {
   "cell_type": "code",
   "execution_count": 9,
   "id": "0cf52001",
   "metadata": {},
   "outputs": [
    {
     "name": "stderr",
     "output_type": "stream",
     "text": [
      "WARNING:absl:The database BAIN_TF_TASK already exists. Skipping creation.\n",
      "WARNING:absl:The schema BAIN_TF_TASK.ML_TASK already exists. Skipping creation.\n"
     ]
    }
   ],
   "source": [
    "registry_name = 'BAIN_TF_TASK'\n",
    "schema_name = 'ML_TASK'\n",
    "\n",
    "model_registry.create_model_registry(session= session,\n",
    "                                     database_name= registry_name,\n",
    "                                     schema_name= schema_name)\n",
    "\n",
    "registry = model_registry.ModelRegistry(session= session,\n",
    "                                        database_name= registry_name,\n",
    "                                        schema_name= schema_name)"
   ]
  },
  {
   "cell_type": "code",
   "execution_count": 20,
   "id": "0f7b89b1",
   "metadata": {
    "scrolled": true
   },
   "outputs": [
    {
     "name": "stderr",
     "output_type": "stream",
     "text": [
      "WARNING:snowflake.snowpark:ModelRegistry.list_models() is in private preview since 0.2.0. Do not use it in production. \n"
     ]
    },
    {
     "data": {
      "text/html": [
       "<div>\n",
       "<style scoped>\n",
       "    .dataframe tbody tr th:only-of-type {\n",
       "        vertical-align: middle;\n",
       "    }\n",
       "\n",
       "    .dataframe tbody tr th {\n",
       "        vertical-align: top;\n",
       "    }\n",
       "\n",
       "    .dataframe thead th {\n",
       "        text-align: right;\n",
       "    }\n",
       "</style>\n",
       "<table border=\"1\" class=\"dataframe\">\n",
       "  <thead>\n",
       "    <tr style=\"text-align: right;\">\n",
       "      <th></th>\n",
       "      <th>CREATION_CONTEXT</th>\n",
       "      <th>CREATION_ENVIRONMENT_SPEC</th>\n",
       "      <th>CREATION_ROLE</th>\n",
       "      <th>CREATION_TIME</th>\n",
       "      <th>ID</th>\n",
       "      <th>INPUT_SPEC</th>\n",
       "      <th>NAME</th>\n",
       "      <th>OUTPUT_SPEC</th>\n",
       "      <th>RUNTIME_ENVIRONMENT_SPEC</th>\n",
       "      <th>TYPE</th>\n",
       "      <th>URI</th>\n",
       "      <th>VERSION</th>\n",
       "      <th>ARTIFACT_IDS</th>\n",
       "      <th>DESCRIPTION</th>\n",
       "      <th>METRICS</th>\n",
       "      <th>TAGS</th>\n",
       "      <th>REGISTRATION_TIMESTAMP</th>\n",
       "    </tr>\n",
       "  </thead>\n",
       "  <tbody>\n",
       "    <tr>\n",
       "      <th>0</th>\n",
       "      <td>None</td>\n",
       "      <td>{\\n  \"python\": \"3.9.16\"\\n}</td>\n",
       "      <td>\"ACCOUNTADMIN\"</td>\n",
       "      <td>2023-09-11 11:57:45.421000-07:00</td>\n",
       "      <td>12350cf050d511ee9dd80a72b796458d</td>\n",
       "      <td>None</td>\n",
       "      <td>CREDIT_DEFAULT_PREDICTION_TEST_08_02_2023</td>\n",
       "      <td>None</td>\n",
       "      <td>None</td>\n",
       "      <td>snowml</td>\n",
       "      <td>sfc://MODEL_REGISTRY_CREDIT.CREDIT_DEFAULT.SNO...</td>\n",
       "      <td>v2</td>\n",
       "      <td>None</td>\n",
       "      <td>\"This is the demo XGBClassifier trained using ...</td>\n",
       "      <td>{\\n  \"accuracy\": 0.985648,\\n  \"cm\": [\\n    [\\n...</td>\n",
       "      <td>None</td>\n",
       "      <td>2023-09-11 11:57:46.896000-07:00</td>\n",
       "    </tr>\n",
       "    <tr>\n",
       "      <th>1</th>\n",
       "      <td>None</td>\n",
       "      <td>{\\n  \"python\": \"3.9.16\"\\n}</td>\n",
       "      <td>\"ACCOUNTADMIN\"</td>\n",
       "      <td>2023-09-11 11:59:58.735000-07:00</td>\n",
       "      <td>6265f68a50d511ee9dd80a72b796458d</td>\n",
       "      <td>None</td>\n",
       "      <td>CREDIT_DEFAULT_PREDICTION_TEST_08_02_2023</td>\n",
       "      <td>None</td>\n",
       "      <td>None</td>\n",
       "      <td>snowml</td>\n",
       "      <td>sfc://MODEL_REGISTRY_CREDIT.CREDIT_DEFAULT.SNO...</td>\n",
       "      <td>v3</td>\n",
       "      <td>None</td>\n",
       "      <td>\"This is the demo XGBClassifier trained using ...</td>\n",
       "      <td>{\\n  \"accuracy\": 0.985789,\\n  \"cm\": [\\n    [\\n...</td>\n",
       "      <td>None</td>\n",
       "      <td>2023-09-11 11:59:59.821000-07:00</td>\n",
       "    </tr>\n",
       "    <tr>\n",
       "      <th>2</th>\n",
       "      <td>None</td>\n",
       "      <td>{\\n  \"python\": \"3.9.16\"\\n}</td>\n",
       "      <td>\"ACCOUNTADMIN\"</td>\n",
       "      <td>2023-09-11 12:01:06.114000-07:00</td>\n",
       "      <td>8b3355b250d511ee9dd80a72b796458d</td>\n",
       "      <td>None</td>\n",
       "      <td>CREDIT_DEFAULT_PREDICTION_TEST_08_02_2023</td>\n",
       "      <td>None</td>\n",
       "      <td>None</td>\n",
       "      <td>snowml</td>\n",
       "      <td>sfc://MODEL_REGISTRY_CREDIT.CREDIT_DEFAULT.SNO...</td>\n",
       "      <td>v4</td>\n",
       "      <td>None</td>\n",
       "      <td>\"This is the demo XGBClassifier trained using ...</td>\n",
       "      <td>{\\n  \"accuracy\": 0.985789,\\n  \"cm\": [\\n    [\\n...</td>\n",
       "      <td>None</td>\n",
       "      <td>2023-09-11 12:01:07.148000-07:00</td>\n",
       "    </tr>\n",
       "    <tr>\n",
       "      <th>3</th>\n",
       "      <td>None</td>\n",
       "      <td>{\\n  \"python\": \"3.9.16\"\\n}</td>\n",
       "      <td>\"ACCOUNTADMIN\"</td>\n",
       "      <td>2023-09-11 12:02:18.877000-07:00</td>\n",
       "      <td>b67b862c50d511ee9dd80a72b796458d</td>\n",
       "      <td>None</td>\n",
       "      <td>CREDIT_DEFAULT_PREDICTION_TEST_08_02_2023</td>\n",
       "      <td>None</td>\n",
       "      <td>None</td>\n",
       "      <td>snowml</td>\n",
       "      <td>sfc://MODEL_REGISTRY_CREDIT.CREDIT_DEFAULT.SNO...</td>\n",
       "      <td>v5</td>\n",
       "      <td>None</td>\n",
       "      <td>\"This is the demo XGBClassifier trained using ...</td>\n",
       "      <td>{\\n  \"accuracy\": 0.985367,\\n  \"cm\": [\\n    [\\n...</td>\n",
       "      <td>None</td>\n",
       "      <td>2023-09-11 12:02:19.954000-07:00</td>\n",
       "    </tr>\n",
       "    <tr>\n",
       "      <th>4</th>\n",
       "      <td>None</td>\n",
       "      <td>{\\n  \"python\": \"3.9.16\"\\n}</td>\n",
       "      <td>\"ACCOUNTADMIN\"</td>\n",
       "      <td>2023-09-11 12:03:29.279000-07:00</td>\n",
       "      <td>dfd0b72c50d511ee9dd80a72b796458d</td>\n",
       "      <td>None</td>\n",
       "      <td>CREDIT_DEFAULT_PREDICTION_TEST_08_02_2023</td>\n",
       "      <td>None</td>\n",
       "      <td>None</td>\n",
       "      <td>snowml</td>\n",
       "      <td>sfc://MODEL_REGISTRY_CREDIT.CREDIT_DEFAULT.SNO...</td>\n",
       "      <td>v6</td>\n",
       "      <td>None</td>\n",
       "      <td>\"This is the demo XGBClassifier trained using ...</td>\n",
       "      <td>{\\n  \"accuracy\": 0.985789,\\n  \"cm\": [\\n    [\\n...</td>\n",
       "      <td>None</td>\n",
       "      <td>2023-09-11 12:03:31.840000-07:00</td>\n",
       "    </tr>\n",
       "    <tr>\n",
       "      <th>5</th>\n",
       "      <td>None</td>\n",
       "      <td>{\\n  \"python\": \"3.9.16\"\\n}</td>\n",
       "      <td>\"ACCOUNTADMIN\"</td>\n",
       "      <td>2023-09-11 12:04:34.346000-07:00</td>\n",
       "      <td>073ec6d250d611ee9dd80a72b796458d</td>\n",
       "      <td>None</td>\n",
       "      <td>CREDIT_DEFAULT_PREDICTION_TEST_08_02_2023</td>\n",
       "      <td>None</td>\n",
       "      <td>None</td>\n",
       "      <td>snowml</td>\n",
       "      <td>sfc://MODEL_REGISTRY_CREDIT.CREDIT_DEFAULT.SNO...</td>\n",
       "      <td>v7</td>\n",
       "      <td>None</td>\n",
       "      <td>\"This is the demo XGBClassifier trained using ...</td>\n",
       "      <td>{\\n  \"accuracy\": 0.984944,\\n  \"cm\": [\\n    [\\n...</td>\n",
       "      <td>None</td>\n",
       "      <td>2023-09-11 12:04:35.738000-07:00</td>\n",
       "    </tr>\n",
       "    <tr>\n",
       "      <th>6</th>\n",
       "      <td>None</td>\n",
       "      <td>{\\n  \"python\": \"3.9.16\"\\n}</td>\n",
       "      <td>\"ACCOUNTADMIN\"</td>\n",
       "      <td>2023-09-11 12:27:22.101000-07:00</td>\n",
       "      <td>364b1ec850d911ee9dd80a72b796458d</td>\n",
       "      <td>None</td>\n",
       "      <td>XGB_MODEL</td>\n",
       "      <td>None</td>\n",
       "      <td>None</td>\n",
       "      <td>snowml</td>\n",
       "      <td>sfc://MODEL_REGISTRY_CREDIT.CREDIT_DEFAULT.SNO...</td>\n",
       "      <td>v1</td>\n",
       "      <td>None</td>\n",
       "      <td>\"This is the demo XGBClassifier trained using ...</td>\n",
       "      <td>{\\n  \"accuracy\": 0.985789,\\n  \"cm\": [\\n    [\\n...</td>\n",
       "      <td>None</td>\n",
       "      <td>2023-09-11 12:27:23.197000-07:00</td>\n",
       "    </tr>\n",
       "    <tr>\n",
       "      <th>7</th>\n",
       "      <td>None</td>\n",
       "      <td>{\\n  \"python\": \"3.9.16\"\\n}</td>\n",
       "      <td>\"ACCOUNTADMIN\"</td>\n",
       "      <td>2023-09-11 12:30:29.961000-07:00</td>\n",
       "      <td>a62e746050d911ee9dd80a72b796458d</td>\n",
       "      <td>None</td>\n",
       "      <td>XGB_MODEL</td>\n",
       "      <td>None</td>\n",
       "      <td>None</td>\n",
       "      <td>snowml</td>\n",
       "      <td>sfc://MODEL_REGISTRY_CREDIT.CREDIT_DEFAULT.SNO...</td>\n",
       "      <td>v4</td>\n",
       "      <td>None</td>\n",
       "      <td>\"This is the demo XGBClassifier trained using ...</td>\n",
       "      <td>{\\n  \"accuracy\": 0.985789,\\n  \"cm\": [\\n    [\\n...</td>\n",
       "      <td>None</td>\n",
       "      <td>2023-09-11 12:30:31.165000-07:00</td>\n",
       "    </tr>\n",
       "    <tr>\n",
       "      <th>8</th>\n",
       "      <td>None</td>\n",
       "      <td>{\\n  \"python\": \"3.9.16\"\\n}</td>\n",
       "      <td>\"ACCOUNTADMIN\"</td>\n",
       "      <td>2023-09-11 12:31:35.169000-07:00</td>\n",
       "      <td>cd2c1bee50d911ee9dd80a72b796458d</td>\n",
       "      <td>None</td>\n",
       "      <td>XGB_MODEL</td>\n",
       "      <td>None</td>\n",
       "      <td>None</td>\n",
       "      <td>snowml</td>\n",
       "      <td>sfc://MODEL_REGISTRY_CREDIT.CREDIT_DEFAULT.SNO...</td>\n",
       "      <td>v5</td>\n",
       "      <td>None</td>\n",
       "      <td>\"This is the demo XGBClassifier trained using ...</td>\n",
       "      <td>{\\n  \"accuracy\": 0.984944,\\n  \"cm\": [\\n    [\\n...</td>\n",
       "      <td>None</td>\n",
       "      <td>2023-09-11 12:31:36.366000-07:00</td>\n",
       "    </tr>\n",
       "    <tr>\n",
       "      <th>9</th>\n",
       "      <td>None</td>\n",
       "      <td>{\\n  \"python\": \"3.9.16\"\\n}</td>\n",
       "      <td>\"ACCOUNTADMIN\"</td>\n",
       "      <td>2023-09-11 12:26:17.240000-07:00</td>\n",
       "      <td>0fc308ba50d911ee9dd80a72b796458d</td>\n",
       "      <td>None</td>\n",
       "      <td>XGB_MODEL</td>\n",
       "      <td>None</td>\n",
       "      <td>None</td>\n",
       "      <td>snowml</td>\n",
       "      <td>sfc://MODEL_REGISTRY_CREDIT.CREDIT_DEFAULT.SNO...</td>\n",
       "      <td>v0</td>\n",
       "      <td>None</td>\n",
       "      <td>\"This is the demo XGBClassifier trained using ...</td>\n",
       "      <td>{\\n  \"accuracy\": 0.985648,\\n  \"cm\": [\\n    [\\n...</td>\n",
       "      <td>None</td>\n",
       "      <td>2023-09-11 12:26:18.674000-07:00</td>\n",
       "    </tr>\n",
       "    <tr>\n",
       "      <th>10</th>\n",
       "      <td>None</td>\n",
       "      <td>{\\n  \"python\": \"3.9.16\"\\n}</td>\n",
       "      <td>\"ACCOUNTADMIN\"</td>\n",
       "      <td>2023-09-11 12:28:22.302000-07:00</td>\n",
       "      <td>5a0434ee50d911ee9dd80a72b796458d</td>\n",
       "      <td>None</td>\n",
       "      <td>XGB_MODEL</td>\n",
       "      <td>None</td>\n",
       "      <td>None</td>\n",
       "      <td>snowml</td>\n",
       "      <td>sfc://MODEL_REGISTRY_CREDIT.CREDIT_DEFAULT.SNO...</td>\n",
       "      <td>v2</td>\n",
       "      <td>None</td>\n",
       "      <td>\"This is the demo XGBClassifier trained using ...</td>\n",
       "      <td>{\\n  \"accuracy\": 0.985789,\\n  \"cm\": [\\n    [\\n...</td>\n",
       "      <td>None</td>\n",
       "      <td>2023-09-11 12:28:25.957000-07:00</td>\n",
       "    </tr>\n",
       "    <tr>\n",
       "      <th>11</th>\n",
       "      <td>None</td>\n",
       "      <td>{\\n  \"python\": \"3.9.16\"\\n}</td>\n",
       "      <td>\"ACCOUNTADMIN\"</td>\n",
       "      <td>2023-09-11 12:29:24.845000-07:00</td>\n",
       "      <td>7f9b1e8e50d911ee9dd80a72b796458d</td>\n",
       "      <td>None</td>\n",
       "      <td>XGB_MODEL</td>\n",
       "      <td>None</td>\n",
       "      <td>None</td>\n",
       "      <td>snowml</td>\n",
       "      <td>sfc://MODEL_REGISTRY_CREDIT.CREDIT_DEFAULT.SNO...</td>\n",
       "      <td>v3</td>\n",
       "      <td>None</td>\n",
       "      <td>\"This is the demo XGBClassifier trained using ...</td>\n",
       "      <td>{\\n  \"accuracy\": 0.985367,\\n  \"cm\": [\\n    [\\n...</td>\n",
       "      <td>None</td>\n",
       "      <td>2023-09-11 12:29:25.794000-07:00</td>\n",
       "    </tr>\n",
       "  </tbody>\n",
       "</table>\n",
       "</div>"
      ],
      "text/plain": [
       "   CREATION_CONTEXT   CREATION_ENVIRONMENT_SPEC   CREATION_ROLE  \\\n",
       "0              None  {\\n  \"python\": \"3.9.16\"\\n}  \"ACCOUNTADMIN\"   \n",
       "1              None  {\\n  \"python\": \"3.9.16\"\\n}  \"ACCOUNTADMIN\"   \n",
       "2              None  {\\n  \"python\": \"3.9.16\"\\n}  \"ACCOUNTADMIN\"   \n",
       "3              None  {\\n  \"python\": \"3.9.16\"\\n}  \"ACCOUNTADMIN\"   \n",
       "4              None  {\\n  \"python\": \"3.9.16\"\\n}  \"ACCOUNTADMIN\"   \n",
       "5              None  {\\n  \"python\": \"3.9.16\"\\n}  \"ACCOUNTADMIN\"   \n",
       "6              None  {\\n  \"python\": \"3.9.16\"\\n}  \"ACCOUNTADMIN\"   \n",
       "7              None  {\\n  \"python\": \"3.9.16\"\\n}  \"ACCOUNTADMIN\"   \n",
       "8              None  {\\n  \"python\": \"3.9.16\"\\n}  \"ACCOUNTADMIN\"   \n",
       "9              None  {\\n  \"python\": \"3.9.16\"\\n}  \"ACCOUNTADMIN\"   \n",
       "10             None  {\\n  \"python\": \"3.9.16\"\\n}  \"ACCOUNTADMIN\"   \n",
       "11             None  {\\n  \"python\": \"3.9.16\"\\n}  \"ACCOUNTADMIN\"   \n",
       "\n",
       "                      CREATION_TIME                                ID  \\\n",
       "0  2023-09-11 11:57:45.421000-07:00  12350cf050d511ee9dd80a72b796458d   \n",
       "1  2023-09-11 11:59:58.735000-07:00  6265f68a50d511ee9dd80a72b796458d   \n",
       "2  2023-09-11 12:01:06.114000-07:00  8b3355b250d511ee9dd80a72b796458d   \n",
       "3  2023-09-11 12:02:18.877000-07:00  b67b862c50d511ee9dd80a72b796458d   \n",
       "4  2023-09-11 12:03:29.279000-07:00  dfd0b72c50d511ee9dd80a72b796458d   \n",
       "5  2023-09-11 12:04:34.346000-07:00  073ec6d250d611ee9dd80a72b796458d   \n",
       "6  2023-09-11 12:27:22.101000-07:00  364b1ec850d911ee9dd80a72b796458d   \n",
       "7  2023-09-11 12:30:29.961000-07:00  a62e746050d911ee9dd80a72b796458d   \n",
       "8  2023-09-11 12:31:35.169000-07:00  cd2c1bee50d911ee9dd80a72b796458d   \n",
       "9  2023-09-11 12:26:17.240000-07:00  0fc308ba50d911ee9dd80a72b796458d   \n",
       "10 2023-09-11 12:28:22.302000-07:00  5a0434ee50d911ee9dd80a72b796458d   \n",
       "11 2023-09-11 12:29:24.845000-07:00  7f9b1e8e50d911ee9dd80a72b796458d   \n",
       "\n",
       "   INPUT_SPEC                                       NAME OUTPUT_SPEC  \\\n",
       "0        None  CREDIT_DEFAULT_PREDICTION_TEST_08_02_2023        None   \n",
       "1        None  CREDIT_DEFAULT_PREDICTION_TEST_08_02_2023        None   \n",
       "2        None  CREDIT_DEFAULT_PREDICTION_TEST_08_02_2023        None   \n",
       "3        None  CREDIT_DEFAULT_PREDICTION_TEST_08_02_2023        None   \n",
       "4        None  CREDIT_DEFAULT_PREDICTION_TEST_08_02_2023        None   \n",
       "5        None  CREDIT_DEFAULT_PREDICTION_TEST_08_02_2023        None   \n",
       "6        None                                  XGB_MODEL        None   \n",
       "7        None                                  XGB_MODEL        None   \n",
       "8        None                                  XGB_MODEL        None   \n",
       "9        None                                  XGB_MODEL        None   \n",
       "10       None                                  XGB_MODEL        None   \n",
       "11       None                                  XGB_MODEL        None   \n",
       "\n",
       "   RUNTIME_ENVIRONMENT_SPEC    TYPE  \\\n",
       "0                      None  snowml   \n",
       "1                      None  snowml   \n",
       "2                      None  snowml   \n",
       "3                      None  snowml   \n",
       "4                      None  snowml   \n",
       "5                      None  snowml   \n",
       "6                      None  snowml   \n",
       "7                      None  snowml   \n",
       "8                      None  snowml   \n",
       "9                      None  snowml   \n",
       "10                     None  snowml   \n",
       "11                     None  snowml   \n",
       "\n",
       "                                                  URI VERSION ARTIFACT_IDS  \\\n",
       "0   sfc://MODEL_REGISTRY_CREDIT.CREDIT_DEFAULT.SNO...      v2         None   \n",
       "1   sfc://MODEL_REGISTRY_CREDIT.CREDIT_DEFAULT.SNO...      v3         None   \n",
       "2   sfc://MODEL_REGISTRY_CREDIT.CREDIT_DEFAULT.SNO...      v4         None   \n",
       "3   sfc://MODEL_REGISTRY_CREDIT.CREDIT_DEFAULT.SNO...      v5         None   \n",
       "4   sfc://MODEL_REGISTRY_CREDIT.CREDIT_DEFAULT.SNO...      v6         None   \n",
       "5   sfc://MODEL_REGISTRY_CREDIT.CREDIT_DEFAULT.SNO...      v7         None   \n",
       "6   sfc://MODEL_REGISTRY_CREDIT.CREDIT_DEFAULT.SNO...      v1         None   \n",
       "7   sfc://MODEL_REGISTRY_CREDIT.CREDIT_DEFAULT.SNO...      v4         None   \n",
       "8   sfc://MODEL_REGISTRY_CREDIT.CREDIT_DEFAULT.SNO...      v5         None   \n",
       "9   sfc://MODEL_REGISTRY_CREDIT.CREDIT_DEFAULT.SNO...      v0         None   \n",
       "10  sfc://MODEL_REGISTRY_CREDIT.CREDIT_DEFAULT.SNO...      v2         None   \n",
       "11  sfc://MODEL_REGISTRY_CREDIT.CREDIT_DEFAULT.SNO...      v3         None   \n",
       "\n",
       "                                          DESCRIPTION  \\\n",
       "0   \"This is the demo XGBClassifier trained using ...   \n",
       "1   \"This is the demo XGBClassifier trained using ...   \n",
       "2   \"This is the demo XGBClassifier trained using ...   \n",
       "3   \"This is the demo XGBClassifier trained using ...   \n",
       "4   \"This is the demo XGBClassifier trained using ...   \n",
       "5   \"This is the demo XGBClassifier trained using ...   \n",
       "6   \"This is the demo XGBClassifier trained using ...   \n",
       "7   \"This is the demo XGBClassifier trained using ...   \n",
       "8   \"This is the demo XGBClassifier trained using ...   \n",
       "9   \"This is the demo XGBClassifier trained using ...   \n",
       "10  \"This is the demo XGBClassifier trained using ...   \n",
       "11  \"This is the demo XGBClassifier trained using ...   \n",
       "\n",
       "                                              METRICS  TAGS  \\\n",
       "0   {\\n  \"accuracy\": 0.985648,\\n  \"cm\": [\\n    [\\n...  None   \n",
       "1   {\\n  \"accuracy\": 0.985789,\\n  \"cm\": [\\n    [\\n...  None   \n",
       "2   {\\n  \"accuracy\": 0.985789,\\n  \"cm\": [\\n    [\\n...  None   \n",
       "3   {\\n  \"accuracy\": 0.985367,\\n  \"cm\": [\\n    [\\n...  None   \n",
       "4   {\\n  \"accuracy\": 0.985789,\\n  \"cm\": [\\n    [\\n...  None   \n",
       "5   {\\n  \"accuracy\": 0.984944,\\n  \"cm\": [\\n    [\\n...  None   \n",
       "6   {\\n  \"accuracy\": 0.985789,\\n  \"cm\": [\\n    [\\n...  None   \n",
       "7   {\\n  \"accuracy\": 0.985789,\\n  \"cm\": [\\n    [\\n...  None   \n",
       "8   {\\n  \"accuracy\": 0.984944,\\n  \"cm\": [\\n    [\\n...  None   \n",
       "9   {\\n  \"accuracy\": 0.985648,\\n  \"cm\": [\\n    [\\n...  None   \n",
       "10  {\\n  \"accuracy\": 0.985789,\\n  \"cm\": [\\n    [\\n...  None   \n",
       "11  {\\n  \"accuracy\": 0.985367,\\n  \"cm\": [\\n    [\\n...  None   \n",
       "\n",
       "             REGISTRATION_TIMESTAMP  \n",
       "0  2023-09-11 11:57:46.896000-07:00  \n",
       "1  2023-09-11 11:59:59.821000-07:00  \n",
       "2  2023-09-11 12:01:07.148000-07:00  \n",
       "3  2023-09-11 12:02:19.954000-07:00  \n",
       "4  2023-09-11 12:03:31.840000-07:00  \n",
       "5  2023-09-11 12:04:35.738000-07:00  \n",
       "6  2023-09-11 12:27:23.197000-07:00  \n",
       "7  2023-09-11 12:30:31.165000-07:00  \n",
       "8  2023-09-11 12:31:36.366000-07:00  \n",
       "9  2023-09-11 12:26:18.674000-07:00  \n",
       "10 2023-09-11 12:28:25.957000-07:00  \n",
       "11 2023-09-11 12:29:25.794000-07:00  "
      ]
     },
     "execution_count": 20,
     "metadata": {},
     "output_type": "execute_result"
    }
   ],
   "source": [
    "registry.list_models().to_pandas()"
   ]
  },
  {
   "cell_type": "markdown",
   "id": "5956d1d2",
   "metadata": {},
   "source": [
    "## 2.2 Log registry"
   ]
  },
  {
   "cell_type": "code",
   "execution_count": 30,
   "id": "5074cfd1",
   "metadata": {},
   "outputs": [],
   "source": [
    "# Train and Test dataset Load\n",
    "snowdf_train = session.table('CREDIT_DEFAULT_TRAIN')\n",
    "snowdf_test = session.table('CREDIT_DEFAULT_TEST')"
   ]
  },
  {
   "cell_type": "code",
   "execution_count": 37,
   "id": "3a985cbb",
   "metadata": {},
   "outputs": [],
   "source": [
    "def log_snowml_xgb_model(session, registry, model, train_df, model_version, f1, accuracy, cm):\n",
    "    from snowflake.ml.registry import model_registry\n",
    "    \n",
    "    session.use_database('DEMO_DB')\n",
    "    session.use_schema('PUBLIC')\n",
    "    X = train_df.select(feature_cols).limit(100).to_pandas()\n",
    "\n",
    "    model_id = registry.log_model(model_name=\"XGB_MODEL\", model_version=model_version, model=model, sample_input_data=X[:10])\n",
    "\n",
    "    registry_model = model_registry.ModelReference(registry=registry, model_name=\"XGB_MODEL\", model_version=model_version)\n",
    "    registry_model.set_metric(metric_name='f1', metric_value=f1)\n",
    "    registry_model.set_metric(metric_name='accuracy', metric_value=accuracy)\n",
    "    registry_model.set_metric(metric_name='cm', metric_value=cm)\n",
    "    registry_model.set_model_description(description=\"This is the demo XGBClassifier trained using SnowflakeML to predict whether an applicant will default or not\")\n",
    "    return registry_model"
   ]
  },
  {
   "cell_type": "code",
   "execution_count": null,
   "id": "18abc158",
   "metadata": {},
   "outputs": [],
   "source": [
    "modelv = 0\n",
    "for model in models:\n",
    "    MODEL_VERSION = \"v{}\".format(modelv)\n",
    "    accuracy, f1, cm = calculate_test_metrics(session, model, snowdf_test)\n",
    "    registry_model = log_snowml_xgb_model(session, registry, model, snowdf_train, MODEL_VERSION, f1, accuracy, cm)\n",
    "    modelv += 1"
   ]
  },
  {
   "cell_type": "code",
   "execution_count": null,
   "id": "f4292fa8",
   "metadata": {},
   "outputs": [],
   "source": [
    "registry.list_models().to_pandas().T"
   ]
  },
  {
   "cell_type": "markdown",
   "id": "e3cc9cf0",
   "metadata": {},
   "source": [
    "## 2.3 Find Best Model"
   ]
  },
  {
   "cell_type": "code",
   "execution_count": null,
   "id": "fe8e1ffc",
   "metadata": {},
   "outputs": [],
   "source": [
    "df = registry.list_models().filter(F.col(\"NAME\") == \"CREDIT_DEFAULT_PREDICTION_TEST_08_02_2023\")\\\n",
    ".sort(F.parse_json(\"METRICS\")['f1'], ascending=False).to_pandas()[['NAME','VERSION','METRICS']]\n",
    "df"
   ]
  },
  {
   "cell_type": "code",
   "execution_count": null,
   "id": "2cdf4c4b",
   "metadata": {},
   "outputs": [],
   "source": [
    "# get best fitting model by querying registry\n",
    "best_model_version = registry.list_models().filter(F.col(\"NAME\") == \"CREDIT_DEFAULT_PREDICTION_TEST_08_02_2023\").sort(F.parse_json(\"METRICS\")['f1'], ascending=False).collect()[0]['VERSION']\n",
    "best_model = model_registry.ModelReference(registry=registry, model_name=\"CREDIT_DEFAULT_PREDICTION_TEST1\", model_version=best_model_version)\n",
    "print(\"Best model version based on F1: {}\".format(best_model_version))"
   ]
  },
  {
   "cell_type": "markdown",
   "id": "2ddc91d5-65ac-4817-a499-74ea379fdba7",
   "metadata": {},
   "source": [
    "## 2.4 Deploy Best Model\n",
    "Now, we want to deploy our best-fit model to a permanent Python UDF so that it can be integrated into a continuous data pipeline. We'll use the Snowpark model registry's deployment framework to do exactly that with just one line of code:"
   ]
  },
  {
   "cell_type": "code",
   "execution_count": null,
   "id": "16527c1e",
   "metadata": {},
   "outputs": [],
   "source": [
    "session.sql(\"drop function if exists FRAUD_DETECTION_XGB_DEMO_UDF(OBJECT)\").collect()"
   ]
  },
  {
   "cell_type": "code",
   "execution_count": null,
   "id": "b84805ea",
   "metadata": {
    "scrolled": true
   },
   "outputs": [],
   "source": [
    "best_model.deploy(deployment_name=\"FRAUD_DETECTION_XGB_DEMO_UDF_MLREGISTRY\",\n",
    "                  target_method=\"predict\",\n",
    "                  permanent= True,\n",
    "                  options={\"_use_local_snowml\": True,\n",
    "                           \"permanent_udf_stage_location\": \"@ML_MODELS/fraud_detection\",\n",
    "                           \"relax_version\": True})"
   ]
  },
  {
   "cell_type": "code",
   "execution_count": null,
   "id": "44cda680",
   "metadata": {},
   "outputs": [],
   "source": []
  }
 ],
 "metadata": {
  "kernelspec": {
   "display_name": "Python 3 (ipykernel)",
   "language": "python",
   "name": "python3"
  },
  "language_info": {
   "codemirror_mode": {
    "name": "ipython",
    "version": 3
   },
   "file_extension": ".py",
   "mimetype": "text/x-python",
   "name": "python",
   "nbconvert_exporter": "python",
   "pygments_lexer": "ipython3",
   "version": "3.9.17"
  }
 },
 "nbformat": 4,
 "nbformat_minor": 5
}
